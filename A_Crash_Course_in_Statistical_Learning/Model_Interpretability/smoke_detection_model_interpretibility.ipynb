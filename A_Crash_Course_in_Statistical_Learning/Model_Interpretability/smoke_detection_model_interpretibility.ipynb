{
 "cells": [
  {
   "cell_type": "markdown",
   "metadata": {},
   "source": [
    "# Model Interpretability "
   ]
  },
  {
   "cell_type": "markdown",
   "metadata": {
    "id": "kgIQwVIXETKL"
   },
   "source": [
    "### Data Set\n",
    "The data set consists of :\n",
    "1. 14  characteristics of the situation that smoke detection at i.e.  - The independent variables\n",
    "2. The condition of fire alarm - The dependent variable  \n",
    "3. The condition of fire alarm is represented by 0 and 1..\n",
    "4. There are a total of 62631 observations. "
   ]
  },
  {
   "cell_type": "markdown",
   "metadata": {},
   "source": [
    "### The meaning of every features\n",
    "UTC - The time when experiment was performed.\n",
    "<br>Temperature - Temperature of Surroundings. Measured in Celsius\n",
    "<br>Humidity - The air humidity during the experiment.\n",
    "<br>TVOC - Total Volatile Organic Compounds. Measured in ppb (parts per billion)\n",
    "<br>eCo2 - CO2 equivalent concentration. Measured in ppm (parts per million)\n",
    "<br>Raw H2 - The amount of Raw Hydrogen present in the surroundings.\n",
    "<br>Raw Ethanol - The amount of Raw Ethanol present in the surroundings.\n",
    "<br>Pressure - Air pressure. Measured in hPa\n",
    "<br>PM1.0 - Paticulate matter of diameter less than 1.0 micrometer .\n",
    "<br>PM2.5 - Paticulate matter of diameter less than 2.5 micrometer.\n",
    "<br>NC0.5 - Concentration of particulate matter of diameter less than 0.5 micrometers.\n",
    "<br>NC1.0 - Concentration of particulate matter of diameter less than 1.0 micrometers.\n",
    "<br>NC2.5 - Concentration of particulate matter of diameter less than 2.5 micrometers.\n",
    "<br>CNT - Simple Count.\n",
    "<br>Fire Alarm - (Reality) If fire was present then value is 1 else it is 0.\n",
    "\n",
    "<br>Dropping fields\n",
    "<br>UTC - Just a timestamp\n",
    "<br>CNT - Stores the count"
   ]
  },
  {
   "cell_type": "code",
   "execution_count": null,
   "metadata": {},
   "outputs": [],
   "source": [
    "!pip install xgboost"
   ]
  },
  {
   "cell_type": "code",
   "execution_count": null,
   "metadata": {},
   "outputs": [],
   "source": [
    "# for outlier preprocessing \n",
    "pip install datasist"
   ]
  },
  {
   "cell_type": "code",
   "execution_count": 35,
   "metadata": {},
   "outputs": [
    {
     "name": "stdout",
     "output_type": "stream",
     "text": [
      "Collecting shap\n",
      "  Downloading shap-0.41.0-cp39-cp39-win_amd64.whl (435 kB)\n",
      "Requirement already satisfied: scikit-learn in d:\\anaconda\\lib\\site-packages (from shap) (1.0.2)\n",
      "Requirement already satisfied: cloudpickle in d:\\anaconda\\lib\\site-packages (from shap) (2.0.0)\n",
      "Requirement already satisfied: scipy in d:\\anaconda\\lib\\site-packages (from shap) (1.7.3)\n",
      "Requirement already satisfied: numba in d:\\anaconda\\lib\\site-packages (from shap) (0.55.1)\n",
      "Requirement already satisfied: pandas in d:\\anaconda\\lib\\site-packages (from shap) (1.4.2)\n",
      "Requirement already satisfied: tqdm>4.25.0 in d:\\anaconda\\lib\\site-packages (from shap) (4.64.0)\n",
      "Collecting slicer==0.0.7\n",
      "  Downloading slicer-0.0.7-py3-none-any.whl (14 kB)\n",
      "Requirement already satisfied: numpy in d:\\anaconda\\lib\\site-packages (from shap) (1.21.5)\n",
      "Requirement already satisfied: packaging>20.9 in d:\\anaconda\\lib\\site-packages (from shap) (21.3)\n",
      "Requirement already satisfied: pyparsing!=3.0.5,>=2.0.2 in d:\\anaconda\\lib\\site-packages (from packaging>20.9->shap) (3.0.4)\n",
      "Requirement already satisfied: colorama in d:\\anaconda\\lib\\site-packages (from tqdm>4.25.0->shap) (0.4.4)\n",
      "Requirement already satisfied: setuptools in d:\\anaconda\\lib\\site-packages (from numba->shap) (61.2.0)\n",
      "Requirement already satisfied: llvmlite<0.39,>=0.38.0rc1 in d:\\anaconda\\lib\\site-packages (from numba->shap) (0.38.0)\n",
      "Requirement already satisfied: pytz>=2020.1 in d:\\anaconda\\lib\\site-packages (from pandas->shap) (2021.3)\n",
      "Requirement already satisfied: python-dateutil>=2.8.1 in d:\\anaconda\\lib\\site-packages (from pandas->shap) (2.8.2)\n",
      "Requirement already satisfied: six>=1.5 in d:\\anaconda\\lib\\site-packages (from python-dateutil>=2.8.1->pandas->shap) (1.16.0)\n",
      "Requirement already satisfied: joblib>=0.11 in d:\\anaconda\\lib\\site-packages (from scikit-learn->shap) (1.1.0)\n",
      "Requirement already satisfied: threadpoolctl>=2.0.0 in d:\\anaconda\\lib\\site-packages (from scikit-learn->shap) (2.2.0)\n",
      "Installing collected packages: slicer, shap\n",
      "Successfully installed shap-0.41.0 slicer-0.0.7\n",
      "Note: you may need to restart the kernel to use updated packages.\n"
     ]
    }
   ],
   "source": [
    "pip install shap"
   ]
  },
  {
   "cell_type": "code",
   "execution_count": 1,
   "metadata": {
    "execution": {
     "iopub.execute_input": "2021-09-14T01:35:59.683473Z",
     "iopub.status.busy": "2021-09-14T01:35:59.682213Z",
     "iopub.status.idle": "2021-09-14T01:35:59.689527Z",
     "shell.execute_reply": "2021-09-14T01:35:59.687711Z",
     "shell.execute_reply.started": "2021-09-14T01:35:59.683426Z"
    },
    "id": "OYW5OWowETKO",
    "scrolled": true
   },
   "outputs": [],
   "source": [
    "import numpy as np\n",
    "import pandas as pd\n",
    "import seaborn as sns\n",
    "import matplotlib.pylab as plt\n",
    "from matplotlib import pyplot\n",
    "from sklearn.preprocessing import StandardScaler\n",
    "from sklearn.metrics import accuracy_score, confusion_matrix, classification_report, f1_score, precision_score, recall_score, roc_auc_score, roc_curve\n",
    "from sklearn.tree import DecisionTreeClassifier\n",
    "from sklearn.metrics import r2_score, mean_squared_error \n",
    "from sklearn.linear_model import LinearRegression\n",
    "from sklearn import datasets, linear_model\n",
    "from sklearn.metrics import accuracy_score,classification_report\n",
    "from sklearn.model_selection import GridSearchCV\n",
    "from xgboost import XGBClassifier\n",
    "from sklearn.ensemble import RandomForestClassifier,GradientBoostingClassifier,AdaBoostClassifier\n",
    "import shap\n",
    "from sklearn.model_selection import  train_test_split"
   ]
  },
  {
   "cell_type": "code",
   "execution_count": 52,
   "metadata": {
    "execution": {
     "iopub.execute_input": "2021-09-14T01:36:03.970529Z",
     "iopub.status.busy": "2021-09-14T01:36:03.970051Z",
     "iopub.status.idle": "2021-09-14T01:36:04.591168Z",
     "shell.execute_reply": "2021-09-14T01:36:04.590363Z",
     "shell.execute_reply.started": "2021-09-14T01:36:03.970342Z"
    },
    "id": "Y8xyOOaIETKP"
   },
   "outputs": [],
   "source": [
    "#Reading dataset\n",
    "data = pd.read_csv(\"C:\\\\Users\\\\85251\\\\Desktop\\\\6105\\\\a1\\\\smoke_detection_iot.csv\", index_col=0)"
   ]
  },
  {
   "cell_type": "code",
   "execution_count": 53,
   "metadata": {},
   "outputs": [
    {
     "data": {
      "text/html": [
       "<div>\n",
       "<style scoped>\n",
       "    .dataframe tbody tr th:only-of-type {\n",
       "        vertical-align: middle;\n",
       "    }\n",
       "\n",
       "    .dataframe tbody tr th {\n",
       "        vertical-align: top;\n",
       "    }\n",
       "\n",
       "    .dataframe thead th {\n",
       "        text-align: right;\n",
       "    }\n",
       "</style>\n",
       "<table border=\"1\" class=\"dataframe\">\n",
       "  <thead>\n",
       "    <tr style=\"text-align: right;\">\n",
       "      <th></th>\n",
       "      <th>UTC</th>\n",
       "      <th>Temperature[C]</th>\n",
       "      <th>Humidity[%]</th>\n",
       "      <th>TVOC[ppb]</th>\n",
       "      <th>eCO2[ppm]</th>\n",
       "      <th>Raw H2</th>\n",
       "      <th>Raw Ethanol</th>\n",
       "      <th>Pressure[hPa]</th>\n",
       "      <th>PM1.0</th>\n",
       "      <th>PM2.5</th>\n",
       "      <th>NC0.5</th>\n",
       "      <th>NC1.0</th>\n",
       "      <th>NC2.5</th>\n",
       "      <th>CNT</th>\n",
       "      <th>Fire Alarm</th>\n",
       "    </tr>\n",
       "  </thead>\n",
       "  <tbody>\n",
       "    <tr>\n",
       "      <th>0</th>\n",
       "      <td>1654733331</td>\n",
       "      <td>20.000</td>\n",
       "      <td>57.36</td>\n",
       "      <td>0</td>\n",
       "      <td>400</td>\n",
       "      <td>12306</td>\n",
       "      <td>18520</td>\n",
       "      <td>939.735</td>\n",
       "      <td>0.0</td>\n",
       "      <td>0.0</td>\n",
       "      <td>0.0</td>\n",
       "      <td>0.0</td>\n",
       "      <td>0.0</td>\n",
       "      <td>0</td>\n",
       "      <td>0</td>\n",
       "    </tr>\n",
       "    <tr>\n",
       "      <th>1</th>\n",
       "      <td>1654733332</td>\n",
       "      <td>20.015</td>\n",
       "      <td>56.67</td>\n",
       "      <td>0</td>\n",
       "      <td>400</td>\n",
       "      <td>12345</td>\n",
       "      <td>18651</td>\n",
       "      <td>939.744</td>\n",
       "      <td>0.0</td>\n",
       "      <td>0.0</td>\n",
       "      <td>0.0</td>\n",
       "      <td>0.0</td>\n",
       "      <td>0.0</td>\n",
       "      <td>1</td>\n",
       "      <td>0</td>\n",
       "    </tr>\n",
       "    <tr>\n",
       "      <th>2</th>\n",
       "      <td>1654733333</td>\n",
       "      <td>20.029</td>\n",
       "      <td>55.96</td>\n",
       "      <td>0</td>\n",
       "      <td>400</td>\n",
       "      <td>12374</td>\n",
       "      <td>18764</td>\n",
       "      <td>939.738</td>\n",
       "      <td>0.0</td>\n",
       "      <td>0.0</td>\n",
       "      <td>0.0</td>\n",
       "      <td>0.0</td>\n",
       "      <td>0.0</td>\n",
       "      <td>2</td>\n",
       "      <td>0</td>\n",
       "    </tr>\n",
       "    <tr>\n",
       "      <th>3</th>\n",
       "      <td>1654733334</td>\n",
       "      <td>20.044</td>\n",
       "      <td>55.28</td>\n",
       "      <td>0</td>\n",
       "      <td>400</td>\n",
       "      <td>12390</td>\n",
       "      <td>18849</td>\n",
       "      <td>939.736</td>\n",
       "      <td>0.0</td>\n",
       "      <td>0.0</td>\n",
       "      <td>0.0</td>\n",
       "      <td>0.0</td>\n",
       "      <td>0.0</td>\n",
       "      <td>3</td>\n",
       "      <td>0</td>\n",
       "    </tr>\n",
       "    <tr>\n",
       "      <th>4</th>\n",
       "      <td>1654733335</td>\n",
       "      <td>20.059</td>\n",
       "      <td>54.69</td>\n",
       "      <td>0</td>\n",
       "      <td>400</td>\n",
       "      <td>12403</td>\n",
       "      <td>18921</td>\n",
       "      <td>939.744</td>\n",
       "      <td>0.0</td>\n",
       "      <td>0.0</td>\n",
       "      <td>0.0</td>\n",
       "      <td>0.0</td>\n",
       "      <td>0.0</td>\n",
       "      <td>4</td>\n",
       "      <td>0</td>\n",
       "    </tr>\n",
       "  </tbody>\n",
       "</table>\n",
       "</div>"
      ],
      "text/plain": [
       "          UTC  Temperature[C]  Humidity[%]  TVOC[ppb]  eCO2[ppm]  Raw H2  \\\n",
       "0  1654733331          20.000        57.36          0        400   12306   \n",
       "1  1654733332          20.015        56.67          0        400   12345   \n",
       "2  1654733333          20.029        55.96          0        400   12374   \n",
       "3  1654733334          20.044        55.28          0        400   12390   \n",
       "4  1654733335          20.059        54.69          0        400   12403   \n",
       "\n",
       "   Raw Ethanol  Pressure[hPa]  PM1.0  PM2.5  NC0.5  NC1.0  NC2.5  CNT  \\\n",
       "0        18520        939.735    0.0    0.0    0.0    0.0    0.0    0   \n",
       "1        18651        939.744    0.0    0.0    0.0    0.0    0.0    1   \n",
       "2        18764        939.738    0.0    0.0    0.0    0.0    0.0    2   \n",
       "3        18849        939.736    0.0    0.0    0.0    0.0    0.0    3   \n",
       "4        18921        939.744    0.0    0.0    0.0    0.0    0.0    4   \n",
       "\n",
       "   Fire Alarm  \n",
       "0           0  \n",
       "1           0  \n",
       "2           0  \n",
       "3           0  \n",
       "4           0  "
      ]
     },
     "execution_count": 53,
     "metadata": {},
     "output_type": "execute_result"
    }
   ],
   "source": [
    "data.head()"
   ]
  },
  {
   "cell_type": "code",
   "execution_count": 54,
   "metadata": {},
   "outputs": [],
   "source": [
    "# UTC is timestamp, and CNT is count number, no need to use\n",
    "data.drop(columns = ['UTC','CNT'],inplace = True)"
   ]
  },
  {
   "cell_type": "code",
   "execution_count": 55,
   "metadata": {
    "colab": {
     "base_uri": "https://localhost:8080/"
    },
    "id": "lI1YzTWw0CT9",
    "outputId": "744dec69-74ea-42af-deb9-7781a9b6d7c4"
   },
   "outputs": [
    {
     "data": {
      "text/plain": [
       "Temperature[C]    0\n",
       "Humidity[%]       0\n",
       "TVOC[ppb]         0\n",
       "eCO2[ppm]         0\n",
       "Raw H2            0\n",
       "Raw Ethanol       0\n",
       "Pressure[hPa]     0\n",
       "PM1.0             0\n",
       "PM2.5             0\n",
       "NC0.5             0\n",
       "NC1.0             0\n",
       "NC2.5             0\n",
       "Fire Alarm        0\n",
       "dtype: int64"
      ]
     },
     "execution_count": 55,
     "metadata": {},
     "output_type": "execute_result"
    }
   ],
   "source": [
    "#checking if the any data is missing\n",
    "data.isnull().sum()"
   ]
  },
  {
   "cell_type": "markdown",
   "metadata": {
    "id": "rMGXZqND0ax-"
   },
   "source": [
    "No data is missing from any of the columns"
   ]
  },
  {
   "cell_type": "markdown",
   "metadata": {},
   "source": [
    "### Check the number of outliers"
   ]
  },
  {
   "cell_type": "code",
   "execution_count": 56,
   "metadata": {},
   "outputs": [
    {
     "data": {
      "text/plain": [
       "17492"
      ]
     },
     "execution_count": 56,
     "metadata": {},
     "output_type": "execute_result"
    }
   ],
   "source": [
    "from datasist.structdata import detect_outliers\n",
    "index = detect_outliers(data,0,['Humidity[%]','TVOC[ppb]','eCO2[ppm]', 'Raw H2', 'Raw Ethanol', 'PM1.0', 'PM2.5', 'NC0.5', 'NC1.0', 'NC2.5'])\n",
    "len(index)"
   ]
  },
  {
   "cell_type": "markdown",
   "metadata": {},
   "source": [
    "### Delete outliers and imputate using median"
   ]
  },
  {
   "cell_type": "code",
   "execution_count": 57,
   "metadata": {},
   "outputs": [
    {
     "name": "stderr",
     "output_type": "stream",
     "text": [
      "\n",
      "A value is trying to be set on a copy of a slice from a DataFrame\n",
      "\n",
      "See the caveats in the documentation: https://pandas.pydata.org/pandas-docs/stable/user_guide/indexing.html#returning-a-view-versus-a-copy\n"
     ]
    }
   ],
   "source": [
    "for col in data[['Humidity[%]','TVOC[ppb]','eCO2[ppm]', 'Raw H2', 'Raw Ethanol', 'PM1.0', 'PM2.5', 'NC0.5', 'NC1.0', 'NC2.5']]:\n",
    "    outliers_indices = detect_outliers(data, 0, [col])\n",
    "    col_median = data[col].median()\n",
    "    data[col].iloc[outliers_indices] = col_median"
   ]
  },
  {
   "cell_type": "markdown",
   "metadata": {},
   "source": [
    "### Check the boxlpot after processing (no outliers anymore)"
   ]
  },
  {
   "cell_type": "code",
   "execution_count": 58,
   "metadata": {},
   "outputs": [
    {
     "data": {
      "text/plain": [
       "<AxesSubplot:>"
      ]
     },
     "execution_count": 58,
     "metadata": {},
     "output_type": "execute_result"
    },
    {
     "data": {
      "image/png": "[encoded data removed]",
      "text/plain": [
       "<Figure size 1080x576 with 1 Axes>"
      ]
     },
     "metadata": {
      "needs_background": "light"
     },
     "output_type": "display_data"
    }
   ],
   "source": [
    "plt.figure(figsize=[15,8])\n",
    "sns.boxplot(data=data)"
   ]
  },
  {
   "cell_type": "markdown",
   "metadata": {
    "id": "xCXt2D_CETKU"
   },
   "source": [
    "## 1.LR"
   ]
  },
  {
   "cell_type": "code",
   "execution_count": 59,
   "metadata": {},
   "outputs": [],
   "source": [
    "# change the name of columns\n",
    "data['Humidity']=data['Humidity[%]']\n",
    "data['Temperature']=data['Temperature[C]']\n",
    "data['TVOC']=data['TVOC[ppb]']\n",
    "data['ECO2']=data['eCO2[ppm]']\n",
    "data['Pressure']=data['Pressure[hPa]']"
   ]
  },
  {
   "cell_type": "code",
   "execution_count": 60,
   "metadata": {
    "execution": {
     "iopub.execute_input": "2021-09-14T01:37:02.509697Z",
     "iopub.status.busy": "2021-09-14T01:37:02.509339Z",
     "iopub.status.idle": "2021-09-14T01:37:02.523888Z",
     "shell.execute_reply": "2021-09-14T01:37:02.522906Z",
     "shell.execute_reply.started": "2021-09-14T01:37:02.509662Z"
    },
    "id": "JjGRUa3bETKV"
   },
   "outputs": [],
   "source": [
    "\n",
    "# X = data[ [ 'Temperature[C]', 'Humidity[%]', 'TVOC[ppb]', 'eCO2[ppm]',\n",
    "#        'Raw H2', 'Raw Ethanol', 'Pressure[hPa]', 'PM1.0', 'PM2.5', 'NC0.5', 'NC1.0', 'NC2.5']]\n",
    "\n",
    "X = data[ [ 'Temperature', 'Humidity', 'TVOC', 'ECO2',\n",
    "       'Raw H2', 'Raw Ethanol', 'Pressure', 'PM1.0', 'PM2.5', 'NC0.5', 'NC1.0', 'NC2.5']]\n",
    "\n",
    "y = data['Fire Alarm']\n",
    "\n",
    "#Spliting data into Training 90%, Test set 10%\n",
    "\n",
    "X_train, X_test, y_train, y_test = train_test_split(X, y, test_size=0.1, random_state=1)"
   ]
  },
  {
   "cell_type": "code",
   "execution_count": 61,
   "metadata": {},
   "outputs": [
    {
     "data": {
      "text/plain": [
       "LinearRegression()"
      ]
     },
     "execution_count": 61,
     "metadata": {},
     "output_type": "execute_result"
    }
   ],
   "source": [
    "model = LinearRegression()\n",
    "model.fit(X_train, y_train)"
   ]
  },
  {
   "cell_type": "code",
   "execution_count": 62,
   "metadata": {},
   "outputs": [
    {
     "name": "stdout",
     "output_type": "stream",
     "text": [
      "Mean squared error: 0.10\n",
      "Coefficient of determination: 0.50\n",
      "R^2 score on test set = 0.5028909629196263\n"
     ]
    }
   ],
   "source": [
    "# Make predictions using the testing set\n",
    "y_pred = model.predict(X_test)\n",
    "# The mean squared error\n",
    "print('Mean squared error: %.2f'% mean_squared_error(y_test, y_pred))\n",
    "# The coefficient of determination: 1 is perfect prediction\n",
    "print('Coefficient of determination: %.2f'% r2_score(y_test, y_pred))\n",
    "r2 = r2_score(y_test,y_pred)\n",
    "print('R^2 score on test set =',r2)"
   ]
  },
  {
   "cell_type": "code",
   "execution_count": 63,
   "metadata": {
    "scrolled": true
   },
   "outputs": [
    {
     "data": {
      "text/html": [
       "<table class=\"simpletable\">\n",
       "<caption>OLS Regression Results</caption>\n",
       "<tr>\n",
       "  <th>Dep. Variable:</th>       <td>Fire Alarm</td>    <th>  R-squared (uncentered):</th>      <td>   0.855</td> \n",
       "</tr>\n",
       "<tr>\n",
       "  <th>Model:</th>                   <td>OLS</td>       <th>  Adj. R-squared (uncentered):</th> <td>   0.855</td> \n",
       "</tr>\n",
       "<tr>\n",
       "  <th>Method:</th>             <td>Least Squares</td>  <th>  F-statistic:       </th>          <td>2.771e+04</td>\n",
       "</tr>\n",
       "<tr>\n",
       "  <th>Date:</th>             <td>Sat, 03 Dec 2022</td> <th>  Prob (F-statistic):</th>           <td>  0.00</td>  \n",
       "</tr>\n",
       "<tr>\n",
       "  <th>Time:</th>                 <td>21:54:59</td>     <th>  Log-Likelihood:    </th>          <td> -16078.</td> \n",
       "</tr>\n",
       "<tr>\n",
       "  <th>No. Observations:</th>      <td> 56367</td>      <th>  AIC:               </th>          <td>3.218e+04</td>\n",
       "</tr>\n",
       "<tr>\n",
       "  <th>Df Residuals:</th>          <td> 56355</td>      <th>  BIC:               </th>          <td>3.229e+04</td>\n",
       "</tr>\n",
       "<tr>\n",
       "  <th>Df Model:</th>              <td>    12</td>      <th>                     </th>              <td> </td>    \n",
       "</tr>\n",
       "<tr>\n",
       "  <th>Covariance Type:</th>      <td>nonrobust</td>    <th>                     </th>              <td> </td>    \n",
       "</tr>\n",
       "</table>\n",
       "<table class=\"simpletable\">\n",
       "<tr>\n",
       "       <td></td>          <th>coef</th>     <th>std err</th>      <th>t</th>      <th>P>|t|</th>  <th>[0.025</th>    <th>0.975]</th>  \n",
       "</tr>\n",
       "<tr>\n",
       "  <th>Temperature</th> <td>   -0.0035</td> <td> 9.67e-05</td> <td>  -36.307</td> <td> 0.000</td> <td>   -0.004</td> <td>   -0.003</td>\n",
       "</tr>\n",
       "<tr>\n",
       "  <th>Humidity</th>    <td>    0.0339</td> <td>    0.000</td> <td>   80.313</td> <td> 0.000</td> <td>    0.033</td> <td>    0.035</td>\n",
       "</tr>\n",
       "<tr>\n",
       "  <th>TVOC</th>        <td>    0.0002</td> <td> 4.47e-06</td> <td>   46.128</td> <td> 0.000</td> <td>    0.000</td> <td>    0.000</td>\n",
       "</tr>\n",
       "<tr>\n",
       "  <th>ECO2</th>        <td>    0.0005</td> <td>  9.1e-05</td> <td>    5.754</td> <td> 0.000</td> <td>    0.000</td> <td>    0.001</td>\n",
       "</tr>\n",
       "<tr>\n",
       "  <th>Raw H2</th>      <td>    0.0006</td> <td> 9.71e-06</td> <td>   58.759</td> <td> 0.000</td> <td>    0.001</td> <td>    0.001</td>\n",
       "</tr>\n",
       "<tr>\n",
       "  <th>Raw Ethanol</th> <td>   -0.0003</td> <td> 5.32e-06</td> <td>  -51.660</td> <td> 0.000</td> <td>   -0.000</td> <td>   -0.000</td>\n",
       "</tr>\n",
       "<tr>\n",
       "  <th>Pressure</th>    <td>   -0.0038</td> <td>    0.000</td> <td>  -20.149</td> <td> 0.000</td> <td>   -0.004</td> <td>   -0.003</td>\n",
       "</tr>\n",
       "<tr>\n",
       "  <th>PM1.0</th>       <td>    0.1352</td> <td>    0.021</td> <td>    6.391</td> <td> 0.000</td> <td>    0.094</td> <td>    0.177</td>\n",
       "</tr>\n",
       "<tr>\n",
       "  <th>PM2.5</th>       <td>    0.2964</td> <td>    0.048</td> <td>    6.195</td> <td> 0.000</td> <td>    0.203</td> <td>    0.390</td>\n",
       "</tr>\n",
       "<tr>\n",
       "  <th>NC0.5</th>       <td>   -0.0203</td> <td>    0.003</td> <td>   -7.285</td> <td> 0.000</td> <td>   -0.026</td> <td>   -0.015</td>\n",
       "</tr>\n",
       "<tr>\n",
       "  <th>NC1.0</th>       <td>   -0.1038</td> <td>    0.048</td> <td>   -2.166</td> <td> 0.030</td> <td>   -0.198</td> <td>   -0.010</td>\n",
       "</tr>\n",
       "<tr>\n",
       "  <th>NC2.5</th>       <td>    0.2252</td> <td>    0.213</td> <td>    1.056</td> <td> 0.291</td> <td>   -0.193</td> <td>    0.643</td>\n",
       "</tr>\n",
       "</table>\n",
       "<table class=\"simpletable\">\n",
       "<tr>\n",
       "  <th>Omnibus:</th>       <td>4767.652</td> <th>  Durbin-Watson:     </th> <td>   2.008</td>\n",
       "</tr>\n",
       "<tr>\n",
       "  <th>Prob(Omnibus):</th>  <td> 0.000</td>  <th>  Jarque-Bera (JB):  </th> <td>7309.703</td>\n",
       "</tr>\n",
       "<tr>\n",
       "  <th>Skew:</th>           <td>-0.659</td>  <th>  Prob(JB):          </th> <td>    0.00</td>\n",
       "</tr>\n",
       "<tr>\n",
       "  <th>Kurtosis:</th>       <td> 4.173</td>  <th>  Cond. No.          </th> <td>3.72e+06</td>\n",
       "</tr>\n",
       "</table><br/><br/>Notes:<br/>[1] R² is computed without centering (uncentered) since the model does not contain a constant.<br/>[2] Standard Errors assume that the covariance matrix of the errors is correctly specified.<br/>[3] The condition number is large, 3.72e+06. This might indicate that there are<br/>strong multicollinearity or other numerical problems."
      ],
      "text/plain": [
       "<class 'statsmodels.iolib.summary.Summary'>\n",
       "\"\"\"\n",
       "                                 OLS Regression Results                                \n",
       "=======================================================================================\n",
       "Dep. Variable:             Fire Alarm   R-squared (uncentered):                   0.855\n",
       "Model:                            OLS   Adj. R-squared (uncentered):              0.855\n",
       "Method:                 Least Squares   F-statistic:                          2.771e+04\n",
       "Date:                Sat, 03 Dec 2022   Prob (F-statistic):                        0.00\n",
       "Time:                        21:54:59   Log-Likelihood:                         -16078.\n",
       "No. Observations:               56367   AIC:                                  3.218e+04\n",
       "Df Residuals:                   56355   BIC:                                  3.229e+04\n",
       "Df Model:                          12                                                  \n",
       "Covariance Type:            nonrobust                                                  \n",
       "===============================================================================\n",
       "                  coef    std err          t      P>|t|      [0.025      0.975]\n",
       "-------------------------------------------------------------------------------\n",
       "Temperature    -0.0035   9.67e-05    -36.307      0.000      -0.004      -0.003\n",
       "Humidity        0.0339      0.000     80.313      0.000       0.033       0.035\n",
       "TVOC            0.0002   4.47e-06     46.128      0.000       0.000       0.000\n",
       "ECO2            0.0005    9.1e-05      5.754      0.000       0.000       0.001\n",
       "Raw H2          0.0006   9.71e-06     58.759      0.000       0.001       0.001\n",
       "Raw Ethanol    -0.0003   5.32e-06    -51.660      0.000      -0.000      -0.000\n",
       "Pressure       -0.0038      0.000    -20.149      0.000      -0.004      -0.003\n",
       "PM1.0           0.1352      0.021      6.391      0.000       0.094       0.177\n",
       "PM2.5           0.2964      0.048      6.195      0.000       0.203       0.390\n",
       "NC0.5          -0.0203      0.003     -7.285      0.000      -0.026      -0.015\n",
       "NC1.0          -0.1038      0.048     -2.166      0.030      -0.198      -0.010\n",
       "NC2.5           0.2252      0.213      1.056      0.291      -0.193       0.643\n",
       "==============================================================================\n",
       "Omnibus:                     4767.652   Durbin-Watson:                   2.008\n",
       "Prob(Omnibus):                  0.000   Jarque-Bera (JB):             7309.703\n",
       "Skew:                          -0.659   Prob(JB):                         0.00\n",
       "Kurtosis:                       4.173   Cond. No.                     3.72e+06\n",
       "==============================================================================\n",
       "\n",
       "Notes:\n",
       "[1] R² is computed without centering (uncentered) since the model does not contain a constant.\n",
       "[2] Standard Errors assume that the covariance matrix of the errors is correctly specified.\n",
       "[3] The condition number is large, 3.72e+06. This might indicate that there are\n",
       "strong multicollinearity or other numerical problems.\n",
       "\"\"\""
      ]
     },
     "execution_count": 63,
     "metadata": {},
     "output_type": "execute_result"
    }
   ],
   "source": [
    "#Using OLS for finding the p value to check the significant features\n",
    "import statsmodels.api as sm\n",
    "\n",
    "model = sm.OLS(y_train, X_train).fit()\n",
    "\n",
    "# Print out the statistics\n",
    "model.summary()"
   ]
  },
  {
   "cell_type": "markdown",
   "metadata": {
    "id": "CRQaZi0CETKT"
   },
   "source": [
    "Except **NC2.5** has the p-value 0.291, which is greater and hence it is a non significant feature, all other features are significant.\n",
    "The coefficient of Temperature, Raw Ethanol, Pressure, NC0.5 and NC1.0 are negative which means they have a negative relationship with Fire Alarm, and all other coefficient are positive so their relationship with Fire Alarm is positive.\n"
   ]
  },
  {
   "cell_type": "markdown",
   "metadata": {},
   "source": [
    "### SHAP"
   ]
  },
  {
   "cell_type": "code",
   "execution_count": null,
   "metadata": {},
   "outputs": [],
   "source": [
    "shap.initjs()"
   ]
  },
  {
   "cell_type": "code",
   "execution_count": 64,
   "metadata": {},
   "outputs": [
    {
     "name": "stderr",
     "output_type": "stream",
     "text": [
      "Permutation explainer: 6264it [00:48, 105.58it/s]                                                                      \n"
     ]
    }
   ],
   "source": [
    "explainer = shap.Explainer(model.predict, X_train)\n",
    "shap_values = explainer(X_test)"
   ]
  },
  {
   "cell_type": "code",
   "execution_count": 104,
   "metadata": {
    "scrolled": true
   },
   "outputs": [
    {
     "data": {
      "image/png": "[encoded data removed]",
      "text/plain": [
       "<Figure size 576x453.6 with 1 Axes>"
      ]
     },
     "metadata": {
      "needs_background": "light"
     },
     "output_type": "display_data"
    }
   ],
   "source": [
    "# shap_values = shap.TreeExplainer(model).shap_values(X_train)\n",
    "shap.summary_plot(shap_values, X_test, plot_type=\"bar\")"
   ]
  },
  {
   "cell_type": "code",
   "execution_count": 105,
   "metadata": {
    "scrolled": true
   },
   "outputs": [
    {
     "data": {
      "image/png": "[encoded data removed]",
      "text/plain": [
       "<Figure size 576x453.6 with 2 Axes>"
      ]
     },
     "metadata": {
      "needs_background": "light"
     },
     "output_type": "display_data"
    }
   ],
   "source": [
    "shap.summary_plot(shap_values, X_test)"
   ]
  },
  {
   "cell_type": "markdown",
   "metadata": {},
   "source": [
    "1. From the two plots above, we can know that PM2.5 is the most effective feature in Linear Regression model, when it's value is larger than average, it drives the prediction to the right.\n",
    "\n",
    "2. The second one is TVOC and third one is Humidty, they all work like PM2.5.\n",
    "\n",
    "3. However, Raw Ethanol and NC0.5 work differently, when their value is smaller than the average, they dirve the prediction to the right."
   ]
  },
  {
   "cell_type": "markdown",
   "metadata": {},
   "source": [
    "### Partial Dependence Plots"
   ]
  },
  {
   "cell_type": "code",
   "execution_count": 67,
   "metadata": {},
   "outputs": [],
   "source": [
    "\n",
    "def partial_dependence_plot(feature, idx=None):\n",
    "    if idx is None: # visualize all samples\n",
    "        shap.plots.partial_dependence(\n",
    "            feature,\n",
    "            model.predict,\n",
    "            X_train, \n",
    "            ice=False,\n",
    "            model_expected_value=True, \n",
    "            feature_expected_value=True)\n",
    "    else: # visualize sample idx\n",
    "        shap.partial_dependence_plot(\n",
    "            feature, \n",
    "            model.predict,\n",
    "            X_train, \n",
    "            ice=False,\n",
    "            model_expected_value=True, \n",
    "            feature_expected_value=True,\n",
    "            shap_values=shap_values[idx:idx+1,:])"
   ]
  },
  {
   "cell_type": "code",
   "execution_count": 68,
   "metadata": {
    "scrolled": false
   },
   "outputs": [
    {
     "data": {
      "image/png": "[encoded data removed]",
      "text/plain": [
       "<Figure size 432x288 with 4 Axes>"
      ]
     },
     "metadata": {
      "needs_background": "light"
     },
     "output_type": "display_data"
    }
   ],
   "source": [
    "partial_dependence_plot('PM2.5', 0)"
   ]
  },
  {
   "cell_type": "code",
   "execution_count": 69,
   "metadata": {
    "scrolled": false
   },
   "outputs": [
    {
     "data": {
      "image/png": "[encoded data removed]",
      "text/plain": [
       "<Figure size 432x288 with 4 Axes>"
      ]
     },
     "metadata": {
      "needs_background": "light"
     },
     "output_type": "display_data"
    }
   ],
   "source": [
    "partial_dependence_plot('TVOC', 0)"
   ]
  },
  {
   "cell_type": "code",
   "execution_count": 71,
   "metadata": {
    "scrolled": false
   },
   "outputs": [
    {
     "data": {
      "image/png": "[encoded data removed]",
      "text/plain": [
       "<Figure size 432x288 with 4 Axes>"
      ]
     },
     "metadata": {
      "needs_background": "light"
     },
     "output_type": "display_data"
    }
   ],
   "source": [
    "partial_dependence_plot('Humidity', 0)"
   ]
  },
  {
   "cell_type": "code",
   "execution_count": 72,
   "metadata": {
    "scrolled": true
   },
   "outputs": [
    {
     "data": {
      "image/png": "[encoded data removed]",
      "text/plain": [
       "<Figure size 432x288 with 4 Axes>"
      ]
     },
     "metadata": {
      "needs_background": "light"
     },
     "output_type": "display_data"
    }
   ],
   "source": [
    "partial_dependence_plot('Pressure', 0)"
   ]
  },
  {
   "cell_type": "markdown",
   "metadata": {},
   "source": [
    "The plots above are partial dependence plot which describe how every single feature affect the model. As you can see, there is a lot of features in our model, so it is cumbersome to plot every feature's partial dependence plot. Besides, it is hard to compare each features at the same time. Personally I prefer the SHAP method, and I won't provide PDP example for the next two models. "
   ]
  },
  {
   "cell_type": "markdown",
   "metadata": {},
   "source": [
    "## 2. Randomforest"
   ]
  },
  {
   "cell_type": "code",
   "execution_count": 106,
   "metadata": {},
   "outputs": [
    {
     "data": {
      "text/plain": [
       "RandomForestClassifier()"
      ]
     },
     "execution_count": 106,
     "metadata": {},
     "output_type": "execute_result"
    }
   ],
   "source": [
    "model = RandomForestClassifier()\n",
    "model.fit(X_train, y_train)"
   ]
  },
  {
   "cell_type": "code",
   "execution_count": 63,
   "metadata": {},
   "outputs": [
    {
     "name": "stdout",
     "output_type": "stream",
     "text": [
      "Mean squared error: 0.00\n",
      "Coefficient of determination: 1.00\n",
      "R^2 score on test set = 1.0\n"
     ]
    }
   ],
   "source": [
    "# Make predictions using the testing set\n",
    "y_pred = model.predict(X_test)\n",
    "# The mean squared error\n",
    "print('Mean squared error: %.2f'% mean_squared_error(y_test, y_pred))\n",
    "# The coefficient of determination: 1 is perfect prediction\n",
    "print('Coefficient of determination: %.2f'% r2_score(y_test, y_pred))\n",
    "r2 = r2_score(y_test,y_pred)\n",
    "print('R^2 score on test set =',r2)"
   ]
  },
  {
   "cell_type": "code",
   "execution_count": 64,
   "metadata": {
    "scrolled": true
   },
   "outputs": [
    {
     "data": {
      "image/png": "[encoded data removed]",
      "text/plain": [
       "<Figure size 432x288 with 1 Axes>"
      ]
     },
     "metadata": {
      "needs_background": "light"
     },
     "output_type": "display_data"
    }
   ],
   "source": [
    "importances = pd.DataFrame(data={\n",
    "    'Attribute': X_train.columns,\n",
    "    'Importance': model.feature_importances_\n",
    "})\n",
    "importances = importances.sort_values(by='Importance', ascending=False)\n",
    "\n",
    "plt.bar(x=importances['Attribute'], height=importances['Importance'], color='#087E8B')\n",
    "plt.title('Feature importances obtained from coefficients', size=20)\n",
    "plt.xticks(rotation='vertical')\n",
    "plt.show()"
   ]
  },
  {
   "cell_type": "markdown",
   "metadata": {},
   "source": [
    "### SHAP"
   ]
  },
  {
   "cell_type": "code",
   "execution_count": 107,
   "metadata": {},
   "outputs": [
    {
     "name": "stderr",
     "output_type": "stream",
     "text": [
      "Permutation explainer: 6264it [36:39,  2.83it/s]                                                                       \n"
     ]
    }
   ],
   "source": [
    "explainer = shap.Explainer(model.predict, X_train)\n",
    "shap_values = explainer(X_test)"
   ]
  },
  {
   "cell_type": "code",
   "execution_count": 109,
   "metadata": {
    "scrolled": true
   },
   "outputs": [
    {
     "data": {
      "image/png": "[encoded data removed]",
      "text/plain": [
       "<Figure size 576x453.6 with 1 Axes>"
      ]
     },
     "metadata": {
      "needs_background": "light"
     },
     "output_type": "display_data"
    }
   ],
   "source": [
    "# shap_values = shap.TreeExplainer(model).shap_values(X_train)\n",
    "shap.summary_plot(shap_values, X_test, plot_type=\"bar\")"
   ]
  },
  {
   "cell_type": "code",
   "execution_count": 110,
   "metadata": {
    "scrolled": false
   },
   "outputs": [
    {
     "data": {
      "image/png": "[encoded data removed]",
      "text/plain": [
       "<Figure size 576x453.6 with 2 Axes>"
      ]
     },
     "metadata": {
      "needs_background": "light"
     },
     "output_type": "display_data"
    }
   ],
   "source": [
    "shap.summary_plot(shap_values, X_test)"
   ]
  },
  {
   "cell_type": "markdown",
   "metadata": {},
   "source": [
    "1. From the two plots above, we can know that Pressure is the most effective feature in Random Forest model, when it's value is smaller than average, it drives the prediction to the left and right.\n",
    "\n",
    "2. The second one is TVOC and third one is Raw Ethanol, the TVOC's value smaller than average driving the prediction to left and Raw Ethanol works the opposite.\n",
    "\n",
    "3. Raw H2, PM1.0, NC2.5, PM2.5, NC0.5, Humidity and NC1.0 work similarly, the all drive the prediction to right when their values larger than average."
   ]
  },
  {
   "cell_type": "markdown",
   "metadata": {},
   "source": [
    "## 3.AutoML"
   ]
  },
  {
   "cell_type": "code",
   "execution_count": 10,
   "metadata": {},
   "outputs": [
    {
     "name": "stdout",
     "output_type": "stream",
     "text": [
      "Checking whether there is an H2O instance running at http://localhost:54321 ..... not found.\n",
      "Attempting to start a local H2O server...\n",
      "; Java HotSpot(TM) 64-Bit Server VM (build 25.321-b07, mixed mode)\n",
      "  Starting server from D:\\anaconda\\Lib\\site-packages\\h2o\\backend\\bin\\h2o.jar\n",
      "  Ice root: C:\\Users\\85251\\AppData\\Local\\Temp\\tmpw6cn2xno\n",
      "  JVM stdout: C:\\Users\\85251\\AppData\\Local\\Temp\\tmpw6cn2xno\\h2o_85251_started_from_python.out\n",
      "  JVM stderr: C:\\Users\\85251\\AppData\\Local\\Temp\\tmpw6cn2xno\\h2o_85251_started_from_python.err\n",
      "  Server is running at http://127.0.0.1:54321\n",
      "Connecting to H2O server at http://127.0.0.1:54321 ... successful.\n"
     ]
    },
    {
     "data": {
      "text/html": [
       "\n",
       "<style>\n",
       "\n",
       "#h2o-table-1.h2o-container {\n",
       "  overflow-x: auto;\n",
       "}\n",
       "#h2o-table-1 .h2o-table {\n",
       "  /* width: 100%; */\n",
       "  margin-top: 1em;\n",
       "  margin-bottom: 1em;\n",
       "}\n",
       "#h2o-table-1 .h2o-table caption {\n",
       "  white-space: nowrap;\n",
       "  caption-side: top;\n",
       "  text-align: left;\n",
       "  /* margin-left: 1em; */\n",
       "  margin: 0;\n",
       "  font-size: larger;\n",
       "}\n",
       "#h2o-table-1 .h2o-table thead {\n",
       "  white-space: nowrap; \n",
       "  position: sticky;\n",
       "  top: 0;\n",
       "  box-shadow: 0 -1px inset;\n",
       "}\n",
       "#h2o-table-1 .h2o-table tbody {\n",
       "  overflow: auto;\n",
       "}\n",
       "#h2o-table-1 .h2o-table th,\n",
       "#h2o-table-1 .h2o-table td {\n",
       "  text-align: right;\n",
       "  /* border: 1px solid; */\n",
       "}\n",
       "#h2o-table-1 .h2o-table tr:nth-child(even) {\n",
       "  /* background: #F5F5F5 */\n",
       "}\n",
       "\n",
       "</style>      \n",
       "<div id=\"h2o-table-1\" class=\"h2o-container\">\n",
       "  <table class=\"h2o-table\">\n",
       "    <caption></caption>\n",
       "    <thead></thead>\n",
       "    <tbody><tr><td>H2O_cluster_uptime:</td>\n",
       "<td>03 secs</td></tr>\n",
       "<tr><td>H2O_cluster_timezone:</td>\n",
       "<td>America/New_York</td></tr>\n",
       "<tr><td>H2O_data_parsing_timezone:</td>\n",
       "<td>UTC</td></tr>\n",
       "<tr><td>H2O_cluster_version:</td>\n",
       "<td>3.38.0.2</td></tr>\n",
       "<tr><td>H2O_cluster_version_age:</td>\n",
       "<td>1 month and 6 days </td></tr>\n",
       "<tr><td>H2O_cluster_name:</td>\n",
       "<td>H2O_from_python_85251_tzrmwc</td></tr>\n",
       "<tr><td>H2O_cluster_total_nodes:</td>\n",
       "<td>1</td></tr>\n",
       "<tr><td>H2O_cluster_free_memory:</td>\n",
       "<td>3.511 Gb</td></tr>\n",
       "<tr><td>H2O_cluster_total_cores:</td>\n",
       "<td>0</td></tr>\n",
       "<tr><td>H2O_cluster_allowed_cores:</td>\n",
       "<td>0</td></tr>\n",
       "<tr><td>H2O_cluster_status:</td>\n",
       "<td>locked, healthy</td></tr>\n",
       "<tr><td>H2O_connection_url:</td>\n",
       "<td>http://127.0.0.1:54321</td></tr>\n",
       "<tr><td>H2O_connection_proxy:</td>\n",
       "<td>{\"http\": null, \"https\": null}</td></tr>\n",
       "<tr><td>H2O_internal_security:</td>\n",
       "<td>False</td></tr>\n",
       "<tr><td>Python_version:</td>\n",
       "<td>3.9.12 final</td></tr></tbody>\n",
       "  </table>\n",
       "</div>\n"
      ],
      "text/plain": [
       "--------------------------  -----------------------------\n",
       "H2O_cluster_uptime:         03 secs\n",
       "H2O_cluster_timezone:       America/New_York\n",
       "H2O_data_parsing_timezone:  UTC\n",
       "H2O_cluster_version:        3.38.0.2\n",
       "H2O_cluster_version_age:    1 month and 6 days\n",
       "H2O_cluster_name:           H2O_from_python_85251_tzrmwc\n",
       "H2O_cluster_total_nodes:    1\n",
       "H2O_cluster_free_memory:    3.511 Gb\n",
       "H2O_cluster_total_cores:    0\n",
       "H2O_cluster_allowed_cores:  0\n",
       "H2O_cluster_status:         locked, healthy\n",
       "H2O_connection_url:         http://127.0.0.1:54321\n",
       "H2O_connection_proxy:       {\"http\": null, \"https\": null}\n",
       "H2O_internal_security:      False\n",
       "Python_version:             3.9.12 final\n",
       "--------------------------  -----------------------------"
      ]
     },
     "metadata": {},
     "output_type": "display_data"
    }
   ],
   "source": [
    "import h2o\n",
    "h2o.init()"
   ]
  },
  {
   "cell_type": "code",
   "execution_count": 11,
   "metadata": {},
   "outputs": [
    {
     "name": "stdout",
     "output_type": "stream",
     "text": [
      "Parse progress: |████████████████████████████████████████████████████████████████| (done) 100%\n"
     ]
    }
   ],
   "source": [
    "data = h2o.H2OFrame(data)"
   ]
  },
  {
   "cell_type": "code",
   "execution_count": 12,
   "metadata": {},
   "outputs": [
    {
     "data": {
      "text/html": [
       "<table class='dataframe'>\n",
       "<thead>\n",
       "<tr><th style=\"text-align: right;\">  Temperature[C]</th><th style=\"text-align: right;\">  Humidity[%]</th><th style=\"text-align: right;\">  TVOC[ppb]</th><th style=\"text-align: right;\">  eCO2[ppm]</th><th style=\"text-align: right;\">  Raw H2</th><th style=\"text-align: right;\">  Raw Ethanol</th><th style=\"text-align: right;\">  Pressure[hPa]</th><th style=\"text-align: right;\">  PM1.0</th><th style=\"text-align: right;\">  PM2.5</th><th style=\"text-align: right;\">  NC0.5</th><th style=\"text-align: right;\">  NC1.0</th><th style=\"text-align: right;\">  NC2.5</th><th style=\"text-align: right;\">  Fire Alarm</th></tr>\n",
       "</thead>\n",
       "<tbody>\n",
       "<tr><td style=\"text-align: right;\">          20    </td><td style=\"text-align: right;\">        57.36</td><td style=\"text-align: right;\">          0</td><td style=\"text-align: right;\">        400</td><td style=\"text-align: right;\">   12924</td><td style=\"text-align: right;\">        18520</td><td style=\"text-align: right;\">        939.735</td><td style=\"text-align: right;\">   1.81</td><td style=\"text-align: right;\">   1.88</td><td style=\"text-align: right;\">  12.45</td><td style=\"text-align: right;\">  1.943</td><td style=\"text-align: right;\">  0.044</td><td style=\"text-align: right;\">           0</td></tr>\n",
       "<tr><td style=\"text-align: right;\">          20.015</td><td style=\"text-align: right;\">        56.67</td><td style=\"text-align: right;\">          0</td><td style=\"text-align: right;\">        400</td><td style=\"text-align: right;\">   12924</td><td style=\"text-align: right;\">        18651</td><td style=\"text-align: right;\">        939.744</td><td style=\"text-align: right;\">   1.81</td><td style=\"text-align: right;\">   1.88</td><td style=\"text-align: right;\">  12.45</td><td style=\"text-align: right;\">  1.943</td><td style=\"text-align: right;\">  0.044</td><td style=\"text-align: right;\">           0</td></tr>\n",
       "<tr><td style=\"text-align: right;\">          20.029</td><td style=\"text-align: right;\">        55.96</td><td style=\"text-align: right;\">          0</td><td style=\"text-align: right;\">        400</td><td style=\"text-align: right;\">   12924</td><td style=\"text-align: right;\">        18764</td><td style=\"text-align: right;\">        939.738</td><td style=\"text-align: right;\">   1.81</td><td style=\"text-align: right;\">   1.88</td><td style=\"text-align: right;\">  12.45</td><td style=\"text-align: right;\">  1.943</td><td style=\"text-align: right;\">  0.044</td><td style=\"text-align: right;\">           0</td></tr>\n",
       "<tr><td style=\"text-align: right;\">          20.044</td><td style=\"text-align: right;\">        55.28</td><td style=\"text-align: right;\">          0</td><td style=\"text-align: right;\">        400</td><td style=\"text-align: right;\">   12924</td><td style=\"text-align: right;\">        18849</td><td style=\"text-align: right;\">        939.736</td><td style=\"text-align: right;\">   1.81</td><td style=\"text-align: right;\">   1.88</td><td style=\"text-align: right;\">  12.45</td><td style=\"text-align: right;\">  1.943</td><td style=\"text-align: right;\">  0.044</td><td style=\"text-align: right;\">           0</td></tr>\n",
       "<tr><td style=\"text-align: right;\">          20.059</td><td style=\"text-align: right;\">        54.69</td><td style=\"text-align: right;\">          0</td><td style=\"text-align: right;\">        400</td><td style=\"text-align: right;\">   12924</td><td style=\"text-align: right;\">        18921</td><td style=\"text-align: right;\">        939.744</td><td style=\"text-align: right;\">   1.81</td><td style=\"text-align: right;\">   1.88</td><td style=\"text-align: right;\">  12.45</td><td style=\"text-align: right;\">  1.943</td><td style=\"text-align: right;\">  0.044</td><td style=\"text-align: right;\">           0</td></tr>\n",
       "<tr><td style=\"text-align: right;\">          20.073</td><td style=\"text-align: right;\">        54.12</td><td style=\"text-align: right;\">          0</td><td style=\"text-align: right;\">        400</td><td style=\"text-align: right;\">   12419</td><td style=\"text-align: right;\">        18998</td><td style=\"text-align: right;\">        939.725</td><td style=\"text-align: right;\">   1.81</td><td style=\"text-align: right;\">   1.88</td><td style=\"text-align: right;\">  12.45</td><td style=\"text-align: right;\">  1.943</td><td style=\"text-align: right;\">  0.044</td><td style=\"text-align: right;\">           0</td></tr>\n",
       "<tr><td style=\"text-align: right;\">          20.088</td><td style=\"text-align: right;\">        53.61</td><td style=\"text-align: right;\">          0</td><td style=\"text-align: right;\">        400</td><td style=\"text-align: right;\">   12432</td><td style=\"text-align: right;\">        19058</td><td style=\"text-align: right;\">        939.738</td><td style=\"text-align: right;\">   1.81</td><td style=\"text-align: right;\">   1.88</td><td style=\"text-align: right;\">  12.45</td><td style=\"text-align: right;\">  1.943</td><td style=\"text-align: right;\">  0.044</td><td style=\"text-align: right;\">           0</td></tr>\n",
       "<tr><td style=\"text-align: right;\">          20.103</td><td style=\"text-align: right;\">        53.2 </td><td style=\"text-align: right;\">          0</td><td style=\"text-align: right;\">        400</td><td style=\"text-align: right;\">   12439</td><td style=\"text-align: right;\">        19114</td><td style=\"text-align: right;\">        939.758</td><td style=\"text-align: right;\">   1.81</td><td style=\"text-align: right;\">   1.88</td><td style=\"text-align: right;\">  12.45</td><td style=\"text-align: right;\">  1.943</td><td style=\"text-align: right;\">  0.044</td><td style=\"text-align: right;\">           0</td></tr>\n",
       "<tr><td style=\"text-align: right;\">          20.117</td><td style=\"text-align: right;\">        52.81</td><td style=\"text-align: right;\">          0</td><td style=\"text-align: right;\">        400</td><td style=\"text-align: right;\">   12448</td><td style=\"text-align: right;\">        19155</td><td style=\"text-align: right;\">        939.758</td><td style=\"text-align: right;\">   1.81</td><td style=\"text-align: right;\">   1.88</td><td style=\"text-align: right;\">  12.45</td><td style=\"text-align: right;\">  1.943</td><td style=\"text-align: right;\">  0.044</td><td style=\"text-align: right;\">           0</td></tr>\n",
       "<tr><td style=\"text-align: right;\">          20.132</td><td style=\"text-align: right;\">        52.46</td><td style=\"text-align: right;\">          0</td><td style=\"text-align: right;\">        400</td><td style=\"text-align: right;\">   12453</td><td style=\"text-align: right;\">        19195</td><td style=\"text-align: right;\">        939.756</td><td style=\"text-align: right;\">   0.9 </td><td style=\"text-align: right;\">   1.88</td><td style=\"text-align: right;\">  12.45</td><td style=\"text-align: right;\">  1.943</td><td style=\"text-align: right;\">  0.044</td><td style=\"text-align: right;\">           0</td></tr>\n",
       "</tbody>\n",
       "</table><pre style='font-size: smaller; margin-bottom: 1em;'>[10 rows x 13 columns]</pre>"
      ],
      "text/plain": [
       "  Temperature[C]    Humidity[%]    TVOC[ppb]    eCO2[ppm]    Raw H2    Raw Ethanol    Pressure[hPa]    PM1.0    PM2.5    NC0.5    NC1.0    NC2.5    Fire Alarm\n",
       "----------------  -------------  -----------  -----------  --------  -------------  ---------------  -------  -------  -------  -------  -------  ------------\n",
       "          20              57.36            0          400     12924          18520          939.735     1.81     1.88    12.45    1.943    0.044             0\n",
       "          20.015          56.67            0          400     12924          18651          939.744     1.81     1.88    12.45    1.943    0.044             0\n",
       "          20.029          55.96            0          400     12924          18764          939.738     1.81     1.88    12.45    1.943    0.044             0\n",
       "          20.044          55.28            0          400     12924          18849          939.736     1.81     1.88    12.45    1.943    0.044             0\n",
       "          20.059          54.69            0          400     12924          18921          939.744     1.81     1.88    12.45    1.943    0.044             0\n",
       "          20.073          54.12            0          400     12419          18998          939.725     1.81     1.88    12.45    1.943    0.044             0\n",
       "          20.088          53.61            0          400     12432          19058          939.738     1.81     1.88    12.45    1.943    0.044             0\n",
       "          20.103          53.2             0          400     12439          19114          939.758     1.81     1.88    12.45    1.943    0.044             0\n",
       "          20.117          52.81            0          400     12448          19155          939.758     1.81     1.88    12.45    1.943    0.044             0\n",
       "          20.132          52.46            0          400     12453          19195          939.756     0.9      1.88    12.45    1.943    0.044             0\n",
       "[10 rows x 13 columns]\n"
      ]
     },
     "execution_count": 12,
     "metadata": {},
     "output_type": "execute_result"
    }
   ],
   "source": [
    "data.head()"
   ]
  },
  {
   "cell_type": "code",
   "execution_count": 13,
   "metadata": {},
   "outputs": [],
   "source": [
    "train, test = data.split_frame(seed = 1234, destination_frames = [\"train.hex\", \"test.hex\"])"
   ]
  },
  {
   "cell_type": "code",
   "execution_count": 14,
   "metadata": {},
   "outputs": [],
   "source": [
    "# check the number of train set and test set\n",
    "train[\"is_train\"] = 1\n",
    "test[\"is_train\"] = 0\n",
    "\n",
    "drift_data = train.rbind(test)\n",
    "drift_data[\"is_train\"] = drift_data[\"is_train\"].asfactor()"
   ]
  },
  {
   "cell_type": "code",
   "execution_count": 15,
   "metadata": {},
   "outputs": [
    {
     "data": {
      "text/html": [
       "<table class='dataframe'>\n",
       "<thead>\n",
       "<tr><th style=\"text-align: right;\">  is_train</th><th style=\"text-align: right;\">  Count</th></tr>\n",
       "</thead>\n",
       "<tbody>\n",
       "<tr><td style=\"text-align: right;\">         0</td><td style=\"text-align: right;\">  15678</td></tr>\n",
       "<tr><td style=\"text-align: right;\">         1</td><td style=\"text-align: right;\">  46952</td></tr>\n",
       "</tbody>\n",
       "</table><pre style='font-size: smaller; margin-bottom: 1em;'>[2 rows x 2 columns]</pre>"
      ],
      "text/plain": [
       "  is_train    Count\n",
       "----------  -------\n",
       "         0    15678\n",
       "         1    46952\n",
       "[2 rows x 2 columns]\n"
      ]
     },
     "execution_count": 15,
     "metadata": {},
     "output_type": "execute_result"
    }
   ],
   "source": [
    "drift_data[\"is_train\"].table()"
   ]
  },
  {
   "cell_type": "code",
   "execution_count": 16,
   "metadata": {},
   "outputs": [],
   "source": [
    "x = list(set(train.col_names) - set([\"Fire Alarm\"]))"
   ]
  },
  {
   "cell_type": "code",
   "execution_count": 17,
   "metadata": {
    "scrolled": true
   },
   "outputs": [
    {
     "name": "stdout",
     "output_type": "stream",
     "text": [
      "AutoML progress: |\n",
      "20:56:52.838: AutoML: XGBoost is not available; skipping it.\n",
      "20:56:52.869: _train param, Dropping bad and constant columns: [is_train]\n",
      "20:56:52.869: _response param, We have detected that your response column has only 2 unique values (0/1). If you wish to train a binary model instead of a regression model, convert your target column to categorical before training.\n",
      "\n",
      "\n",
      "20:56:53.795: _train param, Dropping bad and constant columns: [is_train]\n",
      "20:56:53.795: _response param, We have detected that your response column has only 2 unique values (0/1). If you wish to train a binary model instead of a regression model, convert your target column to categorical before training.\n",
      "\n",
      "████████\n",
      "20:57:39.662: _train param, Dropping bad and constant columns: [is_train]\n",
      "20:57:39.662: _response param, We have detected that your response column has only 2 unique values (0/1). If you wish to train a binary model instead of a regression model, convert your target column to categorical before training.\n",
      "\n",
      "\n",
      "20:57:43.650: _train param, Dropping bad and constant columns: [is_train]\n",
      "20:57:43.650: _response param, We have detected that your response column has only 2 unique values (0/1). If you wish to train a binary model instead of a regression model, convert your target column to categorical before training.\n",
      "\n",
      "██\n",
      "20:57:52.566: _train param, Dropping bad and constant columns: [is_train]\n",
      "20:57:52.566: _response param, We have detected that your response column has only 2 unique values (0/1). If you wish to train a binary model instead of a regression model, convert your target column to categorical before training.\n",
      "\n",
      "██\n",
      "20:58:06.711: _train param, Dropping bad and constant columns: [is_train]\n",
      "20:58:06.711: _response param, We have detected that your response column has only 2 unique values (0/1). If you wish to train a binary model instead of a regression model, convert your target column to categorical before training.\n",
      "\n",
      "██\n",
      "20:58:23.796: _train param, Dropping bad and constant columns: [is_train]\n",
      "20:58:23.796: _response param, We have detected that your response column has only 2 unique values (0/1). If you wish to train a binary model instead of a regression model, convert your target column to categorical before training.\n",
      "\n",
      "█\n",
      "20:58:27.991: _train param, Dropping bad and constant columns: [is_train]\n",
      "20:58:27.991: _response param, We have detected that your response column has only 2 unique values (0/1). If you wish to train a binary model instead of a regression model, convert your target column to categorical before training.\n",
      "\n",
      "██\n",
      "20:58:39.195: _train param, Dropping bad and constant columns: [is_train]\n",
      "20:58:39.195: _response param, We have detected that your response column has only 2 unique values (0/1). If you wish to train a binary model instead of a regression model, convert your target column to categorical before training.\n",
      "\n",
      "██\n",
      "20:58:47.303: _train param, Dropping unused columns: [is_train]\n",
      "20:58:47.303: _response param, We have detected that your response column has only 2 unique values (0/1). If you wish to train a binary model instead of a regression model, convert your target column to categorical before training.\n",
      "20:58:48.451: _train param, Dropping unused columns: [is_train]\n",
      "20:58:48.451: _response param, We have detected that your response column has only 2 unique values (0/1). If you wish to train a binary model instead of a regression model, convert your target column to categorical before training.\n",
      "\n",
      "████████████████████████████████████████████| (done) 100%\n"
     ]
    },
    {
     "data": {
      "text/html": [
       "<pre style='margin: 1em 0 1em 0;'>Model Details\n",
       "=============\n",
       "H2ORandomForestEstimator : Distributed Random Forest\n",
       "Model Key: DRF_1_AutoML_1_20221203_205652\n",
       "</pre>\n",
       "<div style='margin: 1em 0 1em 0;'>\n",
       "<style>\n",
       "\n",
       "#h2o-table-2.h2o-container {\n",
       "  overflow-x: auto;\n",
       "}\n",
       "#h2o-table-2 .h2o-table {\n",
       "  /* width: 100%; */\n",
       "  margin-top: 1em;\n",
       "  margin-bottom: 1em;\n",
       "}\n",
       "#h2o-table-2 .h2o-table caption {\n",
       "  white-space: nowrap;\n",
       "  caption-side: top;\n",
       "  text-align: left;\n",
       "  /* margin-left: 1em; */\n",
       "  margin: 0;\n",
       "  font-size: larger;\n",
       "}\n",
       "#h2o-table-2 .h2o-table thead {\n",
       "  white-space: nowrap; \n",
       "  position: sticky;\n",
       "  top: 0;\n",
       "  box-shadow: 0 -1px inset;\n",
       "}\n",
       "#h2o-table-2 .h2o-table tbody {\n",
       "  overflow: auto;\n",
       "}\n",
       "#h2o-table-2 .h2o-table th,\n",
       "#h2o-table-2 .h2o-table td {\n",
       "  text-align: right;\n",
       "  /* border: 1px solid; */\n",
       "}\n",
       "#h2o-table-2 .h2o-table tr:nth-child(even) {\n",
       "  /* background: #F5F5F5 */\n",
       "}\n",
       "\n",
       "</style>      \n",
       "<div id=\"h2o-table-2\" class=\"h2o-container\">\n",
       "  <table class=\"h2o-table\">\n",
       "    <caption>Model Summary: </caption>\n",
       "    <thead><tr><th></th>\n",
       "<th>number_of_trees</th>\n",
       "<th>number_of_internal_trees</th>\n",
       "<th>model_size_in_bytes</th>\n",
       "<th>min_depth</th>\n",
       "<th>max_depth</th>\n",
       "<th>mean_depth</th>\n",
       "<th>min_leaves</th>\n",
       "<th>max_leaves</th>\n",
       "<th>mean_leaves</th></tr></thead>\n",
       "    <tbody><tr><td></td>\n",
       "<td>38.0</td>\n",
       "<td>38.0</td>\n",
       "<td>40124.0</td>\n",
       "<td>10.0</td>\n",
       "<td>18.0</td>\n",
       "<td>13.736842</td>\n",
       "<td>49.0</td>\n",
       "<td>128.0</td>\n",
       "<td>79.60526</td></tr></tbody>\n",
       "  </table>\n",
       "</div>\n",
       "</div>\n",
       "<div style='margin: 1em 0 1em 0;'><pre style='margin: 1em 0 1em 0;'>ModelMetricsRegression: drf\n",
       "** Reported on train data. **\n",
       "\n",
       "MSE: 0.00018340857442812763\n",
       "RMSE: 0.013542842184273124\n",
       "MAE: 0.0007705409533922506\n",
       "RMSLE: 0.009838228197703545\n",
       "Mean Residual Deviance: 0.00018340857442812763</pre></div>\n",
       "<div style='margin: 1em 0 1em 0;'><pre style='margin: 1em 0 1em 0;'>ModelMetricsRegression: drf\n",
       "** Reported on cross-validation data. **\n",
       "\n",
       "MSE: 0.00019180557995548064\n",
       "RMSE: 0.01384938915459742\n",
       "MAE: 0.000956491053150102\n",
       "RMSLE: 0.01007432168357405\n",
       "Mean Residual Deviance: 0.00019180557995548064</pre></div>\n",
       "<div style='margin: 1em 0 1em 0;'>\n",
       "<style>\n",
       "\n",
       "#h2o-table-3.h2o-container {\n",
       "  overflow-x: auto;\n",
       "}\n",
       "#h2o-table-3 .h2o-table {\n",
       "  /* width: 100%; */\n",
       "  margin-top: 1em;\n",
       "  margin-bottom: 1em;\n",
       "}\n",
       "#h2o-table-3 .h2o-table caption {\n",
       "  white-space: nowrap;\n",
       "  caption-side: top;\n",
       "  text-align: left;\n",
       "  /* margin-left: 1em; */\n",
       "  margin: 0;\n",
       "  font-size: larger;\n",
       "}\n",
       "#h2o-table-3 .h2o-table thead {\n",
       "  white-space: nowrap; \n",
       "  position: sticky;\n",
       "  top: 0;\n",
       "  box-shadow: 0 -1px inset;\n",
       "}\n",
       "#h2o-table-3 .h2o-table tbody {\n",
       "  overflow: auto;\n",
       "}\n",
       "#h2o-table-3 .h2o-table th,\n",
       "#h2o-table-3 .h2o-table td {\n",
       "  text-align: right;\n",
       "  /* border: 1px solid; */\n",
       "}\n",
       "#h2o-table-3 .h2o-table tr:nth-child(even) {\n",
       "  /* background: #F5F5F5 */\n",
       "}\n",
       "\n",
       "</style>      \n",
       "<div id=\"h2o-table-3\" class=\"h2o-container\">\n",
       "  <table class=\"h2o-table\">\n",
       "    <caption>Cross-Validation Metrics Summary: </caption>\n",
       "    <thead><tr><th></th>\n",
       "<th>mean</th>\n",
       "<th>sd</th>\n",
       "<th>cv_1_valid</th>\n",
       "<th>cv_2_valid</th>\n",
       "<th>cv_3_valid</th>\n",
       "<th>cv_4_valid</th>\n",
       "<th>cv_5_valid</th></tr></thead>\n",
       "    <tbody><tr><td>mae</td>\n",
       "<td>0.0009745</td>\n",
       "<td>0.0000578</td>\n",
       "<td>0.0009047</td>\n",
       "<td>0.0010083</td>\n",
       "<td>0.0009280</td>\n",
       "<td>0.0010458</td>\n",
       "<td>0.0009857</td></tr>\n",
       "<tr><td>mean_residual_deviance</td>\n",
       "<td>0.0001934</td>\n",
       "<td>0.0000478</td>\n",
       "<td>0.0001872</td>\n",
       "<td>0.0001690</td>\n",
       "<td>0.0001816</td>\n",
       "<td>0.0002757</td>\n",
       "<td>0.0001536</td></tr>\n",
       "<tr><td>mse</td>\n",
       "<td>0.0001934</td>\n",
       "<td>0.0000478</td>\n",
       "<td>0.0001872</td>\n",
       "<td>0.0001690</td>\n",
       "<td>0.0001816</td>\n",
       "<td>0.0002757</td>\n",
       "<td>0.0001536</td></tr>\n",
       "<tr><td>r2</td>\n",
       "<td>0.9990516</td>\n",
       "<td>0.0002345</td>\n",
       "<td>0.9990824</td>\n",
       "<td>0.9991716</td>\n",
       "<td>0.9991093</td>\n",
       "<td>0.9986477</td>\n",
       "<td>0.9992469</td></tr>\n",
       "<tr><td>residual_deviance</td>\n",
       "<td>0.0001934</td>\n",
       "<td>0.0000478</td>\n",
       "<td>0.0001872</td>\n",
       "<td>0.0001690</td>\n",
       "<td>0.0001816</td>\n",
       "<td>0.0002757</td>\n",
       "<td>0.0001536</td></tr>\n",
       "<tr><td>rmse</td>\n",
       "<td>0.0138308</td>\n",
       "<td>0.0016273</td>\n",
       "<td>0.0136810</td>\n",
       "<td>0.0129981</td>\n",
       "<td>0.0134766</td>\n",
       "<td>0.0166038</td>\n",
       "<td>0.0123948</td></tr>\n",
       "<tr><td>rmsle</td>\n",
       "<td>0.0100817</td>\n",
       "<td>0.0010220</td>\n",
       "<td>0.0100785</td>\n",
       "<td>0.0091125</td>\n",
       "<td>0.0097682</td>\n",
       "<td>0.0118002</td>\n",
       "<td>0.0096491</td></tr></tbody>\n",
       "  </table>\n",
       "</div>\n",
       "</div>\n",
       "<div style='margin: 1em 0 1em 0;'>\n",
       "<style>\n",
       "\n",
       "#h2o-table-4.h2o-container {\n",
       "  overflow-x: auto;\n",
       "}\n",
       "#h2o-table-4 .h2o-table {\n",
       "  /* width: 100%; */\n",
       "  margin-top: 1em;\n",
       "  margin-bottom: 1em;\n",
       "}\n",
       "#h2o-table-4 .h2o-table caption {\n",
       "  white-space: nowrap;\n",
       "  caption-side: top;\n",
       "  text-align: left;\n",
       "  /* margin-left: 1em; */\n",
       "  margin: 0;\n",
       "  font-size: larger;\n",
       "}\n",
       "#h2o-table-4 .h2o-table thead {\n",
       "  white-space: nowrap; \n",
       "  position: sticky;\n",
       "  top: 0;\n",
       "  box-shadow: 0 -1px inset;\n",
       "}\n",
       "#h2o-table-4 .h2o-table tbody {\n",
       "  overflow: auto;\n",
       "}\n",
       "#h2o-table-4 .h2o-table th,\n",
       "#h2o-table-4 .h2o-table td {\n",
       "  text-align: right;\n",
       "  /* border: 1px solid; */\n",
       "}\n",
       "#h2o-table-4 .h2o-table tr:nth-child(even) {\n",
       "  /* background: #F5F5F5 */\n",
       "}\n",
       "\n",
       "</style>      \n",
       "<div id=\"h2o-table-4\" class=\"h2o-container\">\n",
       "  <table class=\"h2o-table\">\n",
       "    <caption>Scoring History: </caption>\n",
       "    <thead><tr><th></th>\n",
       "<th>timestamp</th>\n",
       "<th>duration</th>\n",
       "<th>number_of_trees</th>\n",
       "<th>training_rmse</th>\n",
       "<th>training_mae</th>\n",
       "<th>training_deviance</th></tr></thead>\n",
       "    <tbody><tr><td></td>\n",
       "<td>2022-12-03 20:57:43</td>\n",
       "<td> 3.527 sec</td>\n",
       "<td>0.0</td>\n",
       "<td>nan</td>\n",
       "<td>nan</td>\n",
       "<td>nan</td></tr>\n",
       "<tr><td></td>\n",
       "<td>2022-12-03 20:57:43</td>\n",
       "<td> 3.625 sec</td>\n",
       "<td>5.0</td>\n",
       "<td>0.0230437</td>\n",
       "<td>0.0007901</td>\n",
       "<td>0.0005310</td></tr>\n",
       "<tr><td></td>\n",
       "<td>2022-12-03 20:57:43</td>\n",
       "<td> 3.724 sec</td>\n",
       "<td>10.0</td>\n",
       "<td>0.0181472</td>\n",
       "<td>0.0007349</td>\n",
       "<td>0.0003293</td></tr>\n",
       "<tr><td></td>\n",
       "<td>2022-12-03 20:57:43</td>\n",
       "<td> 3.773 sec</td>\n",
       "<td>15.0</td>\n",
       "<td>0.0153891</td>\n",
       "<td>0.0007086</td>\n",
       "<td>0.0002368</td></tr>\n",
       "<tr><td></td>\n",
       "<td>2022-12-03 20:57:43</td>\n",
       "<td> 3.820 sec</td>\n",
       "<td>20.0</td>\n",
       "<td>0.0146444</td>\n",
       "<td>0.0007270</td>\n",
       "<td>0.0002145</td></tr>\n",
       "<tr><td></td>\n",
       "<td>2022-12-03 20:57:43</td>\n",
       "<td> 3.864 sec</td>\n",
       "<td>25.0</td>\n",
       "<td>0.0138138</td>\n",
       "<td>0.0007309</td>\n",
       "<td>0.0001908</td></tr>\n",
       "<tr><td></td>\n",
       "<td>2022-12-03 20:57:43</td>\n",
       "<td> 3.905 sec</td>\n",
       "<td>30.0</td>\n",
       "<td>0.0135449</td>\n",
       "<td>0.0007325</td>\n",
       "<td>0.0001835</td></tr>\n",
       "<tr><td></td>\n",
       "<td>2022-12-03 20:57:43</td>\n",
       "<td> 3.946 sec</td>\n",
       "<td>35.0</td>\n",
       "<td>0.0134532</td>\n",
       "<td>0.0007615</td>\n",
       "<td>0.0001810</td></tr>\n",
       "<tr><td></td>\n",
       "<td>2022-12-03 20:57:43</td>\n",
       "<td> 3.973 sec</td>\n",
       "<td>38.0</td>\n",
       "<td>0.0135428</td>\n",
       "<td>0.0007705</td>\n",
       "<td>0.0001834</td></tr></tbody>\n",
       "  </table>\n",
       "</div>\n",
       "</div>\n",
       "<div style='margin: 1em 0 1em 0;'>\n",
       "<style>\n",
       "\n",
       "#h2o-table-5.h2o-container {\n",
       "  overflow-x: auto;\n",
       "}\n",
       "#h2o-table-5 .h2o-table {\n",
       "  /* width: 100%; */\n",
       "  margin-top: 1em;\n",
       "  margin-bottom: 1em;\n",
       "}\n",
       "#h2o-table-5 .h2o-table caption {\n",
       "  white-space: nowrap;\n",
       "  caption-side: top;\n",
       "  text-align: left;\n",
       "  /* margin-left: 1em; */\n",
       "  margin: 0;\n",
       "  font-size: larger;\n",
       "}\n",
       "#h2o-table-5 .h2o-table thead {\n",
       "  white-space: nowrap; \n",
       "  position: sticky;\n",
       "  top: 0;\n",
       "  box-shadow: 0 -1px inset;\n",
       "}\n",
       "#h2o-table-5 .h2o-table tbody {\n",
       "  overflow: auto;\n",
       "}\n",
       "#h2o-table-5 .h2o-table th,\n",
       "#h2o-table-5 .h2o-table td {\n",
       "  text-align: right;\n",
       "  /* border: 1px solid; */\n",
       "}\n",
       "#h2o-table-5 .h2o-table tr:nth-child(even) {\n",
       "  /* background: #F5F5F5 */\n",
       "}\n",
       "\n",
       "</style>      \n",
       "<div id=\"h2o-table-5\" class=\"h2o-container\">\n",
       "  <table class=\"h2o-table\">\n",
       "    <caption>Variable Importances: </caption>\n",
       "    <thead><tr><th>variable</th>\n",
       "<th>relative_importance</th>\n",
       "<th>scaled_importance</th>\n",
       "<th>percentage</th></tr></thead>\n",
       "    <tbody><tr><td>Pressure[hPa]</td>\n",
       "<td>123312.9375000</td>\n",
       "<td>1.0</td>\n",
       "<td>0.4374936</td></tr>\n",
       "<tr><td>TVOC[ppb]</td>\n",
       "<td>75274.0390625</td>\n",
       "<td>0.6104310</td>\n",
       "<td>0.2670596</td></tr>\n",
       "<tr><td>Raw Ethanol</td>\n",
       "<td>13999.8183594</td>\n",
       "<td>0.1135308</td>\n",
       "<td>0.0496690</td></tr>\n",
       "<tr><td>Humidity[%]</td>\n",
       "<td>12363.2421875</td>\n",
       "<td>0.1002591</td>\n",
       "<td>0.0438627</td></tr>\n",
       "<tr><td>Raw H2</td>\n",
       "<td>12210.9482422</td>\n",
       "<td>0.0990241</td>\n",
       "<td>0.0433224</td></tr>\n",
       "<tr><td>Temperature[C]</td>\n",
       "<td>11417.4980469</td>\n",
       "<td>0.0925896</td>\n",
       "<td>0.0405074</td></tr>\n",
       "<tr><td>PM2.5</td>\n",
       "<td>10321.9501953</td>\n",
       "<td>0.0837053</td>\n",
       "<td>0.0366205</td></tr>\n",
       "<tr><td>NC0.5</td>\n",
       "<td>9051.5166016</td>\n",
       "<td>0.0734028</td>\n",
       "<td>0.0321133</td></tr>\n",
       "<tr><td>NC1.0</td>\n",
       "<td>5590.7861328</td>\n",
       "<td>0.0453382</td>\n",
       "<td>0.0198352</td></tr>\n",
       "<tr><td>PM1.0</td>\n",
       "<td>4911.9204102</td>\n",
       "<td>0.0398330</td>\n",
       "<td>0.0174267</td></tr>\n",
       "<tr><td>NC2.5</td>\n",
       "<td>2932.7841797</td>\n",
       "<td>0.0237833</td>\n",
       "<td>0.0104050</td></tr>\n",
       "<tr><td>eCO2[ppm]</td>\n",
       "<td>474.8501892</td>\n",
       "<td>0.0038508</td>\n",
       "<td>0.0016847</td></tr></tbody>\n",
       "  </table>\n",
       "</div>\n",
       "</div><pre style=\"font-size: smaller; margin: 1em 0 0 0;\">\n",
       "\n",
       "[tips]\n",
       "Use `model.explain()` to inspect the model.\n",
       "--\n",
       "Use `h2o.display.toggle_user_tips()` to switch on/off this section.</pre>"
      ],
      "text/plain": [
       "Model Details\n",
       "=============\n",
       "H2ORandomForestEstimator : Distributed Random Forest\n",
       "Model Key: DRF_1_AutoML_1_20221203_205652\n",
       "\n",
       "\n",
       "Model Summary: \n",
       "    number_of_trees    number_of_internal_trees    model_size_in_bytes    min_depth    max_depth    mean_depth    min_leaves    max_leaves    mean_leaves\n",
       "--  -----------------  --------------------------  ---------------------  -----------  -----------  ------------  ------------  ------------  -------------\n",
       "    38                 38                          40124                  10           18           13.7368       49            128           79.6053\n",
       "\n",
       "ModelMetricsRegression: drf\n",
       "** Reported on train data. **\n",
       "\n",
       "MSE: 0.00018340857442812763\n",
       "RMSE: 0.013542842184273124\n",
       "MAE: 0.0007705409533922506\n",
       "RMSLE: 0.009838228197703545\n",
       "Mean Residual Deviance: 0.00018340857442812763\n",
       "\n",
       "ModelMetricsRegression: drf\n",
       "** Reported on cross-validation data. **\n",
       "\n",
       "MSE: 0.00019180557995548064\n",
       "RMSE: 0.01384938915459742\n",
       "MAE: 0.000956491053150102\n",
       "RMSLE: 0.01007432168357405\n",
       "Mean Residual Deviance: 0.00019180557995548064\n",
       "\n",
       "Cross-Validation Metrics Summary: \n",
       "                        mean         sd           cv_1_valid    cv_2_valid    cv_3_valid    cv_4_valid    cv_5_valid\n",
       "----------------------  -----------  -----------  ------------  ------------  ------------  ------------  ------------\n",
       "mae                     0.000974503  5.78498e-05  0.000904742   0.00100832    0.000927963   0.00104581    0.000985676\n",
       "mean_residual_deviance  0.000193411  4.77702e-05  0.000187169   0.000168951   0.000181618   0.000275686   0.000153631\n",
       "mse                     0.000193411  4.77702e-05  0.000187169   0.000168951   0.000181618   0.000275686   0.000153631\n",
       "r2                      0.999052     0.000234506  0.999082      0.999172      0.999109      0.998648      0.999247\n",
       "residual_deviance       0.000193411  4.77702e-05  0.000187169   0.000168951   0.000181618   0.000275686   0.000153631\n",
       "rmse                    0.0138308    0.00162734   0.013681      0.0129981     0.0134766     0.0166038     0.0123948\n",
       "rmsle                   0.0100817    0.00102199   0.0100785     0.00911254    0.00976819    0.0118002     0.00964913\n",
       "\n",
       "Scoring History: \n",
       "    timestamp            duration    number_of_trees    training_rmse    training_mae    training_deviance\n",
       "--  -------------------  ----------  -----------------  ---------------  --------------  -------------------\n",
       "    2022-12-03 20:57:43  3.527 sec   0                  nan              nan             nan\n",
       "    2022-12-03 20:57:43  3.625 sec   5                  0.0230437        0.000790132     0.000531013\n",
       "    2022-12-03 20:57:43  3.724 sec   10                 0.0181472        0.000734947     0.000329319\n",
       "    2022-12-03 20:57:43  3.773 sec   15                 0.0153891        0.000708566     0.000236824\n",
       "    2022-12-03 20:57:43  3.820 sec   20                 0.0146444        0.000727042     0.000214458\n",
       "    2022-12-03 20:57:43  3.864 sec   25                 0.0138138        0.000730916     0.000190822\n",
       "    2022-12-03 20:57:43  3.905 sec   30                 0.0135449        0.000732495     0.000183465\n",
       "    2022-12-03 20:57:43  3.946 sec   35                 0.0134532        0.000761456     0.000180987\n",
       "    2022-12-03 20:57:43  3.973 sec   38                 0.0135428        0.000770541     0.000183409\n",
       "\n",
       "Variable Importances: \n",
       "variable        relative_importance    scaled_importance    percentage\n",
       "--------------  ---------------------  -------------------  ------------\n",
       "Pressure[hPa]   123313                 1                    0.437494\n",
       "TVOC[ppb]       75274                  0.610431             0.26706\n",
       "Raw Ethanol     13999.8                0.113531             0.049669\n",
       "Humidity[%]     12363.2                0.100259             0.0438627\n",
       "Raw H2          12210.9                0.0990241            0.0433224\n",
       "Temperature[C]  11417.5                0.0925896            0.0405074\n",
       "PM2.5           10322                  0.0837053            0.0366205\n",
       "NC0.5           9051.52                0.0734028            0.0321133\n",
       "NC1.0           5590.79                0.0453382            0.0198352\n",
       "PM1.0           4911.92                0.039833             0.0174267\n",
       "NC2.5           2932.78                0.0237833            0.010405\n",
       "eCO2[ppm]       474.85                 0.00385077           0.00168469\n",
       "\n",
       "[tips]\n",
       "Use `model.explain()` to inspect the model.\n",
       "--\n",
       "Use `h2o.display.toggle_user_tips()` to switch on/off this section."
      ]
     },
     "execution_count": 17,
     "metadata": {},
     "output_type": "execute_result"
    }
   ],
   "source": [
    "from h2o.automl import H2OAutoML\n",
    "# Run AutoML for 10 base models (limited to 1 hour max runtime by default)\n",
    "aml = H2OAutoML(max_models=10, seed=1234, sort_metric=\"MAE\", project_name = \"random_split\")\n",
    "aml.train(x=x, y=\"Fire Alarm\", training_frame=train)"
   ]
  },
  {
   "cell_type": "code",
   "execution_count": 18,
   "metadata": {},
   "outputs": [
    {
     "data": {
      "text/html": [
       "<table class='dataframe'>\n",
       "<thead>\n",
       "<tr><th>model_id                                               </th><th style=\"text-align: right;\">        mae</th><th style=\"text-align: right;\">     rmse</th><th style=\"text-align: right;\">        mse</th><th style=\"text-align: right;\">     rmsle</th><th style=\"text-align: right;\">  mean_residual_deviance</th></tr>\n",
       "</thead>\n",
       "<tbody>\n",
       "<tr><td>DRF_1_AutoML_1_20221203_205652                         </td><td style=\"text-align: right;\">0.000956491</td><td style=\"text-align: right;\">0.0138494</td><td style=\"text-align: right;\">0.000191806</td><td style=\"text-align: right;\">0.0100743 </td><td style=\"text-align: right;\">             0.000191806</td></tr>\n",
       "<tr><td>XRT_1_AutoML_1_20221203_205652                         </td><td style=\"text-align: right;\">0.00106323 </td><td style=\"text-align: right;\">0.014715 </td><td style=\"text-align: right;\">0.000216531</td><td style=\"text-align: right;\">0.0107024 </td><td style=\"text-align: right;\">             0.000216531</td></tr>\n",
       "<tr><td>StackedEnsemble_BestOfFamily_1_AutoML_1_20221203_205652</td><td style=\"text-align: right;\">0.00140672 </td><td style=\"text-align: right;\">0.0137874</td><td style=\"text-align: right;\">0.000190091</td><td style=\"text-align: right;\">0.0100139 </td><td style=\"text-align: right;\">             0.000190091</td></tr>\n",
       "<tr><td>StackedEnsemble_AllModels_1_AutoML_1_20221203_205652   </td><td style=\"text-align: right;\">0.00186782 </td><td style=\"text-align: right;\">0.0135053</td><td style=\"text-align: right;\">0.000182392</td><td style=\"text-align: right;\">0.00985745</td><td style=\"text-align: right;\">             0.000182392</td></tr>\n",
       "<tr><td>GBM_grid_1_AutoML_1_20221203_205652_model_1            </td><td style=\"text-align: right;\">0.00234044 </td><td style=\"text-align: right;\">0.0155651</td><td style=\"text-align: right;\">0.000242273</td><td style=\"text-align: right;\">0.0113415 </td><td style=\"text-align: right;\">             0.000242273</td></tr>\n",
       "<tr><td>GBM_4_AutoML_1_20221203_205652                         </td><td style=\"text-align: right;\">0.00280663 </td><td style=\"text-align: right;\">0.0141114</td><td style=\"text-align: right;\">0.000199133</td><td style=\"text-align: right;\">0.0104092 </td><td style=\"text-align: right;\">             0.000199133</td></tr>\n",
       "<tr><td>GBM_2_AutoML_1_20221203_205652                         </td><td style=\"text-align: right;\">0.00305216 </td><td style=\"text-align: right;\">0.0152828</td><td style=\"text-align: right;\">0.000233564</td><td style=\"text-align: right;\">0.011466  </td><td style=\"text-align: right;\">             0.000233564</td></tr>\n",
       "<tr><td>GBM_5_AutoML_1_20221203_205652                         </td><td style=\"text-align: right;\">0.00308671 </td><td style=\"text-align: right;\">0.0154836</td><td style=\"text-align: right;\">0.000239741</td><td style=\"text-align: right;\">0.0112529 </td><td style=\"text-align: right;\">             0.000239741</td></tr>\n",
       "<tr><td>GBM_3_AutoML_1_20221203_205652                         </td><td style=\"text-align: right;\">0.00325283 </td><td style=\"text-align: right;\">0.015317 </td><td style=\"text-align: right;\">0.000234611</td><td style=\"text-align: right;\">0.0113464 </td><td style=\"text-align: right;\">             0.000234611</td></tr>\n",
       "<tr><td>GBM_1_AutoML_1_20221203_205652                         </td><td style=\"text-align: right;\">0.00445604 </td><td style=\"text-align: right;\">0.0181149</td><td style=\"text-align: right;\">0.000328148</td><td style=\"text-align: right;\">0.0132561 </td><td style=\"text-align: right;\">             0.000328148</td></tr>\n",
       "</tbody>\n",
       "</table><pre style='font-size: smaller; margin-bottom: 1em;'>[10 rows x 6 columns]</pre>"
      ],
      "text/plain": [
       "model_id                                                         mae       rmse          mse       rmsle    mean_residual_deviance\n",
       "-------------------------------------------------------  -----------  ---------  -----------  ----------  ------------------------\n",
       "DRF_1_AutoML_1_20221203_205652                           0.000956491  0.0138494  0.000191806  0.0100743                0.000191806\n",
       "XRT_1_AutoML_1_20221203_205652                           0.00106323   0.014715   0.000216531  0.0107024                0.000216531\n",
       "StackedEnsemble_BestOfFamily_1_AutoML_1_20221203_205652  0.00140672   0.0137874  0.000190091  0.0100139                0.000190091\n",
       "StackedEnsemble_AllModels_1_AutoML_1_20221203_205652     0.00186782   0.0135053  0.000182392  0.00985745               0.000182392\n",
       "GBM_grid_1_AutoML_1_20221203_205652_model_1              0.00234044   0.0155651  0.000242273  0.0113415                0.000242273\n",
       "GBM_4_AutoML_1_20221203_205652                           0.00280663   0.0141114  0.000199133  0.0104092                0.000199133\n",
       "GBM_2_AutoML_1_20221203_205652                           0.00305216   0.0152828  0.000233564  0.011466                 0.000233564\n",
       "GBM_5_AutoML_1_20221203_205652                           0.00308671   0.0154836  0.000239741  0.0112529                0.000239741\n",
       "GBM_3_AutoML_1_20221203_205652                           0.00325283   0.015317   0.000234611  0.0113464                0.000234611\n",
       "GBM_1_AutoML_1_20221203_205652                           0.00445604   0.0181149  0.000328148  0.0132561                0.000328148\n",
       "[10 rows x 6 columns]\n"
      ]
     },
     "execution_count": 18,
     "metadata": {},
     "output_type": "execute_result"
    }
   ],
   "source": [
    "# View the AutoML Leaderboard\n",
    "lb = aml.leaderboard\n",
    "lb.head() "
   ]
  },
  {
   "cell_type": "code",
   "execution_count": 19,
   "metadata": {},
   "outputs": [
    {
     "data": {
      "text/html": [
       "<pre style='margin: 1em 0 1em 0;'>ModelMetricsRegression: drf\n",
       "** Reported on test data. **\n",
       "\n",
       "MSE: 8.237248538271718e-05\n",
       "RMSE: 0.009075928899166034\n",
       "MAE: 0.000669168775936327\n",
       "RMSLE: 0.006347338610327737\n",
       "Mean Residual Deviance: 8.237248538271718e-05</pre>"
      ],
      "text/plain": [
       "ModelMetricsRegression: drf\n",
       "** Reported on test data. **\n",
       "\n",
       "MSE: 8.237248538271718e-05\n",
       "RMSE: 0.009075928899166034\n",
       "MAE: 0.000669168775936327\n",
       "RMSLE: 0.006347338610327737\n",
       "Mean Residual Deviance: 8.237248538271718e-05"
      ]
     },
     "execution_count": 19,
     "metadata": {},
     "output_type": "execute_result"
    }
   ],
   "source": [
    "best_model = aml.leader\n",
    "best_model.model_performance(test)"
   ]
  },
  {
   "cell_type": "markdown",
   "metadata": {},
   "source": [
    "### SHAP"
   ]
  },
  {
   "cell_type": "code",
   "execution_count": 20,
   "metadata": {},
   "outputs": [],
   "source": [
    "# Help function\n",
    "class H2OProbWrapper:\n",
    "    def __init__(self, h2o_model, feature_names):\n",
    "        self.h2o_model = h2o_model\n",
    "        self.feature_names = feature_names\n",
    "\n",
    "    def predict_binary_prob(self, X):\n",
    "        if isinstance(X, pd.Series):\n",
    "            X = X.values.reshape(1,-1)\n",
    "        self.dataframe= pd.DataFrame(X, columns=self.feature_names)\n",
    "        self.predictions = self.h2o_model.predict(h2o.H2OFrame(self.dataframe)).as_data_frame().values\n",
    "        return self.predictions.astype('float64')[:,-1] #probability of True class\n"
   ]
  },
  {
   "cell_type": "code",
   "execution_count": null,
   "metadata": {},
   "outputs": [],
   "source": [
    "#Reading dataset\n",
    "data = pd.read_csv(\"C:\\\\Users\\\\85251\\\\Desktop\\\\6105\\\\a1\\\\smoke_detection_iot.csv\", index_col=0)"
   ]
  },
  {
   "cell_type": "code",
   "execution_count": null,
   "metadata": {},
   "outputs": [],
   "source": [
    "\n",
    "X = data[ [ 'Temperature[C]', 'Humidity[%]', 'TVOC[ppb]', 'eCO2[ppm]',\n",
    "       'Raw H2', 'Raw Ethanol', 'Pressure[hPa]', 'PM1.0', 'PM2.5', 'NC0.5', 'NC1.0', 'NC2.5']]\n",
    "y = data['Fire Alarm']\n",
    "\n",
    "#Spliting data into Training 90%, Test set 10%\n",
    "\n",
    "X_train, X_test, y_train, y_test = train_test_split(X, y, test_size=0.1, random_state=1)"
   ]
  },
  {
   "cell_type": "code",
   "execution_count": 22,
   "metadata": {},
   "outputs": [],
   "source": [
    "feature_names = list(X_train.columns)\n",
    "h2o_wrapper = H2OProbWrapper(best_model,feature_names) "
   ]
  },
  {
   "cell_type": "code",
   "execution_count": 32,
   "metadata": {},
   "outputs": [
    {
     "name": "stdout",
     "output_type": "stream",
     "text": [
      "Parse progress: |████████████████████████████████████████████████████████████████| (done) 100%\n",
      "drf prediction progress: |███████████████████████████████████████████████████████| (done) 100%\n"
     ]
    }
   ],
   "source": [
    "explainer = shap.KernelExplainer(h2o_wrapper.predict_binary_prob,X_train[:50])"
   ]
  },
  {
   "cell_type": "code",
   "execution_count": 45,
   "metadata": {},
   "outputs": [
    {
     "data": {
      "application/vnd.jupyter.widget-view+json": {
       "model_id": "596a77f1cdfb425aaaabc7a8613f2338",
       "version_major": 2,
       "version_minor": 0
      },
      "text/plain": [
       "  0%|          | 0/50 [00:00<?, ?it/s]"
      ]
     },
     "metadata": {},
     "output_type": "display_data"
    },
    {
     "name": "stdout",
     "output_type": "stream",
     "text": [
      "Parse progress: |████████████████████████████████████████████████████████████████| (done) 100%\n",
      "drf prediction progress: |███████████████████████████████████████████████████████| (done) 100%\n",
      "Parse progress: |████████████████████████████████████████████████████████████████| (done) 100%\n",
      "drf prediction progress: |███████████████████████████████████████████████████████| (done) 100%\n",
      "Parse progress: |████████████████████████████████████████████████████████████████| (done) 100%\n",
      "drf prediction progress: |███████████████████████████████████████████████████████| (done) 100%\n",
      "Parse progress: |████████████████████████████████████████████████████████████████| (done) 100%\n",
      "drf prediction progress: |███████████████████████████████████████████████████████| (done) 100%\n",
      "Parse progress: |████████████████████████████████████████████████████████████████| (done) 100%\n",
      "drf prediction progress: |███████████████████████████████████████████████████████| (done) 100%\n",
      "Parse progress: |████████████████████████████████████████████████████████████████| (done) 100%\n",
      "drf prediction progress: |███████████████████████████████████████████████████████| (done) 100%\n",
      "Parse progress: |████████████████████████████████████████████████████████████████| (done) 100%\n",
      "drf prediction progress: |███████████████████████████████████████████████████████| (done) 100%\n",
      "Parse progress: |████████████████████████████████████████████████████████████████| (done) 100%\n",
      "drf prediction progress: |███████████████████████████████████████████████████████| (done) 100%\n",
      "Parse progress: |████████████████████████████████████████████████████████████████| (done) 100%\n",
      "drf prediction progress: |███████████████████████████████████████████████████████| (done) 100%\n",
      "Parse progress: |████████████████████████████████████████████████████████████████| (done) 100%\n",
      "drf prediction progress: |███████████████████████████████████████████████████████| (done) 100%\n",
      "Parse progress: |████████████████████████████████████████████████████████████████| (done) 100%\n",
      "drf prediction progress: |███████████████████████████████████████████████████████| (done) 100%\n",
      "Parse progress: |████████████████████████████████████████████████████████████████| (done) 100%\n",
      "drf prediction progress: |███████████████████████████████████████████████████████| (done) 100%\n",
      "Parse progress: |████████████████████████████████████████████████████████████████| (done) 100%\n",
      "drf prediction progress: |███████████████████████████████████████████████████████| (done) 100%\n",
      "Parse progress: |████████████████████████████████████████████████████████████████| (done) 100%\n",
      "drf prediction progress: |███████████████████████████████████████████████████████| (done) 100%\n",
      "Parse progress: |████████████████████████████████████████████████████████████████| (done) 100%\n",
      "drf prediction progress: |███████████████████████████████████████████████████████| (done) 100%\n",
      "Parse progress: |████████████████████████████████████████████████████████████████| (done) 100%\n",
      "drf prediction progress: |███████████████████████████████████████████████████████| (done) 100%\n",
      "Parse progress: |████████████████████████████████████████████████████████████████| (done) 100%\n",
      "drf prediction progress: |███████████████████████████████████████████████████████| (done) 100%\n",
      "Parse progress: |████████████████████████████████████████████████████████████████| (done) 100%\n",
      "drf prediction progress: |███████████████████████████████████████████████████████| (done) 100%\n",
      "Parse progress: |████████████████████████████████████████████████████████████████| (done) 100%\n",
      "drf prediction progress: |███████████████████████████████████████████████████████| (done) 100%\n",
      "Parse progress: |████████████████████████████████████████████████████████████████| (done) 100%\n",
      "drf prediction progress: |███████████████████████████████████████████████████████| (done) 100%\n",
      "Parse progress: |████████████████████████████████████████████████████████████████| (done) 100%\n",
      "drf prediction progress: |███████████████████████████████████████████████████████| (done) 100%\n",
      "Parse progress: |████████████████████████████████████████████████████████████████| (done) 100%\n",
      "drf prediction progress: |███████████████████████████████████████████████████████| (done) 100%\n",
      "Parse progress: |████████████████████████████████████████████████████████████████| (done) 100%\n",
      "drf prediction progress: |███████████████████████████████████████████████████████| (done) 100%\n",
      "Parse progress: |████████████████████████████████████████████████████████████████| (done) 100%\n",
      "drf prediction progress: |███████████████████████████████████████████████████████| (done) 100%\n",
      "Parse progress: |████████████████████████████████████████████████████████████████| (done) 100%\n",
      "drf prediction progress: |███████████████████████████████████████████████████████| (done) 100%\n",
      "Parse progress: |████████████████████████████████████████████████████████████████| (done) 100%\n",
      "drf prediction progress: |███████████████████████████████████████████████████████| (done) 100%\n",
      "Parse progress: |████████████████████████████████████████████████████████████████| (done) 100%\n",
      "drf prediction progress: |███████████████████████████████████████████████████████| (done) 100%\n",
      "Parse progress: |████████████████████████████████████████████████████████████████| (done) 100%\n",
      "drf prediction progress: |███████████████████████████████████████████████████████| (done) 100%\n",
      "Parse progress: |████████████████████████████████████████████████████████████████| (done) 100%\n",
      "drf prediction progress: |███████████████████████████████████████████████████████| (done) 100%\n",
      "Parse progress: |████████████████████████████████████████████████████████████████| (done) 100%\n",
      "drf prediction progress: |███████████████████████████████████████████████████████| (done) 100%\n",
      "Parse progress: |████████████████████████████████████████████████████████████████| (done) 100%\n",
      "drf prediction progress: |███████████████████████████████████████████████████████| (done) 100%\n",
      "Parse progress: |████████████████████████████████████████████████████████████████| (done) 100%\n",
      "drf prediction progress: |███████████████████████████████████████████████████████| (done) 100%\n",
      "Parse progress: |████████████████████████████████████████████████████████████████| (done) 100%\n",
      "drf prediction progress: |███████████████████████████████████████████████████████| (done) 100%\n",
      "Parse progress: |████████████████████████████████████████████████████████████████| (done) 100%\n",
      "drf prediction progress: |███████████████████████████████████████████████████████| (done) 100%\n",
      "Parse progress: |████████████████████████████████████████████████████████████████| (done) 100%\n",
      "drf prediction progress: |███████████████████████████████████████████████████████| (done) 100%\n",
      "Parse progress: |████████████████████████████████████████████████████████████████| (done) 100%\n",
      "drf prediction progress: |███████████████████████████████████████████████████████| (done) 100%\n",
      "Parse progress: |████████████████████████████████████████████████████████████████| (done) 100%\n",
      "drf prediction progress: |███████████████████████████████████████████████████████| (done) 100%\n",
      "Parse progress: |████████████████████████████████████████████████████████████████| (done) 100%\n",
      "drf prediction progress: |███████████████████████████████████████████████████████| (done) 100%\n",
      "Parse progress: |████████████████████████████████████████████████████████████████| (done) 100%\n",
      "drf prediction progress: |███████████████████████████████████████████████████████| (done) 100%\n",
      "Parse progress: |████████████████████████████████████████████████████████████████| (done) 100%\n",
      "drf prediction progress: |███████████████████████████████████████████████████████| (done) 100%\n",
      "Parse progress: |████████████████████████████████████████████████████████████████| (done) 100%\n",
      "drf prediction progress: |███████████████████████████████████████████████████████| (done) 100%\n",
      "Parse progress: |████████████████████████████████████████████████████████████████| (done) 100%\n",
      "drf prediction progress: |███████████████████████████████████████████████████████| (done) 100%\n",
      "Parse progress: |████████████████████████████████████████████████████████████████| (done) 100%\n",
      "drf prediction progress: |███████████████████████████████████████████████████████| (done) 100%\n",
      "Parse progress: |████████████████████████████████████████████████████████████████| (done) 100%\n"
     ]
    },
    {
     "name": "stdout",
     "output_type": "stream",
     "text": [
      "drf prediction progress: |███████████████████████████████████████████████████████| (done) 100%\n",
      "Parse progress: |████████████████████████████████████████████████████████████████| (done) 100%\n",
      "drf prediction progress: |███████████████████████████████████████████████████████| (done) 100%\n",
      "Parse progress: |████████████████████████████████████████████████████████████████| (done) 100%\n",
      "drf prediction progress: |███████████████████████████████████████████████████████| (done) 100%\n",
      "Parse progress: |████████████████████████████████████████████████████████████████| (done) 100%\n",
      "drf prediction progress: |███████████████████████████████████████████████████████| (done) 100%\n",
      "Parse progress: |████████████████████████████████████████████████████████████████| (done) 100%\n",
      "drf prediction progress: |███████████████████████████████████████████████████████| (done) 100%\n",
      "Parse progress: |████████████████████████████████████████████████████████████████| (done) 100%\n",
      "drf prediction progress: |███████████████████████████████████████████████████████| (done) 100%\n",
      "Parse progress: |████████████████████████████████████████████████████████████████| (done) 100%\n",
      "drf prediction progress: |███████████████████████████████████████████████████████| (done) 100%\n",
      "Parse progress: |████████████████████████████████████████████████████████████████| (done) 100%\n",
      "drf prediction progress: |███████████████████████████████████████████████████████| (done) 100%\n",
      "Parse progress: |████████████████████████████████████████████████████████████████| (done) 100%\n",
      "drf prediction progress: |███████████████████████████████████████████████████████| (done) 100%\n",
      "Parse progress: |████████████████████████████████████████████████████████████████| (done) 100%\n",
      "drf prediction progress: |███████████████████████████████████████████████████████| (done) 100%\n",
      "Parse progress: |████████████████████████████████████████████████████████████████| (done) 100%\n",
      "drf prediction progress: |███████████████████████████████████████████████████████| (done) 100%\n",
      "Parse progress: |████████████████████████████████████████████████████████████████| (done) 100%\n",
      "drf prediction progress: |███████████████████████████████████████████████████████| (done) 100%\n",
      "Parse progress: |████████████████████████████████████████████████████████████████| (done) 100%\n",
      "drf prediction progress: |███████████████████████████████████████████████████████| (done) 100%\n",
      "Parse progress: |████████████████████████████████████████████████████████████████| (done) 100%\n",
      "drf prediction progress: |███████████████████████████████████████████████████████| (done) 100%\n",
      "Parse progress: |████████████████████████████████████████████████████████████████| (done) 100%\n",
      "drf prediction progress: |███████████████████████████████████████████████████████| (done) 100%\n",
      "Parse progress: |████████████████████████████████████████████████████████████████| (done) 100%\n",
      "drf prediction progress: |███████████████████████████████████████████████████████| (done) 100%\n",
      "Parse progress: |████████████████████████████████████████████████████████████████| (done) 100%\n",
      "drf prediction progress: |███████████████████████████████████████████████████████| (done) 100%\n",
      "Parse progress: |████████████████████████████████████████████████████████████████| (done) 100%\n",
      "drf prediction progress: |███████████████████████████████████████████████████████| (done) 100%\n",
      "Parse progress: |████████████████████████████████████████████████████████████████| (done) 100%\n",
      "drf prediction progress: |███████████████████████████████████████████████████████| (done) 100%\n",
      "Parse progress: |████████████████████████████████████████████████████████████████| (done) 100%\n",
      "drf prediction progress: |███████████████████████████████████████████████████████| (done) 100%\n",
      "Parse progress: |████████████████████████████████████████████████████████████████| (done) 100%\n",
      "drf prediction progress: |███████████████████████████████████████████████████████| (done) 100%\n",
      "Parse progress: |████████████████████████████████████████████████████████████████| (done) 100%\n",
      "drf prediction progress: |███████████████████████████████████████████████████████| (done) 100%\n",
      "Parse progress: |████████████████████████████████████████████████████████████████| (done) 100%\n",
      "drf prediction progress: |███████████████████████████████████████████████████████| (done) 100%\n",
      "Parse progress: |████████████████████████████████████████████████████████████████| (done) 100%\n",
      "drf prediction progress: |███████████████████████████████████████████████████████| (done) 100%\n",
      "Parse progress: |████████████████████████████████████████████████████████████████| (done) 100%\n",
      "drf prediction progress: |███████████████████████████████████████████████████████| (done) 100%\n",
      "Parse progress: |████████████████████████████████████████████████████████████████| (done) 100%\n",
      "drf prediction progress: |███████████████████████████████████████████████████████| (done) 100%\n",
      "Parse progress: |████████████████████████████████████████████████████████████████| (done) 100%\n",
      "drf prediction progress: |███████████████████████████████████████████████████████| (done) 100%\n",
      "Parse progress: |████████████████████████████████████████████████████████████████| (done) 100%\n",
      "drf prediction progress: |███████████████████████████████████████████████████████| (done) 100%\n",
      "Parse progress: |████████████████████████████████████████████████████████████████| (done) 100%\n",
      "drf prediction progress: |███████████████████████████████████████████████████████| (done) 100%\n",
      "Parse progress: |████████████████████████████████████████████████████████████████| (done) 100%\n",
      "drf prediction progress: |███████████████████████████████████████████████████████| (done) 100%\n",
      "Parse progress: |████████████████████████████████████████████████████████████████| (done) 100%\n",
      "drf prediction progress: |███████████████████████████████████████████████████████| (done) 100%\n",
      "Parse progress: |████████████████████████████████████████████████████████████████| (done) 100%\n",
      "drf prediction progress: |███████████████████████████████████████████████████████| (done) 100%\n",
      "Parse progress: |████████████████████████████████████████████████████████████████| (done) 100%\n",
      "drf prediction progress: |███████████████████████████████████████████████████████| (done) 100%\n",
      "Parse progress: |████████████████████████████████████████████████████████████████| (done) 100%\n",
      "drf prediction progress: |███████████████████████████████████████████████████████| (done) 100%\n",
      "Parse progress: |████████████████████████████████████████████████████████████████| (done) 100%\n",
      "drf prediction progress: |███████████████████████████████████████████████████████| (done) 100%\n",
      "Parse progress: |████████████████████████████████████████████████████████████████| (done) 100%\n",
      "drf prediction progress: |███████████████████████████████████████████████████████| (done) 100%\n",
      "Parse progress: |████████████████████████████████████████████████████████████████| (done) 100%\n",
      "drf prediction progress: |███████████████████████████████████████████████████████| (done) 100%\n",
      "Parse progress: |████████████████████████████████████████████████████████████████| (done) 100%\n",
      "drf prediction progress: |███████████████████████████████████████████████████████| (done) 100%\n",
      "Parse progress: |████████████████████████████████████████████████████████████████| (done) 100%\n",
      "drf prediction progress: |███████████████████████████████████████████████████████| (done) 100%\n",
      "Parse progress: |████████████████████████████████████████████████████████████████| (done) 100%\n",
      "drf prediction progress: |███████████████████████████████████████████████████████| (done) 100%\n",
      "Parse progress: |████████████████████████████████████████████████████████████████| (done) 100%\n",
      "drf prediction progress: |███████████████████████████████████████████████████████| (done) 100%\n",
      "Parse progress: |████████████████████████████████████████████████████████████████| (done) 100%\n",
      "drf prediction progress: |███████████████████████████████████████████████████████| (done) 100%\n",
      "Parse progress: |████████████████████████████████████████████████████████████████| (done) 100%\n",
      "drf prediction progress: |███████████████████████████████████████████████████████| (done) 100%\n",
      "Parse progress: |████████████████████████████████████████████████████████████████| (done) 100%\n",
      "drf prediction progress: |███████████████████████████████████████████████████████| (done) 100%\n"
     ]
    },
    {
     "name": "stdout",
     "output_type": "stream",
     "text": [
      "Parse progress: |████████████████████████████████████████████████████████████████| (done) 100%\n",
      "drf prediction progress: |███████████████████████████████████████████████████████| (done) 100%\n",
      "Parse progress: |████████████████████████████████████████████████████████████████| (done) 100%\n",
      "drf prediction progress: |███████████████████████████████████████████████████████| (done) 100%\n",
      "Parse progress: |████████████████████████████████████████████████████████████████| (done) 100%\n",
      "drf prediction progress: |███████████████████████████████████████████████████████| (done) 100%\n",
      "Parse progress: |████████████████████████████████████████████████████████████████| (done) 100%\n",
      "drf prediction progress: |███████████████████████████████████████████████████████| (done) 100%\n",
      "Parse progress: |████████████████████████████████████████████████████████████████| (done) 100%\n",
      "drf prediction progress: |███████████████████████████████████████████████████████| (done) 100%\n",
      "Parse progress: |████████████████████████████████████████████████████████████████| (done) 100%\n",
      "drf prediction progress: |███████████████████████████████████████████████████████| (done) 100%\n",
      "Parse progress: |████████████████████████████████████████████████████████████████| (done) 100%\n",
      "drf prediction progress: |███████████████████████████████████████████████████████| (done) 100%\n",
      "Parse progress: |████████████████████████████████████████████████████████████████| (done) 100%\n",
      "drf prediction progress: |███████████████████████████████████████████████████████| (done) 100%\n",
      "Parse progress: |████████████████████████████████████████████████████████████████| (done) 100%\n",
      "drf prediction progress: |███████████████████████████████████████████████████████| (done) 100%\n",
      "Parse progress: |████████████████████████████████████████████████████████████████| (done) 100%\n",
      "drf prediction progress: |███████████████████████████████████████████████████████| (done) 100%\n",
      "Parse progress: |████████████████████████████████████████████████████████████████| (done) 100%\n",
      "drf prediction progress: |███████████████████████████████████████████████████████| (done) 100%\n",
      "Parse progress: |████████████████████████████████████████████████████████████████| (done) 100%\n",
      "drf prediction progress: |███████████████████████████████████████████████████████| (done) 100%\n",
      "Parse progress: |████████████████████████████████████████████████████████████████| (done) 100%\n",
      "drf prediction progress: |███████████████████████████████████████████████████████| (done) 100%\n"
     ]
    }
   ],
   "source": [
    "shap_values = explainer.shap_values(X_test[:50])"
   ]
  },
  {
   "cell_type": "markdown",
   "metadata": {},
   "source": [
    "Due to Memory Error of my computer, I can only excute 50 data at a time, and it's already the best situation, usually my computer crash when it comes to 30"
   ]
  },
  {
   "cell_type": "code",
   "execution_count": 46,
   "metadata": {
    "scrolled": true
   },
   "outputs": [
    {
     "data": {
      "image/png": "[encoded data removed]",
      "text/plain": [
       "<Figure size 576x453.6 with 1 Axes>"
      ]
     },
     "metadata": {
      "needs_background": "light"
     },
     "output_type": "display_data"
    }
   ],
   "source": [
    "shap.summary_plot(shap_values, X_test, plot_type=\"bar\")"
   ]
  },
  {
   "cell_type": "code",
   "execution_count": 47,
   "metadata": {
    "scrolled": true
   },
   "outputs": [
    {
     "data": {
      "image/png": "[encoded data removed]",
      "text/plain": [
       "<Figure size 576x453.6 with 2 Axes>"
      ]
     },
     "metadata": {
      "needs_background": "light"
     },
     "output_type": "display_data"
    }
   ],
   "source": [
    "shap.summary_plot(shap_values, X_test[:50])"
   ]
  },
  {
   "cell_type": "markdown",
   "metadata": {},
   "source": [
    "1. From the two plots above, we can know that Pressure is the most effective feature in Random Forest model, when it's value is larger than average, it drives the prediction to the right.\n",
    "\n",
    "2. The second one is TVOC and third one is Raw Ethanol, the TVOC works as Pressure, however, Raw Ethanol works the opposite.\n",
    "\n",
    "3. Raw H2, Humidity PM1.0, NC2.5, NC0.5 work similarly, they all drive the prediction to right when their values larger than average. And the Temperature, PM2.5 and NC1.0 work the opposite."
   ]
  },
  {
   "cell_type": "markdown",
   "metadata": {},
   "source": [
    "### Refernces\n",
    "\n",
    "1. W3schools\n",
    "2. Generate 'n' unique random numbers within a range\n",
    "3. A Complete Guide to Dealing with Missing values in Python\n",
    "4. Smoke Detection Preprocessing\n"
   ]
  },
  {
   "cell_type": "markdown",
   "metadata": {},
   "source": [
    "Copyright (c) 2022 Chenxu Zhao\n",
    "\n",
    "Permission is hereby granted, free of charge, to any person obtaining a copy\n",
    "of this software and associated documentation files (the \"Software\"), to deal\n",
    "in the Software without restriction, including without limitation the rights\n",
    "to use, copy, modify, merge, publish, distribute, sublicense, and/or sell\n",
    "copies of the Software, and to permit persons to whom the Software is\n",
    "furnished to do so, subject to the following conditions:\n",
    "\n",
    "The above copyright notice and this permission notice shall be included in all\n",
    "copies or substantial portions of the Software.\n",
    "\n",
    "THE SOFTWARE IS PROVIDED \"AS IS\", WITHOUT WARRANTY OF ANY KIND, EXPRESS OR\n",
    "IMPLIED, INCLUDING BUT NOT LIMITED TO THE WARRANTIES OF MERCHANTABILITY,\n",
    "FITNESS FOR A PARTICULAR PURPOSE AND NONINFRINGEMENT. IN NO EVENT SHALL THE\n",
    "AUTHORS OR COPYRIGHT HOLDERS BE LIABLE FOR ANY CLAIM, DAMAGES OR OTHER\n",
    "LIABILITY, WHETHER IN AN ACTION OF CONTRACT, TORT OR OTHERWISE, ARISING FROM,\n",
    "OUT OF OR IN CONNECTION WITH THE SOFTWARE OR THE USE OR OTHER DEALINGS IN THE\n",
    "SOFTWARE.\n"
   ]
  },
  {
   "cell_type": "code",
   "execution_count": null,
   "metadata": {},
   "outputs": [],
   "source": []
  }
 ],
 "metadata": {
  "colab": {
   "collapsed_sections": [
    "5-ECbPT3ETKC",
    "o_B9i5R7cwKB",
    "rAwtWA-PETKb"
   ],
   "name": "Assigment 1.ipynb",
   "provenance": []
  },
  "kernelspec": {
   "display_name": "Python 3 (ipykernel)",
   "language": "python",
   "name": "python3"
  },
  "language_info": {
   "codemirror_mode": {
    "name": "ipython",
    "version": 3
   },
   "file_extension": ".py",
   "mimetype": "text/x-python",
   "name": "python",
   "nbconvert_exporter": "python",
   "pygments_lexer": "ipython3",
   "version": "3.9.12"
  }
 },
 "nbformat": 4,
 "nbformat_minor": 1
}
