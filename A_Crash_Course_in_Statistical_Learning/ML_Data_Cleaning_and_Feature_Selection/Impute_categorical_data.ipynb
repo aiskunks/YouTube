{
 "cells": [
  {
   "cell_type": "markdown",
   "source": [
    "# **Sample Notebook for Imputing Categorical Data**\n",
    "\n",
    "This notebook mainly focuses on methods dealing with missing data in categorical features. It gives an idea on how to impute missing/incorrect data in categorical columns.\n",
    "\n",
    "The data set is taken from, https://www.kaggle.com/datasets/pranavuikey/zomato-eda\n"
   ],
   "metadata": {
    "id": "UDUku6yWrRHC"
   }
  },
  {
   "cell_type": "markdown",
   "source": [
    "This dataset contains 51717 data values which is above GitHub's threshold of .csv files. Accordingly, we pull in the kaggle dataset directly using the kaggle library and my kaggle credentials."
   ],
   "metadata": {
    "id": "Mbt0UfYec5Dy"
   }
  },
  {
   "cell_type": "code",
   "execution_count": 42,
   "metadata": {
    "colab": {
     "base_uri": "https://localhost:8080/"
    },
    "id": "Wm-VFGRPETKM",
    "outputId": "9917eacf-0658-41b3-8d2c-4850df1397ae"
   },
   "outputs": [
    {
     "output_type": "stream",
     "name": "stdout",
     "text": [
      "Looking in indexes: https://pypi.org/simple, https://us-python.pkg.dev/colab-wheels/public/simple/\n",
      "Requirement already satisfied: eli5 in /usr/local/lib/python3.8/dist-packages (0.13.0)\n",
      "Requirement already satisfied: numpy>=1.9.0 in /usr/local/lib/python3.8/dist-packages (from eli5) (1.21.6)\n",
      "Requirement already satisfied: jinja2>=3.0.0 in /usr/local/lib/python3.8/dist-packages (from eli5) (3.1.2)\n",
      "Requirement already satisfied: graphviz in /usr/local/lib/python3.8/dist-packages (from eli5) (0.10.1)\n",
      "Requirement already satisfied: tabulate>=0.7.7 in /usr/local/lib/python3.8/dist-packages (from eli5) (0.8.10)\n",
      "Requirement already satisfied: attrs>17.1.0 in /usr/local/lib/python3.8/dist-packages (from eli5) (22.2.0)\n",
      "Requirement already satisfied: scikit-learn>=0.20 in /usr/local/lib/python3.8/dist-packages (from eli5) (1.0.2)\n",
      "Requirement already satisfied: scipy in /usr/local/lib/python3.8/dist-packages (from eli5) (1.7.3)\n",
      "Requirement already satisfied: six in /usr/local/lib/python3.8/dist-packages (from eli5) (1.15.0)\n",
      "Requirement already satisfied: MarkupSafe>=2.0 in /usr/local/lib/python3.8/dist-packages (from jinja2>=3.0.0->eli5) (2.0.1)\n",
      "Requirement already satisfied: threadpoolctl>=2.0.0 in /usr/local/lib/python3.8/dist-packages (from scikit-learn>=0.20->eli5) (3.1.0)\n",
      "Requirement already satisfied: joblib>=0.11 in /usr/local/lib/python3.8/dist-packages (from scikit-learn>=0.20->eli5) (1.2.0)\n"
     ]
    }
   ],
   "source": [
    "# installing dependencies\n",
    "!pip install eli5\n",
    "! pip install -q kaggle"
   ]
  },
  {
   "cell_type": "code",
   "execution_count": 43,
   "metadata": {
    "id": "Y8xyOOaIETKP",
    "colab": {
     "base_uri": "https://localhost:8080/"
    },
    "outputId": "42c1f8a1-99c9-429c-f4e2-6d906110345f"
   },
   "outputs": [
    {
     "output_type": "stream",
     "name": "stdout",
     "text": [
      "Traceback (most recent call last):\n",
      "  File \"/usr/local/bin/kaggle\", line 5, in <module>\n",
      "    from kaggle.cli import main\n",
      "  File \"/usr/local/lib/python3.8/dist-packages/kaggle/__init__.py\", line 23, in <module>\n",
      "    api.authenticate()\n",
      "  File \"/usr/local/lib/python3.8/dist-packages/kaggle/api/kaggle_api_extended.py\", line 164, in authenticate\n",
      "    raise IOError('Could not find {}. Make sure it\\'s located in'\n",
      "OSError: Could not find kaggle.json. Make sure it's located in /root/.kaggle. Or use the environment method.\n",
      "Traceback (most recent call last):\n",
      "  File \"/usr/local/bin/kaggle\", line 5, in <module>\n",
      "    from kaggle.cli import main\n",
      "  File \"/usr/local/lib/python3.8/dist-packages/kaggle/__init__.py\", line 23, in <module>\n",
      "    api.authenticate()\n",
      "  File \"/usr/local/lib/python3.8/dist-packages/kaggle/api/kaggle_api_extended.py\", line 164, in authenticate\n",
      "    raise IOError('Could not find {}. Make sure it\\'s located in'\n",
      "OSError: Could not find kaggle.json. Make sure it's located in /root/.kaggle. Or use the environment method.\n",
      "unzip:  cannot find or open zomato-eda.zip, zomato-eda.zip.zip or zomato-eda.zip.ZIP.\n"
     ]
    }
   ],
   "source": [
    "# downloading and reading the zomato dataset\n",
    "! kaggle datasets list -s zomato # searching through kaggle with keyword 'zomato'\n",
    "! kaggle datasets download -d pranavuikey/zomato-eda\n",
    "!unzip zomato-eda.zip"
   ]
  },
  {
   "cell_type": "markdown",
   "source": [
    "Visualizing the Dataset"
   ],
   "metadata": {
    "id": "ozC5NTtl_JFV"
   }
  },
  {
   "cell_type": "code",
   "execution_count": 44,
   "metadata": {
    "id": "AMYIkFi6ETKP",
    "colab": {
     "base_uri": "https://localhost:8080/",
     "height": 652
    },
    "outputId": "a071ab66-e4ec-4235-9985-78b8c208484d"
   },
   "outputs": [
    {
     "output_type": "execute_result",
     "data": {
      "text/plain": [
       "                                                 url  \\\n",
       "0  https://www.zomato.com/bangalore/jalsa-banasha...   \n",
       "1  https://www.zomato.com/bangalore/spice-elephan...   \n",
       "2  https://www.zomato.com/SanchurroBangalore?cont...   \n",
       "3  https://www.zomato.com/bangalore/addhuri-udupi...   \n",
       "4  https://www.zomato.com/bangalore/grand-village...   \n",
       "\n",
       "                                             address                   name  \\\n",
       "0  942, 21st Main Road, 2nd Stage, Banashankari, ...                  Jalsa   \n",
       "1  2nd Floor, 80 Feet Road, Near Big Bazaar, 6th ...         Spice Elephant   \n",
       "2  1112, Next to KIMS Medical College, 17th Cross...        San Churro Cafe   \n",
       "3  1st Floor, Annakuteera, 3rd Stage, Banashankar...  Addhuri Udupi Bhojana   \n",
       "4  10, 3rd Floor, Lakshmi Associates, Gandhi Baza...          Grand Village   \n",
       "\n",
       "  online_order book_table   rate  votes                             phone  \\\n",
       "0          Yes        Yes  4.1/5    775    080 42297555\\r\\n+91 9743772233   \n",
       "1          Yes         No  4.1/5    787                      080 41714161   \n",
       "2          Yes         No  3.8/5    918                    +91 9663487993   \n",
       "3           No         No  3.7/5     88                    +91 9620009302   \n",
       "4           No         No  3.8/5    166  +91 8026612447\\r\\n+91 9901210005   \n",
       "\n",
       "       location            rest_type  \\\n",
       "0  Banashankari        Casual Dining   \n",
       "1  Banashankari        Casual Dining   \n",
       "2  Banashankari  Cafe, Casual Dining   \n",
       "3  Banashankari          Quick Bites   \n",
       "4  Basavanagudi        Casual Dining   \n",
       "\n",
       "                                          dish_liked  \\\n",
       "0  Pasta, Lunch Buffet, Masala Papad, Paneer Laja...   \n",
       "1  Momos, Lunch Buffet, Chocolate Nirvana, Thai G...   \n",
       "2  Churros, Cannelloni, Minestrone Soup, Hot Choc...   \n",
       "3                                        Masala Dosa   \n",
       "4                                Panipuri, Gol Gappe   \n",
       "\n",
       "                         cuisines approx_cost(for two people)  \\\n",
       "0  North Indian, Mughlai, Chinese                         800   \n",
       "1     Chinese, North Indian, Thai                         800   \n",
       "2          Cafe, Mexican, Italian                         800   \n",
       "3      South Indian, North Indian                         300   \n",
       "4        North Indian, Rajasthani                         600   \n",
       "\n",
       "                                        reviews_list menu_item  \\\n",
       "0  [('Rated 4.0', 'RATED\\n  A beautiful place to ...        []   \n",
       "1  [('Rated 4.0', 'RATED\\n  Had been here for din...        []   \n",
       "2  [('Rated 3.0', \"RATED\\n  Ambience is not that ...        []   \n",
       "3  [('Rated 4.0', \"RATED\\n  Great food and proper...        []   \n",
       "4  [('Rated 4.0', 'RATED\\n  Very good restaurant ...        []   \n",
       "\n",
       "  listed_in(type) listed_in(city)  \n",
       "0          Buffet    Banashankari  \n",
       "1          Buffet    Banashankari  \n",
       "2          Buffet    Banashankari  \n",
       "3          Buffet    Banashankari  \n",
       "4          Buffet    Banashankari  "
      ],
      "text/html": [
       "\n",
       "  <div id=\"df-3bed9afe-3551-42c7-a500-8cf4da604fab\">\n",
       "    <div class=\"colab-df-container\">\n",
       "      <div>\n",
       "<style scoped>\n",
       "    .dataframe tbody tr th:only-of-type {\n",
       "        vertical-align: middle;\n",
       "    }\n",
       "\n",
       "    .dataframe tbody tr th {\n",
       "        vertical-align: top;\n",
       "    }\n",
       "\n",
       "    .dataframe thead th {\n",
       "        text-align: right;\n",
       "    }\n",
       "</style>\n",
       "<table border=\"1\" class=\"dataframe\">\n",
       "  <thead>\n",
       "    <tr style=\"text-align: right;\">\n",
       "      <th></th>\n",
       "      <th>url</th>\n",
       "      <th>address</th>\n",
       "      <th>name</th>\n",
       "      <th>online_order</th>\n",
       "      <th>book_table</th>\n",
       "      <th>rate</th>\n",
       "      <th>votes</th>\n",
       "      <th>phone</th>\n",
       "      <th>location</th>\n",
       "      <th>rest_type</th>\n",
       "      <th>dish_liked</th>\n",
       "      <th>cuisines</th>\n",
       "      <th>approx_cost(for two people)</th>\n",
       "      <th>reviews_list</th>\n",
       "      <th>menu_item</th>\n",
       "      <th>listed_in(type)</th>\n",
       "      <th>listed_in(city)</th>\n",
       "    </tr>\n",
       "  </thead>\n",
       "  <tbody>\n",
       "    <tr>\n",
       "      <th>0</th>\n",
       "      <td>https://www.zomato.com/bangalore/jalsa-banasha...</td>\n",
       "      <td>942, 21st Main Road, 2nd Stage, Banashankari, ...</td>\n",
       "      <td>Jalsa</td>\n",
       "      <td>Yes</td>\n",
       "      <td>Yes</td>\n",
       "      <td>4.1/5</td>\n",
       "      <td>775</td>\n",
       "      <td>080 42297555\\r\\n+91 9743772233</td>\n",
       "      <td>Banashankari</td>\n",
       "      <td>Casual Dining</td>\n",
       "      <td>Pasta, Lunch Buffet, Masala Papad, Paneer Laja...</td>\n",
       "      <td>North Indian, Mughlai, Chinese</td>\n",
       "      <td>800</td>\n",
       "      <td>[('Rated 4.0', 'RATED\\n  A beautiful place to ...</td>\n",
       "      <td>[]</td>\n",
       "      <td>Buffet</td>\n",
       "      <td>Banashankari</td>\n",
       "    </tr>\n",
       "    <tr>\n",
       "      <th>1</th>\n",
       "      <td>https://www.zomato.com/bangalore/spice-elephan...</td>\n",
       "      <td>2nd Floor, 80 Feet Road, Near Big Bazaar, 6th ...</td>\n",
       "      <td>Spice Elephant</td>\n",
       "      <td>Yes</td>\n",
       "      <td>No</td>\n",
       "      <td>4.1/5</td>\n",
       "      <td>787</td>\n",
       "      <td>080 41714161</td>\n",
       "      <td>Banashankari</td>\n",
       "      <td>Casual Dining</td>\n",
       "      <td>Momos, Lunch Buffet, Chocolate Nirvana, Thai G...</td>\n",
       "      <td>Chinese, North Indian, Thai</td>\n",
       "      <td>800</td>\n",
       "      <td>[('Rated 4.0', 'RATED\\n  Had been here for din...</td>\n",
       "      <td>[]</td>\n",
       "      <td>Buffet</td>\n",
       "      <td>Banashankari</td>\n",
       "    </tr>\n",
       "    <tr>\n",
       "      <th>2</th>\n",
       "      <td>https://www.zomato.com/SanchurroBangalore?cont...</td>\n",
       "      <td>1112, Next to KIMS Medical College, 17th Cross...</td>\n",
       "      <td>San Churro Cafe</td>\n",
       "      <td>Yes</td>\n",
       "      <td>No</td>\n",
       "      <td>3.8/5</td>\n",
       "      <td>918</td>\n",
       "      <td>+91 9663487993</td>\n",
       "      <td>Banashankari</td>\n",
       "      <td>Cafe, Casual Dining</td>\n",
       "      <td>Churros, Cannelloni, Minestrone Soup, Hot Choc...</td>\n",
       "      <td>Cafe, Mexican, Italian</td>\n",
       "      <td>800</td>\n",
       "      <td>[('Rated 3.0', \"RATED\\n  Ambience is not that ...</td>\n",
       "      <td>[]</td>\n",
       "      <td>Buffet</td>\n",
       "      <td>Banashankari</td>\n",
       "    </tr>\n",
       "    <tr>\n",
       "      <th>3</th>\n",
       "      <td>https://www.zomato.com/bangalore/addhuri-udupi...</td>\n",
       "      <td>1st Floor, Annakuteera, 3rd Stage, Banashankar...</td>\n",
       "      <td>Addhuri Udupi Bhojana</td>\n",
       "      <td>No</td>\n",
       "      <td>No</td>\n",
       "      <td>3.7/5</td>\n",
       "      <td>88</td>\n",
       "      <td>+91 9620009302</td>\n",
       "      <td>Banashankari</td>\n",
       "      <td>Quick Bites</td>\n",
       "      <td>Masala Dosa</td>\n",
       "      <td>South Indian, North Indian</td>\n",
       "      <td>300</td>\n",
       "      <td>[('Rated 4.0', \"RATED\\n  Great food and proper...</td>\n",
       "      <td>[]</td>\n",
       "      <td>Buffet</td>\n",
       "      <td>Banashankari</td>\n",
       "    </tr>\n",
       "    <tr>\n",
       "      <th>4</th>\n",
       "      <td>https://www.zomato.com/bangalore/grand-village...</td>\n",
       "      <td>10, 3rd Floor, Lakshmi Associates, Gandhi Baza...</td>\n",
       "      <td>Grand Village</td>\n",
       "      <td>No</td>\n",
       "      <td>No</td>\n",
       "      <td>3.8/5</td>\n",
       "      <td>166</td>\n",
       "      <td>+91 8026612447\\r\\n+91 9901210005</td>\n",
       "      <td>Basavanagudi</td>\n",
       "      <td>Casual Dining</td>\n",
       "      <td>Panipuri, Gol Gappe</td>\n",
       "      <td>North Indian, Rajasthani</td>\n",
       "      <td>600</td>\n",
       "      <td>[('Rated 4.0', 'RATED\\n  Very good restaurant ...</td>\n",
       "      <td>[]</td>\n",
       "      <td>Buffet</td>\n",
       "      <td>Banashankari</td>\n",
       "    </tr>\n",
       "  </tbody>\n",
       "</table>\n",
       "</div>\n",
       "      <button class=\"colab-df-convert\" onclick=\"convertToInteractive('df-3bed9afe-3551-42c7-a500-8cf4da604fab')\"\n",
       "              title=\"Convert this dataframe to an interactive table.\"\n",
       "              style=\"display:none;\">\n",
       "        \n",
       "  <svg xmlns=\"http://www.w3.org/2000/svg\" height=\"24px\"viewBox=\"0 0 24 24\"\n",
       "       width=\"24px\">\n",
       "    <path d=\"M0 0h24v24H0V0z\" fill=\"none\"/>\n",
       "    <path d=\"M18.56 5.44l.94 2.06.94-2.06 2.06-.94-2.06-.94-.94-2.06-.94 2.06-2.06.94zm-11 1L8.5 8.5l.94-2.06 2.06-.94-2.06-.94L8.5 2.5l-.94 2.06-2.06.94zm10 10l.94 2.06.94-2.06 2.06-.94-2.06-.94-.94-2.06-.94 2.06-2.06.94z\"/><path d=\"M17.41 7.96l-1.37-1.37c-.4-.4-.92-.59-1.43-.59-.52 0-1.04.2-1.43.59L10.3 9.45l-7.72 7.72c-.78.78-.78 2.05 0 2.83L4 21.41c.39.39.9.59 1.41.59.51 0 1.02-.2 1.41-.59l7.78-7.78 2.81-2.81c.8-.78.8-2.07 0-2.86zM5.41 20L4 18.59l7.72-7.72 1.47 1.35L5.41 20z\"/>\n",
       "  </svg>\n",
       "      </button>\n",
       "      \n",
       "  <style>\n",
       "    .colab-df-container {\n",
       "      display:flex;\n",
       "      flex-wrap:wrap;\n",
       "      gap: 12px;\n",
       "    }\n",
       "\n",
       "    .colab-df-convert {\n",
       "      background-color: #E8F0FE;\n",
       "      border: none;\n",
       "      border-radius: 50%;\n",
       "      cursor: pointer;\n",
       "      display: none;\n",
       "      fill: #1967D2;\n",
       "      height: 32px;\n",
       "      padding: 0 0 0 0;\n",
       "      width: 32px;\n",
       "    }\n",
       "\n",
       "    .colab-df-convert:hover {\n",
       "      background-color: #E2EBFA;\n",
       "      box-shadow: 0px 1px 2px rgba(60, 64, 67, 0.3), 0px 1px 3px 1px rgba(60, 64, 67, 0.15);\n",
       "      fill: #174EA6;\n",
       "    }\n",
       "\n",
       "    [theme=dark] .colab-df-convert {\n",
       "      background-color: #3B4455;\n",
       "      fill: #D2E3FC;\n",
       "    }\n",
       "\n",
       "    [theme=dark] .colab-df-convert:hover {\n",
       "      background-color: #434B5C;\n",
       "      box-shadow: 0px 1px 3px 1px rgba(0, 0, 0, 0.15);\n",
       "      filter: drop-shadow(0px 1px 2px rgba(0, 0, 0, 0.3));\n",
       "      fill: #FFFFFF;\n",
       "    }\n",
       "  </style>\n",
       "\n",
       "      <script>\n",
       "        const buttonEl =\n",
       "          document.querySelector('#df-3bed9afe-3551-42c7-a500-8cf4da604fab button.colab-df-convert');\n",
       "        buttonEl.style.display =\n",
       "          google.colab.kernel.accessAllowed ? 'block' : 'none';\n",
       "\n",
       "        async function convertToInteractive(key) {\n",
       "          const element = document.querySelector('#df-3bed9afe-3551-42c7-a500-8cf4da604fab');\n",
       "          const dataTable =\n",
       "            await google.colab.kernel.invokeFunction('convertToInteractive',\n",
       "                                                     [key], {});\n",
       "          if (!dataTable) return;\n",
       "\n",
       "          const docLinkHtml = 'Like what you see? Visit the ' +\n",
       "            '<a target=\"_blank\" href=https://colab.research.google.com/notebooks/data_table.ipynb>data table notebook</a>'\n",
       "            + ' to learn more about interactive tables.';\n",
       "          element.innerHTML = '';\n",
       "          dataTable['output_type'] = 'display_data';\n",
       "          await google.colab.output.renderOutput(dataTable, element);\n",
       "          const docLink = document.createElement('div');\n",
       "          docLink.innerHTML = docLinkHtml;\n",
       "          element.appendChild(docLink);\n",
       "        }\n",
       "      </script>\n",
       "    </div>\n",
       "  </div>\n",
       "  "
      ]
     },
     "metadata": {},
     "execution_count": 44
    }
   ],
   "source": [
    "# Viewing data in the file\n",
    "data = pd.read_csv(\"zomato.csv\")\n",
    "data.shape\n",
    "data.head()"
   ]
  },
  {
   "cell_type": "markdown",
   "source": [
    "#Cleaning Up Data\n"
   ],
   "metadata": {
    "id": "0XGbzJLAEz5g"
   }
  },
  {
   "cell_type": "markdown",
   "source": [
    "###Dropping columns "
   ],
   "metadata": {
    "id": "qfZl5Pmitiln"
   }
  },
  {
   "cell_type": "markdown",
   "metadata": {
    "id": "rMGXZqND0ax-"
   },
   "source": [
    "Dropping the following columns as they do not help us with the prediction. The columns phone, dish_liked, url, menu_item, and reviews_list help identify the restaurant but do not add characteristics to the dataset so we can drop them."
   ]
  },
  {
   "cell_type": "code",
   "execution_count": 45,
   "metadata": {
    "id": "nHi5hjHf3NQI",
    "colab": {
     "base_uri": "https://localhost:8080/",
     "height": 291
    },
    "outputId": "06e8c29b-c28a-4ce2-c282-28c0280e3087"
   },
   "outputs": [
    {
     "output_type": "execute_result",
     "data": {
      "text/plain": [
       "              name online_order book_table   rate  votes      location  \\\n",
       "0            Jalsa          Yes        Yes  4.1/5    775  Banashankari   \n",
       "1   Spice Elephant          Yes         No  4.1/5    787  Banashankari   \n",
       "2  San Churro Cafe          Yes         No  3.8/5    918  Banashankari   \n",
       "\n",
       "             rest_type                        cuisines  \\\n",
       "0        Casual Dining  North Indian, Mughlai, Chinese   \n",
       "1        Casual Dining     Chinese, North Indian, Thai   \n",
       "2  Cafe, Casual Dining          Cafe, Mexican, Italian   \n",
       "\n",
       "  approx_cost(for two people) listed_in(type)  \n",
       "0                         800          Buffet  \n",
       "1                         800          Buffet  \n",
       "2                         800          Buffet  "
      ],
      "text/html": [
       "\n",
       "  <div id=\"df-15da0051-9a7f-4326-a8ea-8504d5f306a7\">\n",
       "    <div class=\"colab-df-container\">\n",
       "      <div>\n",
       "<style scoped>\n",
       "    .dataframe tbody tr th:only-of-type {\n",
       "        vertical-align: middle;\n",
       "    }\n",
       "\n",
       "    .dataframe tbody tr th {\n",
       "        vertical-align: top;\n",
       "    }\n",
       "\n",
       "    .dataframe thead th {\n",
       "        text-align: right;\n",
       "    }\n",
       "</style>\n",
       "<table border=\"1\" class=\"dataframe\">\n",
       "  <thead>\n",
       "    <tr style=\"text-align: right;\">\n",
       "      <th></th>\n",
       "      <th>name</th>\n",
       "      <th>online_order</th>\n",
       "      <th>book_table</th>\n",
       "      <th>rate</th>\n",
       "      <th>votes</th>\n",
       "      <th>location</th>\n",
       "      <th>rest_type</th>\n",
       "      <th>cuisines</th>\n",
       "      <th>approx_cost(for two people)</th>\n",
       "      <th>listed_in(type)</th>\n",
       "    </tr>\n",
       "  </thead>\n",
       "  <tbody>\n",
       "    <tr>\n",
       "      <th>0</th>\n",
       "      <td>Jalsa</td>\n",
       "      <td>Yes</td>\n",
       "      <td>Yes</td>\n",
       "      <td>4.1/5</td>\n",
       "      <td>775</td>\n",
       "      <td>Banashankari</td>\n",
       "      <td>Casual Dining</td>\n",
       "      <td>North Indian, Mughlai, Chinese</td>\n",
       "      <td>800</td>\n",
       "      <td>Buffet</td>\n",
       "    </tr>\n",
       "    <tr>\n",
       "      <th>1</th>\n",
       "      <td>Spice Elephant</td>\n",
       "      <td>Yes</td>\n",
       "      <td>No</td>\n",
       "      <td>4.1/5</td>\n",
       "      <td>787</td>\n",
       "      <td>Banashankari</td>\n",
       "      <td>Casual Dining</td>\n",
       "      <td>Chinese, North Indian, Thai</td>\n",
       "      <td>800</td>\n",
       "      <td>Buffet</td>\n",
       "    </tr>\n",
       "    <tr>\n",
       "      <th>2</th>\n",
       "      <td>San Churro Cafe</td>\n",
       "      <td>Yes</td>\n",
       "      <td>No</td>\n",
       "      <td>3.8/5</td>\n",
       "      <td>918</td>\n",
       "      <td>Banashankari</td>\n",
       "      <td>Cafe, Casual Dining</td>\n",
       "      <td>Cafe, Mexican, Italian</td>\n",
       "      <td>800</td>\n",
       "      <td>Buffet</td>\n",
       "    </tr>\n",
       "  </tbody>\n",
       "</table>\n",
       "</div>\n",
       "      <button class=\"colab-df-convert\" onclick=\"convertToInteractive('df-15da0051-9a7f-4326-a8ea-8504d5f306a7')\"\n",
       "              title=\"Convert this dataframe to an interactive table.\"\n",
       "              style=\"display:none;\">\n",
       "        \n",
       "  <svg xmlns=\"http://www.w3.org/2000/svg\" height=\"24px\"viewBox=\"0 0 24 24\"\n",
       "       width=\"24px\">\n",
       "    <path d=\"M0 0h24v24H0V0z\" fill=\"none\"/>\n",
       "    <path d=\"M18.56 5.44l.94 2.06.94-2.06 2.06-.94-2.06-.94-.94-2.06-.94 2.06-2.06.94zm-11 1L8.5 8.5l.94-2.06 2.06-.94-2.06-.94L8.5 2.5l-.94 2.06-2.06.94zm10 10l.94 2.06.94-2.06 2.06-.94-2.06-.94-.94-2.06-.94 2.06-2.06.94z\"/><path d=\"M17.41 7.96l-1.37-1.37c-.4-.4-.92-.59-1.43-.59-.52 0-1.04.2-1.43.59L10.3 9.45l-7.72 7.72c-.78.78-.78 2.05 0 2.83L4 21.41c.39.39.9.59 1.41.59.51 0 1.02-.2 1.41-.59l7.78-7.78 2.81-2.81c.8-.78.8-2.07 0-2.86zM5.41 20L4 18.59l7.72-7.72 1.47 1.35L5.41 20z\"/>\n",
       "  </svg>\n",
       "      </button>\n",
       "      \n",
       "  <style>\n",
       "    .colab-df-container {\n",
       "      display:flex;\n",
       "      flex-wrap:wrap;\n",
       "      gap: 12px;\n",
       "    }\n",
       "\n",
       "    .colab-df-convert {\n",
       "      background-color: #E8F0FE;\n",
       "      border: none;\n",
       "      border-radius: 50%;\n",
       "      cursor: pointer;\n",
       "      display: none;\n",
       "      fill: #1967D2;\n",
       "      height: 32px;\n",
       "      padding: 0 0 0 0;\n",
       "      width: 32px;\n",
       "    }\n",
       "\n",
       "    .colab-df-convert:hover {\n",
       "      background-color: #E2EBFA;\n",
       "      box-shadow: 0px 1px 2px rgba(60, 64, 67, 0.3), 0px 1px 3px 1px rgba(60, 64, 67, 0.15);\n",
       "      fill: #174EA6;\n",
       "    }\n",
       "\n",
       "    [theme=dark] .colab-df-convert {\n",
       "      background-color: #3B4455;\n",
       "      fill: #D2E3FC;\n",
       "    }\n",
       "\n",
       "    [theme=dark] .colab-df-convert:hover {\n",
       "      background-color: #434B5C;\n",
       "      box-shadow: 0px 1px 3px 1px rgba(0, 0, 0, 0.15);\n",
       "      filter: drop-shadow(0px 1px 2px rgba(0, 0, 0, 0.3));\n",
       "      fill: #FFFFFF;\n",
       "    }\n",
       "  </style>\n",
       "\n",
       "      <script>\n",
       "        const buttonEl =\n",
       "          document.querySelector('#df-15da0051-9a7f-4326-a8ea-8504d5f306a7 button.colab-df-convert');\n",
       "        buttonEl.style.display =\n",
       "          google.colab.kernel.accessAllowed ? 'block' : 'none';\n",
       "\n",
       "        async function convertToInteractive(key) {\n",
       "          const element = document.querySelector('#df-15da0051-9a7f-4326-a8ea-8504d5f306a7');\n",
       "          const dataTable =\n",
       "            await google.colab.kernel.invokeFunction('convertToInteractive',\n",
       "                                                     [key], {});\n",
       "          if (!dataTable) return;\n",
       "\n",
       "          const docLinkHtml = 'Like what you see? Visit the ' +\n",
       "            '<a target=\"_blank\" href=https://colab.research.google.com/notebooks/data_table.ipynb>data table notebook</a>'\n",
       "            + ' to learn more about interactive tables.';\n",
       "          element.innerHTML = '';\n",
       "          dataTable['output_type'] = 'display_data';\n",
       "          await google.colab.output.renderOutput(dataTable, element);\n",
       "          const docLink = document.createElement('div');\n",
       "          docLink.innerHTML = docLinkHtml;\n",
       "          element.appendChild(docLink);\n",
       "        }\n",
       "      </script>\n",
       "    </div>\n",
       "  </div>\n",
       "  "
      ]
     },
     "metadata": {},
     "execution_count": 45
    }
   ],
   "source": [
    "data.drop(\n",
    "    [\n",
    "        \"url\",\n",
    "        \"address\",\n",
    "        \"phone\",\n",
    "        \"menu_item\",\n",
    "        \"dish_liked\",\n",
    "        \"reviews_list\",\n",
    "        \"listed_in(city)\",\n",
    "    ],\n",
    "    axis=1,\n",
    "    inplace=True,\n",
    ")\n",
    "data.head(3)"
   ]
  },
  {
   "cell_type": "markdown",
   "metadata": {
    "id": "qSzkbYRSldZl"
   },
   "source": [
    "#### Renaming Column Headers\n",
    "To better understand the data, let's first rename our column headers with appropriate units and descripter language. "
   ]
  },
  {
   "cell_type": "code",
   "source": [
    "data.rename(\n",
    "    columns={\n",
    "        \"name\": \"Restaurant\",\n",
    "        \"online_order\": \"Online Ordering?\",\n",
    "        \"book_table\": \"Reservation Needed?\",\n",
    "        \"votes\": \"Number of Votes\",\n",
    "        \"location\": \"City\",\n",
    "        \"rest_type\": \"Restaurant Type\",\n",
    "        \"cuisines\": \"Cuisines\",\n",
    "        \"rate\": \"Rating\",\n",
    "        \"approx_cost(for two people)\": \"Cost(Rupees)\",\n",
    "        \"listed_in(type)\": \"Meal Type\",\n",
    "    },\n",
    "    inplace=True,\n",
    ")\n",
    "data.head(3)"
   ],
   "metadata": {
    "id": "4sn7kItT7W9-",
    "colab": {
     "base_uri": "https://localhost:8080/",
     "height": 257
    },
    "outputId": "3353285f-609e-4d52-e7cd-a7212b25a24e"
   },
   "execution_count": 46,
   "outputs": [
    {
     "output_type": "execute_result",
     "data": {
      "text/plain": [
       "        Restaurant Online Ordering? Reservation Needed? Rating  \\\n",
       "0            Jalsa              Yes                 Yes  4.1/5   \n",
       "1   Spice Elephant              Yes                  No  4.1/5   \n",
       "2  San Churro Cafe              Yes                  No  3.8/5   \n",
       "\n",
       "   Number of Votes          City      Restaurant Type  \\\n",
       "0              775  Banashankari        Casual Dining   \n",
       "1              787  Banashankari        Casual Dining   \n",
       "2              918  Banashankari  Cafe, Casual Dining   \n",
       "\n",
       "                         Cuisines Cost(Rupees) Meal Type  \n",
       "0  North Indian, Mughlai, Chinese          800    Buffet  \n",
       "1     Chinese, North Indian, Thai          800    Buffet  \n",
       "2          Cafe, Mexican, Italian          800    Buffet  "
      ],
      "text/html": [
       "\n",
       "  <div id=\"df-ff38fae6-7cf0-4b46-a4bc-81c05bdf31fe\">\n",
       "    <div class=\"colab-df-container\">\n",
       "      <div>\n",
       "<style scoped>\n",
       "    .dataframe tbody tr th:only-of-type {\n",
       "        vertical-align: middle;\n",
       "    }\n",
       "\n",
       "    .dataframe tbody tr th {\n",
       "        vertical-align: top;\n",
       "    }\n",
       "\n",
       "    .dataframe thead th {\n",
       "        text-align: right;\n",
       "    }\n",
       "</style>\n",
       "<table border=\"1\" class=\"dataframe\">\n",
       "  <thead>\n",
       "    <tr style=\"text-align: right;\">\n",
       "      <th></th>\n",
       "      <th>Restaurant</th>\n",
       "      <th>Online Ordering?</th>\n",
       "      <th>Reservation Needed?</th>\n",
       "      <th>Rating</th>\n",
       "      <th>Number of Votes</th>\n",
       "      <th>City</th>\n",
       "      <th>Restaurant Type</th>\n",
       "      <th>Cuisines</th>\n",
       "      <th>Cost(Rupees)</th>\n",
       "      <th>Meal Type</th>\n",
       "    </tr>\n",
       "  </thead>\n",
       "  <tbody>\n",
       "    <tr>\n",
       "      <th>0</th>\n",
       "      <td>Jalsa</td>\n",
       "      <td>Yes</td>\n",
       "      <td>Yes</td>\n",
       "      <td>4.1/5</td>\n",
       "      <td>775</td>\n",
       "      <td>Banashankari</td>\n",
       "      <td>Casual Dining</td>\n",
       "      <td>North Indian, Mughlai, Chinese</td>\n",
       "      <td>800</td>\n",
       "      <td>Buffet</td>\n",
       "    </tr>\n",
       "    <tr>\n",
       "      <th>1</th>\n",
       "      <td>Spice Elephant</td>\n",
       "      <td>Yes</td>\n",
       "      <td>No</td>\n",
       "      <td>4.1/5</td>\n",
       "      <td>787</td>\n",
       "      <td>Banashankari</td>\n",
       "      <td>Casual Dining</td>\n",
       "      <td>Chinese, North Indian, Thai</td>\n",
       "      <td>800</td>\n",
       "      <td>Buffet</td>\n",
       "    </tr>\n",
       "    <tr>\n",
       "      <th>2</th>\n",
       "      <td>San Churro Cafe</td>\n",
       "      <td>Yes</td>\n",
       "      <td>No</td>\n",
       "      <td>3.8/5</td>\n",
       "      <td>918</td>\n",
       "      <td>Banashankari</td>\n",
       "      <td>Cafe, Casual Dining</td>\n",
       "      <td>Cafe, Mexican, Italian</td>\n",
       "      <td>800</td>\n",
       "      <td>Buffet</td>\n",
       "    </tr>\n",
       "  </tbody>\n",
       "</table>\n",
       "</div>\n",
       "      <button class=\"colab-df-convert\" onclick=\"convertToInteractive('df-ff38fae6-7cf0-4b46-a4bc-81c05bdf31fe')\"\n",
       "              title=\"Convert this dataframe to an interactive table.\"\n",
       "              style=\"display:none;\">\n",
       "        \n",
       "  <svg xmlns=\"http://www.w3.org/2000/svg\" height=\"24px\"viewBox=\"0 0 24 24\"\n",
       "       width=\"24px\">\n",
       "    <path d=\"M0 0h24v24H0V0z\" fill=\"none\"/>\n",
       "    <path d=\"M18.56 5.44l.94 2.06.94-2.06 2.06-.94-2.06-.94-.94-2.06-.94 2.06-2.06.94zm-11 1L8.5 8.5l.94-2.06 2.06-.94-2.06-.94L8.5 2.5l-.94 2.06-2.06.94zm10 10l.94 2.06.94-2.06 2.06-.94-2.06-.94-.94-2.06-.94 2.06-2.06.94z\"/><path d=\"M17.41 7.96l-1.37-1.37c-.4-.4-.92-.59-1.43-.59-.52 0-1.04.2-1.43.59L10.3 9.45l-7.72 7.72c-.78.78-.78 2.05 0 2.83L4 21.41c.39.39.9.59 1.41.59.51 0 1.02-.2 1.41-.59l7.78-7.78 2.81-2.81c.8-.78.8-2.07 0-2.86zM5.41 20L4 18.59l7.72-7.72 1.47 1.35L5.41 20z\"/>\n",
       "  </svg>\n",
       "      </button>\n",
       "      \n",
       "  <style>\n",
       "    .colab-df-container {\n",
       "      display:flex;\n",
       "      flex-wrap:wrap;\n",
       "      gap: 12px;\n",
       "    }\n",
       "\n",
       "    .colab-df-convert {\n",
       "      background-color: #E8F0FE;\n",
       "      border: none;\n",
       "      border-radius: 50%;\n",
       "      cursor: pointer;\n",
       "      display: none;\n",
       "      fill: #1967D2;\n",
       "      height: 32px;\n",
       "      padding: 0 0 0 0;\n",
       "      width: 32px;\n",
       "    }\n",
       "\n",
       "    .colab-df-convert:hover {\n",
       "      background-color: #E2EBFA;\n",
       "      box-shadow: 0px 1px 2px rgba(60, 64, 67, 0.3), 0px 1px 3px 1px rgba(60, 64, 67, 0.15);\n",
       "      fill: #174EA6;\n",
       "    }\n",
       "\n",
       "    [theme=dark] .colab-df-convert {\n",
       "      background-color: #3B4455;\n",
       "      fill: #D2E3FC;\n",
       "    }\n",
       "\n",
       "    [theme=dark] .colab-df-convert:hover {\n",
       "      background-color: #434B5C;\n",
       "      box-shadow: 0px 1px 3px 1px rgba(0, 0, 0, 0.15);\n",
       "      filter: drop-shadow(0px 1px 2px rgba(0, 0, 0, 0.3));\n",
       "      fill: #FFFFFF;\n",
       "    }\n",
       "  </style>\n",
       "\n",
       "      <script>\n",
       "        const buttonEl =\n",
       "          document.querySelector('#df-ff38fae6-7cf0-4b46-a4bc-81c05bdf31fe button.colab-df-convert');\n",
       "        buttonEl.style.display =\n",
       "          google.colab.kernel.accessAllowed ? 'block' : 'none';\n",
       "\n",
       "        async function convertToInteractive(key) {\n",
       "          const element = document.querySelector('#df-ff38fae6-7cf0-4b46-a4bc-81c05bdf31fe');\n",
       "          const dataTable =\n",
       "            await google.colab.kernel.invokeFunction('convertToInteractive',\n",
       "                                                     [key], {});\n",
       "          if (!dataTable) return;\n",
       "\n",
       "          const docLinkHtml = 'Like what you see? Visit the ' +\n",
       "            '<a target=\"_blank\" href=https://colab.research.google.com/notebooks/data_table.ipynb>data table notebook</a>'\n",
       "            + ' to learn more about interactive tables.';\n",
       "          element.innerHTML = '';\n",
       "          dataTable['output_type'] = 'display_data';\n",
       "          await google.colab.output.renderOutput(dataTable, element);\n",
       "          const docLink = document.createElement('div');\n",
       "          docLink.innerHTML = docLinkHtml;\n",
       "          element.appendChild(docLink);\n",
       "        }\n",
       "      </script>\n",
       "    </div>\n",
       "  </div>\n",
       "  "
      ]
     },
     "metadata": {},
     "execution_count": 46
    }
   ]
  },
  {
   "cell_type": "markdown",
   "source": [
    "###Missing Data"
   ],
   "metadata": {
    "id": "3V0M9NEro091"
   }
  },
  {
   "cell_type": "markdown",
   "source": [
    "Imputing Missing Data:\n",
    "We have three methods for imputing missing data. Using the median, dropping, and using machine learning. "
   ],
   "metadata": {
    "id": "fmCdzlwYIjl_"
   }
  },
  {
   "cell_type": "code",
   "execution_count": 47,
   "metadata": {
    "id": "APy6NnEfNDQt",
    "colab": {
     "base_uri": "https://localhost:8080/",
     "height": 206
    },
    "outputId": "7601321d-9388-49f2-cc47-a81b3ff949d1"
   },
   "outputs": [
    {
     "output_type": "execute_result",
     "data": {
      "text/plain": [
       "    Missing_Column  Missing_Values  %_Missing\n",
       "0           Rating            7775  15.033741\n",
       "1             City              21   0.040606\n",
       "2  Restaurant Type             227   0.438927\n",
       "3         Cuisines              45   0.087012\n",
       "4     Cost(Rupees)             346   0.669026"
      ],
      "text/html": [
       "\n",
       "  <div id=\"df-f9a1df4f-13e4-4d0d-b062-b807fbd793a6\">\n",
       "    <div class=\"colab-df-container\">\n",
       "      <div>\n",
       "<style scoped>\n",
       "    .dataframe tbody tr th:only-of-type {\n",
       "        vertical-align: middle;\n",
       "    }\n",
       "\n",
       "    .dataframe tbody tr th {\n",
       "        vertical-align: top;\n",
       "    }\n",
       "\n",
       "    .dataframe thead th {\n",
       "        text-align: right;\n",
       "    }\n",
       "</style>\n",
       "<table border=\"1\" class=\"dataframe\">\n",
       "  <thead>\n",
       "    <tr style=\"text-align: right;\">\n",
       "      <th></th>\n",
       "      <th>Missing_Column</th>\n",
       "      <th>Missing_Values</th>\n",
       "      <th>%_Missing</th>\n",
       "    </tr>\n",
       "  </thead>\n",
       "  <tbody>\n",
       "    <tr>\n",
       "      <th>0</th>\n",
       "      <td>Rating</td>\n",
       "      <td>7775</td>\n",
       "      <td>15.033741</td>\n",
       "    </tr>\n",
       "    <tr>\n",
       "      <th>1</th>\n",
       "      <td>City</td>\n",
       "      <td>21</td>\n",
       "      <td>0.040606</td>\n",
       "    </tr>\n",
       "    <tr>\n",
       "      <th>2</th>\n",
       "      <td>Restaurant Type</td>\n",
       "      <td>227</td>\n",
       "      <td>0.438927</td>\n",
       "    </tr>\n",
       "    <tr>\n",
       "      <th>3</th>\n",
       "      <td>Cuisines</td>\n",
       "      <td>45</td>\n",
       "      <td>0.087012</td>\n",
       "    </tr>\n",
       "    <tr>\n",
       "      <th>4</th>\n",
       "      <td>Cost(Rupees)</td>\n",
       "      <td>346</td>\n",
       "      <td>0.669026</td>\n",
       "    </tr>\n",
       "  </tbody>\n",
       "</table>\n",
       "</div>\n",
       "      <button class=\"colab-df-convert\" onclick=\"convertToInteractive('df-f9a1df4f-13e4-4d0d-b062-b807fbd793a6')\"\n",
       "              title=\"Convert this dataframe to an interactive table.\"\n",
       "              style=\"display:none;\">\n",
       "        \n",
       "  <svg xmlns=\"http://www.w3.org/2000/svg\" height=\"24px\"viewBox=\"0 0 24 24\"\n",
       "       width=\"24px\">\n",
       "    <path d=\"M0 0h24v24H0V0z\" fill=\"none\"/>\n",
       "    <path d=\"M18.56 5.44l.94 2.06.94-2.06 2.06-.94-2.06-.94-.94-2.06-.94 2.06-2.06.94zm-11 1L8.5 8.5l.94-2.06 2.06-.94-2.06-.94L8.5 2.5l-.94 2.06-2.06.94zm10 10l.94 2.06.94-2.06 2.06-.94-2.06-.94-.94-2.06-.94 2.06-2.06.94z\"/><path d=\"M17.41 7.96l-1.37-1.37c-.4-.4-.92-.59-1.43-.59-.52 0-1.04.2-1.43.59L10.3 9.45l-7.72 7.72c-.78.78-.78 2.05 0 2.83L4 21.41c.39.39.9.59 1.41.59.51 0 1.02-.2 1.41-.59l7.78-7.78 2.81-2.81c.8-.78.8-2.07 0-2.86zM5.41 20L4 18.59l7.72-7.72 1.47 1.35L5.41 20z\"/>\n",
       "  </svg>\n",
       "      </button>\n",
       "      \n",
       "  <style>\n",
       "    .colab-df-container {\n",
       "      display:flex;\n",
       "      flex-wrap:wrap;\n",
       "      gap: 12px;\n",
       "    }\n",
       "\n",
       "    .colab-df-convert {\n",
       "      background-color: #E8F0FE;\n",
       "      border: none;\n",
       "      border-radius: 50%;\n",
       "      cursor: pointer;\n",
       "      display: none;\n",
       "      fill: #1967D2;\n",
       "      height: 32px;\n",
       "      padding: 0 0 0 0;\n",
       "      width: 32px;\n",
       "    }\n",
       "\n",
       "    .colab-df-convert:hover {\n",
       "      background-color: #E2EBFA;\n",
       "      box-shadow: 0px 1px 2px rgba(60, 64, 67, 0.3), 0px 1px 3px 1px rgba(60, 64, 67, 0.15);\n",
       "      fill: #174EA6;\n",
       "    }\n",
       "\n",
       "    [theme=dark] .colab-df-convert {\n",
       "      background-color: #3B4455;\n",
       "      fill: #D2E3FC;\n",
       "    }\n",
       "\n",
       "    [theme=dark] .colab-df-convert:hover {\n",
       "      background-color: #434B5C;\n",
       "      box-shadow: 0px 1px 3px 1px rgba(0, 0, 0, 0.15);\n",
       "      filter: drop-shadow(0px 1px 2px rgba(0, 0, 0, 0.3));\n",
       "      fill: #FFFFFF;\n",
       "    }\n",
       "  </style>\n",
       "\n",
       "      <script>\n",
       "        const buttonEl =\n",
       "          document.querySelector('#df-f9a1df4f-13e4-4d0d-b062-b807fbd793a6 button.colab-df-convert');\n",
       "        buttonEl.style.display =\n",
       "          google.colab.kernel.accessAllowed ? 'block' : 'none';\n",
       "\n",
       "        async function convertToInteractive(key) {\n",
       "          const element = document.querySelector('#df-f9a1df4f-13e4-4d0d-b062-b807fbd793a6');\n",
       "          const dataTable =\n",
       "            await google.colab.kernel.invokeFunction('convertToInteractive',\n",
       "                                                     [key], {});\n",
       "          if (!dataTable) return;\n",
       "\n",
       "          const docLinkHtml = 'Like what you see? Visit the ' +\n",
       "            '<a target=\"_blank\" href=https://colab.research.google.com/notebooks/data_table.ipynb>data table notebook</a>'\n",
       "            + ' to learn more about interactive tables.';\n",
       "          element.innerHTML = '';\n",
       "          dataTable['output_type'] = 'display_data';\n",
       "          await google.colab.output.renderOutput(dataTable, element);\n",
       "          const docLink = document.createElement('div');\n",
       "          docLink.innerHTML = docLinkHtml;\n",
       "          element.appendChild(docLink);\n",
       "        }\n",
       "      </script>\n",
       "    </div>\n",
       "  </div>\n",
       "  "
      ]
     },
     "metadata": {},
     "execution_count": 47
    }
   ],
   "source": [
    "missing_list = data.columns[data.isna().any()].tolist()\n",
    "missing_count = []\n",
    "for i in missing_list:\n",
    "    missing_count.append(sum(pd.isnull(data[str(i)])))\n",
    "\n",
    "d = {\"Missing_Column\": missing_list, \"Missing_Values\": missing_count}\n",
    "Missing_DF = pd.DataFrame(d)\n",
    "Missing_DF[\"%_Missing\"] = (Missing_DF[\"Missing_Values\"] / data.shape[0]) * 100\n",
    "Missing_DF"
   ]
  },
  {
   "cell_type": "markdown",
   "source": [
    "We see that most of our missing data is Rating. The median method in this case would not make sense for null values because rating for a restaurant should not be effected by the rest of the data. For example, a new restaurant that did not get the chance pass the inspection exam with rating \"NEW\" should not be replaced by a 3 star rating when there is an equal chance the restaurant could be of lower or higher quality. We could potentially explore Machine Learning but for the purposes of the training data we can justify using the dropping method for columns that are missing 5% or less of data since it is a very small percentage of missing data.\n",
    "Note: I chose to drop NaN but other notebooks chose to use the mean to replace empty values."
   ],
   "metadata": {
    "id": "RaWqYm8fR_s3"
   }
  },
  {
   "cell_type": "code",
   "source": [
    "data = data.dropna()\n",
    "data = data.drop_duplicates()\n",
    "data.info()"
   ],
   "metadata": {
    "id": "XMru5JBIMye3",
    "colab": {
     "base_uri": "https://localhost:8080/"
    },
    "outputId": "ee9f5e2b-1b99-4064-8c06-6c1e857c7491"
   },
   "execution_count": 48,
   "outputs": [
    {
     "output_type": "stream",
     "name": "stdout",
     "text": [
      "<class 'pandas.core.frame.DataFrame'>\n",
      "Int64Index: 30958 entries, 0 to 51716\n",
      "Data columns (total 10 columns):\n",
      " #   Column               Non-Null Count  Dtype \n",
      "---  ------               --------------  ----- \n",
      " 0   Restaurant           30958 non-null  object\n",
      " 1   Online Ordering?     30958 non-null  object\n",
      " 2   Reservation Needed?  30958 non-null  object\n",
      " 3   Rating               30958 non-null  object\n",
      " 4   Number of Votes      30958 non-null  int64 \n",
      " 5   City                 30958 non-null  object\n",
      " 6   Restaurant Type      30958 non-null  object\n",
      " 7   Cuisines             30958 non-null  object\n",
      " 8   Cost(Rupees)         30958 non-null  object\n",
      " 9   Meal Type            30958 non-null  object\n",
      "dtypes: int64(1), object(9)\n",
      "memory usage: 2.6+ MB\n"
     ]
    }
   ]
  },
  {
   "cell_type": "markdown",
   "source": [
    "We observe that, now there are no missing columns."
   ],
   "metadata": {
    "id": "EjHCR49MAlA2"
   }
  },
  {
   "cell_type": "code",
   "source": [
    "data.isnull().sum()"
   ],
   "metadata": {
    "id": "splcOdH_e0Z7",
    "colab": {
     "base_uri": "https://localhost:8080/"
    },
    "outputId": "9b6e5aa0-f488-42e4-f3e5-f80f20d90b56"
   },
   "execution_count": 49,
   "outputs": [
    {
     "output_type": "execute_result",
     "data": {
      "text/plain": [
       "Restaurant             0\n",
       "Online Ordering?       0\n",
       "Reservation Needed?    0\n",
       "Rating                 0\n",
       "Number of Votes        0\n",
       "City                   0\n",
       "Restaurant Type        0\n",
       "Cuisines               0\n",
       "Cost(Rupees)           0\n",
       "Meal Type              0\n",
       "dtype: int64"
      ]
     },
     "metadata": {},
     "execution_count": 49
    }
   ]
  },
  {
   "cell_type": "markdown",
   "metadata": {
    "id": "bYaWv8P5ljRx"
   },
   "source": [
    "#### Remove Duplicates\n",
    "In case we have any duplicated rows, we remove duplicates. This is ensure there is no bias with repeating restaurants."
   ]
  },
  {
   "cell_type": "code",
   "source": [
    "data.drop_duplicates(inplace=True)\n",
    "data.shape\n",
    "data.info()"
   ],
   "metadata": {
    "id": "_lfpWv9rAIIf",
    "colab": {
     "base_uri": "https://localhost:8080/"
    },
    "outputId": "4ef08daa-b1c0-4191-ac75-77e0866d336e"
   },
   "execution_count": 13,
   "outputs": [
    {
     "output_type": "stream",
     "name": "stdout",
     "text": [
      "<class 'pandas.core.frame.DataFrame'>\n",
      "Int64Index: 30958 entries, 0 to 51716\n",
      "Data columns (total 10 columns):\n",
      " #   Column               Non-Null Count  Dtype \n",
      "---  ------               --------------  ----- \n",
      " 0   Restaurant           30958 non-null  object\n",
      " 1   Online Ordering?     30958 non-null  object\n",
      " 2   Reservation Needed?  30958 non-null  object\n",
      " 3   Rating               30958 non-null  object\n",
      " 4   Number of Votes      30958 non-null  int64 \n",
      " 5   City                 30958 non-null  object\n",
      " 6   Restaurant Type      30958 non-null  object\n",
      " 7   Cuisines             30958 non-null  object\n",
      " 8   Cost(Rupees)         30958 non-null  object\n",
      " 9   Meal Type            30958 non-null  object\n",
      "dtypes: int64(1), object(9)\n",
      "memory usage: 2.6+ MB\n"
     ]
    }
   ]
  },
  {
   "cell_type": "markdown",
   "metadata": {
    "id": "pADiVsTio_AY"
   },
   "source": [
    "### Clean up individual columns\n",
    "Finally, we should check each variable and clean out data that does not make sense. This can either mean standardizing what \"null\" means in that context or removing random characters from changing data formats from object to integer\n",
    "\n"
   ]
  },
  {
   "cell_type": "markdown",
   "source": [
    "##### *Rating*\n",
    "\n",
    "Visualizing the data in \"Rating\" column."
   ],
   "metadata": {
    "id": "HKuP3OH90GP0"
   }
  },
  {
   "cell_type": "code",
   "source": [
    "data[\"Rating\"].unique()"
   ],
   "metadata": {
    "id": "HASjV_tsEyAL",
    "colab": {
     "base_uri": "https://localhost:8080/"
    },
    "outputId": "f97ec284-cc2d-497a-dfd8-3555bcad0a65"
   },
   "execution_count": 14,
   "outputs": [
    {
     "output_type": "execute_result",
     "data": {
      "text/plain": [
       "array(['4.1/5', '3.8/5', '3.7/5', '3.6/5', '4.6/5', '4.0/5', '4.2/5',\n",
       "       '3.9/5', '3.1/5', '3.0/5', '3.2/5', '3.3/5', '2.8/5', '4.4/5',\n",
       "       '4.3/5', 'NEW', '2.9/5', '3.5/5', '2.6/5', '3.8 /5', '3.4/5',\n",
       "       '4.5/5', '2.5/5', '2.7/5', '4.7/5', '2.4/5', '2.2/5', '2.3/5',\n",
       "       '3.4 /5', '-', '3.6 /5', '4.8/5', '3.9 /5', '4.2 /5', '4.0 /5',\n",
       "       '4.1 /5', '3.7 /5', '3.1 /5', '2.9 /5', '3.3 /5', '2.8 /5',\n",
       "       '3.5 /5', '2.7 /5', '2.5 /5', '3.2 /5', '2.6 /5', '4.5 /5',\n",
       "       '4.3 /5', '4.4 /5', '4.9/5', '2.1/5', '2.0/5', '1.8/5', '4.6 /5',\n",
       "       '4.9 /5', '3.0 /5', '4.8 /5', '2.3 /5', '4.7 /5', '2.4 /5',\n",
       "       '2.1 /5', '2.2 /5', '2.0 /5', '1.8 /5'], dtype=object)"
      ]
     },
     "metadata": {},
     "execution_count": 14
    }
   ]
  },
  {
   "cell_type": "markdown",
   "source": [
    "By displaying all unique values from the Rating column, we see that some entries contain \"NEW\", \"nan\", and \"-\" representing no ratings. We can standardize empty values to be nan. We also see that the Rating field contains strings of a floating number out of 5. To prepare for analyzing our data, we will extract the rating, setting the variable to be of type float. "
   ],
   "metadata": {
    "id": "I25llr_8Goam"
   }
  },
  {
   "cell_type": "code",
   "source": [
    "def clean(value):\n",
    "    if value == \"NEW\" or value == \"-\":\n",
    "        return np.nan\n",
    "    else:\n",
    "        value = str(value).split(\"/\")\n",
    "        value = value[0]\n",
    "        return float(value)\n",
    "\n",
    "\n",
    "data[\"Rating\"] = data[\"Rating\"].apply(clean)\n",
    "data[\"Rating\"].head()\n",
    "data.info()"
   ],
   "metadata": {
    "id": "Sc2bnIHKE9pk",
    "colab": {
     "base_uri": "https://localhost:8080/"
    },
    "outputId": "3f622a35-5d56-4a20-bf1f-af355e613948"
   },
   "execution_count": 15,
   "outputs": [
    {
     "output_type": "stream",
     "name": "stdout",
     "text": [
      "<class 'pandas.core.frame.DataFrame'>\n",
      "Int64Index: 30958 entries, 0 to 51716\n",
      "Data columns (total 10 columns):\n",
      " #   Column               Non-Null Count  Dtype  \n",
      "---  ------               --------------  -----  \n",
      " 0   Restaurant           30958 non-null  object \n",
      " 1   Online Ordering?     30958 non-null  object \n",
      " 2   Reservation Needed?  30958 non-null  object \n",
      " 3   Rating               29638 non-null  float64\n",
      " 4   Number of Votes      30958 non-null  int64  \n",
      " 5   City                 30958 non-null  object \n",
      " 6   Restaurant Type      30958 non-null  object \n",
      " 7   Cuisines             30958 non-null  object \n",
      " 8   Cost(Rupees)         30958 non-null  object \n",
      " 9   Meal Type            30958 non-null  object \n",
      "dtypes: float64(1), int64(1), object(8)\n",
      "memory usage: 2.6+ MB\n"
     ]
    }
   ]
  },
  {
   "cell_type": "markdown",
   "source": [
    "Below, we can observe that the \"Rating\" column has been cleaned and has correct values."
   ],
   "metadata": {
    "id": "nnJuiQgnBKIS"
   }
  },
  {
   "cell_type": "code",
   "source": [
    "data[\"Rating\"].unique()"
   ],
   "metadata": {
    "id": "Fq6szoen5Leb",
    "colab": {
     "base_uri": "https://localhost:8080/"
    },
    "outputId": "e282b832-6b4b-45dd-bd37-3ed2b34c6ab6"
   },
   "execution_count": 16,
   "outputs": [
    {
     "output_type": "execute_result",
     "data": {
      "text/plain": [
       "array([4.1, 3.8, 3.7, 3.6, 4.6, 4. , 4.2, 3.9, 3.1, 3. , 3.2, 3.3, 2.8,\n",
       "       4.4, 4.3, nan, 2.9, 3.5, 2.6, 3.4, 4.5, 2.5, 2.7, 4.7, 2.4, 2.2,\n",
       "       2.3, 4.8, 4.9, 2.1, 2. , 1.8])"
      ]
     },
     "metadata": {},
     "execution_count": 16
    }
   ]
  },
  {
   "cell_type": "markdown",
   "source": [
    "##### *Location*\n",
    "\n",
    "Visualizing the \"City\" column data."
   ],
   "metadata": {
    "id": "_jssiMlsEeWT"
   }
  },
  {
   "cell_type": "code",
   "source": [
    "data[\"City\"].unique()"
   ],
   "metadata": {
    "id": "2kB4E9g6OiK9",
    "colab": {
     "base_uri": "https://localhost:8080/"
    },
    "outputId": "b33a1c07-7bb7-414a-b8e4-693df503ceef"
   },
   "execution_count": 17,
   "outputs": [
    {
     "output_type": "execute_result",
     "data": {
      "text/plain": [
       "array(['Banashankari', 'Basavanagudi', 'Mysore Road', 'Jayanagar',\n",
       "       'Kumaraswamy Layout', 'Rajarajeshwari Nagar', 'Vijay Nagar',\n",
       "       'Uttarahalli', 'JP Nagar', 'South Bangalore', 'City Market',\n",
       "       'Bannerghatta Road', 'BTM', 'Kanakapura Road', 'Bommanahalli',\n",
       "       'CV Raman Nagar', 'Electronic City', 'Wilson Garden',\n",
       "       'Shanti Nagar', 'Koramangala 5th Block', 'Richmond Road', 'HSR',\n",
       "       'Marathahalli', 'Koramangala 7th Block', 'Bellandur',\n",
       "       'Sarjapur Road', 'Whitefield', 'East Bangalore',\n",
       "       'Old Airport Road', 'Indiranagar', 'Koramangala 1st Block',\n",
       "       'Frazer Town', 'MG Road', 'Brigade Road', 'Lavelle Road',\n",
       "       'Church Street', 'Ulsoor', 'Residency Road', 'Shivajinagar',\n",
       "       'Infantry Road', 'St. Marks Road', 'Cunningham Road',\n",
       "       'Race Course Road', 'Commercial Street', 'Vasanth Nagar', 'Domlur',\n",
       "       'Koramangala 8th Block', 'Ejipura', 'Jeevan Bhima Nagar',\n",
       "       'Old Madras Road', 'Seshadripuram', 'Kammanahalli',\n",
       "       'Koramangala 6th Block', 'Majestic', 'Langford Town',\n",
       "       'Central Bangalore', 'Sanjay Nagar', 'Brookefield',\n",
       "       'ITPL Main Road, Whitefield', 'Varthur Main Road, Whitefield',\n",
       "       'Koramangala 2nd Block', 'Koramangala 3rd Block',\n",
       "       'Koramangala 4th Block', 'Koramangala', 'Hosur Road',\n",
       "       'Rajajinagar', 'RT Nagar', 'Banaswadi', 'North Bangalore',\n",
       "       'Nagawara', 'Hennur', 'Kalyan Nagar', 'HBR Layout',\n",
       "       'Rammurthy Nagar', 'Thippasandra', 'Kaggadasapura', 'Hebbal',\n",
       "       'Kengeri', 'New BEL Road', 'Sankey Road', 'Malleshwaram',\n",
       "       'Sadashiv Nagar', 'Basaveshwara Nagar', 'Yeshwantpur',\n",
       "       'West Bangalore', 'Magadi Road', 'Yelahanka', 'Sahakara Nagar',\n",
       "       'Jalahalli', 'Nagarbhavi', 'Peenya', 'KR Puram'], dtype=object)"
      ]
     },
     "metadata": {},
     "execution_count": 17
    }
   ]
  },
  {
   "cell_type": "markdown",
   "source": [
    "Looking at the breakdown of cities we see no typos or errors and can proceed."
   ],
   "metadata": {
    "id": "H1b7uKb6RGz2"
   }
  },
  {
   "cell_type": "code",
   "source": [
    "data[\"City\"].value_counts(ascending=False)"
   ],
   "metadata": {
    "id": "Z8XTRsjdRCAx",
    "colab": {
     "base_uri": "https://localhost:8080/"
    },
    "outputId": "262d0db6-187d-49c3-caee-9e4c8efa7805"
   },
   "execution_count": 18,
   "outputs": [
    {
     "output_type": "execute_result",
     "data": {
      "text/plain": [
       "BTM                      2228\n",
       "Indiranagar              1653\n",
       "Whitefield               1630\n",
       "Koramangala 5th Block    1577\n",
       "HSR                      1558\n",
       "                         ... \n",
       "Central Bangalore           5\n",
       "Yelahanka                   4\n",
       "Rajarajeshwari Nagar        2\n",
       "Nagarbhavi                  1\n",
       "Peenya                      1\n",
       "Name: City, Length: 92, dtype: int64"
      ]
     },
     "metadata": {},
     "execution_count": 18
    }
   ]
  },
  {
   "cell_type": "markdown",
   "source": [
    "##### *Cost*\n",
    "\n",
    "Visualizing the \"Cost\" column data."
   ],
   "metadata": {
    "id": "oBR3IyPDOWvP"
   }
  },
  {
   "cell_type": "code",
   "source": [
    "data[\"Cost(Rupees)\"].unique()"
   ],
   "metadata": {
    "id": "6_itvL5URywa",
    "colab": {
     "base_uri": "https://localhost:8080/"
    },
    "outputId": "fee1e120-cc0b-4899-e486-13eec0da64ec"
   },
   "execution_count": 19,
   "outputs": [
    {
     "output_type": "execute_result",
     "data": {
      "text/plain": [
       "array(['800', '300', '600', '700', '550', '500', '450', '650', '400',\n",
       "       '900', '200', '750', '150', '850', '100', '1,200', '350', '250',\n",
       "       '950', '1,000', '1,500', '1,300', '199', '80', '1,100', '160',\n",
       "       '1,600', '230', '130', '1,700', '1,400', '1,350', '2,200', '2,000',\n",
       "       '1,800', '1,900', '180', '330', '2,500', '2,100', '3,000', '2,800',\n",
       "       '3,400', '50', '40', '1,250', '3,500', '4,000', '2,400', '2,600',\n",
       "       '1,450', '70', '3,200', '560', '240', '360', '6,000', '1,050',\n",
       "       '2,300', '4,100', '120', '5,000', '3,700', '1,650', '2,700',\n",
       "       '4,500'], dtype=object)"
      ]
     },
     "metadata": {},
     "execution_count": 19
    }
   ]
  },
  {
   "cell_type": "markdown",
   "source": [
    "Examining the unique values of Cost, we can see that the cost is stored as text with type object. We can correct the type to integer so that we can later model the variables.\n",
    "\n",
    "\n",
    "\n"
   ],
   "metadata": {
    "id": "9jOAzE64RqHa"
   }
  },
  {
   "cell_type": "code",
   "source": [
    "data = data.dropna()"
   ],
   "metadata": {
    "id": "3b94QXngH4Y7"
   },
   "execution_count": 20,
   "outputs": []
  },
  {
   "cell_type": "code",
   "source": [
    "def money(value):\n",
    "    value = str(value)\n",
    "    if \",\" in value:\n",
    "        value = value.replace(\",\", \"\")\n",
    "        return int(value)\n",
    "    else:\n",
    "        return int(value)\n",
    "\n",
    "\n",
    "data[\"Cost(Rupees)\"] = data[\"Cost(Rupees)\"].apply(money)"
   ],
   "metadata": {
    "id": "wIznkB0YgnYS",
    "colab": {
     "base_uri": "https://localhost:8080/"
    },
    "outputId": "f31d2bfb-905a-40b2-bb6f-1abe06610175"
   },
   "execution_count": 21,
   "outputs": [
    {
     "output_type": "stream",
     "name": "stderr",
     "text": [
      "<ipython-input-21-97c0018b604c>:9: SettingWithCopyWarning: \n",
      "A value is trying to be set on a copy of a slice from a DataFrame.\n",
      "Try using .loc[row_indexer,col_indexer] = value instead\n",
      "\n",
      "See the caveats in the documentation: https://pandas.pydata.org/pandas-docs/stable/user_guide/indexing.html#returning-a-view-versus-a-copy\n",
      "  data['Cost(Rupees)']=data['Cost(Rupees)'].apply(money)\n"
     ]
    }
   ]
  },
  {
   "cell_type": "code",
   "source": [
    "data.info()"
   ],
   "metadata": {
    "id": "-cylgGmVhCBo",
    "colab": {
     "base_uri": "https://localhost:8080/"
    },
    "outputId": "c10cea0a-a7e8-4381-e78a-f8db983a3b0f"
   },
   "execution_count": 22,
   "outputs": [
    {
     "output_type": "stream",
     "name": "stdout",
     "text": [
      "<class 'pandas.core.frame.DataFrame'>\n",
      "Int64Index: 29638 entries, 0 to 51716\n",
      "Data columns (total 10 columns):\n",
      " #   Column               Non-Null Count  Dtype  \n",
      "---  ------               --------------  -----  \n",
      " 0   Restaurant           29638 non-null  object \n",
      " 1   Online Ordering?     29638 non-null  object \n",
      " 2   Reservation Needed?  29638 non-null  object \n",
      " 3   Rating               29638 non-null  float64\n",
      " 4   Number of Votes      29638 non-null  int64  \n",
      " 5   City                 29638 non-null  object \n",
      " 6   Restaurant Type      29638 non-null  object \n",
      " 7   Cuisines             29638 non-null  object \n",
      " 8   Cost(Rupees)         29638 non-null  int64  \n",
      " 9   Meal Type            29638 non-null  object \n",
      "dtypes: float64(1), int64(2), object(7)\n",
      "memory usage: 2.5+ MB\n"
     ]
    }
   ]
  },
  {
   "cell_type": "markdown",
   "source": [
    "##### *Booking*\n",
    "\n",
    "Visualizing the \"Reservation Needed?\" column data."
   ],
   "metadata": {
    "id": "Z815hxtXOYh8"
   }
  },
  {
   "cell_type": "code",
   "source": [
    "data[\"Reservation Needed?\"].unique()"
   ],
   "metadata": {
    "id": "3qTILclMWKqt",
    "colab": {
     "base_uri": "https://localhost:8080/"
    },
    "outputId": "35a3ed8b-8215-4734-a851-81c46190e8e2"
   },
   "execution_count": 23,
   "outputs": [
    {
     "output_type": "execute_result",
     "data": {
      "text/plain": [
       "array(['Yes', 'No'], dtype=object)"
      ]
     },
     "metadata": {},
     "execution_count": 23
    }
   ]
  },
  {
   "cell_type": "markdown",
   "source": [
    "Booking has no typos so we can proceed."
   ],
   "metadata": {
    "id": "hYMZmXtnIPTF"
   }
  },
  {
   "cell_type": "markdown",
   "source": [
    "##### *Online Order*\n",
    "\n",
    "Visualizing the \"Reservation Needed?\" column values."
   ],
   "metadata": {
    "id": "DnLEu_bJOaC3"
   }
  },
  {
   "cell_type": "code",
   "source": [
    "data[\"Online Ordering?\"].unique()"
   ],
   "metadata": {
    "id": "G4wtq9KyWion",
    "colab": {
     "base_uri": "https://localhost:8080/"
    },
    "outputId": "cd39b822-7d18-45ea-f4d5-ca52602cd5c2"
   },
   "execution_count": 24,
   "outputs": [
    {
     "output_type": "execute_result",
     "data": {
      "text/plain": [
       "array(['Yes', 'No'], dtype=object)"
      ]
     },
     "metadata": {},
     "execution_count": 24
    }
   ]
  },
  {
   "cell_type": "markdown",
   "source": [
    "Online Ordering has no typos so we can proceed."
   ],
   "metadata": {
    "id": "-1ly8x7E7AqJ"
   }
  },
  {
   "cell_type": "markdown",
   "source": [
    "##### *Restaurant Type*\n"
   ],
   "metadata": {
    "id": "qpuaFEgXObjy"
   }
  },
  {
   "cell_type": "code",
   "source": [
    "data[\"Restaurant Type\"].unique()"
   ],
   "metadata": {
    "id": "crfaw3JcXEQC",
    "colab": {
     "base_uri": "https://localhost:8080/"
    },
    "outputId": "dc5cea7e-b0ed-40a8-fa57-1db2c0d76072"
   },
   "execution_count": 26,
   "outputs": [
    {
     "output_type": "execute_result",
     "data": {
      "text/plain": [
       "array(['Casual Dining', 'Cafe, Casual Dining', 'Quick Bites',\n",
       "       'Casual Dining, Cafe', 'Cafe', 'Quick Bites, Cafe',\n",
       "       'Cafe, Quick Bites', 'Delivery', 'Mess', 'Dessert Parlor',\n",
       "       'Bakery, Dessert Parlor', 'Pub', 'Bakery', 'Takeaway, Delivery',\n",
       "       'Fine Dining', 'Beverage Shop', 'Sweet Shop', 'Bar',\n",
       "       'Dessert Parlor, Sweet Shop', 'Bakery, Quick Bites',\n",
       "       'Sweet Shop, Quick Bites', 'Kiosk', 'Food Truck',\n",
       "       'Quick Bites, Dessert Parlor', 'Beverage Shop, Quick Bites',\n",
       "       'Beverage Shop, Dessert Parlor', 'Takeaway', 'Pub, Casual Dining',\n",
       "       'Casual Dining, Bar', 'Dessert Parlor, Beverage Shop',\n",
       "       'Quick Bites, Bakery', 'Microbrewery, Casual Dining', 'Lounge',\n",
       "       'Bar, Casual Dining', 'Food Court', 'Cafe, Bakery', 'Dhaba',\n",
       "       'Quick Bites, Sweet Shop', 'Microbrewery',\n",
       "       'Food Court, Quick Bites', 'Quick Bites, Beverage Shop',\n",
       "       'Pub, Bar', 'Casual Dining, Pub', 'Lounge, Bar',\n",
       "       'Dessert Parlor, Quick Bites', 'Food Court, Dessert Parlor',\n",
       "       'Casual Dining, Sweet Shop', 'Food Court, Casual Dining',\n",
       "       'Casual Dining, Microbrewery', 'Lounge, Casual Dining',\n",
       "       'Cafe, Food Court', 'Beverage Shop, Cafe', 'Cafe, Dessert Parlor',\n",
       "       'Dessert Parlor, Cafe', 'Dessert Parlor, Bakery',\n",
       "       'Microbrewery, Pub', 'Bakery, Food Court', 'Club',\n",
       "       'Quick Bites, Food Court', 'Bakery, Cafe', 'Pub, Cafe',\n",
       "       'Casual Dining, Irani Cafee', 'Fine Dining, Lounge',\n",
       "       'Bar, Quick Bites', 'Confectionery', 'Pub, Microbrewery',\n",
       "       'Microbrewery, Lounge', 'Fine Dining, Microbrewery',\n",
       "       'Fine Dining, Bar', 'Dessert Parlor, Kiosk', 'Bhojanalya',\n",
       "       'Casual Dining, Quick Bites', 'Cafe, Bar', 'Casual Dining, Lounge',\n",
       "       'Bakery, Beverage Shop', 'Microbrewery, Bar', 'Cafe, Lounge',\n",
       "       'Bar, Pub', 'Lounge, Cafe', 'Club, Casual Dining',\n",
       "       'Quick Bites, Mess', 'Quick Bites, Meat Shop',\n",
       "       'Quick Bites, Kiosk', 'Lounge, Microbrewery',\n",
       "       'Food Court, Beverage Shop', 'Dessert Parlor, Food Court',\n",
       "       'Bar, Lounge'], dtype=object)"
      ]
     },
     "metadata": {},
     "execution_count": 26
    }
   ]
  },
  {
   "cell_type": "markdown",
   "source": [
    "The Restaurant type has lots of values with multiple values for one restaurant. We can simplify the types to general group for better analysis."
   ],
   "metadata": {
    "id": "l8s4PhhcIbYv"
   }
  },
  {
   "cell_type": "code",
   "source": [
    "data[\"Restaurant Type\"].value_counts(ascending=False)"
   ],
   "metadata": {
    "id": "Jq8EQLNMXM5-",
    "colab": {
     "base_uri": "https://localhost:8080/"
    },
    "outputId": "ed8d8711-39cb-4e85-e596-58ad850bcb04"
   },
   "execution_count": 27,
   "outputs": [
    {
     "output_type": "execute_result",
     "data": {
      "text/plain": [
       "Quick Bites                   9492\n",
       "Casual Dining                 7151\n",
       "Cafe                          2420\n",
       "Dessert Parlor                1309\n",
       "Delivery                      1054\n",
       "                              ... \n",
       "Bakery, Food Court               2\n",
       "Food Court, Beverage Shop        2\n",
       "Bakery, Beverage Shop            1\n",
       "Quick Bites, Kiosk               1\n",
       "Dessert Parlor, Food Court       1\n",
       "Name: Restaurant Type, Length: 87, dtype: int64"
      ]
     },
     "metadata": {},
     "execution_count": 27
    }
   ]
  },
  {
   "cell_type": "markdown",
   "source": [
    "Consolidating multiple categorival values in \"Retaurant Type\" column to a few number of categories."
   ],
   "metadata": {
    "id": "XqX04fyHCTWD"
   }
  },
  {
   "cell_type": "code",
   "source": [
    "def typeSimplify(value):\n",
    "    value = str(value)\n",
    "    if \"Sweet\" in value or \"Dessert\" in value or \"Confectionery\" in value:\n",
    "        return \"Dessert\"\n",
    "    elif \"Quick Bites\" in value:\n",
    "        return \"Quick Bites\"\n",
    "    elif \"Bar\" in value or \"Microbrewery\" in value:\n",
    "        return \"Bar\"\n",
    "    elif \"Bakery\" in value:\n",
    "        return \"Bakery\"\n",
    "    elif \"Casual Dining\" in value:\n",
    "        return \"Casual Dining\"\n",
    "    elif \"Fine Dining\" in value:\n",
    "        return \"Fine Dining\"\n",
    "    elif \"Food Court\" in value:\n",
    "        return \"Street Food\"\n",
    "    elif \"Fast Food\" in value:\n",
    "        return \"Fast Food\"\n",
    "    elif \"Cafe\" in value:\n",
    "        return \"Cafe\"\n",
    "    elif \"North Indian\" in value:\n",
    "        return \"North Indian\"\n",
    "    elif \"South Indian\" in value:\n",
    "        return \"South Indian\"\n",
    "    else:\n",
    "        return value\n",
    "\n",
    "\n",
    "data[\"Restaurant Type\"] = data[\"Restaurant Type\"].apply(typeSimplify)\n",
    "data[\"Restaurant Type\"].head(10)"
   ],
   "metadata": {
    "id": "VVX-aAh1kImD",
    "colab": {
     "base_uri": "https://localhost:8080/"
    },
    "outputId": "78dc1de1-acd9-4cd0-a189-22284a877c4d"
   },
   "execution_count": 28,
   "outputs": [
    {
     "output_type": "execute_result",
     "data": {
      "text/plain": [
       "0    Casual Dining\n",
       "1    Casual Dining\n",
       "2    Casual Dining\n",
       "3      Quick Bites\n",
       "4    Casual Dining\n",
       "5    Casual Dining\n",
       "6    Casual Dining\n",
       "7    Casual Dining\n",
       "8             Cafe\n",
       "9             Cafe\n",
       "Name: Restaurant Type, dtype: object"
      ]
     },
     "metadata": {},
     "execution_count": 28
    }
   ]
  },
  {
   "cell_type": "code",
   "source": [
    "data[\"Restaurant Type\"].unique()"
   ],
   "metadata": {
    "id": "x_SUvgnwpumY",
    "colab": {
     "base_uri": "https://localhost:8080/"
    },
    "outputId": "48b2634a-d434-4798-9cf7-f6f663b6c9ad"
   },
   "execution_count": 29,
   "outputs": [
    {
     "output_type": "execute_result",
     "data": {
      "text/plain": [
       "array(['Casual Dining', 'Quick Bites', 'Cafe', 'Delivery', 'Mess',\n",
       "       'Dessert', 'Pub', 'Bakery', 'Takeaway, Delivery', 'Fine Dining',\n",
       "       'Beverage Shop', 'Bar', 'Kiosk', 'Food Truck', 'Takeaway',\n",
       "       'Lounge', 'Street Food', 'Dhaba', 'Club', 'Bhojanalya'],\n",
       "      dtype=object)"
      ]
     },
     "metadata": {},
     "execution_count": 29
    }
   ]
  },
  {
   "cell_type": "code",
   "source": [
    "data[\"Restaurant Type\"].isnull().sum()"
   ],
   "metadata": {
    "id": "enYHnGIrIaqm",
    "colab": {
     "base_uri": "https://localhost:8080/"
    },
    "outputId": "1ec5bf7d-f498-4bc2-e715-4847a6a025bd"
   },
   "execution_count": 30,
   "outputs": [
    {
     "output_type": "execute_result",
     "data": {
      "text/plain": [
       "0"
      ]
     },
     "metadata": {},
     "execution_count": 30
    }
   ]
  },
  {
   "cell_type": "markdown",
   "source": [
    "##### *Meal Type*\n",
    "\n",
    "Visualizing the \"Meal Type\" column data."
   ],
   "metadata": {
    "id": "hE2sk06jOdQm"
   }
  },
  {
   "cell_type": "code",
   "source": [
    "data[\"Meal Type\"].unique()"
   ],
   "metadata": {
    "id": "apnshfh8YKE0",
    "colab": {
     "base_uri": "https://localhost:8080/"
    },
    "outputId": "786a6fbd-344e-42bb-b0d0-e4b14e180204"
   },
   "execution_count": 31,
   "outputs": [
    {
     "output_type": "execute_result",
     "data": {
      "text/plain": [
       "array(['Buffet', 'Cafes', 'Delivery', 'Desserts', 'Dine-out',\n",
       "       'Drinks & nightlife', 'Pubs and bars'], dtype=object)"
      ]
     },
     "metadata": {},
     "execution_count": 31
    }
   ]
  },
  {
   "cell_type": "code",
   "source": [
    "data[\"Meal Type\"].value_counts()"
   ],
   "metadata": {
    "id": "qOCIaf_sYbA4",
    "colab": {
     "base_uri": "https://localhost:8080/"
    },
    "outputId": "66b77a70-fbed-4c30-ca01-eab7ba2fe00a"
   },
   "execution_count": 32,
   "outputs": [
    {
     "output_type": "execute_result",
     "data": {
      "text/plain": [
       "Delivery              13504\n",
       "Dine-out              10867\n",
       "Desserts               2031\n",
       "Cafes                  1136\n",
       "Drinks & nightlife      877\n",
       "Buffet                  655\n",
       "Pubs and bars           568\n",
       "Name: Meal Type, dtype: int64"
      ]
     },
     "metadata": {},
     "execution_count": 32
    }
   ]
  },
  {
   "cell_type": "markdown",
   "source": [
    "Meal Type has no typos so we can proceed."
   ],
   "metadata": {
    "id": "ogZNJc4IIp6N"
   }
  },
  {
   "cell_type": "markdown",
   "source": [
    "##### *Cuisines*\n",
    "\n",
    "Visualizing \"Cuisines\" column values."
   ],
   "metadata": {
    "id": "1IecDfrLOeuN"
   }
  },
  {
   "cell_type": "code",
   "source": [
    "data[\"Cuisines\"].unique()"
   ],
   "metadata": {
    "id": "2iCI5JnTYy7Z",
    "colab": {
     "base_uri": "https://localhost:8080/"
    },
    "outputId": "3718fd9a-4e67-4482-8dde-fab9a3017a74"
   },
   "execution_count": 33,
   "outputs": [
    {
     "output_type": "execute_result",
     "data": {
      "text/plain": [
       "array(['North Indian, Mughlai, Chinese', 'Chinese, North Indian, Thai',\n",
       "       'Cafe, Mexican, Italian', ..., 'Tibetan, Nepalese',\n",
       "       'North Indian, Street Food, Biryani',\n",
       "       'North Indian, Chinese, Arabian, Momos'], dtype=object)"
      ]
     },
     "metadata": {},
     "execution_count": 33
    }
   ]
  },
  {
   "cell_type": "code",
   "source": [
    "data[\"Cuisines\"].value_counts()"
   ],
   "metadata": {
    "id": "FdgNeNkZYuAl",
    "colab": {
     "base_uri": "https://localhost:8080/"
    },
    "outputId": "489af210-634f-44ba-bdc4-b8eae7b4aae2"
   },
   "execution_count": 34,
   "outputs": [
    {
     "output_type": "execute_result",
     "data": {
      "text/plain": [
       "North Indian                                1518\n",
       "North Indian, Chinese                       1339\n",
       "South Indian                                 851\n",
       "Bakery, Desserts                             455\n",
       "Biryani                                      410\n",
       "                                            ... \n",
       "South Indian, Mangalorean, Chinese             1\n",
       "Fast Food, Andhra                              1\n",
       "Kerala, Biryani, North Indian, Chettinad       1\n",
       "North Indian, Street Food, Fast Food           1\n",
       "North Indian, Chinese, Arabian, Momos          1\n",
       "Name: Cuisines, Length: 2367, dtype: int64"
      ]
     },
     "metadata": {},
     "execution_count": 34
    }
   ]
  },
  {
   "cell_type": "markdown",
   "source": [
    "Cuisines have multiple values for one restaurant with repeating keywords but they show has different categories. We can simplify this to general groups for better analysis. "
   ],
   "metadata": {
    "id": "J3SJ89IKIuHJ"
   }
  },
  {
   "cell_type": "code",
   "source": [
    "# checking for misssing data\n",
    "data[\"Cuisines\"].isnull().sum()"
   ],
   "metadata": {
    "id": "KvnSoKk9IjXf",
    "colab": {
     "base_uri": "https://localhost:8080/"
    },
    "outputId": "27f09255-fb20-48b0-c7d4-c0a57744752f"
   },
   "execution_count": 35,
   "outputs": [
    {
     "output_type": "execute_result",
     "data": {
      "text/plain": [
       "0"
      ]
     },
     "metadata": {},
     "execution_count": 35
    }
   ]
  },
  {
   "cell_type": "markdown",
   "source": [
    "Imputing categorical variables."
   ],
   "metadata": {
    "id": "ucYb6eRkDZMV"
   }
  },
  {
   "cell_type": "code",
   "source": [
    "def cuisineSimplify(value):\n",
    "    value = str(value)\n",
    "    if \"Italian\" in value or \"Pizza\" in value:\n",
    "        return \"Italian\"\n",
    "    elif \"African\" in value:\n",
    "        return \"African\"\n",
    "    elif \"Continental\" in value:\n",
    "        return \"Continental\"\n",
    "    elif (\n",
    "        \"Mughlai\" in value\n",
    "        or \"Middle Eastern\" in value\n",
    "        or \"Biryani\" in value\n",
    "        or \"Arabian\" in value\n",
    "        or \"Turkish\" in value\n",
    "    ):\n",
    "        return \"Middle Eastern\"\n",
    "    elif (\n",
    "        \"Burger\" in value\n",
    "        or \"American\" in value\n",
    "        or \"Salad\" in value\n",
    "        or \"Sandwich\" in value\n",
    "    ):\n",
    "        return \"American\"\n",
    "    elif \"Indian\" in value and \"Chinese\" in value:\n",
    "        return \"Asian Fusion\"\n",
    "    elif (\n",
    "        \"Thai\" in value\n",
    "        or \"Japanese\" in value\n",
    "        or \"Asian\" in value\n",
    "        or \"Chinese\" in value\n",
    "        or \"Tibetan\" in value\n",
    "        or \"Momo\" in value\n",
    "    ):\n",
    "        return \"Asian\"\n",
    "    elif \"Mexican\" in value:\n",
    "        return \"Mexican\"\n",
    "    elif \"Street Food\" in value:\n",
    "        return \"Street Food\"\n",
    "    elif \"Fast Food\" in value:\n",
    "        return \"Fast Food\"\n",
    "    elif \"Cafe\" in value:\n",
    "        return \"Cafe\"\n",
    "    elif (\n",
    "        \"North Indian\" in value\n",
    "        or \"Rajasthani\" in value\n",
    "        or \"Gujarati\" in value\n",
    "        or \"Bengali\" in value\n",
    "    ):\n",
    "        return \"North Indian\"\n",
    "    elif (\n",
    "        \"South Indian\" in value\n",
    "        or \"Kerala\" in value\n",
    "        or \"Bengali\" in value\n",
    "        or \"Andhra\" in value\n",
    "        or \"Maharashtrian\"\n",
    "    ):\n",
    "        return \"South Indian\"\n",
    "    elif \"Mediterranean\" in value:\n",
    "        return \"Mediterranean\"\n",
    "    elif (\n",
    "        \"Sweet\" in value\n",
    "        or \"Dessert\" in value\n",
    "        or \"Confectionery\" in value\n",
    "        or \"Mithai\" in value\n",
    "    ):\n",
    "        return \"Dessert\"\n",
    "    elif \"Cafe\" in value:\n",
    "        return \"Cafe\"\n",
    "    else:\n",
    "        return value\n",
    "\n",
    "\n",
    "data[\"Cuisines\"] = data[\"Cuisines\"].apply(cuisineSimplify)\n",
    "data[\"Cuisines\"].head(10)"
   ],
   "metadata": {
    "id": "GfJfM6iVaTkI",
    "colab": {
     "base_uri": "https://localhost:8080/"
    },
    "outputId": "cad55b3d-324c-49ce-c546-9ad45a4a08e0"
   },
   "execution_count": 36,
   "outputs": [
    {
     "output_type": "execute_result",
     "data": {
      "text/plain": [
       "0    Middle Eastern\n",
       "1      Asian Fusion\n",
       "2           Italian\n",
       "3      North Indian\n",
       "4      North Indian\n",
       "5      North Indian\n",
       "6      Asian Fusion\n",
       "7           Italian\n",
       "8           Italian\n",
       "9           Italian\n",
       "Name: Cuisines, dtype: object"
      ]
     },
     "metadata": {},
     "execution_count": 36
    }
   ]
  },
  {
   "cell_type": "code",
   "source": [
    "data[\"Cuisines\"].unique()"
   ],
   "metadata": {
    "id": "rGAeitShp5ah",
    "colab": {
     "base_uri": "https://localhost:8080/"
    },
    "outputId": "94b5d087-5ded-4cfa-b1ea-59accf66a62a"
   },
   "execution_count": 37,
   "outputs": [
    {
     "output_type": "execute_result",
     "data": {
      "text/plain": [
       "array(['Middle Eastern', 'Asian Fusion', 'Italian', 'North Indian',\n",
       "       'Cafe', 'Continental', 'Fast Food', 'American', 'South Indian',\n",
       "       'Asian', 'Street Food', 'African', 'Mexican'], dtype=object)"
      ]
     },
     "metadata": {},
     "execution_count": 37
    }
   ]
  },
  {
   "cell_type": "markdown",
   "source": [
    "##### *Restaurant*\n",
    "\n",
    "Visualizing \"Restaurant\" column values."
   ],
   "metadata": {
    "id": "RJnBCBcPOgE8"
   }
  },
  {
   "cell_type": "code",
   "source": [
    "data[\"Restaurant\"].unique()"
   ],
   "metadata": {
    "id": "yQI7fMq2ZYqx",
    "colab": {
     "base_uri": "https://localhost:8080/"
    },
    "outputId": "7b27c3b3-8100-4c69-c8f8-cc024011c4cb"
   },
   "execution_count": 38,
   "outputs": [
    {
     "output_type": "execute_result",
     "data": {
      "text/plain": [
       "array(['Jalsa', 'Spice Elephant', 'San Churro Cafe', ...,\n",
       "       'The Nest - The Den Bengaluru', 'Nawabs Empire',\n",
       "       'SeeYa Restaurant'], dtype=object)"
      ]
     },
     "metadata": {},
     "execution_count": 38
    }
   ]
  },
  {
   "cell_type": "code",
   "source": [
    "data.groupby(\"Restaurant\").count().head()"
   ],
   "metadata": {
    "id": "pgILPYuTZkXe",
    "colab": {
     "base_uri": "https://localhost:8080/",
     "height": 336
    },
    "outputId": "e51719ce-1739-46af-9a30-5493908ac62b"
   },
   "execution_count": 39,
   "outputs": [
    {
     "output_type": "execute_result",
     "data": {
      "text/plain": [
       "                                      Online Ordering?  Reservation Needed?  \\\n",
       "Restaurant                                                                    \n",
       "#FeelTheROLL                                         2                    2   \n",
       "#L-81 Cafe                                           4                    4   \n",
       "#refuel                                              3                    3   \n",
       "1000 B.C                                             2                    2   \n",
       "100ÃÂÃÂÃÂÃÂÃÂÃÂÃÂÃÂ°C                 2                    2   \n",
       "\n",
       "                                      Rating  Number of Votes  City  \\\n",
       "Restaurant                                                            \n",
       "#FeelTheROLL                               2                2     2   \n",
       "#L-81 Cafe                                 4                4     4   \n",
       "#refuel                                    3                3     3   \n",
       "1000 B.C                                   2                2     2   \n",
       "100ÃÂÃÂÃÂÃÂÃÂÃÂÃÂÃÂ°C       2                2     2   \n",
       "\n",
       "                                      Restaurant Type  Cuisines  Cost(Rupees)  \\\n",
       "Restaurant                                                                      \n",
       "#FeelTheROLL                                        2         2             2   \n",
       "#L-81 Cafe                                          4         4             4   \n",
       "#refuel                                             3         3             3   \n",
       "1000 B.C                                            2         2             2   \n",
       "100ÃÂÃÂÃÂÃÂÃÂÃÂÃÂÃÂ°C                2         2             2   \n",
       "\n",
       "                                      Meal Type  \n",
       "Restaurant                                       \n",
       "#FeelTheROLL                                  2  \n",
       "#L-81 Cafe                                    4  \n",
       "#refuel                                       3  \n",
       "1000 B.C                                      2  \n",
       "100ÃÂÃÂÃÂÃÂÃÂÃÂÃÂÃÂ°C          2  "
      ],
      "text/html": [
       "\n",
       "  <div id=\"df-c00e744a-1cd4-423b-ac6b-5d2c7ab74bb0\">\n",
       "    <div class=\"colab-df-container\">\n",
       "      <div>\n",
       "<style scoped>\n",
       "    .dataframe tbody tr th:only-of-type {\n",
       "        vertical-align: middle;\n",
       "    }\n",
       "\n",
       "    .dataframe tbody tr th {\n",
       "        vertical-align: top;\n",
       "    }\n",
       "\n",
       "    .dataframe thead th {\n",
       "        text-align: right;\n",
       "    }\n",
       "</style>\n",
       "<table border=\"1\" class=\"dataframe\">\n",
       "  <thead>\n",
       "    <tr style=\"text-align: right;\">\n",
       "      <th></th>\n",
       "      <th>Online Ordering?</th>\n",
       "      <th>Reservation Needed?</th>\n",
       "      <th>Rating</th>\n",
       "      <th>Number of Votes</th>\n",
       "      <th>City</th>\n",
       "      <th>Restaurant Type</th>\n",
       "      <th>Cuisines</th>\n",
       "      <th>Cost(Rupees)</th>\n",
       "      <th>Meal Type</th>\n",
       "    </tr>\n",
       "    <tr>\n",
       "      <th>Restaurant</th>\n",
       "      <th></th>\n",
       "      <th></th>\n",
       "      <th></th>\n",
       "      <th></th>\n",
       "      <th></th>\n",
       "      <th></th>\n",
       "      <th></th>\n",
       "      <th></th>\n",
       "      <th></th>\n",
       "    </tr>\n",
       "  </thead>\n",
       "  <tbody>\n",
       "    <tr>\n",
       "      <th>#FeelTheROLL</th>\n",
       "      <td>2</td>\n",
       "      <td>2</td>\n",
       "      <td>2</td>\n",
       "      <td>2</td>\n",
       "      <td>2</td>\n",
       "      <td>2</td>\n",
       "      <td>2</td>\n",
       "      <td>2</td>\n",
       "      <td>2</td>\n",
       "    </tr>\n",
       "    <tr>\n",
       "      <th>#L-81 Cafe</th>\n",
       "      <td>4</td>\n",
       "      <td>4</td>\n",
       "      <td>4</td>\n",
       "      <td>4</td>\n",
       "      <td>4</td>\n",
       "      <td>4</td>\n",
       "      <td>4</td>\n",
       "      <td>4</td>\n",
       "      <td>4</td>\n",
       "    </tr>\n",
       "    <tr>\n",
       "      <th>#refuel</th>\n",
       "      <td>3</td>\n",
       "      <td>3</td>\n",
       "      <td>3</td>\n",
       "      <td>3</td>\n",
       "      <td>3</td>\n",
       "      <td>3</td>\n",
       "      <td>3</td>\n",
       "      <td>3</td>\n",
       "      <td>3</td>\n",
       "    </tr>\n",
       "    <tr>\n",
       "      <th>1000 B.C</th>\n",
       "      <td>2</td>\n",
       "      <td>2</td>\n",
       "      <td>2</td>\n",
       "      <td>2</td>\n",
       "      <td>2</td>\n",
       "      <td>2</td>\n",
       "      <td>2</td>\n",
       "      <td>2</td>\n",
       "      <td>2</td>\n",
       "    </tr>\n",
       "    <tr>\n",
       "      <th>100ÃÂÃÂÃÂÃÂÃÂÃÂÃÂÃÂ°C</th>\n",
       "      <td>2</td>\n",
       "      <td>2</td>\n",
       "      <td>2</td>\n",
       "      <td>2</td>\n",
       "      <td>2</td>\n",
       "      <td>2</td>\n",
       "      <td>2</td>\n",
       "      <td>2</td>\n",
       "      <td>2</td>\n",
       "    </tr>\n",
       "  </tbody>\n",
       "</table>\n",
       "</div>\n",
       "      <button class=\"colab-df-convert\" onclick=\"convertToInteractive('df-c00e744a-1cd4-423b-ac6b-5d2c7ab74bb0')\"\n",
       "              title=\"Convert this dataframe to an interactive table.\"\n",
       "              style=\"display:none;\">\n",
       "        \n",
       "  <svg xmlns=\"http://www.w3.org/2000/svg\" height=\"24px\"viewBox=\"0 0 24 24\"\n",
       "       width=\"24px\">\n",
       "    <path d=\"M0 0h24v24H0V0z\" fill=\"none\"/>\n",
       "    <path d=\"M18.56 5.44l.94 2.06.94-2.06 2.06-.94-2.06-.94-.94-2.06-.94 2.06-2.06.94zm-11 1L8.5 8.5l.94-2.06 2.06-.94-2.06-.94L8.5 2.5l-.94 2.06-2.06.94zm10 10l.94 2.06.94-2.06 2.06-.94-2.06-.94-.94-2.06-.94 2.06-2.06.94z\"/><path d=\"M17.41 7.96l-1.37-1.37c-.4-.4-.92-.59-1.43-.59-.52 0-1.04.2-1.43.59L10.3 9.45l-7.72 7.72c-.78.78-.78 2.05 0 2.83L4 21.41c.39.39.9.59 1.41.59.51 0 1.02-.2 1.41-.59l7.78-7.78 2.81-2.81c.8-.78.8-2.07 0-2.86zM5.41 20L4 18.59l7.72-7.72 1.47 1.35L5.41 20z\"/>\n",
       "  </svg>\n",
       "      </button>\n",
       "      \n",
       "  <style>\n",
       "    .colab-df-container {\n",
       "      display:flex;\n",
       "      flex-wrap:wrap;\n",
       "      gap: 12px;\n",
       "    }\n",
       "\n",
       "    .colab-df-convert {\n",
       "      background-color: #E8F0FE;\n",
       "      border: none;\n",
       "      border-radius: 50%;\n",
       "      cursor: pointer;\n",
       "      display: none;\n",
       "      fill: #1967D2;\n",
       "      height: 32px;\n",
       "      padding: 0 0 0 0;\n",
       "      width: 32px;\n",
       "    }\n",
       "\n",
       "    .colab-df-convert:hover {\n",
       "      background-color: #E2EBFA;\n",
       "      box-shadow: 0px 1px 2px rgba(60, 64, 67, 0.3), 0px 1px 3px 1px rgba(60, 64, 67, 0.15);\n",
       "      fill: #174EA6;\n",
       "    }\n",
       "\n",
       "    [theme=dark] .colab-df-convert {\n",
       "      background-color: #3B4455;\n",
       "      fill: #D2E3FC;\n",
       "    }\n",
       "\n",
       "    [theme=dark] .colab-df-convert:hover {\n",
       "      background-color: #434B5C;\n",
       "      box-shadow: 0px 1px 3px 1px rgba(0, 0, 0, 0.15);\n",
       "      filter: drop-shadow(0px 1px 2px rgba(0, 0, 0, 0.3));\n",
       "      fill: #FFFFFF;\n",
       "    }\n",
       "  </style>\n",
       "\n",
       "      <script>\n",
       "        const buttonEl =\n",
       "          document.querySelector('#df-c00e744a-1cd4-423b-ac6b-5d2c7ab74bb0 button.colab-df-convert');\n",
       "        buttonEl.style.display =\n",
       "          google.colab.kernel.accessAllowed ? 'block' : 'none';\n",
       "\n",
       "        async function convertToInteractive(key) {\n",
       "          const element = document.querySelector('#df-c00e744a-1cd4-423b-ac6b-5d2c7ab74bb0');\n",
       "          const dataTable =\n",
       "            await google.colab.kernel.invokeFunction('convertToInteractive',\n",
       "                                                     [key], {});\n",
       "          if (!dataTable) return;\n",
       "\n",
       "          const docLinkHtml = 'Like what you see? Visit the ' +\n",
       "            '<a target=\"_blank\" href=https://colab.research.google.com/notebooks/data_table.ipynb>data table notebook</a>'\n",
       "            + ' to learn more about interactive tables.';\n",
       "          element.innerHTML = '';\n",
       "          dataTable['output_type'] = 'display_data';\n",
       "          await google.colab.output.renderOutput(dataTable, element);\n",
       "          const docLink = document.createElement('div');\n",
       "          docLink.innerHTML = docLinkHtml;\n",
       "          element.appendChild(docLink);\n",
       "        }\n",
       "      </script>\n",
       "    </div>\n",
       "  </div>\n",
       "  "
      ]
     },
     "metadata": {},
     "execution_count": 39
    }
   ]
  },
  {
   "cell_type": "markdown",
   "metadata": {
    "id": "AWfp7xnFpRWw"
   },
   "source": [
    "Cleaning the data by removing some funky characters for better reads. "
   ]
  },
  {
   "cell_type": "code",
   "source": [
    "# Remove random characters\n",
    "\n",
    "data[\"Restaurant\"] = data[\"Restaurant\"].str.replace(\"[Ãx][^A-Za-z]+\", \"\", regex=True)"
   ],
   "metadata": {
    "id": "82_xIh76Z51H"
   },
   "execution_count": 40,
   "outputs": []
  },
  {
   "cell_type": "code",
   "source": [
    "data.groupby(\"Restaurant\").count().head()"
   ],
   "metadata": {
    "id": "ud1ABMI_aQRe",
    "colab": {
     "base_uri": "https://localhost:8080/",
     "height": 298
    },
    "outputId": "d0312e61-6e40-4d7e-8b76-4bef952f3232"
   },
   "execution_count": 41,
   "outputs": [
    {
     "output_type": "execute_result",
     "data": {
      "text/plain": [
       "              Online Ordering?  Reservation Needed?  Rating  Number of Votes  \\\n",
       "Restaurant                                                                     \n",
       "#FeelTheROLL                 2                    2       2                2   \n",
       "#L-81 Cafe                   4                    4       4                4   \n",
       "#refuel                      3                    3       3                3   \n",
       "1000 B.C                     2                    2       2                2   \n",
       "100C                         2                    2       2                2   \n",
       "\n",
       "              City  Restaurant Type  Cuisines  Cost(Rupees)  Meal Type  \n",
       "Restaurant                                                              \n",
       "#FeelTheROLL     2                2         2             2          2  \n",
       "#L-81 Cafe       4                4         4             4          4  \n",
       "#refuel          3                3         3             3          3  \n",
       "1000 B.C         2                2         2             2          2  \n",
       "100C             2                2         2             2          2  "
      ],
      "text/html": [
       "\n",
       "  <div id=\"df-b3a4d976-8355-4381-85fe-9991c469d224\">\n",
       "    <div class=\"colab-df-container\">\n",
       "      <div>\n",
       "<style scoped>\n",
       "    .dataframe tbody tr th:only-of-type {\n",
       "        vertical-align: middle;\n",
       "    }\n",
       "\n",
       "    .dataframe tbody tr th {\n",
       "        vertical-align: top;\n",
       "    }\n",
       "\n",
       "    .dataframe thead th {\n",
       "        text-align: right;\n",
       "    }\n",
       "</style>\n",
       "<table border=\"1\" class=\"dataframe\">\n",
       "  <thead>\n",
       "    <tr style=\"text-align: right;\">\n",
       "      <th></th>\n",
       "      <th>Online Ordering?</th>\n",
       "      <th>Reservation Needed?</th>\n",
       "      <th>Rating</th>\n",
       "      <th>Number of Votes</th>\n",
       "      <th>City</th>\n",
       "      <th>Restaurant Type</th>\n",
       "      <th>Cuisines</th>\n",
       "      <th>Cost(Rupees)</th>\n",
       "      <th>Meal Type</th>\n",
       "    </tr>\n",
       "    <tr>\n",
       "      <th>Restaurant</th>\n",
       "      <th></th>\n",
       "      <th></th>\n",
       "      <th></th>\n",
       "      <th></th>\n",
       "      <th></th>\n",
       "      <th></th>\n",
       "      <th></th>\n",
       "      <th></th>\n",
       "      <th></th>\n",
       "    </tr>\n",
       "  </thead>\n",
       "  <tbody>\n",
       "    <tr>\n",
       "      <th>#FeelTheROLL</th>\n",
       "      <td>2</td>\n",
       "      <td>2</td>\n",
       "      <td>2</td>\n",
       "      <td>2</td>\n",
       "      <td>2</td>\n",
       "      <td>2</td>\n",
       "      <td>2</td>\n",
       "      <td>2</td>\n",
       "      <td>2</td>\n",
       "    </tr>\n",
       "    <tr>\n",
       "      <th>#L-81 Cafe</th>\n",
       "      <td>4</td>\n",
       "      <td>4</td>\n",
       "      <td>4</td>\n",
       "      <td>4</td>\n",
       "      <td>4</td>\n",
       "      <td>4</td>\n",
       "      <td>4</td>\n",
       "      <td>4</td>\n",
       "      <td>4</td>\n",
       "    </tr>\n",
       "    <tr>\n",
       "      <th>#refuel</th>\n",
       "      <td>3</td>\n",
       "      <td>3</td>\n",
       "      <td>3</td>\n",
       "      <td>3</td>\n",
       "      <td>3</td>\n",
       "      <td>3</td>\n",
       "      <td>3</td>\n",
       "      <td>3</td>\n",
       "      <td>3</td>\n",
       "    </tr>\n",
       "    <tr>\n",
       "      <th>1000 B.C</th>\n",
       "      <td>2</td>\n",
       "      <td>2</td>\n",
       "      <td>2</td>\n",
       "      <td>2</td>\n",
       "      <td>2</td>\n",
       "      <td>2</td>\n",
       "      <td>2</td>\n",
       "      <td>2</td>\n",
       "      <td>2</td>\n",
       "    </tr>\n",
       "    <tr>\n",
       "      <th>100C</th>\n",
       "      <td>2</td>\n",
       "      <td>2</td>\n",
       "      <td>2</td>\n",
       "      <td>2</td>\n",
       "      <td>2</td>\n",
       "      <td>2</td>\n",
       "      <td>2</td>\n",
       "      <td>2</td>\n",
       "      <td>2</td>\n",
       "    </tr>\n",
       "  </tbody>\n",
       "</table>\n",
       "</div>\n",
       "      <button class=\"colab-df-convert\" onclick=\"convertToInteractive('df-b3a4d976-8355-4381-85fe-9991c469d224')\"\n",
       "              title=\"Convert this dataframe to an interactive table.\"\n",
       "              style=\"display:none;\">\n",
       "        \n",
       "  <svg xmlns=\"http://www.w3.org/2000/svg\" height=\"24px\"viewBox=\"0 0 24 24\"\n",
       "       width=\"24px\">\n",
       "    <path d=\"M0 0h24v24H0V0z\" fill=\"none\"/>\n",
       "    <path d=\"M18.56 5.44l.94 2.06.94-2.06 2.06-.94-2.06-.94-.94-2.06-.94 2.06-2.06.94zm-11 1L8.5 8.5l.94-2.06 2.06-.94-2.06-.94L8.5 2.5l-.94 2.06-2.06.94zm10 10l.94 2.06.94-2.06 2.06-.94-2.06-.94-.94-2.06-.94 2.06-2.06.94z\"/><path d=\"M17.41 7.96l-1.37-1.37c-.4-.4-.92-.59-1.43-.59-.52 0-1.04.2-1.43.59L10.3 9.45l-7.72 7.72c-.78.78-.78 2.05 0 2.83L4 21.41c.39.39.9.59 1.41.59.51 0 1.02-.2 1.41-.59l7.78-7.78 2.81-2.81c.8-.78.8-2.07 0-2.86zM5.41 20L4 18.59l7.72-7.72 1.47 1.35L5.41 20z\"/>\n",
       "  </svg>\n",
       "      </button>\n",
       "      \n",
       "  <style>\n",
       "    .colab-df-container {\n",
       "      display:flex;\n",
       "      flex-wrap:wrap;\n",
       "      gap: 12px;\n",
       "    }\n",
       "\n",
       "    .colab-df-convert {\n",
       "      background-color: #E8F0FE;\n",
       "      border: none;\n",
       "      border-radius: 50%;\n",
       "      cursor: pointer;\n",
       "      display: none;\n",
       "      fill: #1967D2;\n",
       "      height: 32px;\n",
       "      padding: 0 0 0 0;\n",
       "      width: 32px;\n",
       "    }\n",
       "\n",
       "    .colab-df-convert:hover {\n",
       "      background-color: #E2EBFA;\n",
       "      box-shadow: 0px 1px 2px rgba(60, 64, 67, 0.3), 0px 1px 3px 1px rgba(60, 64, 67, 0.15);\n",
       "      fill: #174EA6;\n",
       "    }\n",
       "\n",
       "    [theme=dark] .colab-df-convert {\n",
       "      background-color: #3B4455;\n",
       "      fill: #D2E3FC;\n",
       "    }\n",
       "\n",
       "    [theme=dark] .colab-df-convert:hover {\n",
       "      background-color: #434B5C;\n",
       "      box-shadow: 0px 1px 3px 1px rgba(0, 0, 0, 0.15);\n",
       "      filter: drop-shadow(0px 1px 2px rgba(0, 0, 0, 0.3));\n",
       "      fill: #FFFFFF;\n",
       "    }\n",
       "  </style>\n",
       "\n",
       "      <script>\n",
       "        const buttonEl =\n",
       "          document.querySelector('#df-b3a4d976-8355-4381-85fe-9991c469d224 button.colab-df-convert');\n",
       "        buttonEl.style.display =\n",
       "          google.colab.kernel.accessAllowed ? 'block' : 'none';\n",
       "\n",
       "        async function convertToInteractive(key) {\n",
       "          const element = document.querySelector('#df-b3a4d976-8355-4381-85fe-9991c469d224');\n",
       "          const dataTable =\n",
       "            await google.colab.kernel.invokeFunction('convertToInteractive',\n",
       "                                                     [key], {});\n",
       "          if (!dataTable) return;\n",
       "\n",
       "          const docLinkHtml = 'Like what you see? Visit the ' +\n",
       "            '<a target=\"_blank\" href=https://colab.research.google.com/notebooks/data_table.ipynb>data table notebook</a>'\n",
       "            + ' to learn more about interactive tables.';\n",
       "          element.innerHTML = '';\n",
       "          dataTable['output_type'] = 'display_data';\n",
       "          await google.colab.output.renderOutput(dataTable, element);\n",
       "          const docLink = document.createElement('div');\n",
       "          docLink.innerHTML = docLinkHtml;\n",
       "          element.appendChild(docLink);\n",
       "        }\n",
       "      </script>\n",
       "    </div>\n",
       "  </div>\n",
       "  "
      ]
     },
     "metadata": {},
     "execution_count": 41
    }
   ]
  }
 ],
 "metadata": {
  "colab": {
   "collapsed_sections": [
    "o_B9i5R7cwKB",
    "rAwtWA-PETKb"
   ],
   "provenance": []
  },
  "kernelspec": {
   "display_name": "Python 3 (ipykernel)",
   "language": "python",
   "name": "python3"
  },
  "language_info": {
   "codemirror_mode": {
    "name": "ipython",
    "version": 3
   },
   "file_extension": ".py",
   "mimetype": "text/x-python",
   "name": "python",
   "nbconvert_exporter": "python",
   "pygments_lexer": "ipython3",
   "version": "3.8.5"
  }
 },
 "nbformat": 4,
 "nbformat_minor": 0
}