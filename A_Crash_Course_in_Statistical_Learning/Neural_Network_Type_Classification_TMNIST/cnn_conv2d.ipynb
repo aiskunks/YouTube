{
  "cells": [
    {
      "cell_type": "markdown",
      "metadata": {
        "id": "52d43022"
      },
      "source": [
        "## Abstract\n",
        "The purpose of this notebook is to perform charecter recognition on TMINST (94 charecter) dataset. We used a simple CNN network to perform the charecter recognition. "
      ]
    },
    {
      "cell_type": "markdown",
      "metadata": {
        "id": "904c4a77"
      },
      "source": [
        "## Importing Libraries and Fuctions"
      ]
    },
    {
      "cell_type": "code",
      "execution_count": null,
      "metadata": {
        "id": "2402e4c0"
      },
      "outputs": [],
      "source": [
        "import numpy as np \n",
        "import pandas as pd \n",
        "import re\n",
        "\n",
        "from sklearn.model_selection import train_test_split\n",
        "from sklearn.utils import shuffle\n",
        "\n",
        "import tensorflow as tf \n",
        "from tensorflow.keras.utils import to_categorical\n",
        "\n",
        "\n",
        "import matplotlib.pyplot as plt\n",
        "import warnings\n",
        "warnings.filterwarnings('ignore')\n",
        "%matplotlib inline\n",
        "\n"
      ]
    },
    {
      "cell_type": "markdown",
      "metadata": {
        "id": "07f4a1b2"
      },
      "source": [
        "## Reading Data\n"
      ]
    },
    {
      "cell_type": "code",
      "execution_count": null,
      "metadata": {
        "id": "c8c42339"
      },
      "outputs": [],
      "source": [
        "# Reading Data\n",
        "url = \"/content/94_character_TMNIST.csv\"\n",
        "df = pd.read_csv(url)"
      ]
    },
    {
      "cell_type": "code",
      "execution_count": null,
      "metadata": {
        "colab": {
          "base_uri": "https://localhost:8080/",
          "height": 236
        },
        "id": "Vl7wUK6lzlAN",
        "outputId": "05d95d0a-7ea8-483e-c5e1-3a2d0109bf5e"
      },
      "outputs": [
        {
          "data": {
            "text/html": [
              "\n",
              "  <div id=\"df-fefa290d-a731-4376-8222-ff95f4b33032\">\n",
              "    <div class=\"colab-df-container\">\n",
              "      <div>\n",
              "<style scoped>\n",
              "    .dataframe tbody tr th:only-of-type {\n",
              "        vertical-align: middle;\n",
              "    }\n",
              "\n",
              "    .dataframe tbody tr th {\n",
              "        vertical-align: top;\n",
              "    }\n",
              "\n",
              "    .dataframe thead th {\n",
              "        text-align: right;\n",
              "    }\n",
              "</style>\n",
              "<table border=\"1\" class=\"dataframe\">\n",
              "  <thead>\n",
              "    <tr style=\"text-align: right;\">\n",
              "      <th></th>\n",
              "      <th>names</th>\n",
              "      <th>labels</th>\n",
              "      <th>1</th>\n",
              "      <th>2</th>\n",
              "      <th>3</th>\n",
              "      <th>4</th>\n",
              "      <th>5</th>\n",
              "      <th>6</th>\n",
              "      <th>7</th>\n",
              "      <th>8</th>\n",
              "      <th>...</th>\n",
              "      <th>775</th>\n",
              "      <th>776</th>\n",
              "      <th>777</th>\n",
              "      <th>778</th>\n",
              "      <th>779</th>\n",
              "      <th>780</th>\n",
              "      <th>781</th>\n",
              "      <th>782</th>\n",
              "      <th>783</th>\n",
              "      <th>784</th>\n",
              "    </tr>\n",
              "  </thead>\n",
              "  <tbody>\n",
              "    <tr>\n",
              "      <th>0</th>\n",
              "      <td>Salsa-Regular</td>\n",
              "      <td>6</td>\n",
              "      <td>0.0</td>\n",
              "      <td>0.0</td>\n",
              "      <td>0.0</td>\n",
              "      <td>0.0</td>\n",
              "      <td>0.0</td>\n",
              "      <td>0.0</td>\n",
              "      <td>0.0</td>\n",
              "      <td>0.0</td>\n",
              "      <td>...</td>\n",
              "      <td>0.0</td>\n",
              "      <td>0.0</td>\n",
              "      <td>0.0</td>\n",
              "      <td>0.0</td>\n",
              "      <td>0.0</td>\n",
              "      <td>0.0</td>\n",
              "      <td>0.0</td>\n",
              "      <td>0.0</td>\n",
              "      <td>0.0</td>\n",
              "      <td>0.0</td>\n",
              "    </tr>\n",
              "    <tr>\n",
              "      <th>1</th>\n",
              "      <td>MouseMemoirs-Regular</td>\n",
              "      <td>D</td>\n",
              "      <td>0.0</td>\n",
              "      <td>0.0</td>\n",
              "      <td>0.0</td>\n",
              "      <td>0.0</td>\n",
              "      <td>0.0</td>\n",
              "      <td>0.0</td>\n",
              "      <td>0.0</td>\n",
              "      <td>0.0</td>\n",
              "      <td>...</td>\n",
              "      <td>0.0</td>\n",
              "      <td>0.0</td>\n",
              "      <td>0.0</td>\n",
              "      <td>0.0</td>\n",
              "      <td>0.0</td>\n",
              "      <td>0.0</td>\n",
              "      <td>0.0</td>\n",
              "      <td>0.0</td>\n",
              "      <td>0.0</td>\n",
              "      <td>0.0</td>\n",
              "    </tr>\n",
              "    <tr>\n",
              "      <th>2</th>\n",
              "      <td>Creepster-Regular</td>\n",
              "      <td>f</td>\n",
              "      <td>0.0</td>\n",
              "      <td>0.0</td>\n",
              "      <td>0.0</td>\n",
              "      <td>0.0</td>\n",
              "      <td>0.0</td>\n",
              "      <td>0.0</td>\n",
              "      <td>0.0</td>\n",
              "      <td>0.0</td>\n",
              "      <td>...</td>\n",
              "      <td>0.0</td>\n",
              "      <td>0.0</td>\n",
              "      <td>0.0</td>\n",
              "      <td>0.0</td>\n",
              "      <td>0.0</td>\n",
              "      <td>0.0</td>\n",
              "      <td>0.0</td>\n",
              "      <td>0.0</td>\n",
              "      <td>0.0</td>\n",
              "      <td>0.0</td>\n",
              "    </tr>\n",
              "    <tr>\n",
              "      <th>3</th>\n",
              "      <td>SeoulNamsan-Light</td>\n",
              "      <td>/</td>\n",
              "      <td>0.0</td>\n",
              "      <td>0.0</td>\n",
              "      <td>0.0</td>\n",
              "      <td>0.0</td>\n",
              "      <td>0.0</td>\n",
              "      <td>0.0</td>\n",
              "      <td>0.0</td>\n",
              "      <td>0.0</td>\n",
              "      <td>...</td>\n",
              "      <td>0.0</td>\n",
              "      <td>0.0</td>\n",
              "      <td>0.0</td>\n",
              "      <td>0.0</td>\n",
              "      <td>0.0</td>\n",
              "      <td>0.0</td>\n",
              "      <td>0.0</td>\n",
              "      <td>0.0</td>\n",
              "      <td>0.0</td>\n",
              "      <td>0.0</td>\n",
              "    </tr>\n",
              "    <tr>\n",
              "      <th>4</th>\n",
              "      <td>HachiMaruPop-Regular</td>\n",
              "      <td>F</td>\n",
              "      <td>0.0</td>\n",
              "      <td>0.0</td>\n",
              "      <td>0.0</td>\n",
              "      <td>0.0</td>\n",
              "      <td>0.0</td>\n",
              "      <td>0.0</td>\n",
              "      <td>0.0</td>\n",
              "      <td>0.0</td>\n",
              "      <td>...</td>\n",
              "      <td>0.0</td>\n",
              "      <td>0.0</td>\n",
              "      <td>0.0</td>\n",
              "      <td>0.0</td>\n",
              "      <td>0.0</td>\n",
              "      <td>0.0</td>\n",
              "      <td>0.0</td>\n",
              "      <td>0.0</td>\n",
              "      <td>0.0</td>\n",
              "      <td>0.0</td>\n",
              "    </tr>\n",
              "  </tbody>\n",
              "</table>\n",
              "<p>5 rows × 786 columns</p>\n",
              "</div>\n",
              "      <button class=\"colab-df-convert\" onclick=\"convertToInteractive('df-fefa290d-a731-4376-8222-ff95f4b33032')\"\n",
              "              title=\"Convert this dataframe to an interactive table.\"\n",
              "              style=\"display:none;\">\n",
              "        \n",
              "  <svg xmlns=\"http://www.w3.org/2000/svg\" height=\"24px\"viewBox=\"0 0 24 24\"\n",
              "       width=\"24px\">\n",
              "    <path d=\"M0 0h24v24H0V0z\" fill=\"none\"/>\n",
              "    <path d=\"M18.56 5.44l.94 2.06.94-2.06 2.06-.94-2.06-.94-.94-2.06-.94 2.06-2.06.94zm-11 1L8.5 8.5l.94-2.06 2.06-.94-2.06-.94L8.5 2.5l-.94 2.06-2.06.94zm10 10l.94 2.06.94-2.06 2.06-.94-2.06-.94-.94-2.06-.94 2.06-2.06.94z\"/><path d=\"M17.41 7.96l-1.37-1.37c-.4-.4-.92-.59-1.43-.59-.52 0-1.04.2-1.43.59L10.3 9.45l-7.72 7.72c-.78.78-.78 2.05 0 2.83L4 21.41c.39.39.9.59 1.41.59.51 0 1.02-.2 1.41-.59l7.78-7.78 2.81-2.81c.8-.78.8-2.07 0-2.86zM5.41 20L4 18.59l7.72-7.72 1.47 1.35L5.41 20z\"/>\n",
              "  </svg>\n",
              "      </button>\n",
              "      \n",
              "  <style>\n",
              "    .colab-df-container {\n",
              "      display:flex;\n",
              "      flex-wrap:wrap;\n",
              "      gap: 12px;\n",
              "    }\n",
              "\n",
              "    .colab-df-convert {\n",
              "      background-color: #E8F0FE;\n",
              "      border: none;\n",
              "      border-radius: 50%;\n",
              "      cursor: pointer;\n",
              "      display: none;\n",
              "      fill: #1967D2;\n",
              "      height: 32px;\n",
              "      padding: 0 0 0 0;\n",
              "      width: 32px;\n",
              "    }\n",
              "\n",
              "    .colab-df-convert:hover {\n",
              "      background-color: #E2EBFA;\n",
              "      box-shadow: 0px 1px 2px rgba(60, 64, 67, 0.3), 0px 1px 3px 1px rgba(60, 64, 67, 0.15);\n",
              "      fill: #174EA6;\n",
              "    }\n",
              "\n",
              "    [theme=dark] .colab-df-convert {\n",
              "      background-color: #3B4455;\n",
              "      fill: #D2E3FC;\n",
              "    }\n",
              "\n",
              "    [theme=dark] .colab-df-convert:hover {\n",
              "      background-color: #434B5C;\n",
              "      box-shadow: 0px 1px 3px 1px rgba(0, 0, 0, 0.15);\n",
              "      filter: drop-shadow(0px 1px 2px rgba(0, 0, 0, 0.3));\n",
              "      fill: #FFFFFF;\n",
              "    }\n",
              "  </style>\n",
              "\n",
              "      <script>\n",
              "        const buttonEl =\n",
              "          document.querySelector('#df-fefa290d-a731-4376-8222-ff95f4b33032 button.colab-df-convert');\n",
              "        buttonEl.style.display =\n",
              "          google.colab.kernel.accessAllowed ? 'block' : 'none';\n",
              "\n",
              "        async function convertToInteractive(key) {\n",
              "          const element = document.querySelector('#df-fefa290d-a731-4376-8222-ff95f4b33032');\n",
              "          const dataTable =\n",
              "            await google.colab.kernel.invokeFunction('convertToInteractive',\n",
              "                                                     [key], {});\n",
              "          if (!dataTable) return;\n",
              "\n",
              "          const docLinkHtml = 'Like what you see? Visit the ' +\n",
              "            '<a target=\"_blank\" href=https://colab.research.google.com/notebooks/data_table.ipynb>data table notebook</a>'\n",
              "            + ' to learn more about interactive tables.';\n",
              "          element.innerHTML = '';\n",
              "          dataTable['output_type'] = 'display_data';\n",
              "          await google.colab.output.renderOutput(dataTable, element);\n",
              "          const docLink = document.createElement('div');\n",
              "          docLink.innerHTML = docLinkHtml;\n",
              "          element.appendChild(docLink);\n",
              "        }\n",
              "      </script>\n",
              "    </div>\n",
              "  </div>\n",
              "  "
            ],
            "text/plain": [
              "                  names labels    1    2    3    4    5    6    7    8  ...  \\\n",
              "0         Salsa-Regular      6  0.0  0.0  0.0  0.0  0.0  0.0  0.0  0.0  ...   \n",
              "1  MouseMemoirs-Regular      D  0.0  0.0  0.0  0.0  0.0  0.0  0.0  0.0  ...   \n",
              "2     Creepster-Regular      f  0.0  0.0  0.0  0.0  0.0  0.0  0.0  0.0  ...   \n",
              "3     SeoulNamsan-Light      /  0.0  0.0  0.0  0.0  0.0  0.0  0.0  0.0  ...   \n",
              "4  HachiMaruPop-Regular      F  0.0  0.0  0.0  0.0  0.0  0.0  0.0  0.0  ...   \n",
              "\n",
              "   775  776  777  778  779  780  781  782  783  784  \n",
              "0  0.0  0.0  0.0  0.0  0.0  0.0  0.0  0.0  0.0  0.0  \n",
              "1  0.0  0.0  0.0  0.0  0.0  0.0  0.0  0.0  0.0  0.0  \n",
              "2  0.0  0.0  0.0  0.0  0.0  0.0  0.0  0.0  0.0  0.0  \n",
              "3  0.0  0.0  0.0  0.0  0.0  0.0  0.0  0.0  0.0  0.0  \n",
              "4  0.0  0.0  0.0  0.0  0.0  0.0  0.0  0.0  0.0  0.0  \n",
              "\n",
              "[5 rows x 786 columns]"
            ]
          },
          "execution_count": 36,
          "metadata": {},
          "output_type": "execute_result"
        }
      ],
      "source": [
        "df.head()"
      ]
    },
    {
      "cell_type": "code",
      "execution_count": null,
      "metadata": {
        "colab": {
          "base_uri": "https://localhost:8080/",
          "height": 394
        },
        "id": "3KojbU_tzm1G",
        "outputId": "84de6a56-ed58-4401-f196-8f506efe87ad"
      },
      "outputs": [
        {
          "data": {
            "text/html": [
              "\n",
              "  <div id=\"df-a62512d4-cc7c-4ddb-8d3b-a57003c0ab74\">\n",
              "    <div class=\"colab-df-container\">\n",
              "      <div>\n",
              "<style scoped>\n",
              "    .dataframe tbody tr th:only-of-type {\n",
              "        vertical-align: middle;\n",
              "    }\n",
              "\n",
              "    .dataframe tbody tr th {\n",
              "        vertical-align: top;\n",
              "    }\n",
              "\n",
              "    .dataframe thead th {\n",
              "        text-align: right;\n",
              "    }\n",
              "</style>\n",
              "<table border=\"1\" class=\"dataframe\">\n",
              "  <thead>\n",
              "    <tr style=\"text-align: right;\">\n",
              "      <th></th>\n",
              "      <th>1</th>\n",
              "      <th>2</th>\n",
              "      <th>3</th>\n",
              "      <th>4</th>\n",
              "      <th>5</th>\n",
              "      <th>6</th>\n",
              "      <th>7</th>\n",
              "      <th>8</th>\n",
              "      <th>9</th>\n",
              "      <th>10</th>\n",
              "      <th>...</th>\n",
              "      <th>775</th>\n",
              "      <th>776</th>\n",
              "      <th>777</th>\n",
              "      <th>778</th>\n",
              "      <th>779</th>\n",
              "      <th>780</th>\n",
              "      <th>781</th>\n",
              "      <th>782</th>\n",
              "      <th>783</th>\n",
              "      <th>784</th>\n",
              "    </tr>\n",
              "  </thead>\n",
              "  <tbody>\n",
              "    <tr>\n",
              "      <th>count</th>\n",
              "      <td>274093.0</td>\n",
              "      <td>274093.0</td>\n",
              "      <td>274093.0</td>\n",
              "      <td>274093.0</td>\n",
              "      <td>274093.0</td>\n",
              "      <td>274093.0</td>\n",
              "      <td>274093.000000</td>\n",
              "      <td>274093.000000</td>\n",
              "      <td>274093.000000</td>\n",
              "      <td>274093.000000</td>\n",
              "      <td>...</td>\n",
              "      <td>274093.000000</td>\n",
              "      <td>274093.000000</td>\n",
              "      <td>274093.000000</td>\n",
              "      <td>274093.000000</td>\n",
              "      <td>274093.000000</td>\n",
              "      <td>274093.000000</td>\n",
              "      <td>274093.000000</td>\n",
              "      <td>274093.000000</td>\n",
              "      <td>274093.000000</td>\n",
              "      <td>274093.0</td>\n",
              "    </tr>\n",
              "    <tr>\n",
              "      <th>mean</th>\n",
              "      <td>0.0</td>\n",
              "      <td>0.0</td>\n",
              "      <td>0.0</td>\n",
              "      <td>0.0</td>\n",
              "      <td>0.0</td>\n",
              "      <td>0.0</td>\n",
              "      <td>0.000004</td>\n",
              "      <td>0.000011</td>\n",
              "      <td>0.001043</td>\n",
              "      <td>0.001518</td>\n",
              "      <td>...</td>\n",
              "      <td>0.002638</td>\n",
              "      <td>0.001562</td>\n",
              "      <td>0.001131</td>\n",
              "      <td>0.000894</td>\n",
              "      <td>0.000489</td>\n",
              "      <td>0.000317</td>\n",
              "      <td>0.000204</td>\n",
              "      <td>0.000033</td>\n",
              "      <td>0.000033</td>\n",
              "      <td>0.0</td>\n",
              "    </tr>\n",
              "    <tr>\n",
              "      <th>std</th>\n",
              "      <td>0.0</td>\n",
              "      <td>0.0</td>\n",
              "      <td>0.0</td>\n",
              "      <td>0.0</td>\n",
              "      <td>0.0</td>\n",
              "      <td>0.0</td>\n",
              "      <td>0.001910</td>\n",
              "      <td>0.004271</td>\n",
              "      <td>0.475743</td>\n",
              "      <td>0.494410</td>\n",
              "      <td>...</td>\n",
              "      <td>0.320080</td>\n",
              "      <td>0.179093</td>\n",
              "      <td>0.150590</td>\n",
              "      <td>0.189578</td>\n",
              "      <td>0.083345</td>\n",
              "      <td>0.067396</td>\n",
              "      <td>0.053345</td>\n",
              "      <td>0.012813</td>\n",
              "      <td>0.012813</td>\n",
              "      <td>0.0</td>\n",
              "    </tr>\n",
              "    <tr>\n",
              "      <th>min</th>\n",
              "      <td>0.0</td>\n",
              "      <td>0.0</td>\n",
              "      <td>0.0</td>\n",
              "      <td>0.0</td>\n",
              "      <td>0.0</td>\n",
              "      <td>0.0</td>\n",
              "      <td>0.000000</td>\n",
              "      <td>0.000000</td>\n",
              "      <td>0.000000</td>\n",
              "      <td>0.000000</td>\n",
              "      <td>...</td>\n",
              "      <td>0.000000</td>\n",
              "      <td>0.000000</td>\n",
              "      <td>0.000000</td>\n",
              "      <td>0.000000</td>\n",
              "      <td>0.000000</td>\n",
              "      <td>0.000000</td>\n",
              "      <td>0.000000</td>\n",
              "      <td>0.000000</td>\n",
              "      <td>0.000000</td>\n",
              "      <td>0.0</td>\n",
              "    </tr>\n",
              "    <tr>\n",
              "      <th>25%</th>\n",
              "      <td>0.0</td>\n",
              "      <td>0.0</td>\n",
              "      <td>0.0</td>\n",
              "      <td>0.0</td>\n",
              "      <td>0.0</td>\n",
              "      <td>0.0</td>\n",
              "      <td>0.000000</td>\n",
              "      <td>0.000000</td>\n",
              "      <td>0.000000</td>\n",
              "      <td>0.000000</td>\n",
              "      <td>...</td>\n",
              "      <td>0.000000</td>\n",
              "      <td>0.000000</td>\n",
              "      <td>0.000000</td>\n",
              "      <td>0.000000</td>\n",
              "      <td>0.000000</td>\n",
              "      <td>0.000000</td>\n",
              "      <td>0.000000</td>\n",
              "      <td>0.000000</td>\n",
              "      <td>0.000000</td>\n",
              "      <td>0.0</td>\n",
              "    </tr>\n",
              "    <tr>\n",
              "      <th>50%</th>\n",
              "      <td>0.0</td>\n",
              "      <td>0.0</td>\n",
              "      <td>0.0</td>\n",
              "      <td>0.0</td>\n",
              "      <td>0.0</td>\n",
              "      <td>0.0</td>\n",
              "      <td>0.000000</td>\n",
              "      <td>0.000000</td>\n",
              "      <td>0.000000</td>\n",
              "      <td>0.000000</td>\n",
              "      <td>...</td>\n",
              "      <td>0.000000</td>\n",
              "      <td>0.000000</td>\n",
              "      <td>0.000000</td>\n",
              "      <td>0.000000</td>\n",
              "      <td>0.000000</td>\n",
              "      <td>0.000000</td>\n",
              "      <td>0.000000</td>\n",
              "      <td>0.000000</td>\n",
              "      <td>0.000000</td>\n",
              "      <td>0.0</td>\n",
              "    </tr>\n",
              "    <tr>\n",
              "      <th>75%</th>\n",
              "      <td>0.0</td>\n",
              "      <td>0.0</td>\n",
              "      <td>0.0</td>\n",
              "      <td>0.0</td>\n",
              "      <td>0.0</td>\n",
              "      <td>0.0</td>\n",
              "      <td>0.000000</td>\n",
              "      <td>0.000000</td>\n",
              "      <td>0.000000</td>\n",
              "      <td>0.000000</td>\n",
              "      <td>...</td>\n",
              "      <td>0.000000</td>\n",
              "      <td>0.000000</td>\n",
              "      <td>0.000000</td>\n",
              "      <td>0.000000</td>\n",
              "      <td>0.000000</td>\n",
              "      <td>0.000000</td>\n",
              "      <td>0.000000</td>\n",
              "      <td>0.000000</td>\n",
              "      <td>0.000000</td>\n",
              "      <td>0.0</td>\n",
              "    </tr>\n",
              "    <tr>\n",
              "      <th>max</th>\n",
              "      <td>0.0</td>\n",
              "      <td>0.0</td>\n",
              "      <td>0.0</td>\n",
              "      <td>0.0</td>\n",
              "      <td>0.0</td>\n",
              "      <td>0.0</td>\n",
              "      <td>1.000000</td>\n",
              "      <td>2.000000</td>\n",
              "      <td>248.000000</td>\n",
              "      <td>245.000000</td>\n",
              "      <td>...</td>\n",
              "      <td>103.000000</td>\n",
              "      <td>59.000000</td>\n",
              "      <td>41.000000</td>\n",
              "      <td>88.000000</td>\n",
              "      <td>21.000000</td>\n",
              "      <td>20.000000</td>\n",
              "      <td>19.000000</td>\n",
              "      <td>6.000000</td>\n",
              "      <td>6.000000</td>\n",
              "      <td>0.0</td>\n",
              "    </tr>\n",
              "  </tbody>\n",
              "</table>\n",
              "<p>8 rows × 784 columns</p>\n",
              "</div>\n",
              "      <button class=\"colab-df-convert\" onclick=\"convertToInteractive('df-a62512d4-cc7c-4ddb-8d3b-a57003c0ab74')\"\n",
              "              title=\"Convert this dataframe to an interactive table.\"\n",
              "              style=\"display:none;\">\n",
              "        \n",
              "  <svg xmlns=\"http://www.w3.org/2000/svg\" height=\"24px\"viewBox=\"0 0 24 24\"\n",
              "       width=\"24px\">\n",
              "    <path d=\"M0 0h24v24H0V0z\" fill=\"none\"/>\n",
              "    <path d=\"M18.56 5.44l.94 2.06.94-2.06 2.06-.94-2.06-.94-.94-2.06-.94 2.06-2.06.94zm-11 1L8.5 8.5l.94-2.06 2.06-.94-2.06-.94L8.5 2.5l-.94 2.06-2.06.94zm10 10l.94 2.06.94-2.06 2.06-.94-2.06-.94-.94-2.06-.94 2.06-2.06.94z\"/><path d=\"M17.41 7.96l-1.37-1.37c-.4-.4-.92-.59-1.43-.59-.52 0-1.04.2-1.43.59L10.3 9.45l-7.72 7.72c-.78.78-.78 2.05 0 2.83L4 21.41c.39.39.9.59 1.41.59.51 0 1.02-.2 1.41-.59l7.78-7.78 2.81-2.81c.8-.78.8-2.07 0-2.86zM5.41 20L4 18.59l7.72-7.72 1.47 1.35L5.41 20z\"/>\n",
              "  </svg>\n",
              "      </button>\n",
              "      \n",
              "  <style>\n",
              "    .colab-df-container {\n",
              "      display:flex;\n",
              "      flex-wrap:wrap;\n",
              "      gap: 12px;\n",
              "    }\n",
              "\n",
              "    .colab-df-convert {\n",
              "      background-color: #E8F0FE;\n",
              "      border: none;\n",
              "      border-radius: 50%;\n",
              "      cursor: pointer;\n",
              "      display: none;\n",
              "      fill: #1967D2;\n",
              "      height: 32px;\n",
              "      padding: 0 0 0 0;\n",
              "      width: 32px;\n",
              "    }\n",
              "\n",
              "    .colab-df-convert:hover {\n",
              "      background-color: #E2EBFA;\n",
              "      box-shadow: 0px 1px 2px rgba(60, 64, 67, 0.3), 0px 1px 3px 1px rgba(60, 64, 67, 0.15);\n",
              "      fill: #174EA6;\n",
              "    }\n",
              "\n",
              "    [theme=dark] .colab-df-convert {\n",
              "      background-color: #3B4455;\n",
              "      fill: #D2E3FC;\n",
              "    }\n",
              "\n",
              "    [theme=dark] .colab-df-convert:hover {\n",
              "      background-color: #434B5C;\n",
              "      box-shadow: 0px 1px 3px 1px rgba(0, 0, 0, 0.15);\n",
              "      filter: drop-shadow(0px 1px 2px rgba(0, 0, 0, 0.3));\n",
              "      fill: #FFFFFF;\n",
              "    }\n",
              "  </style>\n",
              "\n",
              "      <script>\n",
              "        const buttonEl =\n",
              "          document.querySelector('#df-a62512d4-cc7c-4ddb-8d3b-a57003c0ab74 button.colab-df-convert');\n",
              "        buttonEl.style.display =\n",
              "          google.colab.kernel.accessAllowed ? 'block' : 'none';\n",
              "\n",
              "        async function convertToInteractive(key) {\n",
              "          const element = document.querySelector('#df-a62512d4-cc7c-4ddb-8d3b-a57003c0ab74');\n",
              "          const dataTable =\n",
              "            await google.colab.kernel.invokeFunction('convertToInteractive',\n",
              "                                                     [key], {});\n",
              "          if (!dataTable) return;\n",
              "\n",
              "          const docLinkHtml = 'Like what you see? Visit the ' +\n",
              "            '<a target=\"_blank\" href=https://colab.research.google.com/notebooks/data_table.ipynb>data table notebook</a>'\n",
              "            + ' to learn more about interactive tables.';\n",
              "          element.innerHTML = '';\n",
              "          dataTable['output_type'] = 'display_data';\n",
              "          await google.colab.output.renderOutput(dataTable, element);\n",
              "          const docLink = document.createElement('div');\n",
              "          docLink.innerHTML = docLinkHtml;\n",
              "          element.appendChild(docLink);\n",
              "        }\n",
              "      </script>\n",
              "    </div>\n",
              "  </div>\n",
              "  "
            ],
            "text/plain": [
              "              1         2         3         4         5         6  \\\n",
              "count  274093.0  274093.0  274093.0  274093.0  274093.0  274093.0   \n",
              "mean        0.0       0.0       0.0       0.0       0.0       0.0   \n",
              "std         0.0       0.0       0.0       0.0       0.0       0.0   \n",
              "min         0.0       0.0       0.0       0.0       0.0       0.0   \n",
              "25%         0.0       0.0       0.0       0.0       0.0       0.0   \n",
              "50%         0.0       0.0       0.0       0.0       0.0       0.0   \n",
              "75%         0.0       0.0       0.0       0.0       0.0       0.0   \n",
              "max         0.0       0.0       0.0       0.0       0.0       0.0   \n",
              "\n",
              "                   7              8              9             10  ...  \\\n",
              "count  274093.000000  274093.000000  274093.000000  274093.000000  ...   \n",
              "mean        0.000004       0.000011       0.001043       0.001518  ...   \n",
              "std         0.001910       0.004271       0.475743       0.494410  ...   \n",
              "min         0.000000       0.000000       0.000000       0.000000  ...   \n",
              "25%         0.000000       0.000000       0.000000       0.000000  ...   \n",
              "50%         0.000000       0.000000       0.000000       0.000000  ...   \n",
              "75%         0.000000       0.000000       0.000000       0.000000  ...   \n",
              "max         1.000000       2.000000     248.000000     245.000000  ...   \n",
              "\n",
              "                 775            776            777            778  \\\n",
              "count  274093.000000  274093.000000  274093.000000  274093.000000   \n",
              "mean        0.002638       0.001562       0.001131       0.000894   \n",
              "std         0.320080       0.179093       0.150590       0.189578   \n",
              "min         0.000000       0.000000       0.000000       0.000000   \n",
              "25%         0.000000       0.000000       0.000000       0.000000   \n",
              "50%         0.000000       0.000000       0.000000       0.000000   \n",
              "75%         0.000000       0.000000       0.000000       0.000000   \n",
              "max       103.000000      59.000000      41.000000      88.000000   \n",
              "\n",
              "                 779            780            781            782  \\\n",
              "count  274093.000000  274093.000000  274093.000000  274093.000000   \n",
              "mean        0.000489       0.000317       0.000204       0.000033   \n",
              "std         0.083345       0.067396       0.053345       0.012813   \n",
              "min         0.000000       0.000000       0.000000       0.000000   \n",
              "25%         0.000000       0.000000       0.000000       0.000000   \n",
              "50%         0.000000       0.000000       0.000000       0.000000   \n",
              "75%         0.000000       0.000000       0.000000       0.000000   \n",
              "max        21.000000      20.000000      19.000000       6.000000   \n",
              "\n",
              "                 783       784  \n",
              "count  274093.000000  274093.0  \n",
              "mean        0.000033       0.0  \n",
              "std         0.012813       0.0  \n",
              "min         0.000000       0.0  \n",
              "25%         0.000000       0.0  \n",
              "50%         0.000000       0.0  \n",
              "75%         0.000000       0.0  \n",
              "max         6.000000       0.0  \n",
              "\n",
              "[8 rows x 784 columns]"
            ]
          },
          "execution_count": 37,
          "metadata": {},
          "output_type": "execute_result"
        }
      ],
      "source": [
        "df.describe()"
      ]
    },
    {
      "cell_type": "markdown",
      "metadata": {
        "id": "KNJhDf_TzxkC"
      },
      "source": [
        "Now lets dive into data : We have 2990 font-styles "
      ]
    },
    {
      "cell_type": "code",
      "execution_count": null,
      "metadata": {
        "colab": {
          "base_uri": "https://localhost:8080/"
        },
        "id": "WRumGvv3zoX2",
        "outputId": "7ae2e4b3-ba4b-47b0-a01f-1669874969ad"
      },
      "outputs": [
        {
          "name": "stdout",
          "output_type": "stream",
          "text": [
            "['Salsa-Regular' 'MouseMemoirs-Regular' 'Creepster-Regular' ...\n",
            " 'NotoSansArabic[wdth,wght]' 'Taprom' 'NotoSansSymbols2-Regular']\n",
            "2990\n"
          ]
        }
      ],
      "source": [
        "names_of_font=df['names'].unique()\n",
        "print(names_of_font)\n",
        "\n",
        "count_of_font=df['names'].nunique()\n",
        "print(count_of_font)"
      ]
    },
    {
      "cell_type": "markdown",
      "metadata": {
        "id": "dhDU2GMlzuKk"
      },
      "source": [
        "We have 94 characters, now lets see what kind of characters we have"
      ]
    },
    {
      "cell_type": "code",
      "execution_count": null,
      "metadata": {
        "colab": {
          "base_uri": "https://localhost:8080/"
        },
        "id": "GxjNK9gGzsHv",
        "outputId": "09131756-a982-49fc-f9a3-3abca91f4ef1"
      },
      "outputs": [
        {
          "name": "stdout",
          "output_type": "stream",
          "text": [
            "94\n"
          ]
        }
      ],
      "source": [
        "characters_count=df['labels'].nunique()\n",
        "print(characters_count)"
      ]
    },
    {
      "cell_type": "markdown",
      "metadata": {
        "id": "ee2102a9"
      },
      "source": [
        "## Data Pre Porcessing :\n",
        "\n",
        "We will need this splitting in order to correctly label the predictions\n",
        "\n",
        "Step 1 : Defining types of data labels that can be present  <br>\n",
        "1.   Alphabets \n",
        "2.   Numbers\n",
        "3.   Symbols\n",
        "\n",
        "Step 2 : Get the regex for each type of data labels \n",
        "\n",
        "Step 3 : Creating Groups for each of them\n"
      ]
    },
    {
      "cell_type": "code",
      "execution_count": null,
      "metadata": {
        "colab": {
          "base_uri": "https://localhost:8080/"
        },
        "id": "be1c05d7",
        "outputId": "15e5779e-ef5f-4a14-f383-c055c01430ae"
      },
      "outputs": [
        {
          "name": "stdout",
          "output_type": "stream",
          "text": [
            "No of Categories: 4\n"
          ]
        }
      ],
      "source": [
        "# Grouping All labels\n",
        "all_ = list(df['labels'].unique())\n",
        "\n",
        "# Regex Pattern to check alphabets, digits and special symbols\n",
        "pattern_uc = re.compile(r\"[A-Z]\") #regex for capital alphabets\n",
        "pattern_lc = re.compile(r\"[a-z]\")  #regex for small alphabets\n",
        "pattern_numbers = re.compile(r\"[0-9]\")  #regex for numbers\n",
        "pattern_symbols = re.compile(r\"[\\W]|[\\_\\,]\")  #regex for Special Characters\n",
        "\n",
        "\n",
        "# Extracting Pattern\n",
        "lower_case = pattern_lc.findall(str(all_))\n",
        "Upper_case = pattern_uc.findall(str(all_))\n",
        "Numbers_ = pattern_numbers.findall(str(all_))\n",
        "Symbols_ = list(set(pattern_symbols.findall(str(all_))))\n",
        "\n",
        "\n",
        "# Creating Gropus\n",
        "group = 1\n",
        "for list_ in (lower_case,Upper_case,Numbers_,Symbols_):\n",
        "    df.loc[df['labels'].isin(list_), 'group'] = str(group)\n",
        "    group += 1\n",
        "    #print(list_)\n",
        "print(\"No of Categories:\",group-1)\n"
      ]
    },
    {
      "cell_type": "code",
      "execution_count": null,
      "metadata": {
        "id": "0ad84bab"
      },
      "outputs": [],
      "source": [
        "# defining X and y for training\n",
        "X = df.iloc[:, 2:-1].astype('float32') \n",
        "y  = df[['labels']] "
      ]
    },
    {
      "cell_type": "code",
      "execution_count": null,
      "metadata": {
        "id": "c195f464"
      },
      "outputs": [],
      "source": [
        "#preping the data to create dictionary\n",
        "labels = y['labels'].unique()\n",
        "values = [num for num in range(len(df['labels'].unique()))]\n",
        "label_dict= dict(zip(labels,values)) #Creating Dictionary \n",
        "label_dict_inv = dict(zip(values,labels))"
      ]
    },
    {
      "cell_type": "code",
      "execution_count": null,
      "metadata": {
        "id": "963644b7"
      },
      "outputs": [],
      "source": [
        "# Mapping\n",
        "y['labels'].replace(label_dict, inplace=True) #Maping Values"
      ]
    },
    {
      "cell_type": "code",
      "execution_count": null,
      "metadata": {
        "colab": {
          "base_uri": "https://localhost:8080/"
        },
        "id": "a9ed8fa3",
        "outputId": "43776e1d-3eb6-4e9f-c013-467bc50b7642"
      },
      "outputs": [
        {
          "name": "stdout",
          "output_type": "stream",
          "text": [
            "{'6': 0, 'D': 1, 'f': 2, '/': 3, 'F': 4, 'x': 5, 'J': 6, '8': 7, 'H': 8, 'k': 9, '@': 10, '1': 11, '=': 12, 'g': 13, ')': 14, '2': 15, 'd': 16, '^': 17, '3': 18, 't': 19, '#': 20, '.': 21, '4': 22, 'o': 23, '\"': 24, 'y': 25, 'A': 26, 'u': 27, 'G': 28, '-': 29, 'm': 30, 'W': 31, '&': 32, 'c': 33, '9': 34, 'N': 35, ']': 36, 'P': 37, 'X': 38, '|': 39, '}': 40, 'h': 41, '7': 42, 'j': 43, '5': 44, '>': 45, '?': 46, 'b': 47, '*': 48, 'w': 49, 'l': 50, '0': 51, '$': 52, 'I': 53, 'Y': 54, '%': 55, ':': 56, 'T': 57, 'K': 58, 'E': 59, '<': 60, 'V': 61, '{': 62, 'M': 63, 'S': 64, 'a': 65, 'i': 66, 'r': 67, \"'\": 68, 'p': 69, ';': 70, '[': 71, '+': 72, 'e': 73, 'U': 74, '(': 75, 's': 76, '~': 77, ',': 78, 'C': 79, 'q': 80, '_': 81, 'n': 82, 'B': 83, 'z': 84, 'v': 85, 'O': 86, 'R': 87, '`': 88, 'Z': 89, 'Q': 90, 'L': 91, '!': 92, '\\\\': 93}\n",
            "{0: '6', 1: 'D', 2: 'f', 3: '/', 4: 'F', 5: 'x', 6: 'J', 7: '8', 8: 'H', 9: 'k', 10: '@', 11: '1', 12: '=', 13: 'g', 14: ')', 15: '2', 16: 'd', 17: '^', 18: '3', 19: 't', 20: '#', 21: '.', 22: '4', 23: 'o', 24: '\"', 25: 'y', 26: 'A', 27: 'u', 28: 'G', 29: '-', 30: 'm', 31: 'W', 32: '&', 33: 'c', 34: '9', 35: 'N', 36: ']', 37: 'P', 38: 'X', 39: '|', 40: '}', 41: 'h', 42: '7', 43: 'j', 44: '5', 45: '>', 46: '?', 47: 'b', 48: '*', 49: 'w', 50: 'l', 51: '0', 52: '$', 53: 'I', 54: 'Y', 55: '%', 56: ':', 57: 'T', 58: 'K', 59: 'E', 60: '<', 61: 'V', 62: '{', 63: 'M', 64: 'S', 65: 'a', 66: 'i', 67: 'r', 68: \"'\", 69: 'p', 70: ';', 71: '[', 72: '+', 73: 'e', 74: 'U', 75: '(', 76: 's', 77: '~', 78: ',', 79: 'C', 80: 'q', 81: '_', 82: 'n', 83: 'B', 84: 'z', 85: 'v', 86: 'O', 87: 'R', 88: '`', 89: 'Z', 90: 'Q', 91: 'L', 92: '!', 93: '\\\\'}\n"
          ]
        }
      ],
      "source": [
        "#Checking the mappings\n",
        "print(label_dict)\n",
        "print(label_dict_inv)"
      ]
    },
    {
      "cell_type": "markdown",
      "metadata": {
        "id": "2dae0284"
      },
      "source": [
        "## Splitting Dataset "
      ]
    },
    {
      "cell_type": "code",
      "execution_count": null,
      "metadata": {
        "id": "f958a33b"
      },
      "outputs": [],
      "source": [
        "# creating test train split of 80% and 20%\n",
        "X_train, X_test, y_train, y_test = train_test_split(X, y, test_size = 0.2)"
      ]
    },
    {
      "cell_type": "code",
      "execution_count": null,
      "metadata": {
        "colab": {
          "base_uri": "https://localhost:8080/",
          "height": 424
        },
        "id": "acRj2HYx3UtX",
        "outputId": "e93e0932-88a9-4cff-db4e-2c9cf4db2250"
      },
      "outputs": [
        {
          "data": {
            "text/html": [
              "\n",
              "  <div id=\"df-6e5348d4-1b42-4858-bc49-57dae45933af\">\n",
              "    <div class=\"colab-df-container\">\n",
              "      <div>\n",
              "<style scoped>\n",
              "    .dataframe tbody tr th:only-of-type {\n",
              "        vertical-align: middle;\n",
              "    }\n",
              "\n",
              "    .dataframe tbody tr th {\n",
              "        vertical-align: top;\n",
              "    }\n",
              "\n",
              "    .dataframe thead th {\n",
              "        text-align: right;\n",
              "    }\n",
              "</style>\n",
              "<table border=\"1\" class=\"dataframe\">\n",
              "  <thead>\n",
              "    <tr style=\"text-align: right;\">\n",
              "      <th></th>\n",
              "      <th>labels</th>\n",
              "    </tr>\n",
              "  </thead>\n",
              "  <tbody>\n",
              "    <tr>\n",
              "      <th>180341</th>\n",
              "      <td>57</td>\n",
              "    </tr>\n",
              "    <tr>\n",
              "      <th>138969</th>\n",
              "      <td>63</td>\n",
              "    </tr>\n",
              "    <tr>\n",
              "      <th>63902</th>\n",
              "      <td>0</td>\n",
              "    </tr>\n",
              "    <tr>\n",
              "      <th>150998</th>\n",
              "      <td>80</td>\n",
              "    </tr>\n",
              "    <tr>\n",
              "      <th>196238</th>\n",
              "      <td>56</td>\n",
              "    </tr>\n",
              "    <tr>\n",
              "      <th>...</th>\n",
              "      <td>...</td>\n",
              "    </tr>\n",
              "    <tr>\n",
              "      <th>36653</th>\n",
              "      <td>58</td>\n",
              "    </tr>\n",
              "    <tr>\n",
              "      <th>241497</th>\n",
              "      <td>27</td>\n",
              "    </tr>\n",
              "    <tr>\n",
              "      <th>124883</th>\n",
              "      <td>25</td>\n",
              "    </tr>\n",
              "    <tr>\n",
              "      <th>126840</th>\n",
              "      <td>66</td>\n",
              "    </tr>\n",
              "    <tr>\n",
              "      <th>96384</th>\n",
              "      <td>90</td>\n",
              "    </tr>\n",
              "  </tbody>\n",
              "</table>\n",
              "<p>219274 rows × 1 columns</p>\n",
              "</div>\n",
              "      <button class=\"colab-df-convert\" onclick=\"convertToInteractive('df-6e5348d4-1b42-4858-bc49-57dae45933af')\"\n",
              "              title=\"Convert this dataframe to an interactive table.\"\n",
              "              style=\"display:none;\">\n",
              "        \n",
              "  <svg xmlns=\"http://www.w3.org/2000/svg\" height=\"24px\"viewBox=\"0 0 24 24\"\n",
              "       width=\"24px\">\n",
              "    <path d=\"M0 0h24v24H0V0z\" fill=\"none\"/>\n",
              "    <path d=\"M18.56 5.44l.94 2.06.94-2.06 2.06-.94-2.06-.94-.94-2.06-.94 2.06-2.06.94zm-11 1L8.5 8.5l.94-2.06 2.06-.94-2.06-.94L8.5 2.5l-.94 2.06-2.06.94zm10 10l.94 2.06.94-2.06 2.06-.94-2.06-.94-.94-2.06-.94 2.06-2.06.94z\"/><path d=\"M17.41 7.96l-1.37-1.37c-.4-.4-.92-.59-1.43-.59-.52 0-1.04.2-1.43.59L10.3 9.45l-7.72 7.72c-.78.78-.78 2.05 0 2.83L4 21.41c.39.39.9.59 1.41.59.51 0 1.02-.2 1.41-.59l7.78-7.78 2.81-2.81c.8-.78.8-2.07 0-2.86zM5.41 20L4 18.59l7.72-7.72 1.47 1.35L5.41 20z\"/>\n",
              "  </svg>\n",
              "      </button>\n",
              "      \n",
              "  <style>\n",
              "    .colab-df-container {\n",
              "      display:flex;\n",
              "      flex-wrap:wrap;\n",
              "      gap: 12px;\n",
              "    }\n",
              "\n",
              "    .colab-df-convert {\n",
              "      background-color: #E8F0FE;\n",
              "      border: none;\n",
              "      border-radius: 50%;\n",
              "      cursor: pointer;\n",
              "      display: none;\n",
              "      fill: #1967D2;\n",
              "      height: 32px;\n",
              "      padding: 0 0 0 0;\n",
              "      width: 32px;\n",
              "    }\n",
              "\n",
              "    .colab-df-convert:hover {\n",
              "      background-color: #E2EBFA;\n",
              "      box-shadow: 0px 1px 2px rgba(60, 64, 67, 0.3), 0px 1px 3px 1px rgba(60, 64, 67, 0.15);\n",
              "      fill: #174EA6;\n",
              "    }\n",
              "\n",
              "    [theme=dark] .colab-df-convert {\n",
              "      background-color: #3B4455;\n",
              "      fill: #D2E3FC;\n",
              "    }\n",
              "\n",
              "    [theme=dark] .colab-df-convert:hover {\n",
              "      background-color: #434B5C;\n",
              "      box-shadow: 0px 1px 3px 1px rgba(0, 0, 0, 0.15);\n",
              "      filter: drop-shadow(0px 1px 2px rgba(0, 0, 0, 0.3));\n",
              "      fill: #FFFFFF;\n",
              "    }\n",
              "  </style>\n",
              "\n",
              "      <script>\n",
              "        const buttonEl =\n",
              "          document.querySelector('#df-6e5348d4-1b42-4858-bc49-57dae45933af button.colab-df-convert');\n",
              "        buttonEl.style.display =\n",
              "          google.colab.kernel.accessAllowed ? 'block' : 'none';\n",
              "\n",
              "        async function convertToInteractive(key) {\n",
              "          const element = document.querySelector('#df-6e5348d4-1b42-4858-bc49-57dae45933af');\n",
              "          const dataTable =\n",
              "            await google.colab.kernel.invokeFunction('convertToInteractive',\n",
              "                                                     [key], {});\n",
              "          if (!dataTable) return;\n",
              "\n",
              "          const docLinkHtml = 'Like what you see? Visit the ' +\n",
              "            '<a target=\"_blank\" href=https://colab.research.google.com/notebooks/data_table.ipynb>data table notebook</a>'\n",
              "            + ' to learn more about interactive tables.';\n",
              "          element.innerHTML = '';\n",
              "          dataTable['output_type'] = 'display_data';\n",
              "          await google.colab.output.renderOutput(dataTable, element);\n",
              "          const docLink = document.createElement('div');\n",
              "          docLink.innerHTML = docLinkHtml;\n",
              "          element.appendChild(docLink);\n",
              "        }\n",
              "      </script>\n",
              "    </div>\n",
              "  </div>\n",
              "  "
            ],
            "text/plain": [
              "        labels\n",
              "180341      57\n",
              "138969      63\n",
              "63902        0\n",
              "150998      80\n",
              "196238      56\n",
              "...        ...\n",
              "36653       58\n",
              "241497      27\n",
              "124883      25\n",
              "126840      66\n",
              "96384       90\n",
              "\n",
              "[219274 rows x 1 columns]"
            ]
          },
          "execution_count": 46,
          "metadata": {},
          "output_type": "execute_result"
        }
      ],
      "source": [
        "y_train"
      ]
    },
    {
      "cell_type": "code",
      "execution_count": null,
      "metadata": {
        "colab": {
          "base_uri": "https://localhost:8080/"
        },
        "id": "927eb150",
        "outputId": "16a7befc-4004-4e46-9175-ab68a3872ae5"
      },
      "outputs": [
        {
          "name": "stdout",
          "output_type": "stream",
          "text": [
            "X:Train, Test data shape:(219274, 28, 28),(54819, 28, 28)\n",
            "Y:Train, Test data shape:(219274, 94),(54819, 94)\n"
          ]
        }
      ],
      "source": [
        "# preping the inputs for training\n",
        "Length, Height = 28,28 #lenght and height of the images we are giving it 28X28\n",
        "NCl = y_train.nunique()[0] # Unique targets\n",
        "\n",
        "# N of images 28x28\n",
        "X_train = np.reshape(X_train.values, (X_train.shape[0] ,Length, Height)) \n",
        "X_test = np.reshape(X_test.values, (X_test.shape[0] ,Length, Height))\n",
        "\n",
        "# Target into Categorical Values\n",
        "y_train = to_categorical(y_train, NCl, dtype='int' )\n",
        "y_test = to_categorical(y_test, NCl, dtype='int' )\n",
        "\n",
        "print(f'X:Train, Test data shape:{X_train.shape},{X_test.shape}')\n",
        "print(f'Y:Train, Test data shape:{y_train.shape},{y_test.shape}')"
      ]
    },
    {
      "cell_type": "code",
      "execution_count": null,
      "metadata": {
        "colab": {
          "base_uri": "https://localhost:8080/"
        },
        "id": "PxGZByEW18wH",
        "outputId": "d9e674d5-b03f-47c3-fae8-efa57980ff95"
      },
      "outputs": [
        {
          "data": {
            "text/plain": [
              "array([[0, 0, 0, ..., 0, 0, 0],\n",
              "       [0, 0, 0, ..., 0, 0, 0],\n",
              "       [0, 0, 0, ..., 0, 0, 0],\n",
              "       ...,\n",
              "       [0, 0, 0, ..., 0, 0, 0],\n",
              "       [0, 0, 0, ..., 0, 0, 0],\n",
              "       [0, 0, 0, ..., 0, 0, 0]])"
            ]
          },
          "execution_count": 49,
          "metadata": {},
          "output_type": "execute_result"
        }
      ],
      "source": [
        "y_test"
      ]
    },
    {
      "cell_type": "markdown",
      "metadata": {
        "id": "dc585234"
      },
      "source": [
        "## Sample Dataset"
      ]
    },
    {
      "cell_type": "code",
      "execution_count": null,
      "metadata": {
        "colab": {
          "base_uri": "https://localhost:8080/",
          "height": 555
        },
        "id": "d4c4de46",
        "outputId": "9025b8ec-5121-4c06-b5e6-09a566f52e9a"
      },
      "outputs": [
        {
          "data": {
            "image/png": "[encoded data removed]",
            "text/plain": [
              "<Figure size 720x720 with 12 Axes>"
            ]
          },
          "metadata": {},
          "output_type": "display_data"
        }
      ],
      "source": [
        "# displaying the charecters of our dataset\n",
        "random = shuffle(X_train[:500]) #Randomly shuffle\n",
        "fig,ax = plt.subplots(3,4 , figsize = (10,10)) \n",
        "axes = ax.flatten()\n",
        "for i in range(12):\n",
        "    img = np.reshape(random[i], (28,28)) # reshaping it for displaying\n",
        "    axes[i].imshow(img, cmap=\"Greys\")\n",
        "    img_final =np.reshape(img, (1,28,28,1)) # reshapng it for passing into model for prediction\n",
        "    axes[i].grid()"
      ]
    },
    {
      "cell_type": "markdown",
      "metadata": {
        "id": "45597c4c"
      },
      "source": [
        "## Libraries and input for CNN"
      ]
    },
    {
      "cell_type": "code",
      "execution_count": null,
      "metadata": {
        "id": "7937dac2"
      },
      "outputs": [],
      "source": [
        "# importing libraries for building neural netwrok\n",
        "from tensorflow.keras.models import Sequential,load_model\n",
        "from tensorflow.keras.layers import Dense, Conv2D, MaxPool2D,Flatten,Dropout,BatchNormalization\n",
        "from tensorflow.keras.optimizers import SGD, Adam, RMSprop\n",
        "from tensorflow.keras.callbacks import EarlyStopping\n",
        "from tensorflow.keras.preprocessing.image import ImageDataGenerator"
      ]
    },
    {
      "cell_type": "markdown",
      "metadata": {
        "id": "YUo5YV7GpXp3"
      },
      "source": [
        "The variable RGB to 1, which indicates that the images used for training and testing are grayscale (i.e., single-channel) images. In contrast, if the images were color (i.e., RGB) images, then RGB would be set to 3, representing the three color channels (Red, Green, and Blue).\n",
        "\n",
        "Next, the code reshapes the training and testing image data using the reshape method of NumPy. This is done to ensure that the data has the correct dimensions expected by the deep learning model. Specifically, the reshape method is used to convert the shape of the image data from a 2D array to a 4D array of shape (num_samples, length, height, RGB). The num_samples variable represents the number of images in the dataset, length and height represent the dimensions of each image in pixels, and RGB represents the number of channels in the image.\n",
        "\n",
        "After reshaping, the code then normalizes the pixel values of the image data to be between 0 and 1 by dividing the pixel values by 255. This is done to ensure that the image data has a similar scale, which can improve the performance of the deep learning model.\n",
        "\n",
        "Finally, the code prints the shapes of the training and testing image data to confirm that they have been reshaped and normalized correctly."
      ]
    },
    {
      "cell_type": "code",
      "execution_count": null,
      "metadata": {
        "colab": {
          "base_uri": "https://localhost:8080/"
        },
        "id": "5326fe92",
        "outputId": "8fb82fd3-9127-4b34-e6fa-c7cdea8e16aa"
      },
      "outputs": [
        {
          "name": "stdout",
          "output_type": "stream",
          "text": [
            "Train, Test shapes: (219274, 28, 28, 1),(54819, 28, 28, 1)\n"
          ]
        }
      ],
      "source": [
        "RGB = 1  # In this case only one instead of 3 because we dont have Color images\n",
        "X_train = X_train.reshape(X_train.shape[0], X_train.shape[1],X_train.shape[2], RGB)\n",
        "X_test = X_test.reshape(X_test.shape[0], X_test.shape[1], X_test.shape[2],RGB)\n",
        "\n",
        "#normalizing the image data\n",
        "X_train = X_train/255\n",
        "X_test = X_test/255\n",
        "print(f'Train, Test shapes: {X_train.shape},{X_test.shape}')"
      ]
    },
    {
      "cell_type": "markdown",
      "metadata": {
        "id": "_l0J2QbCpsbM"
      },
      "source": [
        "The model consists of five convolutional layers with increasing number of filters (32, 64, 128, 256, and 512), all using a kernel size of (3,3) and padding set to 'same' to maintain the same dimensions of the input.\n",
        "\n",
        "After each convolutional layer, a batch normalization layer is added to standardize the inputs. An activation function (ReLU) is also applied after the batch normalization layer.\n",
        "\n",
        "MaxPooling2D is used to reduce the spatial dimensions of the output. Dropout is applied to prevent overfitting.\n",
        "\n",
        "The flattened output is then passed through a fully connected dense layer with 350 neurons, followed by another batch normalization layer, ReLU activation function, and dropout layer.\n",
        "\n",
        "Finally, a dense output layer with a softmax activation function is used to classify the input images into one of the NCl classes.\n",
        "\n",
        "The model is compiled using categorical_crossentropy loss function and Adam optimizer. An early stopping callback is defined to stop the training process if the loss does not improve after 5 epochs.\n",
        "\n",
        "The model is then ready for training with batch size set to 64 and epochs set to 20."
      ]
    },
    {
      "cell_type": "code",
      "execution_count": null,
      "metadata": {
        "colab": {
          "base_uri": "https://localhost:8080/"
        },
        "id": "2f3c14b4",
        "outputId": "c7981037-397e-498f-8162-7faf14fe34ad"
      },
      "outputs": [
        {
          "name": "stdout",
          "output_type": "stream",
          "text": [
            "Model: \"sequential\"\n",
            "_________________________________________________________________\n",
            " Layer (type)                Output Shape              Param #   \n",
            "=================================================================\n",
            " conv2d (Conv2D)             (None, 28, 28, 32)        320       \n",
            "                                                                 \n",
            " conv2d_1 (Conv2D)           (None, 28, 28, 64)        18496     \n",
            "                                                                 \n",
            " conv2d_2 (Conv2D)           (None, 28, 28, 128)       73856     \n",
            "                                                                 \n",
            " conv2d_3 (Conv2D)           (None, 28, 28, 256)       295168    \n",
            "                                                                 \n",
            " conv2d_4 (Conv2D)           (None, 28, 28, 512)       1180160   \n",
            "                                                                 \n",
            " batch_normalization (BatchN  (None, 28, 28, 512)      2048      \n",
            " ormalization)                                                   \n",
            "                                                                 \n",
            " activation (Activation)     (None, 28, 28, 512)       0         \n",
            "                                                                 \n",
            " max_pooling2d (MaxPooling2D  (None, 14, 14, 512)      0         \n",
            " )                                                               \n",
            "                                                                 \n",
            " dropout (Dropout)           (None, 14, 14, 512)       0         \n",
            "                                                                 \n",
            " flatten (Flatten)           (None, 100352)            0         \n",
            "                                                                 \n",
            " dense (Dense)               (None, 350)               35123550  \n",
            "                                                                 \n",
            " batch_normalization_1 (Batc  (None, 350)              1400      \n",
            " hNormalization)                                                 \n",
            "                                                                 \n",
            " activation_1 (Activation)   (None, 350)               0         \n",
            "                                                                 \n",
            " dropout_1 (Dropout)         (None, 350)               0         \n",
            "                                                                 \n",
            " dense_1 (Dense)             (None, 94)                32994     \n",
            "                                                                 \n",
            "=================================================================\n",
            "Total params: 36,727,992\n",
            "Trainable params: 36,726,268\n",
            "Non-trainable params: 1,724\n",
            "_________________________________________________________________\n"
          ]
        }
      ],
      "source": [
        "model = Sequential()\n",
        "\n",
        "#5 Convolution 2D layers with \n",
        "\n",
        "model.add(Conv2D(filters = 32 , kernel_size = (3,3),input_shape = (Length, Height, RGB), padding = 'same',))\n",
        "#filter are we are not defining which filter we are using but we can define how many filter we are using.\n",
        "#so this filter will pass through image from left to right from top to bottom of pixels\n",
        "model.add(Conv2D(filters = 64 , kernel_size = (3,3) ,padding = 'same')) \n",
        "#kernel is used to extract feature from the image there are 1X1 kernel 2X2 kernel max is 5X5 but that can take week or two to train the model\n",
        "model.add(Conv2D(filters = 128 , kernel_size = (3,3) ,padding = 'same'))\n",
        "#padding is for that it will give output of same size which input is given we can also use HALF in padding \n",
        "model.add(Conv2D(filters = 256 , kernel_size = (3,3) ,padding = 'same'))\n",
        "#So we are giving 5 conv2D neural Networks and each time filters are doubled\n",
        "model.add(Conv2D(filters = 512 , kernel_size = (3,3) ,padding = 'same'))\n",
        "\n",
        "#To automatically standardize the inputs to a layer in a Convolution neural network.\n",
        "model.add(BatchNormalization())\n",
        "\n",
        "#The activation function defines the output of a neuron / node given an input or set of input (output of multiple neurons).\n",
        "model.add(tf.keras.layers.Activation('relu'))\n",
        "\n",
        "# max pooling is used to reduce the spatial dimensions\n",
        "model.add(MaxPool2D(pool_size = (2,2)))\n",
        "model.add(Dropout(0.20))\n",
        "\n",
        "#flatten function flattens the multi-dimensional input tensors into a single dimension\n",
        "model.add(Flatten())\n",
        "#A Dense layer feeds all outputs from the previous layer to all its neurons, each neuron providing one output to the next layer.\n",
        "model.add(Dense(350))\n",
        "model.add(BatchNormalization())\n",
        "\n",
        "model.add(tf.keras.layers.Activation('relu'))\n",
        "#dropout is used to prevent model from overfitting\n",
        "model.add(Dropout(0.20))\n",
        "\n",
        "#The softmax function is used as the activation function in the output layer of neural network models.\n",
        "model.add(Dense(NCl, activation = 'softmax'))\n",
        "\n",
        "\n",
        "model.summary()"
      ]
    },
    {
      "cell_type": "code",
      "execution_count": null,
      "metadata": {
        "id": "a1ccc6a6"
      },
      "outputs": [],
      "source": [
        "#defining parameters for training\n",
        "optimizer  = Adam(learning_rate=0.01)\n",
        "callback =EarlyStopping(monitor='loss', patience=5)\n",
        "Batch_ = 64\n",
        "Epochs_ = 20\n",
        "\n",
        "model.compile(loss = 'categorical_crossentropy', optimizer = optimizer, metrics = ['accuracy'])\n"
      ]
    },
    {
      "cell_type": "markdown",
      "metadata": {
        "id": "30d6eb08"
      },
      "source": [
        "## Model Training"
      ]
    },
    {
      "cell_type": "code",
      "execution_count": null,
      "metadata": {
        "colab": {
          "background_save": true,
          "base_uri": "https://localhost:8080/"
        },
        "id": "8b8a5a0c",
        "outputId": "899b8d12-1aaa-4a5e-a2f1-0fd54e484ac5"
      },
      "outputs": [
        {
          "name": "stdout",
          "output_type": "stream",
          "text": [
            "Epoch 1/20\n",
            " 481/3427 [===>..........................] - ETA: 9:10:56 - loss: 0.8718 - accuracy: 0.7653"
          ]
        }
      ],
      "source": [
        "#Training\n",
        "history= model.fit(X_train,y_train, validation_data = (X_test,y_test),batch_size = Batch_ ,\n",
        "                   epochs = Epochs_, verbose = 1)"
      ]
    },
    {
      "cell_type": "markdown",
      "metadata": {
        "id": "d807a41c"
      },
      "source": [
        "## Model Accuracy"
      ]
    },
    {
      "cell_type": "code",
      "execution_count": null,
      "metadata": {
        "id": "2afeb7cd"
      },
      "outputs": [],
      "source": [
        "#Evaluating model accuracy on test data\n",
        "score = model.evaluate(X_test,y_test, batch_size = Batch_,verbose = 0)\n",
        "print(f\"Test Accuracy:{round(score[1],4)*100}%\")\n"
      ]
    },
    {
      "cell_type": "markdown",
      "metadata": {
        "id": "ab57cb12"
      },
      "source": [
        "## Model Performance</h2>"
      ]
    },
    {
      "cell_type": "code",
      "execution_count": null,
      "metadata": {
        "id": "5e02c037"
      },
      "outputs": [],
      "source": [
        "# Function for Plotting\n",
        "def Plott (data):\n",
        "    fig, ax = plt.subplots(1,2 , figsize = (20,7))\n",
        "    # summarize history for accuracy\n",
        "    ax[0].plot(data.history['accuracy'])\n",
        "    ax[0].plot(data.history['val_accuracy'])\n",
        "    ax[0].set_title('model accuracy')\n",
        "    ax[0].legend(['train', 'test'], loc='upper left')\n",
        "\n",
        "    # summarize history for loss\n",
        "    ax[1].plot(data.history['loss'], label =['loss'])\n",
        "    ax[1].plot(data.history['val_loss'] ,label =['val_loss'])\n",
        "    ax[1].set_title('model loss')\n",
        "    ax[1].legend(['train', 'test'], loc='upper left')\n",
        "    plt.show()"
      ]
    },
    {
      "cell_type": "code",
      "execution_count": null,
      "metadata": {
        "id": "34790b7a"
      },
      "outputs": [],
      "source": [
        "Plott(history)"
      ]
    },
    {
      "cell_type": "markdown",
      "metadata": {
        "id": "Dm6NRg-AolGK"
      },
      "source": [
        "## Model 2 with another layer"
      ]
    },
    {
      "cell_type": "code",
      "execution_count": null,
      "metadata": {
        "id": "useIPitjokNr"
      },
      "outputs": [],
      "source": [
        "model_second = Sequential()\n",
        "\n",
        "#5 Convolution 2D layers with \n",
        "\n",
        "model_second.add(Conv2D(filters = 32 , kernel_size = (3,3),input_shape = (Length, Height, RGB), padding = 'same',))\n",
        "#filter are we are not defining which filter we are using but we can define how many filter we are using.\n",
        "#so this filter will pass through image from left to right from top to bottom of pixels\n",
        "model_second.add(Conv2D(filters = 64 , kernel_size = (3,3) ,padding = 'same')) \n",
        "#kernel is used to extract feature from the image there are 1X1 kernel 2X2 kernel max is 5X5 but that can take week or two to train the model\n",
        "model_second.add(Conv2D(filters = 128 , kernel_size = (3,3) ,padding = 'same'))\n",
        "#padding is for that it will give output of same size which input is given we can also use HALF in padding \n",
        "model_second.add(Conv2D(filters = 256 , kernel_size = (3,3) ,padding = 'same'))\n",
        "#So we are giving 5 conv2D neural Networks and each time filters are doubled\n",
        "model_second.add(Conv2D(filters = 512 , kernel_size = (3,3) ,padding = 'same'))\n",
        "\n",
        "#To automatically standardize the inputs to a layer in a Convolution neural network.\n",
        "model_second.add(BatchNormalization())\n",
        "\n",
        "#The activation function defines the output of a neuron / node given an input or set of input (output of multiple neurons).\n",
        "model_second.add(tf.keras.layers.Activation('relu'))\n",
        "\n",
        "# max pooling is used to reduce the spatial dimensions\n",
        "model_second.add(MaxPool2D(pool_size = (2,2)))\n",
        "model_second.add(Dropout(0.20))\n",
        "\n",
        "#flatten function flattens the multi-dimensional input tensors into a single dimension\n",
        "model_second.add(Flatten())\n",
        "#A Dense layer feeds all outputs from the previous layer to all its neurons, each neuron providing one output to the next layer.\n",
        "model_second.add(Dense(350))\n",
        "model_second.add(BatchNormalization())\n",
        "\n",
        "model_second.add(tf.keras.layers.Activation('relu'))\n",
        "#dropout is used to prevent model from overfitting\n",
        "model_second.add(Dropout(0.20))\n",
        "\n",
        "#The softmax function is used as the activation function in the output layer of neural network models.\n",
        "model_second.add(Dense(NCl, activation = 'softmax'))\n",
        "\n",
        "\n",
        "model.summary()"
      ]
    },
    {
      "cell_type": "code",
      "execution_count": null,
      "metadata": {
        "id": "rB36WS_9xcSw"
      },
      "outputs": [],
      "source": [
        "#defining parameters for training\n",
        "optimizer  = Adam(learning_rate=0.01)\n",
        "callback =EarlyStopping(monitor='loss', patience=5)\n",
        "Batch_ = 64\n",
        "Epochs_ = 20\n",
        "\n",
        "model_second.compile(loss = 'categorical_crossentropy', optimizer = optimizer, metrics = ['accuracy'])\n"
      ]
    },
    {
      "cell_type": "code",
      "execution_count": null,
      "metadata": {
        "id": "ybOD_Kr5xi2M"
      },
      "outputs": [],
      "source": [
        "#Training\n",
        "history= model_second.fit(X_train,y_train, validation_data = (X_test,y_test),batch_size = Batch_ ,\n",
        "                   epochs = Epochs_, verbose = 1)"
      ]
    },
    {
      "cell_type": "code",
      "execution_count": null,
      "metadata": {
        "id": "bEWjTV3XxyrC"
      },
      "outputs": [],
      "source": [
        "#Evaluating model accuracy on test data\n",
        "score = model_second.evaluate(X_test,y_test, batch_size = Batch_,verbose = 0)\n",
        "print(f\"Test Accuracy:{round(score[1],4)*100}%\")\n"
      ]
    },
    {
      "cell_type": "markdown",
      "metadata": {
        "id": "uLHYqPnHx5rT"
      },
      "source": [
        "## Vizualising 2nd Model Accuracy "
      ]
    },
    {
      "cell_type": "code",
      "execution_count": null,
      "metadata": {
        "id": "VP9g0Kibx4Xe"
      },
      "outputs": [],
      "source": [
        "# Function for Plotting\n",
        "def Plott (data):\n",
        "    fig, ax = plt.subplots(1,2 , figsize = (20,7))\n",
        "    # summarize history for accuracy\n",
        "    ax[0].plot(data.history['accuracy'])\n",
        "    ax[0].plot(data.history['val_accuracy'])\n",
        "    ax[0].set_title('model accuracy')\n",
        "    ax[0].legend(['train', 'test'], loc='upper left')\n",
        "\n",
        "    # summarize history for loss\n",
        "    ax[1].plot(data.history['loss'], label =['loss'])\n",
        "    ax[1].plot(data.history['val_loss'] ,label =['val_loss'])\n",
        "    ax[1].set_title('model loss')\n",
        "    ax[1].legend(['train', 'test'], loc='upper left')\n",
        "    plt.show()"
      ]
    },
    {
      "cell_type": "code",
      "execution_count": null,
      "metadata": {
        "id": "vbPGZna4yB9a"
      },
      "outputs": [],
      "source": [
        "Plott(history)"
      ]
    },
    {
      "cell_type": "markdown",
      "metadata": {
        "id": "77ac072b"
      },
      "source": [
        "## Lets do some Predictions\n",
        " \n",
        "<p> Fingers Crossed :p </p>"
      ]
    },
    {
      "cell_type": "code",
      "execution_count": null,
      "metadata": {
        "id": "a6327b6b"
      },
      "outputs": [],
      "source": [
        "#predicting the charecters using trained model\n",
        "fig, axes = plt.subplots(3,3, figsize=(8,9))\n",
        "axes = axes.flatten()\n",
        "\n",
        "for i,ax in enumerate(axes):\n",
        "    img = np.reshape(X_test[i], (28,28)) # reshaping it for displaying\n",
        "    ax.imshow(img, cmap=\"Greys\")\n",
        "    img_final =np.reshape(img, (1,28,28,1)) # reshapng it for passing into model for prediction\n",
        "    pred = label_dict_inv[np.argmax(model.predict(img_final))]\n",
        "    ax.set_title(\"Prediction: \"+pred)\n",
        "    ax.grid()"
      ]
    },
    {
      "cell_type": "markdown",
      "metadata": {
        "id": "c57edcff"
      },
      "source": [
        "## Conclusion <br/>\n",
        "\n",
        "1. The accuracy on test ddata is 93.69%"
      ]
    },
    {
      "cell_type": "markdown",
      "metadata": {
        "id": "6nc-6Zn6yQwc"
      },
      "source": [
        "## Citations<br>\n",
        "\n",
        "Dataset Author : Prof: Nik Bear Brown <br>\n",
        "Dataset Link : https://www.kaggle.com/datasets/nikbearbrown/tmnist-alphabet-94-characters/code"
      ]
    },
    {
      "cell_type": "markdown",
      "metadata": {
        "id": "POb09FVymS-X"
      },
      "source": [
        "## Licensing<br>\n",
        "Permission is hereby granted, free of charge, to any person obtaining a copy of this software and associated documentation files (the \"Software\"), to deal in the Software without restriction, including without limitation the rights to use, copy, modify, merge, publish, distribute, sublicense, and/or sell copies of the Software, and to permit persons to whom the Software is furnished to do so, subject to the following conditions:<br>\n",
        "\n",
        "The above copyright notice and this permission notice shall be included in all copies or substantial portions of the Software.<br>\n",
        "\n",
        "THE SOFTWARE IS PROVIDED \"AS IS\", WITHOUT WARRANTY OF ANY KIND, EXPRESS OR IMPLIED, INCLUDING BUT NOT LIMITED TO THE WARRANTIES OF MERCHANTABILITY, FITNESS FOR A PARTICULAR PURPOSE AND NONINFRINGEMENT. IN NO EVENT SHALL THE AUTHORS OR COPYRIGHT HOLDERS BE LIABLE FOR ANY CLAIM, DAMAGES OR OTHER LIABILITY, WHETHER IN AN ACTION OF CONTRACT, TORT OR OTHERWISE, ARISING FROM, OUT OF OR IN CONNECTION WITH THE SOFTWARE OR THE USE OR OTHER DEALINGS IN THE SOFTWARE."
      ]
    }
  ],
  "metadata": {
    "colab": {
      "provenance": []
    },
    "kernelspec": {
      "display_name": "Python 3",
      "language": "python",
      "name": "python3"
    },
    "language_info": {
      "codemirror_mode": {
        "name": "ipython",
        "version": 3
      },
      "file_extension": ".py",
      "mimetype": "text/x-python",
      "name": "python",
      "nbconvert_exporter": "python",
      "pygments_lexer": "ipython3",
      "version": "3.7.12"
    }
  },
  "nbformat": 4,
  "nbformat_minor": 0
}