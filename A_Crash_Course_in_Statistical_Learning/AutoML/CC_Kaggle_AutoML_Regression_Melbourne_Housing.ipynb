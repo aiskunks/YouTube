{
 "cells": [
  {
   "cell_type": "markdown",
   "metadata": {
    "id": "j-TwoRjG_vbD"
   },
   "source": [
    "# H20 AutoML Melbourne Housing Regression \n",
    "\n",
    "Sanika Patne, Greeshma Tatinen, Nik Bear Brown"
   ]
  },
  {
   "cell_type": "markdown",
   "metadata": {
    "id": "nWbyl-ip_3vA"
   },
   "source": [
    "##**Abstract**"
   ]
  },
  {
   "cell_type": "markdown",
   "metadata": {
    "id": "gNXC3WQn_4gZ"
   },
   "source": [
    "\n",
    "An abstract is:\n",
    "\n",
    "What is the question?    \n",
    "What did you do?   \n",
    "What were the results?\n",
    "\n",
    "\n",
    "\n",
    "The goal was to construct a realistic model to precisely predict the price of houses in Melbourne. It is generally believed that it’s impossible to precisely predict the price of house as it depends on various factors. For this dataset price is the dependent variable and others are independent variables. First, major factors affecting the housing prices should be selected. Then, a model for housing price prediction should be established from linear regression. That should be applied to the Melbourne housing dataset to test the model. Through the data analysis and test it can be summarized that the linear regression model can effectively predict and analyze the housing price to some extent, while the algorithm can still be improved through more advanced machine learning methods."
   ]
  },
  {
   "cell_type": "markdown",
   "metadata": {
    "id": "RAaw2MWkBtZ0"
   },
   "source": [
    "##**Dataset**"
   ]
  },
  {
   "cell_type": "markdown",
   "metadata": {
    "id": "_Gt2P80gBuU5"
   },
   "source": [
    "This is a  static snapshot of a dataset created by Tony Pino.\n",
    "*(Format this so it is easy to read)*\n",
    "\n",
    "It was scraped from publicly available results posted every week from Domain.com.au. He cleaned it well, and now it's up to you to make data analysis magic. The dataset includes Address, Type of Real estate, Suburb, Method of Selling, Rooms, Price, Real Estate Agent, Date of Sale and distance from C.B.D.<br>\n",
    "\n",
    "\n",
    "Notes on Specific Variables\n",
    "Rooms: Number of rooms<br>\n",
    "Price: Price in dollars<br>\n",
    "Method: S - property sold; SP - property sold prior; PI - property passed in; PN - sold prior not disclosed; SN - sold not disclosed; NB - no bid; VB - vendor bid; W - withdrawn prior to auction; SA - sold after auction; SS - sold after auction price not disclosed. N/A - price or highest bid not available.<br>\n",
    "Type: br - bedroom(s); h - house,cottage,villa, semi,terrace; u - unit, duplex; t - townhouse; dev site - development site; o res - other residential.<br>\n",
    "SellerG: Real Estate Agent<br>\n",
    "Date: Date sold<br>\n",
    "Distance: Distance from CBD<br>\n",
    "Regionname: General Region (West, North West, North, North east …etc)<br>\n",
    "Propertycount: Number of properties that exist in the suburb.<br>\n",
    "Bedroom2 : Scraped # of Bedrooms (from different source)<br>\n",
    "Bathroom: Number of Bathrooms<br>\n",
    "Car: Number of carspots<br>\n",
    "Landsize: Land Size<br>\n",
    "BuildingArea: Building Size<br>\n",
    "CouncilArea: Governing council for the area"
   ]
  },
  {
   "cell_type": "markdown",
   "metadata": {
    "id": "2jZcu0_PB3Pw"
   },
   "source": [
    "##**Importing required Libraries and H20 Initialization** \n",
    "\n",
    "(Talk a little about H20)"
   ]
  },
  {
   "cell_type": "code",
   "execution_count": null,
   "metadata": {
    "colab": {
     "base_uri": "https://localhost:8080/"
    },
    "id": "R_HY9uthBx5c",
    "outputId": "580a9159-39f1-4aaa-ee76-541216897430"
   },
   "outputs": [
    {
     "output_type": "stream",
     "name": "stdout",
     "text": [
      "Looking in indexes: https://pypi.org/simple, https://us-python.pkg.dev/colab-wheels/public/simple/\n",
      "Requirement already satisfied: requests in /usr/local/lib/python3.8/dist-packages (2.25.1)\n",
      "Requirement already satisfied: certifi>=2017.4.17 in /usr/local/lib/python3.8/dist-packages (from requests) (2022.12.7)\n",
      "Requirement already satisfied: idna<3,>=2.5 in /usr/local/lib/python3.8/dist-packages (from requests) (2.10)\n",
      "Requirement already satisfied: urllib3<1.27,>=1.21.1 in /usr/local/lib/python3.8/dist-packages (from requests) (1.24.3)\n",
      "Requirement already satisfied: chardet<5,>=3.0.2 in /usr/local/lib/python3.8/dist-packages (from requests) (4.0.0)\n",
      "Looking in indexes: https://pypi.org/simple, https://us-python.pkg.dev/colab-wheels/public/simple/\n",
      "Requirement already satisfied: tabulate in /usr/local/lib/python3.8/dist-packages (0.8.10)\n",
      "Looking in indexes: https://pypi.org/simple, https://us-python.pkg.dev/colab-wheels/public/simple/\n",
      "Collecting colorama>=0.3.8\n",
      "  Downloading colorama-0.4.6-py2.py3-none-any.whl (25 kB)\n",
      "Installing collected packages: colorama\n",
      "Successfully installed colorama-0.4.6\n",
      "Looking in indexes: https://pypi.org/simple, https://us-python.pkg.dev/colab-wheels/public/simple/\n",
      "Requirement already satisfied: future in /usr/local/lib/python3.8/dist-packages (0.16.0)\n"
     ]
    }
   ],
   "source": [
    "!pip install requests\n",
    "!pip install tabulate\n",
    "!pip install \"colorama>=0.3.8\"\n",
    "!pip install future"
   ]
  },
  {
   "cell_type": "code",
   "execution_count": null,
   "metadata": {
    "colab": {
     "base_uri": "https://localhost:8080/"
    },
    "id": "6z5vWi4EB7EM",
    "outputId": "d38cb3e6-5ccf-4381-f68d-93b45f6efd6d"
   },
   "outputs": [
    {
     "output_type": "stream",
     "name": "stdout",
     "text": [
      "Looking in indexes: https://pypi.org/simple, https://us-python.pkg.dev/colab-wheels/public/simple/\n",
      "Looking in links: http://h2o-release.s3.amazonaws.com/h2o/latest_stable_Py.html\n",
      "\u001b[33mWARNING: The repository located at h2o-release.s3.amazonaws.com is not a trusted or secure host and is being ignored. If this repository is available via HTTPS we recommend you use HTTPS instead, otherwise you may silence this warning and allow it anyway with '--trusted-host h2o-release.s3.amazonaws.com'.\u001b[0m\u001b[33m\n",
      "\u001b[0mCollecting h2o\n",
      "  Downloading h2o-3.38.0.4.tar.gz (177.5 MB)\n",
      "\u001b[2K     \u001b[90m━━━━━━━━━━━━━━━━━━━━━━━━━━━━━━━━━━━━━━━\u001b[0m \u001b[32m177.5/177.5 MB\u001b[0m \u001b[31m3.7 MB/s\u001b[0m eta \u001b[36m0:00:00\u001b[0m\n",
      "\u001b[?25h  Preparing metadata (setup.py) ... \u001b[?25l\u001b[?25hdone\n",
      "Requirement already satisfied: requests in /usr/local/lib/python3.8/dist-packages (from h2o) (2.25.1)\n",
      "Requirement already satisfied: tabulate in /usr/local/lib/python3.8/dist-packages (from h2o) (0.8.10)\n",
      "Requirement already satisfied: future in /usr/local/lib/python3.8/dist-packages (from h2o) (0.16.0)\n",
      "Requirement already satisfied: urllib3<1.27,>=1.21.1 in /usr/local/lib/python3.8/dist-packages (from requests->h2o) (1.24.3)\n",
      "Requirement already satisfied: certifi>=2017.4.17 in /usr/local/lib/python3.8/dist-packages (from requests->h2o) (2022.12.7)\n",
      "Requirement already satisfied: idna<3,>=2.5 in /usr/local/lib/python3.8/dist-packages (from requests->h2o) (2.10)\n",
      "Requirement already satisfied: chardet<5,>=3.0.2 in /usr/local/lib/python3.8/dist-packages (from requests->h2o) (4.0.0)\n",
      "Building wheels for collected packages: h2o\n",
      "  Building wheel for h2o (setup.py) ... \u001b[?25l\u001b[?25hdone\n",
      "  Created wheel for h2o: filename=h2o-3.38.0.4-py2.py3-none-any.whl size=177628739 sha256=bb04f7f1f82f1e4fd6f25c70483595ff5ed800a92f0dcdb24387fd56231d94a4\n",
      "  Stored in directory: /root/.cache/pip/wheels/6b/1d/65/39927b5984bde22f615b4c6e9a8ee98ea4abf1acb5926623ff\n",
      "Successfully built h2o\n",
      "Installing collected packages: h2o\n",
      "Successfully installed h2o-3.38.0.4\n"
     ]
    }
   ],
   "source": [
    "!pip install -f http://h2o-release.s3.amazonaws.com/h2o/latest_stable_Py.html h2o"
   ]
  },
  {
   "cell_type": "code",
   "execution_count": null,
   "metadata": {
    "id": "JA0Bwzq0B9cS"
   },
   "outputs": [],
   "source": [
    "import h2o\n",
    "from h2o.automl import H2OAutoML\n",
    "import random, os, sys\n",
    "from datetime import datetime\n",
    "import pandas as pd\n",
    "import logging\n",
    "import csv\n",
    "import optparse\n",
    "import time\n",
    "import json\n",
    "from distutils.util import strtobool\n",
    "import psutil\n",
    "import numpy as np\n",
    "import matplotlib.pyplot as plt\n",
    "import pandas as pd\n",
    "import seaborn as sns\n",
    "\n",
    "sns.set(\n",
    "    context=\"notebook\",\n",
    "    palette=\"Spectral\",\n",
    "    style=\"darkgrid\",\n",
    "    font_scale=1.5,\n",
    "    color_codes=True,\n",
    ")\n",
    "import warnings\n",
    "\n",
    "warnings.filterwarnings(\"ignore\")\n",
    "import os\n",
    "import matplotlib.pyplot as plt\n",
    "import statsmodels.api as sm\n",
    "from statsmodels.compat import lzip\n",
    "import statsmodels.stats.api as sms\n",
    "from sklearn.model_selection import train_test_split as tts\n",
    "from statsmodels.stats.outliers_influence import variance_inflation_factor\n",
    "import numpy as np\n",
    "from sklearn.linear_model import LinearRegression\n",
    "from sklearn.linear_model import LassoCV\n",
    "from sklearn.linear_model import RidgeCV\n",
    "from sklearn.metrics import r2_score, mean_squared_error, mean_absolute_error\n",
    "from yellowbrick.regressor import ResidualsPlot\n",
    "from sklearn.ensemble import RandomForestRegressor\n",
    "from sklearn.model_selection import KFold\n",
    "from sklearn.model_selection import cross_val_score\n",
    "from sklearn.model_selection import GridSearchCV, RandomizedSearchCV"
   ]
  },
  {
   "cell_type": "code",
   "execution_count": null,
   "metadata": {
    "id": "B0MjneFvCDw4"
   },
   "outputs": [],
   "source": [
    "min_mem_size = 6\n",
    "run_time = 222"
   ]
  },
  {
   "cell_type": "code",
   "execution_count": null,
   "metadata": {
    "colab": {
     "base_uri": "https://localhost:8080/"
    },
    "id": "KA_py4q3CDle",
    "outputId": "a9ea84f5-b0e1-46ea-ec3f-84d27cb90722"
   },
   "outputs": [
    {
     "output_type": "stream",
     "name": "stdout",
     "text": [
      "6\n"
     ]
    }
   ],
   "source": [
    "aww pct_memory=0.5\n",
    "virtual_memory=psutil.virtual_memory()\n",
    "min_mem_size=int(round(int(pct_memory*virtual_memory.available)/1073741824,0))\n",
    "print(min_mem_size)"
   ]
  },
  {
   "cell_type": "code",
   "execution_count": null,
   "metadata": {
    "colab": {
     "base_uri": "https://localhost:8080/",
     "height": 548
    },
    "id": "V35klqwcCHEu",
    "outputId": "8ba97444-17e0-4459-e98f-fe38753373fc"
   },
   "outputs": [
    {
     "output_type": "stream",
     "name": "stdout",
     "text": [
      "Checking whether there is an H2O instance running at http://localhost:10739 ..... not found.\n",
      "Attempting to start a local H2O server...\n",
      "  Java Version: openjdk version \"11.0.17\" 2022-10-18; OpenJDK Runtime Environment (build 11.0.17+8-post-Ubuntu-1ubuntu220.04); OpenJDK 64-Bit Server VM (build 11.0.17+8-post-Ubuntu-1ubuntu220.04, mixed mode, sharing)\n",
      "  Starting server from /usr/local/lib/python3.8/dist-packages/h2o/backend/bin/h2o.jar\n",
      "  Ice root: /tmp/tmp7dhig65_\n",
      "  JVM stdout: /tmp/tmp7dhig65_/h2o_unknownUser_started_from_python.out\n",
      "  JVM stderr: /tmp/tmp7dhig65_/h2o_unknownUser_started_from_python.err\n",
      "  Server is running at http://127.0.0.1:10739\n",
      "Connecting to H2O server at http://127.0.0.1:10739 ... successful.\n"
     ]
    },
    {
     "output_type": "display_data",
     "data": {
      "text/plain": [
       "--------------------------  ----------------------------------\n",
       "H2O_cluster_uptime:         05 secs\n",
       "H2O_cluster_timezone:       Etc/UTC\n",
       "H2O_data_parsing_timezone:  UTC\n",
       "H2O_cluster_version:        3.38.0.4\n",
       "H2O_cluster_version_age:    29 days\n",
       "H2O_cluster_name:           H2O_from_python_unknownUser_gk0gi8\n",
       "H2O_cluster_total_nodes:    1\n",
       "H2O_cluster_free_memory:    6 Gb\n",
       "H2O_cluster_total_cores:    2\n",
       "H2O_cluster_allowed_cores:  2\n",
       "H2O_cluster_status:         locked, healthy\n",
       "H2O_connection_url:         http://127.0.0.1:10739\n",
       "H2O_connection_proxy:       {\"http\": null, \"https\": null}\n",
       "H2O_internal_security:      False\n",
       "Python_version:             3.8.10 final\n",
       "--------------------------  ----------------------------------"
      ],
      "text/html": [
       "\n",
       "<style>\n",
       "\n",
       "#h2o-table-1.h2o-container {\n",
       "  overflow-x: auto;\n",
       "}\n",
       "#h2o-table-1 .h2o-table {\n",
       "  /* width: 100%; */\n",
       "  margin-top: 1em;\n",
       "  margin-bottom: 1em;\n",
       "}\n",
       "#h2o-table-1 .h2o-table caption {\n",
       "  white-space: nowrap;\n",
       "  caption-side: top;\n",
       "  text-align: left;\n",
       "  /* margin-left: 1em; */\n",
       "  margin: 0;\n",
       "  font-size: larger;\n",
       "}\n",
       "#h2o-table-1 .h2o-table thead {\n",
       "  white-space: nowrap; \n",
       "  position: sticky;\n",
       "  top: 0;\n",
       "  box-shadow: 0 -1px inset;\n",
       "}\n",
       "#h2o-table-1 .h2o-table tbody {\n",
       "  overflow: auto;\n",
       "}\n",
       "#h2o-table-1 .h2o-table th,\n",
       "#h2o-table-1 .h2o-table td {\n",
       "  text-align: right;\n",
       "  /* border: 1px solid; */\n",
       "}\n",
       "#h2o-table-1 .h2o-table tr:nth-child(even) {\n",
       "  /* background: #F5F5F5 */\n",
       "}\n",
       "\n",
       "</style>      \n",
       "<div id=\"h2o-table-1\" class=\"h2o-container\">\n",
       "  <table class=\"h2o-table\">\n",
       "    <caption></caption>\n",
       "    <thead></thead>\n",
       "    <tbody><tr><td>H2O_cluster_uptime:</td>\n",
       "<td>05 secs</td></tr>\n",
       "<tr><td>H2O_cluster_timezone:</td>\n",
       "<td>Etc/UTC</td></tr>\n",
       "<tr><td>H2O_data_parsing_timezone:</td>\n",
       "<td>UTC</td></tr>\n",
       "<tr><td>H2O_cluster_version:</td>\n",
       "<td>3.38.0.4</td></tr>\n",
       "<tr><td>H2O_cluster_version_age:</td>\n",
       "<td>29 days </td></tr>\n",
       "<tr><td>H2O_cluster_name:</td>\n",
       "<td>H2O_from_python_unknownUser_gk0gi8</td></tr>\n",
       "<tr><td>H2O_cluster_total_nodes:</td>\n",
       "<td>1</td></tr>\n",
       "<tr><td>H2O_cluster_free_memory:</td>\n",
       "<td>6 Gb</td></tr>\n",
       "<tr><td>H2O_cluster_total_cores:</td>\n",
       "<td>2</td></tr>\n",
       "<tr><td>H2O_cluster_allowed_cores:</td>\n",
       "<td>2</td></tr>\n",
       "<tr><td>H2O_cluster_status:</td>\n",
       "<td>locked, healthy</td></tr>\n",
       "<tr><td>H2O_connection_url:</td>\n",
       "<td>http://127.0.0.1:10739</td></tr>\n",
       "<tr><td>H2O_connection_proxy:</td>\n",
       "<td>{\"http\": null, \"https\": null}</td></tr>\n",
       "<tr><td>H2O_internal_security:</td>\n",
       "<td>False</td></tr>\n",
       "<tr><td>Python_version:</td>\n",
       "<td>3.8.10 final</td></tr></tbody>\n",
       "  </table>\n",
       "</div>\n"
      ]
     },
     "metadata": {}
    }
   ],
   "source": [
    "port_no = random.randint(5555, 55555)\n",
    "\n",
    "#  h2o.init(strict_version_check=False,min_mem_size_GB=min_mem_size,port=port_no) # start h2o\n",
    "try:\n",
    "    h2o.init(\n",
    "        strict_version_check=False, min_mem_size_GB=min_mem_size, port=port_no\n",
    "    )  # start h2o\n",
    "except:\n",
    "    logging.critical(\"h2o.init\")\n",
    "    h2o.download_all_logs(dirname=logs_path, filename=logfile)\n",
    "    h2o.cluster().shutdown()\n",
    "    sys.exit(2)"
   ]
  },
  {
   "cell_type": "markdown",
   "source": [
    "**Importing Data**"
   ],
   "metadata": {
    "id": "ivyH-6ffHGmy"
   }
  },
  {
   "cell_type": "code",
   "execution_count": null,
   "metadata": {
    "colab": {
     "base_uri": "https://localhost:8080/"
    },
    "id": "hoRQ6tK8CG5o",
    "outputId": "82c45ec5-3266-462e-b350-771a14f99868"
   },
   "outputs": [
    {
     "output_type": "stream",
     "name": "stdout",
     "text": [
      "Parse progress: |████████████████████████████████████████████████████████████████| (done) 100%\n"
     ]
    }
   ],
   "source": [
    "# Import the processed data from notebook One\n",
    "url = (\n",
    "    \"https://raw.githubusercontent.com/aiskunks/YouTube/main/CSV/Melbourne_Housing.csv\"\n",
    ")\n",
    "df = h2o.import_file(path=url)"
   ]
  },
  {
   "cell_type": "markdown",
   "metadata": {
    "id": "gkLlekLdCPPL"
   },
   "source": [
    "##**Studying the Data**"
   ]
  },
  {
   "cell_type": "code",
   "execution_count": null,
   "metadata": {
    "colab": {
     "base_uri": "https://localhost:8080/",
     "height": 691
    },
    "id": "BfmBpv_GCR-Z",
    "outputId": "617496c2-18f9-4b74-e1a0-98304651bfd8"
   },
   "outputs": [
    {
     "output_type": "display_data",
     "data": {
      "text/plain": [
       "Rows:6196\n",
       "Cols:21\n"
      ],
      "text/html": [
       "<pre style='margin: 1em 0 1em 0;'>Rows:6196\n",
       "Cols:21\n",
       "</pre>"
      ]
     },
     "metadata": {}
    },
    {
     "output_type": "display_data",
     "data": {
      "text/plain": [
       "         Suburb             Address             Rooms               Type                Price               Method              SellerG             Date                Distance            Postcode           Bedroom2            Bathroom            Car                 Landsize            BuildingArea        YearBuilt          CouncilArea         Lattitude          Longtitude         Regionname          Propertycount\n",
       "-------  -----------------  ------------------  ------------------  ------------------  ------------------  ------------------  ------------------  ------------------  ------------------  -----------------  ------------------  ------------------  ------------------  ------------------  ------------------  -----------------  ------------------  -----------------  -----------------  ------------------  -----------------\n",
       "type     int                int                 int                 int                 int                 int                 int                 int                 int                 int                int                 int                 int                 int                 int                 int                int                 int                int                int                 int\n",
       "mins     0.0                0.0                 0.0                 0.0                 0.0                 0.0                 0.0                 0.0                 0.0                 0.0                0.0                 0.0                 0.0                 0.0                 0.0                 0.0                0.0                 0.0                0.0                0.0                 0.0\n",
       "mean     141.7333763718528  3058.9891865719806  1.931407359586829   0.5832795351839898  717.5915106520335   1.4372175597159458  97.45432537120723   25.937378954163982  71.29841833440932   71.09522272433827  2.902033570045191   0.5763395739186573  1.5735958683021307  361.07730794060683  191.0622982569399   81.70125887669462  14.678502259522269  1756.043092317624  1867.631536475145  3.8244028405422843  188.2254680438993\n",
       "maxs     286.0              6116.0              7.0                 2.0                 1569.0              4.0                 202.0               50.0                191.0               184.0              9.0                 7.0                 10.0                1127.0              548.0               134.0              30.0                3462.0             3761.0             7.0                 283.0\n",
       "sigma    83.20219111646345  1766.4944044852118  0.9710788063154112  0.8539919799572625  402.38630106987245  1.1429382882321082  57.472556631767944  14.404004145977009  38.656203305486514  46.96929056768282  0.9700548212641686  0.7113618878731119  0.929946606819003   285.75760340659457  107.81590440091563  34.35460062890252  9.217255605003533   896.9752262444393  979.3745168200843  1.9865142710876427  71.49054360008813\n",
       "zeros    36                 1                   329                 4088                1                   757                 1                   114                 4                   31                 5                   3284                431                 1015                1                   1                  279                 1                  1                  571                 2\n",
       "missing  0                  0                   0                   0                   0                   0                   0                   0                   0                   0                  0                   0                   0                   0                   0                   0                  0                   0                  0                  0                   0\n",
       "0        0.0                2790.0              1.0                 0.0                 839.0               1.0                 18.0                41.0                12.0                50.0               2.0                 0.0                 0.0                 110.0               85.0                23.0               29.0                1712.0             1839.0             2.0                 135.0\n",
       "1        0.0                4520.0              2.0                 0.0                 1118.0              3.0                 18.0                42.0                12.0                50.0               3.0                 1.0                 0.0                 88.0                224.0               23.0               29.0                1690.0             1854.0             2.0                 135.0\n",
       "2        0.0                4882.0              3.0                 0.0                 1174.0              4.0                 112.0               43.0                12.0                50.0               3.0                 0.0                 2.0                 74.0                212.0               130.0              29.0                1722.0             1851.0             2.0                 135.0\n",
       "3        0.0                1027.0              2.0                 0.0                 1291.0              1.0                 112.0               46.0                12.0                50.0               4.0                 1.0                 0.0                 198.0               313.0               32.0               29.0                1788.0             1932.0             2.0                 135.0\n",
       "4        0.0                6101.0              1.0                 0.0                 1193.0              1.0                 112.0               50.0                12.0                50.0               2.0                 0.0                 2.0                 209.0               143.0               17.0               29.0                1737.0             1869.0             2.0                 135.0\n",
       "5        0.0                535.0               1.0                 0.0                 878.0               1.0                 18.0                50.0                12.0                50.0               3.0                 0.0                 2.0                 174.0               78.0                23.0               29.0                1808.0             1926.0             2.0                 135.0\n",
       "6        0.0                4170.0              2.0                 0.0                 1050.0              4.0                 112.0               7.0                 12.0                50.0               3.0                 1.0                 2.0                 168.0               287.0               121.0              29.0                1702.0             1885.0             2.0                 135.0\n",
       "7        0.0                1021.0              1.0                 2.0                 544.0               1.0                 18.0                7.0                 12.0                50.0               2.0                 1.0                 1.0                 0.0                 111.0               125.0              29.0                1713.0             1886.0             2.0                 135.0\n",
       "8        0.0                1533.0              1.0                 0.0                 1027.0              1.0                 80.0                12.0                12.0                50.0               2.0                 0.0                 2.0                 191.0               117.0               17.0               29.0                1695.0             1904.0             2.0                 135.0\n",
       "9        0.0                4244.0              2.0                 0.0                 948.0               1.0                 80.0                14.0                12.0                50.0               3.0                 1.0                 1.0                 67.0                149.0               10.0               29.0                1744.0             1832.0             2.0                 135.0\n",
       "[6196 rows x 21 columns]\n"
      ],
      "text/html": [
       "<table class='dataframe'>\n",
       "<thead>\n",
       "<tr><th>       </th><th>Suburb           </th><th>Address           </th><th>Rooms             </th><th>Type              </th><th>Price             </th><th>Method            </th><th>SellerG           </th><th>Date              </th><th>Distance          </th><th>Postcode         </th><th>Bedroom2          </th><th>Bathroom          </th><th>Car               </th><th>Landsize          </th><th>BuildingArea      </th><th>YearBuilt        </th><th>CouncilArea       </th><th>Lattitude        </th><th>Longtitude       </th><th>Regionname        </th><th>Propertycount    </th></tr>\n",
       "</thead>\n",
       "<tbody>\n",
       "<tr><td>type   </td><td>int              </td><td>int               </td><td>int               </td><td>int               </td><td>int               </td><td>int               </td><td>int               </td><td>int               </td><td>int               </td><td>int              </td><td>int               </td><td>int               </td><td>int               </td><td>int               </td><td>int               </td><td>int              </td><td>int               </td><td>int              </td><td>int              </td><td>int               </td><td>int              </td></tr>\n",
       "<tr><td>mins   </td><td>0.0              </td><td>0.0               </td><td>0.0               </td><td>0.0               </td><td>0.0               </td><td>0.0               </td><td>0.0               </td><td>0.0               </td><td>0.0               </td><td>0.0              </td><td>0.0               </td><td>0.0               </td><td>0.0               </td><td>0.0               </td><td>0.0               </td><td>0.0              </td><td>0.0               </td><td>0.0              </td><td>0.0              </td><td>0.0               </td><td>0.0              </td></tr>\n",
       "<tr><td>mean   </td><td>141.7333763718528</td><td>3058.9891865719806</td><td>1.931407359586829 </td><td>0.5832795351839898</td><td>717.5915106520335 </td><td>1.4372175597159458</td><td>97.45432537120723 </td><td>25.937378954163982</td><td>71.29841833440932 </td><td>71.09522272433827</td><td>2.902033570045191 </td><td>0.5763395739186573</td><td>1.5735958683021307</td><td>361.07730794060683</td><td>191.0622982569399 </td><td>81.70125887669462</td><td>14.678502259522269</td><td>1756.043092317624</td><td>1867.631536475145</td><td>3.8244028405422843</td><td>188.2254680438993</td></tr>\n",
       "<tr><td>maxs   </td><td>286.0            </td><td>6116.0            </td><td>7.0               </td><td>2.0               </td><td>1569.0            </td><td>4.0               </td><td>202.0             </td><td>50.0              </td><td>191.0             </td><td>184.0            </td><td>9.0               </td><td>7.0               </td><td>10.0              </td><td>1127.0            </td><td>548.0             </td><td>134.0            </td><td>30.0              </td><td>3462.0           </td><td>3761.0           </td><td>7.0               </td><td>283.0            </td></tr>\n",
       "<tr><td>sigma  </td><td>83.20219111646345</td><td>1766.4944044852118</td><td>0.9710788063154112</td><td>0.8539919799572625</td><td>402.38630106987245</td><td>1.1429382882321082</td><td>57.472556631767944</td><td>14.404004145977009</td><td>38.656203305486514</td><td>46.96929056768282</td><td>0.9700548212641686</td><td>0.7113618878731119</td><td>0.929946606819003 </td><td>285.75760340659457</td><td>107.81590440091563</td><td>34.35460062890252</td><td>9.217255605003533 </td><td>896.9752262444393</td><td>979.3745168200843</td><td>1.9865142710876427</td><td>71.49054360008813</td></tr>\n",
       "<tr><td>zeros  </td><td>36               </td><td>1                 </td><td>329               </td><td>4088              </td><td>1                 </td><td>757               </td><td>1                 </td><td>114               </td><td>4                 </td><td>31               </td><td>5                 </td><td>3284              </td><td>431               </td><td>1015              </td><td>1                 </td><td>1                </td><td>279               </td><td>1                </td><td>1                </td><td>571               </td><td>2                </td></tr>\n",
       "<tr><td>missing</td><td>0                </td><td>0                 </td><td>0                 </td><td>0                 </td><td>0                 </td><td>0                 </td><td>0                 </td><td>0                 </td><td>0                 </td><td>0                </td><td>0                 </td><td>0                 </td><td>0                 </td><td>0                 </td><td>0                 </td><td>0                </td><td>0                 </td><td>0                </td><td>0                </td><td>0                 </td><td>0                </td></tr>\n",
       "<tr><td>0      </td><td>0.0              </td><td>2790.0            </td><td>1.0               </td><td>0.0               </td><td>839.0             </td><td>1.0               </td><td>18.0              </td><td>41.0              </td><td>12.0              </td><td>50.0             </td><td>2.0               </td><td>0.0               </td><td>0.0               </td><td>110.0             </td><td>85.0              </td><td>23.0             </td><td>29.0              </td><td>1712.0           </td><td>1839.0           </td><td>2.0               </td><td>135.0            </td></tr>\n",
       "<tr><td>1      </td><td>0.0              </td><td>4520.0            </td><td>2.0               </td><td>0.0               </td><td>1118.0            </td><td>3.0               </td><td>18.0              </td><td>42.0              </td><td>12.0              </td><td>50.0             </td><td>3.0               </td><td>1.0               </td><td>0.0               </td><td>88.0              </td><td>224.0             </td><td>23.0             </td><td>29.0              </td><td>1690.0           </td><td>1854.0           </td><td>2.0               </td><td>135.0            </td></tr>\n",
       "<tr><td>2      </td><td>0.0              </td><td>4882.0            </td><td>3.0               </td><td>0.0               </td><td>1174.0            </td><td>4.0               </td><td>112.0             </td><td>43.0              </td><td>12.0              </td><td>50.0             </td><td>3.0               </td><td>0.0               </td><td>2.0               </td><td>74.0              </td><td>212.0             </td><td>130.0            </td><td>29.0              </td><td>1722.0           </td><td>1851.0           </td><td>2.0               </td><td>135.0            </td></tr>\n",
       "<tr><td>3      </td><td>0.0              </td><td>1027.0            </td><td>2.0               </td><td>0.0               </td><td>1291.0            </td><td>1.0               </td><td>112.0             </td><td>46.0              </td><td>12.0              </td><td>50.0             </td><td>4.0               </td><td>1.0               </td><td>0.0               </td><td>198.0             </td><td>313.0             </td><td>32.0             </td><td>29.0              </td><td>1788.0           </td><td>1932.0           </td><td>2.0               </td><td>135.0            </td></tr>\n",
       "<tr><td>4      </td><td>0.0              </td><td>6101.0            </td><td>1.0               </td><td>0.0               </td><td>1193.0            </td><td>1.0               </td><td>112.0             </td><td>50.0              </td><td>12.0              </td><td>50.0             </td><td>2.0               </td><td>0.0               </td><td>2.0               </td><td>209.0             </td><td>143.0             </td><td>17.0             </td><td>29.0              </td><td>1737.0           </td><td>1869.0           </td><td>2.0               </td><td>135.0            </td></tr>\n",
       "<tr><td>5      </td><td>0.0              </td><td>535.0             </td><td>1.0               </td><td>0.0               </td><td>878.0             </td><td>1.0               </td><td>18.0              </td><td>50.0              </td><td>12.0              </td><td>50.0             </td><td>3.0               </td><td>0.0               </td><td>2.0               </td><td>174.0             </td><td>78.0              </td><td>23.0             </td><td>29.0              </td><td>1808.0           </td><td>1926.0           </td><td>2.0               </td><td>135.0            </td></tr>\n",
       "<tr><td>6      </td><td>0.0              </td><td>4170.0            </td><td>2.0               </td><td>0.0               </td><td>1050.0            </td><td>4.0               </td><td>112.0             </td><td>7.0               </td><td>12.0              </td><td>50.0             </td><td>3.0               </td><td>1.0               </td><td>2.0               </td><td>168.0             </td><td>287.0             </td><td>121.0            </td><td>29.0              </td><td>1702.0           </td><td>1885.0           </td><td>2.0               </td><td>135.0            </td></tr>\n",
       "<tr><td>7      </td><td>0.0              </td><td>1021.0            </td><td>1.0               </td><td>2.0               </td><td>544.0             </td><td>1.0               </td><td>18.0              </td><td>7.0               </td><td>12.0              </td><td>50.0             </td><td>2.0               </td><td>1.0               </td><td>1.0               </td><td>0.0               </td><td>111.0             </td><td>125.0            </td><td>29.0              </td><td>1713.0           </td><td>1886.0           </td><td>2.0               </td><td>135.0            </td></tr>\n",
       "<tr><td>8      </td><td>0.0              </td><td>1533.0            </td><td>1.0               </td><td>0.0               </td><td>1027.0            </td><td>1.0               </td><td>80.0              </td><td>12.0              </td><td>12.0              </td><td>50.0             </td><td>2.0               </td><td>0.0               </td><td>2.0               </td><td>191.0             </td><td>117.0             </td><td>17.0             </td><td>29.0              </td><td>1695.0           </td><td>1904.0           </td><td>2.0               </td><td>135.0            </td></tr>\n",
       "<tr><td>9      </td><td>0.0              </td><td>4244.0            </td><td>2.0               </td><td>0.0               </td><td>948.0             </td><td>1.0               </td><td>80.0              </td><td>14.0              </td><td>12.0              </td><td>50.0             </td><td>3.0               </td><td>1.0               </td><td>1.0               </td><td>67.0              </td><td>149.0             </td><td>10.0             </td><td>29.0              </td><td>1744.0           </td><td>1832.0           </td><td>2.0               </td><td>135.0            </td></tr>\n",
       "</tbody>\n",
       "</table><pre style='font-size: smaller; margin-bottom: 1em;'>[6196 rows x 21 columns]</pre>"
      ]
     },
     "metadata": {}
    }
   ],
   "source": [
    "df.describe()"
   ]
  },
  {
   "cell_type": "markdown",
   "source": [
    "Write about whether these numbers make sense ... plot long and lat on a map to check where these houses are. Where there really houses built there at the birth of Christ?\n",
    "\n",
    "I believe price is wrong as the price seems dependent on the sale date.  This needs to be fixed.\n",
    "\n"
   ],
   "metadata": {
    "id": "qxbFRqZ2_5rE"
   }
  },
  {
   "cell_type": "code",
   "execution_count": null,
   "metadata": {
    "colab": {
     "base_uri": "https://localhost:8080/"
    },
    "id": "utGQ2nBoCUif",
    "outputId": "0c0640ca-c442-493c-daad-8032dbc4c961"
   },
   "outputs": [
    {
     "output_type": "execute_result",
     "data": {
      "text/plain": [
       "{'Suburb': 'int',\n",
       " 'Address': 'int',\n",
       " 'Rooms': 'int',\n",
       " 'Type': 'int',\n",
       " 'Price': 'int',\n",
       " 'Method': 'int',\n",
       " 'SellerG': 'int',\n",
       " 'Date': 'int',\n",
       " 'Distance': 'int',\n",
       " 'Postcode': 'int',\n",
       " 'Bedroom2': 'int',\n",
       " 'Bathroom': 'int',\n",
       " 'Car': 'int',\n",
       " 'Landsize': 'int',\n",
       " 'BuildingArea': 'int',\n",
       " 'YearBuilt': 'int',\n",
       " 'CouncilArea': 'int',\n",
       " 'Lattitude': 'int',\n",
       " 'Longtitude': 'int',\n",
       " 'Regionname': 'int',\n",
       " 'Propertycount': 'int'}"
      ]
     },
     "metadata": {},
     "execution_count": 9
    }
   ],
   "source": [
    "df.types"
   ]
  },
  {
   "cell_type": "code",
   "execution_count": null,
   "metadata": {
    "colab": {
     "base_uri": "https://localhost:8080/"
    },
    "id": "IicRX5zOCVLv",
    "outputId": "3e1dae70-de19-4f98-ba42-2fcfe3ff90ff"
   },
   "outputs": [
    {
     "output_type": "execute_result",
     "data": {
      "text/plain": [
       "(6196, 21)"
      ]
     },
     "metadata": {},
     "execution_count": 10
    }
   ],
   "source": [
    "df.shape"
   ]
  },
  {
   "cell_type": "code",
   "execution_count": null,
   "metadata": {
    "id": "55drGZbcCYgv"
   },
   "outputs": [],
   "source": [
    "# Create a 80/20 train/test split\n",
    "pct_rows = 0.80\n",
    "df_train, df_test = df.split_frame([pct_rows])"
   ]
  },
  {
   "cell_type": "code",
   "execution_count": null,
   "metadata": {
    "colab": {
     "base_uri": "https://localhost:8080/"
    },
    "id": "cps9ETC8CbsD",
    "outputId": "08703166-589d-4e8e-f601-5ddba6dc8d03"
   },
   "outputs": [
    {
     "output_type": "stream",
     "name": "stdout",
     "text": [
      "(4980, 21)\n",
      "(1216, 21)\n"
     ]
    }
   ],
   "source": [
    "print(df_train.shape)\n",
    "print(df_test.shape)"
   ]
  },
  {
   "cell_type": "code",
   "execution_count": null,
   "metadata": {
    "colab": {
     "base_uri": "https://localhost:8080/"
    },
    "id": "lWEythSOCcO0",
    "outputId": "cd314be5-3c70-4c6f-e410-22a7f425c98e"
   },
   "outputs": [
    {
     "output_type": "stream",
     "name": "stdout",
     "text": [
      "['Suburb', 'Address', 'Rooms', 'Type', 'Price', 'Method', 'SellerG', 'Date', 'Distance', 'Postcode', 'Bedroom2', 'Bathroom', 'Car', 'Landsize', 'BuildingArea', 'YearBuilt', 'CouncilArea', 'Lattitude', 'Longtitude', 'Regionname', 'Propertycount']\n"
     ]
    }
   ],
   "source": [
    "# Display all columns in X\n",
    "X = df.columns\n",
    "print(X)"
   ]
  },
  {
   "cell_type": "code",
   "execution_count": null,
   "metadata": {
    "colab": {
     "base_uri": "https://localhost:8080/"
    },
    "id": "ho1xtq2iCeUK",
    "outputId": "92828602-3e93-41be-b97e-b548152093e5"
   },
   "outputs": [
    {
     "output_type": "stream",
     "name": "stdout",
     "text": [
      "['Suburb', 'Address', 'Rooms', 'Type', 'Method', 'SellerG', 'Date', 'Distance', 'Postcode', 'Bedroom2', 'Bathroom', 'Car', 'Landsize', 'BuildingArea', 'YearBuilt', 'CouncilArea', 'Lattitude', 'Longtitude', 'Regionname', 'Propertycount']\n"
     ]
    }
   ],
   "source": [
    "# Seperate Dependent variable from Independent variable\n",
    "y_numeric = \"Price\"\n",
    "X.remove(y_numeric)\n",
    "print(X)"
   ]
  },
  {
   "cell_type": "code",
   "execution_count": null,
   "metadata": {
    "id": "uyiR3r8gCgMl",
    "colab": {
     "base_uri": "https://localhost:8080/"
    },
    "outputId": "2be034b4-23b8-439d-9438-21b718e8a78d"
   },
   "outputs": [
    {
     "output_type": "stream",
     "name": "stdout",
     "text": [
      "Parse progress: |████████████████████████████████████████████████████████████████| (done) 100%\n"
     ]
    }
   ],
   "source": [
    "dfpd = h2o.import_file(path=url)"
   ]
  },
  {
   "cell_type": "markdown",
   "metadata": {
    "id": "dA_FPMLgCmeR"
   },
   "source": [
    "##**H20 AutoML Execution**"
   ]
  },
  {
   "cell_type": "code",
   "execution_count": null,
   "metadata": {
    "id": "WI82XBLNCixk"
   },
   "outputs": [],
   "source": [
    "# Set up AutoML\n",
    "aml = H2OAutoML(max_runtime_secs=run_time, seed=1)"
   ]
  },
  {
   "cell_type": "code",
   "execution_count": null,
   "metadata": {
    "colab": {
     "base_uri": "https://localhost:8080/",
     "height": 1000
    },
    "id": "Bg-9o1CuCo4n",
    "outputId": "451252e6-2808-47c3-d0d5-baeb51a3adb2"
   },
   "outputs": [
    {
     "output_type": "stream",
     "name": "stdout",
     "text": [
      "AutoML progress: |███████████████████████████████████████████████████████████████| (done) 100%\n"
     ]
    },
    {
     "output_type": "execute_result",
     "data": {
      "text/plain": [
       "Model Details\n",
       "=============\n",
       "H2OStackedEnsembleEstimator : Stacked Ensemble\n",
       "Model Key: StackedEnsemble_AllModels_3_AutoML_1_20230203_190211\n",
       "\n",
       "No summary for this model\n",
       "\n",
       "ModelMetricsRegressionGLM: stackedensemble\n",
       "** Reported on train data. **\n",
       "\n",
       "MSE: 4318.618809402683\n",
       "RMSE: 65.71619898778903\n",
       "MAE: 48.45644399563424\n",
       "RMSLE: NaN\n",
       "Mean Residual Deviance: 4318.618809402683\n",
       "R^2: 0.9735139671183114\n",
       "Null degrees of freedom: 4979\n",
       "Residual degrees of freedom: 4968\n",
       "Null deviance: 812002377.513253\n",
       "Residual deviance: 21506721.670825362\n",
       "AIC: 55844.668522872766\n",
       "\n",
       "ModelMetricsRegressionGLM: stackedensemble\n",
       "** Reported on cross-validation data. **\n",
       "\n",
       "MSE: 15504.750279456735\n",
       "RMSE: 124.51807209982307\n",
       "MAE: 91.4909175855328\n",
       "RMSLE: NaN\n",
       "Mean Residual Deviance: 15504.750279456735\n",
       "R^2: 0.904909568580131\n",
       "Null degrees of freedom: 4979\n",
       "Residual degrees of freedom: 4966\n",
       "Null deviance: 812297091.2819977\n",
       "Residual deviance: 77213656.39169455\n",
       "AIC: 62214.158384193994\n",
       "\n",
       "Cross-Validation Metrics Summary: \n",
       "                        mean         sd           cv_1_valid    cv_2_valid    cv_3_valid    cv_4_valid    cv_5_valid\n",
       "----------------------  -----------  -----------  ------------  ------------  ------------  ------------  ------------\n",
       "mae                     91.4704      3.48664      90.9922       92.4694       86.6315       96.3371       90.922\n",
       "mean_residual_deviance  15491.2      1593.74      15326.6       16435         13175         17420.8       15098.7\n",
       "mse                     15491.2      1593.74      15326.6       16435         13175         17420.8       15098.7\n",
       "null_deviance           1.62459e+08  5.63743e+06  1.62344e+08   1.64077e+08   1.59429e+08   1.70778e+08   1.55669e+08\n",
       "r2                      0.90502      0.0087013    0.9022        0.897889      0.918183      0.897685      0.90914\n",
       "residual_deviance       1.54427e+07  1.84363e+06  1.5863e+07    1.67473e+07   1.30432e+07   1.7473e+07    1.40871e+07\n",
       "rmse                    124.329      6.46453      123.801       128.199       114.782       131.988       122.877\n",
       "rmsle                   nan          0            nan           nan           nan           nan           nan\n",
       "\n",
       "[tips]\n",
       "Use `model.explain()` to inspect the model.\n",
       "--\n",
       "Use `h2o.display.toggle_user_tips()` to switch on/off this section."
      ],
      "text/html": [
       "<pre style='margin: 1em 0 1em 0;'>Model Details\n",
       "=============\n",
       "H2OStackedEnsembleEstimator : Stacked Ensemble\n",
       "Model Key: StackedEnsemble_AllModels_3_AutoML_1_20230203_190211\n",
       "\n",
       "No summary for this model</pre>\n",
       "<div style='margin: 1em 0 1em 0;'><pre style='margin: 1em 0 1em 0;'>ModelMetricsRegressionGLM: stackedensemble\n",
       "** Reported on train data. **\n",
       "\n",
       "MSE: 4318.618809402683\n",
       "RMSE: 65.71619898778903\n",
       "MAE: 48.45644399563424\n",
       "RMSLE: NaN\n",
       "Mean Residual Deviance: 4318.618809402683\n",
       "R^2: 0.9735139671183114\n",
       "Null degrees of freedom: 4979\n",
       "Residual degrees of freedom: 4968\n",
       "Null deviance: 812002377.513253\n",
       "Residual deviance: 21506721.670825362\n",
       "AIC: 55844.668522872766</pre></div>\n",
       "<div style='margin: 1em 0 1em 0;'><pre style='margin: 1em 0 1em 0;'>ModelMetricsRegressionGLM: stackedensemble\n",
       "** Reported on cross-validation data. **\n",
       "\n",
       "MSE: 15504.750279456735\n",
       "RMSE: 124.51807209982307\n",
       "MAE: 91.4909175855328\n",
       "RMSLE: NaN\n",
       "Mean Residual Deviance: 15504.750279456735\n",
       "R^2: 0.904909568580131\n",
       "Null degrees of freedom: 4979\n",
       "Residual degrees of freedom: 4966\n",
       "Null deviance: 812297091.2819977\n",
       "Residual deviance: 77213656.39169455\n",
       "AIC: 62214.158384193994</pre></div>\n",
       "<div style='margin: 1em 0 1em 0;'>\n",
       "<style>\n",
       "\n",
       "#h2o-table-2.h2o-container {\n",
       "  overflow-x: auto;\n",
       "}\n",
       "#h2o-table-2 .h2o-table {\n",
       "  /* width: 100%; */\n",
       "  margin-top: 1em;\n",
       "  margin-bottom: 1em;\n",
       "}\n",
       "#h2o-table-2 .h2o-table caption {\n",
       "  white-space: nowrap;\n",
       "  caption-side: top;\n",
       "  text-align: left;\n",
       "  /* margin-left: 1em; */\n",
       "  margin: 0;\n",
       "  font-size: larger;\n",
       "}\n",
       "#h2o-table-2 .h2o-table thead {\n",
       "  white-space: nowrap; \n",
       "  position: sticky;\n",
       "  top: 0;\n",
       "  box-shadow: 0 -1px inset;\n",
       "}\n",
       "#h2o-table-2 .h2o-table tbody {\n",
       "  overflow: auto;\n",
       "}\n",
       "#h2o-table-2 .h2o-table th,\n",
       "#h2o-table-2 .h2o-table td {\n",
       "  text-align: right;\n",
       "  /* border: 1px solid; */\n",
       "}\n",
       "#h2o-table-2 .h2o-table tr:nth-child(even) {\n",
       "  /* background: #F5F5F5 */\n",
       "}\n",
       "\n",
       "</style>      \n",
       "<div id=\"h2o-table-2\" class=\"h2o-container\">\n",
       "  <table class=\"h2o-table\">\n",
       "    <caption>Cross-Validation Metrics Summary: </caption>\n",
       "    <thead><tr><th></th>\n",
       "<th>mean</th>\n",
       "<th>sd</th>\n",
       "<th>cv_1_valid</th>\n",
       "<th>cv_2_valid</th>\n",
       "<th>cv_3_valid</th>\n",
       "<th>cv_4_valid</th>\n",
       "<th>cv_5_valid</th></tr></thead>\n",
       "    <tbody><tr><td>mae</td>\n",
       "<td>91.47044</td>\n",
       "<td>3.486643</td>\n",
       "<td>90.99218</td>\n",
       "<td>92.46944</td>\n",
       "<td>86.6315</td>\n",
       "<td>96.33705</td>\n",
       "<td>90.922035</td></tr>\n",
       "<tr><td>mean_residual_deviance</td>\n",
       "<td>15491.213</td>\n",
       "<td>1593.7357</td>\n",
       "<td>15326.587</td>\n",
       "<td>16435.021</td>\n",
       "<td>13174.9795000</td>\n",
       "<td>17420.75</td>\n",
       "<td>15098.726</td></tr>\n",
       "<tr><td>mse</td>\n",
       "<td>15491.213</td>\n",
       "<td>1593.7357</td>\n",
       "<td>15326.587</td>\n",
       "<td>16435.021</td>\n",
       "<td>13174.9795000</td>\n",
       "<td>17420.75</td>\n",
       "<td>15098.726</td></tr>\n",
       "<tr><td>null_deviance</td>\n",
       "<td>162459424.0000000</td>\n",
       "<td>5637426.0</td>\n",
       "<td>162343856.0000000</td>\n",
       "<td>164077168.0000000</td>\n",
       "<td>159429376.0000000</td>\n",
       "<td>170777920.0000000</td>\n",
       "<td>155668752.0000000</td></tr>\n",
       "<tr><td>r2</td>\n",
       "<td>0.9050196</td>\n",
       "<td>0.0087013</td>\n",
       "<td>0.9022002</td>\n",
       "<td>0.8978894</td>\n",
       "<td>0.9181833</td>\n",
       "<td>0.8976849</td>\n",
       "<td>0.9091405</td></tr>\n",
       "<tr><td>residual_deviance</td>\n",
       "<td>15442731.0000000</td>\n",
       "<td>1843628.4</td>\n",
       "<td>15863017.0000000</td>\n",
       "<td>16747287.0000000</td>\n",
       "<td>13043229.0000000</td>\n",
       "<td>17473012.0000000</td>\n",
       "<td>14087111.0000000</td></tr>\n",
       "<tr><td>rmse</td>\n",
       "<td>124.32932</td>\n",
       "<td>6.464532</td>\n",
       "<td>123.80059</td>\n",
       "<td>128.19914</td>\n",
       "<td>114.78231</td>\n",
       "<td>131.98769</td>\n",
       "<td>122.87687</td></tr>\n",
       "<tr><td>rmsle</td>\n",
       "<td>nan</td>\n",
       "<td>0.0</td>\n",
       "<td>nan</td>\n",
       "<td>nan</td>\n",
       "<td>nan</td>\n",
       "<td>nan</td>\n",
       "<td>nan</td></tr></tbody>\n",
       "  </table>\n",
       "</div>\n",
       "</div><pre style=\"font-size: smaller; margin: 1em 0 0 0;\">\n",
       "\n",
       "[tips]\n",
       "Use `model.explain()` to inspect the model.\n",
       "--\n",
       "Use `h2o.display.toggle_user_tips()` to switch on/off this section.</pre>"
      ]
     },
     "metadata": {},
     "execution_count": 17
    }
   ],
   "source": [
    "# pass the data through H20AutoML\n",
    "aml.train(x=X, y=y_numeric, training_frame=df_train)"
   ]
  },
  {
   "cell_type": "code",
   "execution_count": null,
   "metadata": {
    "colab": {
     "base_uri": "https://localhost:8080/"
    },
    "id": "QwRp_nu6Croy",
    "outputId": "cfc988c0-e5eb-41a1-8485-57e0656bf100"
   },
   "outputs": [
    {
     "output_type": "stream",
     "name": "stdout",
     "text": [
      "model_id                                                    rmse      mse      mae    rmsle    mean_residual_deviance\n",
      "StackedEnsemble_AllModels_3_AutoML_1_20230203_190211     124.518  15504.8  91.4909      nan                   15504.8\n",
      "StackedEnsemble_AllModels_2_AutoML_1_20230203_190211     125.043  15635.8  91.7797      nan                   15635.8\n",
      "StackedEnsemble_AllModels_1_AutoML_1_20230203_190211     125.255  15688.8  92.0268      nan                   15688.8\n",
      "StackedEnsemble_BestOfFamily_3_AutoML_1_20230203_190211  126.521  16007.5  93.1319      nan                   16007.5\n",
      "StackedEnsemble_BestOfFamily_4_AutoML_1_20230203_190211  126.778  16072.7  93.3569      nan                   16072.7\n",
      "StackedEnsemble_BestOfFamily_2_AutoML_1_20230203_190211  127.048  16141.2  93.6472      nan                   16141.2\n",
      "GBM_3_AutoML_1_20230203_190211                           128.289  16458    95.06        nan                   16458\n",
      "GBM_2_AutoML_1_20230203_190211                           128.294  16459.2  95.2601      nan                   16459.2\n",
      "GBM_4_AutoML_1_20230203_190211                           129.181  16687.8  95.6121      nan                   16687.8\n",
      "StackedEnsemble_BestOfFamily_1_AutoML_1_20230203_190211  129.262  16708.5  95.5199      nan                   16708.5\n",
      "[34 rows x 6 columns]\n",
      "\n"
     ]
    }
   ],
   "source": [
    "print(aml.leaderboard)"
   ]
  },
  {
   "cell_type": "markdown",
   "metadata": {
    "id": "mLJ0jAu_C1N6"
   },
   "source": [
    "##**Analysing relation between all variables**"
   ]
  },
  {
   "cell_type": "markdown",
   "metadata": {
    "id": "IBzOBNnkC3AZ"
   },
   "source": [
    "When all independent variables were plotted against 'price' variable it is observed that for'Landsize' and 'BuildingArea' roughly a linear line is obtained. So it can be concluded from this plot that variables Landsize and BuildingArea have linear relation with Price."
   ]
  },
  {
   "cell_type": "markdown",
   "metadata": {
    "id": "ZOPjqKxJDA69"
   },
   "source": [
    "VIF stands for Variance Inflation Factor.It signifies multicollinearity among set of different independent variable. A value greater than 10 means that the independent variable is highly correlated with some other variable. Will calculate VIF value for all variables to check the dependency and then will drop the variables with high VIF value."
   ]
  },
  {
   "cell_type": "code",
   "execution_count": null,
   "metadata": {
    "colab": {
     "base_uri": "https://localhost:8080/",
     "height": 329
    },
    "id": "OcWzAvdiCxDp",
    "outputId": "f3436876-ef12-4257-f842-553122810b39"
   },
   "outputs": [
    {
     "output_type": "error",
     "ename": "AttributeError",
     "evalue": "ignored",
     "traceback": [
      "\u001b[0;31m---------------------------------------------------------------------------\u001b[0m",
      "\u001b[0;31mAttributeError\u001b[0m                            Traceback (most recent call last)",
      "\u001b[0;32m<ipython-input-34-b8b9a1145746>\u001b[0m in \u001b[0;36m<module>\u001b[0;34m\u001b[0m\n\u001b[1;32m      5\u001b[0m \u001b[0mvif\u001b[0m \u001b[0;34m=\u001b[0m \u001b[0mpd\u001b[0m\u001b[0;34m.\u001b[0m\u001b[0mDataFrame\u001b[0m\u001b[0;34m(\u001b[0m\u001b[0;34m)\u001b[0m\u001b[0;34m\u001b[0m\u001b[0;34m\u001b[0m\u001b[0m\n\u001b[1;32m      6\u001b[0m \u001b[0mvif\u001b[0m\u001b[0;34m[\u001b[0m\u001b[0;34m\"variables\"\u001b[0m\u001b[0;34m]\u001b[0m \u001b[0;34m=\u001b[0m \u001b[0mMultic\u001b[0m\u001b[0;34m.\u001b[0m\u001b[0mcolumns\u001b[0m\u001b[0;34m\u001b[0m\u001b[0;34m\u001b[0m\u001b[0m\n\u001b[0;32m----> 7\u001b[0;31m \u001b[0mvif\u001b[0m\u001b[0;34m[\u001b[0m\u001b[0;34m\"VIF\"\u001b[0m\u001b[0;34m]\u001b[0m \u001b[0;34m=\u001b[0m \u001b[0;34m[\u001b[0m\u001b[0mvariance_inflation_factor\u001b[0m\u001b[0;34m(\u001b[0m\u001b[0mMultic\u001b[0m\u001b[0;34m.\u001b[0m\u001b[0mvalues\u001b[0m\u001b[0;34m,\u001b[0m \u001b[0mi\u001b[0m\u001b[0;34m)\u001b[0m \u001b[0;32mfor\u001b[0m \u001b[0mi\u001b[0m \u001b[0;32min\u001b[0m \u001b[0mrange\u001b[0m\u001b[0;34m(\u001b[0m\u001b[0mMultic\u001b[0m\u001b[0;34m.\u001b[0m\u001b[0mshape\u001b[0m\u001b[0;34m[\u001b[0m\u001b[0;36m1\u001b[0m\u001b[0;34m]\u001b[0m\u001b[0;34m)\u001b[0m\u001b[0;34m]\u001b[0m\u001b[0;34m\u001b[0m\u001b[0;34m\u001b[0m\u001b[0m\n\u001b[0m\u001b[1;32m      8\u001b[0m \u001b[0mvif\u001b[0m\u001b[0;34m\u001b[0m\u001b[0;34m\u001b[0m\u001b[0m\n",
      "\u001b[0;32m<ipython-input-34-b8b9a1145746>\u001b[0m in \u001b[0;36m<listcomp>\u001b[0;34m(.0)\u001b[0m\n\u001b[1;32m      5\u001b[0m \u001b[0mvif\u001b[0m \u001b[0;34m=\u001b[0m \u001b[0mpd\u001b[0m\u001b[0;34m.\u001b[0m\u001b[0mDataFrame\u001b[0m\u001b[0;34m(\u001b[0m\u001b[0;34m)\u001b[0m\u001b[0;34m\u001b[0m\u001b[0;34m\u001b[0m\u001b[0m\n\u001b[1;32m      6\u001b[0m \u001b[0mvif\u001b[0m\u001b[0;34m[\u001b[0m\u001b[0;34m\"variables\"\u001b[0m\u001b[0;34m]\u001b[0m \u001b[0;34m=\u001b[0m \u001b[0mMultic\u001b[0m\u001b[0;34m.\u001b[0m\u001b[0mcolumns\u001b[0m\u001b[0;34m\u001b[0m\u001b[0;34m\u001b[0m\u001b[0m\n\u001b[0;32m----> 7\u001b[0;31m \u001b[0mvif\u001b[0m\u001b[0;34m[\u001b[0m\u001b[0;34m\"VIF\"\u001b[0m\u001b[0;34m]\u001b[0m \u001b[0;34m=\u001b[0m \u001b[0;34m[\u001b[0m\u001b[0mvariance_inflation_factor\u001b[0m\u001b[0;34m(\u001b[0m\u001b[0mMultic\u001b[0m\u001b[0;34m.\u001b[0m\u001b[0mvalues\u001b[0m\u001b[0;34m,\u001b[0m \u001b[0mi\u001b[0m\u001b[0;34m)\u001b[0m \u001b[0;32mfor\u001b[0m \u001b[0mi\u001b[0m \u001b[0;32min\u001b[0m \u001b[0mrange\u001b[0m\u001b[0;34m(\u001b[0m\u001b[0mMultic\u001b[0m\u001b[0;34m.\u001b[0m\u001b[0mshape\u001b[0m\u001b[0;34m[\u001b[0m\u001b[0;36m1\u001b[0m\u001b[0;34m]\u001b[0m\u001b[0;34m)\u001b[0m\u001b[0;34m]\u001b[0m\u001b[0;34m\u001b[0m\u001b[0;34m\u001b[0m\u001b[0m\n\u001b[0m\u001b[1;32m      8\u001b[0m \u001b[0mvif\u001b[0m\u001b[0;34m\u001b[0m\u001b[0;34m\u001b[0m\u001b[0m\n",
      "\u001b[0;31mAttributeError\u001b[0m: 'H2OFrame' object has no attribute 'values'"
     ]
    }
   ],
   "source": [
    "from statsmodels.stats.outliers_influence import variance_inflation_factor\n",
    "\n",
    "# Indicate which variables to compute VIF\n",
    "Multic = dfpd[\n",
    "    [\n",
    "        \"YearBuilt\",\n",
    "        \"Distance\",\n",
    "        \"Rooms\",\n",
    "        \"Longtitude\",\n",
    "        \"Bathroom\",\n",
    "        \"Suburb\",\n",
    "        \"Address\",\n",
    "        \"Type\",\n",
    "        \"SellerG\",\n",
    "        \"Method\",\n",
    "        \"Date\",\n",
    "        \"Postcode\",\n",
    "        \"Bedroom2\",\n",
    "        \"Car\",\n",
    "        \"Landsize\",\n",
    "        \"BuildingArea\",\n",
    "        \"CouncilArea\",\n",
    "        \"Lattitude\",\n",
    "        \"Regionname\",\n",
    "        \"Propertycount\",\n",
    "    ]\n",
    "]\n",
    "# Compute VIF\n",
    "vif = pd.DataFrame()\n",
    "vif[\"variables\"] = Multic.columns\n",
    "vif[\"VIF\"] = [\n",
    "    variance_inflation_factor(Multic.values, i) for i in range(Multic.shape[1])\n",
    "]\n",
    "vif"
   ]
  },
  {
   "cell_type": "markdown",
   "metadata": {
    "id": "uzG_sRHXDHdn"
   },
   "source": [
    "VIF for 'YearBuilt','Rooms','Longtitude','Bedroom2' and 'BuildingArea' is greater than 10.'Rooms','Bedroom2' and 'BuildingArea' specify the same thing. More the rooms more will be the building area. Will drop the variables Bedroom2, Longtitude and YearBuilt. Not dropping Rooms as for a customer number of rooms is an important aspect."
   ]
  },
  {
   "cell_type": "markdown",
   "metadata": {
    "id": "Y4efRDSZDMkj"
   },
   "source": [
    "Ordinary least squares (OLS) regression is a statistical method of analysis used for multivariate model that estimates the relationship between one or more independent variables and a dependent variable; the method estimates the relationship by minimizing the sum of the squares in the difference between the observed and predicted values of the dependent variable."
   ]
  },
  {
   "cell_type": "code",
   "execution_count": null,
   "metadata": {
    "id": "DGl1_I6NDPXO",
    "colab": {
     "base_uri": "https://localhost:8080/",
     "height": 478
    },
    "outputId": "1a566014-f879-4168-b678-dc88a06e79e8"
   },
   "outputs": [
    {
     "output_type": "error",
     "ename": "PatsyError",
     "evalue": "ignored",
     "traceback": [
      "\u001b[0;31m---------------------------------------------------------------------------\u001b[0m",
      "\u001b[0;31mTypeError\u001b[0m                                 Traceback (most recent call last)",
      "\u001b[0;32m/usr/local/lib/python3.8/dist-packages/patsy/categorical.py\u001b[0m in \u001b[0;36msniff\u001b[0;34m(self, data)\u001b[0m\n\u001b[1;32m    210\u001b[0m                 \u001b[0;32mtry\u001b[0m\u001b[0;34m:\u001b[0m\u001b[0;34m\u001b[0m\u001b[0;34m\u001b[0m\u001b[0m\n\u001b[0;32m--> 211\u001b[0;31m                     \u001b[0mself\u001b[0m\u001b[0;34m.\u001b[0m\u001b[0m_level_set\u001b[0m\u001b[0;34m.\u001b[0m\u001b[0madd\u001b[0m\u001b[0;34m(\u001b[0m\u001b[0mvalue\u001b[0m\u001b[0;34m)\u001b[0m\u001b[0;34m\u001b[0m\u001b[0;34m\u001b[0m\u001b[0m\n\u001b[0m\u001b[1;32m    212\u001b[0m                 \u001b[0;32mexcept\u001b[0m \u001b[0mTypeError\u001b[0m\u001b[0;34m:\u001b[0m\u001b[0;34m\u001b[0m\u001b[0;34m\u001b[0m\u001b[0m\n",
      "\u001b[0;31mTypeError\u001b[0m: unhashable type: 'H2OFrame'",
      "\nDuring handling of the above exception, another exception occurred:\n",
      "\u001b[0;31mPatsyError\u001b[0m                                Traceback (most recent call last)",
      "\u001b[0;32m<ipython-input-31-da4fd1a958c7>\u001b[0m in \u001b[0;36m<module>\u001b[0;34m\u001b[0m\n\u001b[1;32m      1\u001b[0m \u001b[0;32mimport\u001b[0m \u001b[0mstatsmodels\u001b[0m\u001b[0;34m.\u001b[0m\u001b[0mformula\u001b[0m\u001b[0;34m.\u001b[0m\u001b[0mapi\u001b[0m \u001b[0;32mas\u001b[0m \u001b[0msmf\u001b[0m \u001b[0;31m#OLS model Library\u001b[0m\u001b[0;34m\u001b[0m\u001b[0;34m\u001b[0m\u001b[0m\n\u001b[0;32m----> 2\u001b[0;31m \u001b[0mresults\u001b[0m \u001b[0;34m=\u001b[0m \u001b[0msmf\u001b[0m\u001b[0;34m.\u001b[0m\u001b[0mols\u001b[0m\u001b[0;34m(\u001b[0m\u001b[0;34m'Price ~ Distance + Rooms + Bathroom +Suburb + Address + Type + SellerG + Method + Date + Postcode + Car + Landsize + BuildingArea + CouncilArea + Lattitude + Regionname + Propertycount'\u001b[0m\u001b[0;34m,\u001b[0m \u001b[0mdata\u001b[0m\u001b[0;34m=\u001b[0m\u001b[0mdfpd\u001b[0m\u001b[0;34m)\u001b[0m\u001b[0;34m.\u001b[0m\u001b[0mfit\u001b[0m\u001b[0;34m(\u001b[0m\u001b[0;34m)\u001b[0m\u001b[0;34m\u001b[0m\u001b[0;34m\u001b[0m\u001b[0m\n\u001b[0m\u001b[1;32m      3\u001b[0m \u001b[0mresults\u001b[0m\u001b[0;34m.\u001b[0m\u001b[0msummary\u001b[0m\u001b[0;34m(\u001b[0m\u001b[0;34m)\u001b[0m\u001b[0;34m\u001b[0m\u001b[0;34m\u001b[0m\u001b[0m\n",
      "\u001b[0;32m/usr/local/lib/python3.8/dist-packages/statsmodels/base/model.py\u001b[0m in \u001b[0;36mfrom_formula\u001b[0;34m(cls, formula, data, subset, drop_cols, *args, **kwargs)\u001b[0m\n\u001b[1;32m    167\u001b[0m             \u001b[0mmissing\u001b[0m \u001b[0;34m=\u001b[0m \u001b[0;34m'raise'\u001b[0m\u001b[0;34m\u001b[0m\u001b[0;34m\u001b[0m\u001b[0m\n\u001b[1;32m    168\u001b[0m \u001b[0;34m\u001b[0m\u001b[0m\n\u001b[0;32m--> 169\u001b[0;31m         tmp = handle_formula_data(data, None, formula, depth=eval_env,\n\u001b[0m\u001b[1;32m    170\u001b[0m                                   missing=missing)\n\u001b[1;32m    171\u001b[0m         \u001b[0;34m(\u001b[0m\u001b[0;34m(\u001b[0m\u001b[0mendog\u001b[0m\u001b[0;34m,\u001b[0m \u001b[0mexog\u001b[0m\u001b[0;34m)\u001b[0m\u001b[0;34m,\u001b[0m \u001b[0mmissing_idx\u001b[0m\u001b[0;34m,\u001b[0m \u001b[0mdesign_info\u001b[0m\u001b[0;34m)\u001b[0m \u001b[0;34m=\u001b[0m \u001b[0mtmp\u001b[0m\u001b[0;34m\u001b[0m\u001b[0;34m\u001b[0m\u001b[0m\n",
      "\u001b[0;32m/usr/local/lib/python3.8/dist-packages/statsmodels/formula/formulatools.py\u001b[0m in \u001b[0;36mhandle_formula_data\u001b[0;34m(Y, X, formula, depth, missing)\u001b[0m\n\u001b[1;32m     64\u001b[0m                                NA_action=na_action)\n\u001b[1;32m     65\u001b[0m         \u001b[0;32melse\u001b[0m\u001b[0;34m:\u001b[0m\u001b[0;34m\u001b[0m\u001b[0;34m\u001b[0m\u001b[0m\n\u001b[0;32m---> 66\u001b[0;31m             result = dmatrices(formula, Y, depth, return_type='dataframe',\n\u001b[0m\u001b[1;32m     67\u001b[0m                                NA_action=na_action)\n\u001b[1;32m     68\u001b[0m \u001b[0;34m\u001b[0m\u001b[0m\n",
      "\u001b[0;32m/usr/local/lib/python3.8/dist-packages/patsy/highlevel.py\u001b[0m in \u001b[0;36mdmatrices\u001b[0;34m(formula_like, data, eval_env, NA_action, return_type)\u001b[0m\n\u001b[1;32m    307\u001b[0m     \"\"\"\n\u001b[1;32m    308\u001b[0m     \u001b[0meval_env\u001b[0m \u001b[0;34m=\u001b[0m \u001b[0mEvalEnvironment\u001b[0m\u001b[0;34m.\u001b[0m\u001b[0mcapture\u001b[0m\u001b[0;34m(\u001b[0m\u001b[0meval_env\u001b[0m\u001b[0;34m,\u001b[0m \u001b[0mreference\u001b[0m\u001b[0;34m=\u001b[0m\u001b[0;36m1\u001b[0m\u001b[0;34m)\u001b[0m\u001b[0;34m\u001b[0m\u001b[0;34m\u001b[0m\u001b[0m\n\u001b[0;32m--> 309\u001b[0;31m     (lhs, rhs) = _do_highlevel_design(formula_like, data, eval_env,\n\u001b[0m\u001b[1;32m    310\u001b[0m                                       NA_action, return_type)\n\u001b[1;32m    311\u001b[0m     \u001b[0;32mif\u001b[0m \u001b[0mlhs\u001b[0m\u001b[0;34m.\u001b[0m\u001b[0mshape\u001b[0m\u001b[0;34m[\u001b[0m\u001b[0;36m1\u001b[0m\u001b[0;34m]\u001b[0m \u001b[0;34m==\u001b[0m \u001b[0;36m0\u001b[0m\u001b[0;34m:\u001b[0m\u001b[0;34m\u001b[0m\u001b[0;34m\u001b[0m\u001b[0m\n",
      "\u001b[0;32m/usr/local/lib/python3.8/dist-packages/patsy/highlevel.py\u001b[0m in \u001b[0;36m_do_highlevel_design\u001b[0;34m(formula_like, data, eval_env, NA_action, return_type)\u001b[0m\n\u001b[1;32m    162\u001b[0m     \u001b[0;32mdef\u001b[0m \u001b[0mdata_iter_maker\u001b[0m\u001b[0;34m(\u001b[0m\u001b[0;34m)\u001b[0m\u001b[0;34m:\u001b[0m\u001b[0;34m\u001b[0m\u001b[0;34m\u001b[0m\u001b[0m\n\u001b[1;32m    163\u001b[0m         \u001b[0;32mreturn\u001b[0m \u001b[0miter\u001b[0m\u001b[0;34m(\u001b[0m\u001b[0;34m[\u001b[0m\u001b[0mdata\u001b[0m\u001b[0;34m]\u001b[0m\u001b[0;34m)\u001b[0m\u001b[0;34m\u001b[0m\u001b[0;34m\u001b[0m\u001b[0m\n\u001b[0;32m--> 164\u001b[0;31m     design_infos = _try_incr_builders(formula_like, data_iter_maker, eval_env,\n\u001b[0m\u001b[1;32m    165\u001b[0m                                       NA_action)\n\u001b[1;32m    166\u001b[0m     \u001b[0;32mif\u001b[0m \u001b[0mdesign_infos\u001b[0m \u001b[0;32mis\u001b[0m \u001b[0;32mnot\u001b[0m \u001b[0;32mNone\u001b[0m\u001b[0;34m:\u001b[0m\u001b[0;34m\u001b[0m\u001b[0;34m\u001b[0m\u001b[0m\n",
      "\u001b[0;32m/usr/local/lib/python3.8/dist-packages/patsy/highlevel.py\u001b[0m in \u001b[0;36m_try_incr_builders\u001b[0;34m(formula_like, data_iter_maker, eval_env, NA_action)\u001b[0m\n\u001b[1;32m     64\u001b[0m     \u001b[0;32mif\u001b[0m \u001b[0misinstance\u001b[0m\u001b[0;34m(\u001b[0m\u001b[0mformula_like\u001b[0m\u001b[0;34m,\u001b[0m \u001b[0mModelDesc\u001b[0m\u001b[0;34m)\u001b[0m\u001b[0;34m:\u001b[0m\u001b[0;34m\u001b[0m\u001b[0;34m\u001b[0m\u001b[0m\n\u001b[1;32m     65\u001b[0m         \u001b[0;32massert\u001b[0m \u001b[0misinstance\u001b[0m\u001b[0;34m(\u001b[0m\u001b[0meval_env\u001b[0m\u001b[0;34m,\u001b[0m \u001b[0mEvalEnvironment\u001b[0m\u001b[0;34m)\u001b[0m\u001b[0;34m\u001b[0m\u001b[0;34m\u001b[0m\u001b[0m\n\u001b[0;32m---> 66\u001b[0;31m         return design_matrix_builders([formula_like.lhs_termlist,\n\u001b[0m\u001b[1;32m     67\u001b[0m                                        formula_like.rhs_termlist],\n\u001b[1;32m     68\u001b[0m                                       \u001b[0mdata_iter_maker\u001b[0m\u001b[0;34m,\u001b[0m\u001b[0;34m\u001b[0m\u001b[0;34m\u001b[0m\u001b[0m\n",
      "\u001b[0;32m/usr/local/lib/python3.8/dist-packages/patsy/build.py\u001b[0m in \u001b[0;36mdesign_matrix_builders\u001b[0;34m(termlists, data_iter_maker, eval_env, NA_action)\u001b[0m\n\u001b[1;32m    691\u001b[0m     \u001b[0;31m# on some data to find out what type of data they return.\u001b[0m\u001b[0;34m\u001b[0m\u001b[0;34m\u001b[0m\u001b[0;34m\u001b[0m\u001b[0m\n\u001b[1;32m    692\u001b[0m     (num_column_counts,\n\u001b[0;32m--> 693\u001b[0;31m      \u001b[0mcat_levels_contrasts\u001b[0m\u001b[0;34m)\u001b[0m \u001b[0;34m=\u001b[0m \u001b[0m_examine_factor_types\u001b[0m\u001b[0;34m(\u001b[0m\u001b[0mall_factors\u001b[0m\u001b[0;34m,\u001b[0m\u001b[0;34m\u001b[0m\u001b[0;34m\u001b[0m\u001b[0m\n\u001b[0m\u001b[1;32m    694\u001b[0m                                                    \u001b[0mfactor_states\u001b[0m\u001b[0;34m,\u001b[0m\u001b[0;34m\u001b[0m\u001b[0;34m\u001b[0m\u001b[0m\n\u001b[1;32m    695\u001b[0m                                                    \u001b[0mdata_iter_maker\u001b[0m\u001b[0;34m,\u001b[0m\u001b[0;34m\u001b[0m\u001b[0;34m\u001b[0m\u001b[0m\n",
      "\u001b[0;32m/usr/local/lib/python3.8/dist-packages/patsy/build.py\u001b[0m in \u001b[0;36m_examine_factor_types\u001b[0;34m(factors, factor_states, data_iter_maker, NA_action)\u001b[0m\n\u001b[1;32m    446\u001b[0m                     cat_sniffers[factor] = CategoricalSniffer(NA_action,\n\u001b[1;32m    447\u001b[0m                                                               factor.origin)\n\u001b[0;32m--> 448\u001b[0;31m                 \u001b[0mdone\u001b[0m \u001b[0;34m=\u001b[0m \u001b[0mcat_sniffers\u001b[0m\u001b[0;34m[\u001b[0m\u001b[0mfactor\u001b[0m\u001b[0;34m]\u001b[0m\u001b[0;34m.\u001b[0m\u001b[0msniff\u001b[0m\u001b[0;34m(\u001b[0m\u001b[0mvalue\u001b[0m\u001b[0;34m)\u001b[0m\u001b[0;34m\u001b[0m\u001b[0;34m\u001b[0m\u001b[0m\n\u001b[0m\u001b[1;32m    449\u001b[0m                 \u001b[0;32mif\u001b[0m \u001b[0mdone\u001b[0m\u001b[0;34m:\u001b[0m\u001b[0;34m\u001b[0m\u001b[0;34m\u001b[0m\u001b[0m\n\u001b[1;32m    450\u001b[0m                     \u001b[0mexamine_needed\u001b[0m\u001b[0;34m.\u001b[0m\u001b[0mremove\u001b[0m\u001b[0;34m(\u001b[0m\u001b[0mfactor\u001b[0m\u001b[0;34m)\u001b[0m\u001b[0;34m\u001b[0m\u001b[0;34m\u001b[0m\u001b[0m\n",
      "\u001b[0;32m/usr/local/lib/python3.8/dist-packages/patsy/categorical.py\u001b[0m in \u001b[0;36msniff\u001b[0;34m(self, data)\u001b[0m\n\u001b[1;32m    211\u001b[0m                     \u001b[0mself\u001b[0m\u001b[0;34m.\u001b[0m\u001b[0m_level_set\u001b[0m\u001b[0;34m.\u001b[0m\u001b[0madd\u001b[0m\u001b[0;34m(\u001b[0m\u001b[0mvalue\u001b[0m\u001b[0;34m)\u001b[0m\u001b[0;34m\u001b[0m\u001b[0;34m\u001b[0m\u001b[0m\n\u001b[1;32m    212\u001b[0m                 \u001b[0;32mexcept\u001b[0m \u001b[0mTypeError\u001b[0m\u001b[0;34m:\u001b[0m\u001b[0;34m\u001b[0m\u001b[0;34m\u001b[0m\u001b[0m\n\u001b[0;32m--> 213\u001b[0;31m                     raise PatsyError(\"Error interpreting categorical data: \"\n\u001b[0m\u001b[1;32m    214\u001b[0m                                      \u001b[0;34m\"all items must be hashable\"\u001b[0m\u001b[0;34m,\u001b[0m\u001b[0;34m\u001b[0m\u001b[0;34m\u001b[0m\u001b[0m\n\u001b[1;32m    215\u001b[0m                                      self._origin)\n",
      "\u001b[0;31mPatsyError\u001b[0m: Error interpreting categorical data: all items must be hashable\n    Price ~ Distance + Rooms + Bathroom +Suburb + Address + Type + SellerG + Method + Date + Postcode + Car + Landsize + BuildingArea + CouncilArea + Lattitude + Regionname + Propertycount\n                                                                                                              ^^^^^^^^"
     ]
    }
   ],
   "source": [
    "import statsmodels.formula.api as smf  # OLS model Library\n",
    "\n",
    "results = smf.ols(\n",
    "    \"Price ~ Distance + Rooms + Bathroom +Suburb + Address + Type + SellerG + Method + Date + Postcode + Car + Landsize + BuildingArea + CouncilArea + Lattitude + Regionname + Propertycount\",\n",
    "    data=dfpd,\n",
    ").fit()\n",
    "results.summary()"
   ]
  },
  {
   "cell_type": "markdown",
   "metadata": {
    "id": "v7U_coeYDSgx"
   },
   "source": [
    "As seen from the OLS summary p-value for 'Address' and 'Date' is greater than 0.05. An extra variable 'Address' is unneccsary as 'Suburb','Postcode' and 'RegionName' will help us tell the location. Dropping them will give us a model with all variables whose p-values are less than 0.05. The accuracy for this model is 76.4%. Now will check VIF and p-values again for the selected independent variables."
   ]
  },
  {
   "cell_type": "code",
   "execution_count": null,
   "metadata": {
    "id": "cciMj7m8DVMV",
    "colab": {
     "base_uri": "https://localhost:8080/",
     "height": 329
    },
    "outputId": "11f00e14-8883-4b38-f9b6-0726675957c5"
   },
   "outputs": [
    {
     "output_type": "error",
     "ename": "AttributeError",
     "evalue": "ignored",
     "traceback": [
      "\u001b[0;31m---------------------------------------------------------------------------\u001b[0m",
      "\u001b[0;31mAttributeError\u001b[0m                            Traceback (most recent call last)",
      "\u001b[0;32m<ipython-input-32-9de3fda52225>\u001b[0m in \u001b[0;36m<module>\u001b[0;34m\u001b[0m\n\u001b[1;32m      5\u001b[0m \u001b[0mvif\u001b[0m \u001b[0;34m=\u001b[0m \u001b[0mpd\u001b[0m\u001b[0;34m.\u001b[0m\u001b[0mDataFrame\u001b[0m\u001b[0;34m(\u001b[0m\u001b[0;34m)\u001b[0m\u001b[0;34m\u001b[0m\u001b[0;34m\u001b[0m\u001b[0m\n\u001b[1;32m      6\u001b[0m \u001b[0mvif\u001b[0m\u001b[0;34m[\u001b[0m\u001b[0;34m\"variables\"\u001b[0m\u001b[0;34m]\u001b[0m \u001b[0;34m=\u001b[0m \u001b[0mMultic\u001b[0m\u001b[0;34m.\u001b[0m\u001b[0mcolumns\u001b[0m\u001b[0;34m\u001b[0m\u001b[0;34m\u001b[0m\u001b[0m\n\u001b[0;32m----> 7\u001b[0;31m \u001b[0mvif\u001b[0m\u001b[0;34m[\u001b[0m\u001b[0;34m\"VIF\"\u001b[0m\u001b[0;34m]\u001b[0m \u001b[0;34m=\u001b[0m \u001b[0;34m[\u001b[0m\u001b[0mvariance_inflation_factor\u001b[0m\u001b[0;34m(\u001b[0m\u001b[0mMultic\u001b[0m\u001b[0;34m.\u001b[0m\u001b[0mvalues\u001b[0m\u001b[0;34m,\u001b[0m \u001b[0mi\u001b[0m\u001b[0;34m)\u001b[0m \u001b[0;32mfor\u001b[0m \u001b[0mi\u001b[0m \u001b[0;32min\u001b[0m \u001b[0mrange\u001b[0m\u001b[0;34m(\u001b[0m\u001b[0mMultic\u001b[0m\u001b[0;34m.\u001b[0m\u001b[0mshape\u001b[0m\u001b[0;34m[\u001b[0m\u001b[0;36m1\u001b[0m\u001b[0;34m]\u001b[0m\u001b[0;34m)\u001b[0m\u001b[0;34m]\u001b[0m\u001b[0;34m\u001b[0m\u001b[0;34m\u001b[0m\u001b[0m\n\u001b[0m\u001b[1;32m      8\u001b[0m \u001b[0mvif\u001b[0m\u001b[0;34m\u001b[0m\u001b[0;34m\u001b[0m\u001b[0m\n",
      "\u001b[0;32m<ipython-input-32-9de3fda52225>\u001b[0m in \u001b[0;36m<listcomp>\u001b[0;34m(.0)\u001b[0m\n\u001b[1;32m      5\u001b[0m \u001b[0mvif\u001b[0m \u001b[0;34m=\u001b[0m \u001b[0mpd\u001b[0m\u001b[0;34m.\u001b[0m\u001b[0mDataFrame\u001b[0m\u001b[0;34m(\u001b[0m\u001b[0;34m)\u001b[0m\u001b[0;34m\u001b[0m\u001b[0;34m\u001b[0m\u001b[0m\n\u001b[1;32m      6\u001b[0m \u001b[0mvif\u001b[0m\u001b[0;34m[\u001b[0m\u001b[0;34m\"variables\"\u001b[0m\u001b[0;34m]\u001b[0m \u001b[0;34m=\u001b[0m \u001b[0mMultic\u001b[0m\u001b[0;34m.\u001b[0m\u001b[0mcolumns\u001b[0m\u001b[0;34m\u001b[0m\u001b[0;34m\u001b[0m\u001b[0m\n\u001b[0;32m----> 7\u001b[0;31m \u001b[0mvif\u001b[0m\u001b[0;34m[\u001b[0m\u001b[0;34m\"VIF\"\u001b[0m\u001b[0;34m]\u001b[0m \u001b[0;34m=\u001b[0m \u001b[0;34m[\u001b[0m\u001b[0mvariance_inflation_factor\u001b[0m\u001b[0;34m(\u001b[0m\u001b[0mMultic\u001b[0m\u001b[0;34m.\u001b[0m\u001b[0mvalues\u001b[0m\u001b[0;34m,\u001b[0m \u001b[0mi\u001b[0m\u001b[0;34m)\u001b[0m \u001b[0;32mfor\u001b[0m \u001b[0mi\u001b[0m \u001b[0;32min\u001b[0m \u001b[0mrange\u001b[0m\u001b[0;34m(\u001b[0m\u001b[0mMultic\u001b[0m\u001b[0;34m.\u001b[0m\u001b[0mshape\u001b[0m\u001b[0;34m[\u001b[0m\u001b[0;36m1\u001b[0m\u001b[0;34m]\u001b[0m\u001b[0;34m)\u001b[0m\u001b[0;34m]\u001b[0m\u001b[0;34m\u001b[0m\u001b[0;34m\u001b[0m\u001b[0m\n\u001b[0m\u001b[1;32m      8\u001b[0m \u001b[0mvif\u001b[0m\u001b[0;34m\u001b[0m\u001b[0;34m\u001b[0m\u001b[0m\n",
      "\u001b[0;31mAttributeError\u001b[0m: 'H2OFrame' object has no attribute 'values'"
     ]
    }
   ],
   "source": [
    "from statsmodels.stats.outliers_influence import variance_inflation_factor\n",
    "\n",
    "# Indicate which variables to compute VIF\n",
    "Multic = dfpd[\n",
    "    [\n",
    "        \"Distance\",\n",
    "        \"Rooms\",\n",
    "        \"Bathroom\",\n",
    "        \"Suburb\",\n",
    "        \"Type\",\n",
    "        \"SellerG\",\n",
    "        \"Method\",\n",
    "        \"Postcode\",\n",
    "        \"Car\",\n",
    "        \"Landsize\",\n",
    "        \"BuildingArea\",\n",
    "        \"CouncilArea\",\n",
    "        \"Lattitude\",\n",
    "        \"Regionname\",\n",
    "        \"Propertycount\",\n",
    "    ]\n",
    "]\n",
    "# Compute VIF\n",
    "vif = pd.DataFrame()\n",
    "vif[\"variables\"] = Multic.columns\n",
    "vif[\"VIF\"] = [\n",
    "    variance_inflation_factor(Multic.values, i) for i in range(Multic.shape[1])\n",
    "]\n",
    "vif"
   ]
  },
  {
   "cell_type": "code",
   "execution_count": null,
   "metadata": {
    "id": "LLi_ltD6DYt0"
   },
   "outputs": [],
   "source": [
    "import statsmodels.formula.api as smf  # OLS model Library\n",
    "\n",
    "results = smf.ols(\n",
    "    \"Price ~ Distance + Rooms + Bathroom +Suburb  + Type + SellerG + Method  + Postcode + Car + Landsize + BuildingArea + CouncilArea + Lattitude + Regionname + Propertycount\",\n",
    "    data=dfpd,\n",
    ").fit()\n",
    "results.summary()"
   ]
  },
  {
   "cell_type": "markdown",
   "metadata": {
    "id": "sIG4rG-RDbuN"
   },
   "source": [
    "VIF for all except two variables are less than 10. Dropping either of the two variables 'Rooms' or 'BuildingArea' wont make sense as a customer should know the number of rooms and BuildingArea.P-values for all the variables are less than 0.05 and the accuracy is 76.4%. It is unaffected even after removing 'Address' and 'Date' tells us that these two variables were not important for calculating 'Price'.\n",
    "\n"
   ]
  },
  {
   "cell_type": "code",
   "execution_count": null,
   "metadata": {
    "id": "2Ist6TMQDew3"
   },
   "outputs": [],
   "source": [
    "dfpd1 = dfpd.drop([\"Address\", \"Date\", \"Bedroom2\", \"Longtitude\", \"YearBuilt\"], axis=1)"
   ]
  },
  {
   "cell_type": "code",
   "execution_count": null,
   "metadata": {
    "id": "5AftMazpDfNp"
   },
   "outputs": [],
   "source": [
    "dfpd1"
   ]
  },
  {
   "cell_type": "markdown",
   "metadata": {
    "id": "skRIQcJHDkr9"
   },
   "source": [
    "The correlation matrix is simply a table of correlations.Each random variable in the table is correlated with each of the other values in the table. This allows us to see which pairs have the highest correlation.It also tells us if it is directly dependent or inversely by signifying the positive and negative signs."
   ]
  },
  {
   "cell_type": "code",
   "execution_count": null,
   "metadata": {
    "id": "aNpjPwBsDoTJ"
   },
   "outputs": [],
   "source": [
    "# Calculating correlation matrix for all variables\n",
    "dfpd1.corr()"
   ]
  },
  {
   "cell_type": "markdown",
   "metadata": {
    "id": "FluDpdabDrNR"
   },
   "source": [
    "Representing the same matrix in form of heatmap where shades of blue signify inverse relation and shades of red signify direct relation."
   ]
  },
  {
   "cell_type": "code",
   "execution_count": null,
   "metadata": {
    "id": "xI8nGa9kDrxp"
   },
   "outputs": [],
   "source": [
    "# Representing Matrix as a plot\n",
    "from IPython.core.pylabtools import figsize\n",
    "\n",
    "f, ax = plt.subplots(figsize=(10, 6))\n",
    "\n",
    "sns.heatmap(\n",
    "    dfpd1.corr(),\n",
    "    center=0,\n",
    "    linewidths=0.8,\n",
    "    cmap=\"coolwarm\",\n",
    "    annot=True,\n",
    "    annot_kws={\"size\": 9},\n",
    ")\n",
    "plt.title(\"Variable Correlation\")"
   ]
  },
  {
   "cell_type": "markdown",
   "metadata": {
    "id": "ruZrHUgRDwI9"
   },
   "source": [
    "Plotting all variables against other variables to see if relation exists between them. Basically it tells the same thing as correlation matrix but in a graphical way."
   ]
  },
  {
   "cell_type": "code",
   "execution_count": null,
   "metadata": {
    "id": "2m-QouzFDyiC"
   },
   "outputs": [],
   "source": [
    "sns.pairplot(dfpd1)"
   ]
  },
  {
   "cell_type": "markdown",
   "metadata": {
    "id": "UK6G1h33D2Ta"
   },
   "source": [
    "When all independent variables were plotted against 'price' variable it is observed that for'Landsize' and 'BuildingArea' roughly a linear line is obtained. So it can be concluded from this plot that variables Landsize and BuildingArea have linear relation with Price"
   ]
  },
  {
   "cell_type": "markdown",
   "metadata": {
    "id": "H7OSEpD7D5xF"
   },
   "source": [
    "##**H20 AutoML Rexecution on new model**"
   ]
  },
  {
   "cell_type": "markdown",
   "metadata": {
    "id": "RArpxVSiD6z6"
   },
   "source": [
    "Dropping the variables that are not significant for determining Price. Passing this new model again through H20AutoML."
   ]
  },
  {
   "cell_type": "code",
   "execution_count": null,
   "metadata": {
    "id": "2xJbOjQHEAw2"
   },
   "outputs": [],
   "source": [
    "df1 = df.drop([\"Date\", \"Address\", \"Bedroom2\", \"Longtitude\", \"YearBuilt\"], axis=1)"
   ]
  },
  {
   "cell_type": "code",
   "execution_count": null,
   "metadata": {
    "id": "hNsvVMWLEDYt"
   },
   "outputs": [],
   "source": [
    "df1_train, df1_test = df1.split_frame([pct_rows])"
   ]
  },
  {
   "cell_type": "code",
   "execution_count": null,
   "metadata": {
    "id": "0uqrCTkJEFPi"
   },
   "outputs": [],
   "source": [
    "X1 = df1.columns\n",
    "print(X1)"
   ]
  },
  {
   "cell_type": "code",
   "execution_count": null,
   "metadata": {
    "id": "Ej0MIG-EEFzK"
   },
   "outputs": [],
   "source": [
    "# Seperate Dependent variable from Independent variable\n",
    "y1_numeric = \"Price\"\n",
    "X1.remove(y1_numeric)\n",
    "print(X1)"
   ]
  },
  {
   "cell_type": "code",
   "execution_count": null,
   "metadata": {
    "id": "fkavCP4FEJ8a"
   },
   "outputs": [],
   "source": [
    "aml1 = H2OAutoML(max_runtime_secs=run_time, seed=1)"
   ]
  },
  {
   "cell_type": "code",
   "execution_count": null,
   "metadata": {
    "id": "-fInX4i1EJ40"
   },
   "outputs": [],
   "source": [
    "aml1.train(x=X1, y=y1_numeric, training_frame=df1_train)"
   ]
  },
  {
   "cell_type": "code",
   "execution_count": null,
   "metadata": {
    "id": "__U2TfqVEJ2y"
   },
   "outputs": [],
   "source": [
    "print(aml1.leaderboard)"
   ]
  },
  {
   "cell_type": "code",
   "execution_count": null,
   "metadata": {
    "id": "PeBb3nBlERXG",
    "colab": {
     "base_uri": "https://localhost:8080/",
     "height": 239
    },
    "outputId": "7bc8eb1f-6d9c-469d-e59d-68be09eb0313"
   },
   "outputs": [
    {
     "output_type": "error",
     "ename": "NameError",
     "evalue": "ignored",
     "traceback": [
      "\u001b[0;31m---------------------------------------------------------------------------\u001b[0m",
      "\u001b[0;31mNameError\u001b[0m                                 Traceback (most recent call last)",
      "\u001b[0;32m<ipython-input-1-f55448bb9198>\u001b[0m in \u001b[0;36m<module>\u001b[0;34m\u001b[0m\n\u001b[1;32m      3\u001b[0m \u001b[0mglm_index\u001b[0m\u001b[0;34m=\u001b[0m\u001b[0;36m0\u001b[0m\u001b[0;34m\u001b[0m\u001b[0;34m\u001b[0m\u001b[0m\n\u001b[1;32m      4\u001b[0m \u001b[0mglm_model\u001b[0m\u001b[0;34m=\u001b[0m\u001b[0;34m''\u001b[0m\u001b[0;34m\u001b[0m\u001b[0;34m\u001b[0m\u001b[0m\n\u001b[0;32m----> 5\u001b[0;31m \u001b[0maml1_leaderboard_df1\u001b[0m\u001b[0;34m=\u001b[0m\u001b[0maml1\u001b[0m\u001b[0;34m.\u001b[0m\u001b[0mleaderboard\u001b[0m\u001b[0;34m.\u001b[0m\u001b[0mas_data_frame\u001b[0m\u001b[0;34m(\u001b[0m\u001b[0;34m)\u001b[0m\u001b[0;34m\u001b[0m\u001b[0;34m\u001b[0m\u001b[0m\n\u001b[0m\u001b[1;32m      6\u001b[0m \u001b[0mmodels_dict\u001b[0m\u001b[0;34m=\u001b[0m\u001b[0;34m{\u001b[0m\u001b[0;34m}\u001b[0m\u001b[0;34m\u001b[0m\u001b[0;34m\u001b[0m\u001b[0m\n\u001b[1;32m      7\u001b[0m \u001b[0;32mfor\u001b[0m \u001b[0mm\u001b[0m \u001b[0;32min\u001b[0m \u001b[0maml1_leaderboard_df1\u001b[0m\u001b[0;34m[\u001b[0m\u001b[0;34m'model_id'\u001b[0m\u001b[0;34m]\u001b[0m\u001b[0;34m:\u001b[0m\u001b[0;34m\u001b[0m\u001b[0;34m\u001b[0m\u001b[0m\n",
      "\u001b[0;31mNameError\u001b[0m: name 'aml1' is not defined"
     ]
    }
   ],
   "source": [
    "# assign index values to all the models generated\n",
    "model_index = 0\n",
    "glm_index = 0\n",
    "glm_model = \"\"\n",
    "aml1_leaderboard_df1 = aml1.leaderboard.as_data_frame()\n",
    "models_dict = {}\n",
    "for m in aml1_leaderboard_df1[\"model_id\"]:\n",
    "    models_dict[m] = model_index\n",
    "    if \"StackedEnsemble\" not in m:\n",
    "        break\n",
    "    model_index = model_index + 1\n",
    "\n",
    "for m in aml1_leaderboard_df1[\"model_id\"]:\n",
    "    if \"GLM\" in m:\n",
    "        models_dict[m] = glm_index\n",
    "        break\n",
    "    glm_index = glm_index + 1\n",
    "models_dict"
   ]
  },
  {
   "cell_type": "code",
   "execution_count": null,
   "metadata": {
    "id": "mEIxYsMsERL3"
   },
   "outputs": [],
   "source": [
    "# print the index value of best model\n",
    "print(model_index)\n",
    "best_model1 = h2o.get_model(aml1.leaderboard[model_index, \"model_id\"])"
   ]
  },
  {
   "cell_type": "code",
   "execution_count": null,
   "metadata": {
    "id": "u52X1meiEVVd"
   },
   "outputs": [],
   "source": [
    "best_model1.algo"
   ]
  },
  {
   "cell_type": "code",
   "execution_count": null,
   "metadata": {
    "id": "cSiLjlqvEYyL"
   },
   "outputs": [],
   "source": [
    "# plot variables in order of their importance for price prediction\n",
    "if best_model1.algo in [\"gbm\", \"drf\", \"xrt\", \"xgboost\"]:\n",
    "    best_model1.varimp_plot()"
   ]
  },
  {
   "cell_type": "code",
   "execution_count": null,
   "metadata": {
    "id": "vBZGKNeYEYn_"
   },
   "outputs": [],
   "source": [
    "if glm_index is not 0:\n",
    "    print(glm_index)\n",
    "    glm_model1 = h2o.get_model(aml1.leaderboard[glm_index, \"model_id\"])\n",
    "    print(glm_model1.algo)\n",
    "    glm_model1.std_coef_plot()"
   ]
  },
  {
   "cell_type": "code",
   "execution_count": null,
   "metadata": {
    "id": "a_OzCQiREfdg"
   },
   "outputs": [],
   "source": [
    "best_model1.partial_plot(\n",
    "    df1,\n",
    "    cols=[\n",
    "        \"BuildingArea\",\n",
    "        \"Regionname\",\n",
    "        \"Lattitude\",\n",
    "        \"Postcode\",\n",
    "        \"Landsize\",\n",
    "        \"Distance\",\n",
    "        \"Rooms\",\n",
    "        \"Suburb\",\n",
    "    ],\n",
    ")"
   ]
  },
  {
   "cell_type": "markdown",
   "metadata": {
    "id": "o4eW4B5eElfr"
   },
   "source": [
    "##**Checking if assumptions violated**\n",
    "\n",
    "*   列表项\n",
    "*   列表项\n",
    "\n"
   ]
  },
  {
   "cell_type": "markdown",
   "metadata": {
    "id": "9HXadAmMEmJc"
   },
   "source": [
    "Checking if the model has violated any assumptions. For linear regression some of the assumptions are: (1)There needs to be linear relation between the independent and dependent variable. (2)Homoscedasticity which means normality of the error distribution.The plot for residuals against target variable should be normally distributed. (3)Thirdly, linear regression assumes that there is little or no multicollinearity in the data. Multicollinearity occurs when the independent variables are too highly correlated with each other. (4)There should be no or little auto correlation. One way to test this is by Durbin-Watson test. The values should be brtween 1.5-2.5 for no autocorrelation."
   ]
  },
  {
   "cell_type": "code",
   "execution_count": null,
   "metadata": {
    "id": "PQYV3a54Eqsg"
   },
   "outputs": [],
   "source": [
    "A = dfpd1.drop([\"Price\"], axis=1)\n",
    "B = dfpd1[\"Price\"]"
   ]
  },
  {
   "cell_type": "code",
   "execution_count": null,
   "metadata": {
    "id": "A-rvEAlIErQ4"
   },
   "outputs": [],
   "source": [
    "A_train, A_test, b_train, b_test = tts(A, B, test_size=0.2, random_state=42)"
   ]
  },
  {
   "cell_type": "code",
   "execution_count": null,
   "metadata": {
    "id": "C7tzUfuAEtPt"
   },
   "outputs": [],
   "source": [
    "cols1 = [\n",
    "    \"Suburb\",\n",
    "    \"Rooms\",\n",
    "    \"Type\",\n",
    "    \"Method\",\n",
    "    \"SellerG\",\n",
    "    \"Distance\",\n",
    "    \"Postcode\",\n",
    "    \"Bathroom\",\n",
    "    \"Car\",\n",
    "    \"Landsize\",\n",
    "    \"BuildingArea\",\n",
    "    \"CouncilArea\",\n",
    "    \"Lattitude\",\n",
    "    \"Regionname\",\n",
    "    \"Propertycount\",\n",
    "]\n",
    "model1 = sm.OLS(b_train, sm.add_constant(A_train[cols1])).fit()"
   ]
  },
  {
   "cell_type": "code",
   "execution_count": null,
   "metadata": {
    "id": "uQhnfiAcEtMH"
   },
   "outputs": [],
   "source": [
    "b_pred = model1.predict(sm.add_constant(A_train[cols1]))"
   ]
  },
  {
   "cell_type": "code",
   "execution_count": null,
   "metadata": {
    "id": "rejs8UcsExm-"
   },
   "outputs": [],
   "source": [
    "residuals = b_train - b_pred\n",
    "mean_residuals = np.mean(residuals)\n",
    "print(\"Mean of Residuals {}\".format(mean_residuals))"
   ]
  },
  {
   "cell_type": "code",
   "execution_count": null,
   "metadata": {
    "id": "tDdyIbZ5EzQ3"
   },
   "outputs": [],
   "source": [
    "p = sns.distplot(residuals, kde=True)\n",
    "p = plt.title(\"Normality of error terms/residuals\")"
   ]
  },
  {
   "cell_type": "markdown",
   "metadata": {
    "id": "vdYgA4oGE29U"
   },
   "source": [
    "Ideally for the scatterplot the result should be scattered and it should not have any particular pattern.When the same is plotted as distplot it should follow a bell curve pattern.Both the plots give the expected result so even this assumptions are satisfied.\n",
    "\n"
   ]
  },
  {
   "cell_type": "code",
   "execution_count": null,
   "metadata": {
    "id": "X49y--_gbypU"
   },
   "outputs": [],
   "source": [
    "import pylab\n",
    "import scipy.stats as stats\n",
    "\n",
    "stats.probplot(residuals, dist=\"norm\", plot=pylab)\n",
    "pylab.show()"
   ]
  },
  {
   "cell_type": "code",
   "execution_count": null,
   "metadata": {
    "id": "pDpU0FgUE6ya"
   },
   "outputs": [],
   "source": [
    "sns.histplot(dfpd.Price, kde=True)"
   ]
  },
  {
   "cell_type": "markdown",
   "metadata": {
    "id": "sLTr1CYzFC3I"
   },
   "source": [
    "##**Ridge Regularization in H20**\n",
    "\n",
    "1.   列表项\n",
    "2.   列表项\n",
    "\n"
   ]
  },
  {
   "cell_type": "markdown",
   "metadata": {
    "id": "ww-wqAiCFFha"
   },
   "source": [
    "\n",
    "The main purpose of regression is to find patterns in this underlying dataset and generalize it to predict the corresponding target value for some new values of independent values. But sometimes target dataset is inflicted with some random noise. Although there may not be error for training set it will give huge errors in predicting the correct target values for test dataset.To avoid this condition regularization is used. Regularization is a technique used for tuning the random noise function by adding an additional term to noise function. This additional term controls the excessively fluctuating function such that the coefficients don’t take extreme values and the prediction of target value for test data is not highly affected.\n",
    "For this model, Ridge Regularization is used."
   ]
  },
  {
   "cell_type": "code",
   "execution_count": null,
   "metadata": {
    "id": "ulIj4VH9FKFY"
   },
   "outputs": [],
   "source": [
    "from h2o.estimators.glm import H2OGeneralizedLinearEstimator\n",
    "\n",
    "house_glm = H2OGeneralizedLinearEstimator(\n",
    "    family=\"gaussian\", lambda_=0, compute_p_values=True\n",
    ")\n",
    "house_glm_regularization = H2OGeneralizedLinearEstimator(\n",
    "    family=\"gaussian\", lambda_=0.001, alpha=0\n",
    ")"
   ]
  },
  {
   "cell_type": "code",
   "execution_count": null,
   "metadata": {
    "id": "4ySAyzWtFM30"
   },
   "outputs": [],
   "source": [
    "house_glm_regularization.train(x=X1, y=y1_numeric, training_frame=df1_train)"
   ]
  },
  {
   "cell_type": "code",
   "execution_count": null,
   "metadata": {
    "id": "QXi3vDWYFQD1"
   },
   "outputs": [],
   "source": [
    "# Model details without regularization\n",
    "house_glm.train(x=X1, y=y1_numeric, training_frame=df1_train)"
   ]
  },
  {
   "cell_type": "markdown",
   "metadata": {
    "id": "KUHwK6odFTtn"
   },
   "source": [
    "The accuracy and other related variables were same for both the cases:\n",
    "When dataset was regularized and when dataset was not regularized. This tells that for this specific model regularization does not help."
   ]
  },
  {
   "cell_type": "markdown",
   "metadata": {
    "id": "oaKSOQByFXU7"
   },
   "source": [
    "Calculating p-value and Z-value after regularization"
   ]
  },
  {
   "cell_type": "code",
   "execution_count": null,
   "metadata": {
    "id": "gg-PbJO1FZd2"
   },
   "outputs": [],
   "source": [
    "coeff_table = house_glm._model_json[\"output\"][\"coefficients_table\"]"
   ]
  },
  {
   "cell_type": "code",
   "execution_count": null,
   "metadata": {
    "id": "4KQMKhoRFaB8"
   },
   "outputs": [],
   "source": [
    "coeff_table.as_data_frame()"
   ]
  },
  {
   "cell_type": "markdown",
   "metadata": {
    "id": "ZckQXDY9Fe5u"
   },
   "source": [
    "##**Data Report**"
   ]
  },
  {
   "cell_type": "code",
   "execution_count": null,
   "metadata": {
    "id": "98TRVIidFhvT"
   },
   "outputs": [],
   "source": [
    "exa = aml1.explain(df1_test)"
   ]
  },
  {
   "cell_type": "markdown",
   "metadata": {
    "id": "X5QHi7w1Flwh"
   },
   "source": [
    "##**Hyperparameter Tuning** <br>\n"
   ]
  },
  {
   "cell_type": "markdown",
   "metadata": {
    "id": "J8xLURRZFmch"
   },
   "source": [
    "To find best set a hyperparameter and combinations of interacting hyperparameters for a given dataset hyperparameters tuning is used. It objectively searches different values for model hyperparameters and chooses a subset that results in a model that achieves the best performance on a given dataset."
   ]
  },
  {
   "cell_type": "code",
   "execution_count": null,
   "metadata": {
    "id": "67ufADOQFpCv"
   },
   "outputs": [],
   "source": [
    "s = dfpd1[\"Price\"]\n",
    "\n",
    "t = dfpd1.drop([\"Price\"], axis=1)"
   ]
  },
  {
   "cell_type": "code",
   "execution_count": null,
   "metadata": {
    "id": "sn5frslFFq2e"
   },
   "outputs": [],
   "source": [
    "import numpy as np\n",
    "\n",
    "from sklearn.model_selection import train_test_split\n",
    "\n",
    "from sklearn.ensemble import RandomForestClassifier\n",
    "\n",
    "from sklearn.model_selection import RandomizedSearchCV"
   ]
  },
  {
   "cell_type": "code",
   "execution_count": null,
   "metadata": {
    "id": "aNH6ewOYFs16"
   },
   "outputs": [],
   "source": [
    "t_train, t_test, s_train, s_test = train_test_split(\n",
    "    t, s, random_state=101, test_size=0.2\n",
    ")"
   ]
  },
  {
   "cell_type": "code",
   "execution_count": null,
   "metadata": {
    "id": "Q5YxMBnaFy2A"
   },
   "outputs": [],
   "source": [
    "from sklearn.model_selection import RandomizedSearchCV\n",
    "\n",
    "from sklearn.ensemble import RandomForestRegressor\n",
    "\n",
    "mode = RandomForestRegressor()\n",
    "\n",
    "param_vals = {\n",
    "    \"max_depth\": [200, 500, 800, 1100],\n",
    "    \"n_estimators\": [100, 200, 300, 400],\n",
    "    \"min_samples_split\": [2, 3, 5],\n",
    "}\n",
    "\n",
    "random_rf = RandomizedSearchCV(\n",
    "    estimator=mode,\n",
    "    param_distributions=param_vals,\n",
    "    n_iter=10,\n",
    "    scoring=\"accuracy\",\n",
    "    cv=5,\n",
    "    refit=True,\n",
    "    n_jobs=-1,\n",
    ")\n",
    "\n",
    "# Training and prediction\n",
    "\n",
    "\n",
    "random_rf.fit(t_train, s_train)\n",
    "\n",
    "preds = random_rf.best_estimator_.predict(t_test)"
   ]
  },
  {
   "cell_type": "code",
   "execution_count": null,
   "metadata": {
    "id": "VEuWbrHfF11s"
   },
   "outputs": [],
   "source": [
    "random_rf.best_params_"
   ]
  },
  {
   "cell_type": "markdown",
   "metadata": {
    "id": "BfQA133vF-kg"
   },
   "source": [
    "##**Conclusion**"
   ]
  },
  {
   "cell_type": "markdown",
   "metadata": {
    "id": "-PoeBtgiGBLA"
   },
   "source": [
    "A fundamental algorithm based on the linear regression method to predict housing prices was constructed. VIF, p-values and other tests were considered to ignore some of the independent variables.  H20.ai framework was used to train and test the variables of the dataset of Melbourne Housing price. This gave the best model as ‘gbm’ and accuracy for test data was 89.9%.  From the results shown it can be concluded that the proposed linear regression model can effectively analyze and predict the housing price to some extent. Admittedly, the prediction accuracy is still limited at specific points, and the model still needs to be improved in further research. In further research into the corresponding models, different techniques like removing outliers and using ensemble or booster can help achieve better prediction."
   ]
  },
  {
   "cell_type": "markdown",
   "metadata": {
    "id": "NqThL4lWGKeb"
   },
   "source": [
    "##**Assignment Question/Answers**\n",
    "\n"
   ]
  },
  {
   "cell_type": "markdown",
   "metadata": {
    "id": "zrcKHi5yGLNn"
   },
   "source": [
    "Q1) Is the relationship significant?\n",
    "A relationship is said to be statistically significant when the p value for the variables is less than 0.05.P value is probability of obtaining a result at least as extreme as the current one, assuming null hypothesis is true. A small p value depicts that there is very little similarity between the two groups and hence null hypothesis can be ignored.\n",
    "P-value was calculated by two ways for this model. From the OLS method it was observed that values for ‘Address’ and ‘Date’ were greater than 0.05. So, it can be concluded that other that p-value for all the variables of dataset is less than 0.05. \n",
    "Hence for the chosen dataset it can be concluded that the relationship is significant.\n",
    "\n"
   ]
  },
  {
   "cell_type": "markdown",
   "metadata": {
    "id": "N8JmFRI4GPTi"
   },
   "source": [
    "Q2) Are any model assumptions violated?\n",
    "Assumptions for linear regression are:\n",
    "1)\tLinear relationship- The graph for dependent and independent variable needs to be linear by keeping other variables constant. When target variable is plotted against all other independent variables, linear relation is observed for few of them. Hence this assumption is not violated.\n",
    "2)\tHomoscedasticity which means normality of the error distribution - The plot for residuals should be normally distributed i.e., it should form a bell-curve shape. For this model the same is achieved.\n",
    "3)\tNo or little multicollinearity-This can be determined by correlation matrix. For this model some of the assumptions are violated. Multicollinearity exists between variables Rooms and BuildingArea. \n",
    "4)\tNo autocorrelation can be determined with Durbin-Watson test. Values between 1.5 to 2.5 signifies no autocorrelation. For this model the value is 1.6, therefore this assumption is not violated.\n",
    "\n",
    "\n"
   ]
  },
  {
   "cell_type": "markdown",
   "metadata": {
    "id": "Qq6UABbFGR_f"
   },
   "source": [
    "Q3) Is there any multicollinearity in the model?\n",
    "When one independent variable is related to another independent variable that is its highly correlated then multicollinearity exists in the model. It’s an issue as it undermines the statistical significance of an independent variable.\n",
    "Multicollinearity can be determined by computing correlation matrix or calculating VIF value of all variables.\n",
    "In correlation matrix a coefficient closer to +1 or -1 tells us that those two variables are highly correlated. For VIF values a value above 10 tells us that multicollinearity exists.\n",
    "In this model some variables had VIF value greater than 10 and p value was greater than 0.05. By dropping those columns and rechecking the values expected output was achieved. Currently high correlation exists between Rooms and BuildingArea \n",
    "\n"
   ]
  },
  {
   "cell_type": "markdown",
   "metadata": {
    "id": "xaW2fyrTGVUN"
   },
   "source": [
    "Q4) In the multivariate models are predictor variables independent of all the other predictor variables?\n",
    "Variables are said to be independent when there is no relation between them. To check this relation, correlation matrix can be used, or it can be observed from graphs too whether there is any pattern followed or not.\n",
    "When correlation matrix is computed for the model, it can be observed that Rooms and BuildingArea are correlated to each other. Other than those other predictors are independent from each other.\n",
    "\n"
   ]
  },
  {
   "cell_type": "markdown",
   "metadata": {
    "id": "wpKJaiSLGV7K"
   },
   "source": [
    "Q5)In in multivariate models rank the most significant predictor variables and exclude insignificant ones from the model.\n",
    "From the variable importance plot, the most to least important variables are displayed.\n",
    "For my model BuildingArea, Type, Latitude and Rooms are top 4 most important variables to determine Price. VIF and p-values for Address, Date, Bedroom2, YearBuilt and Longtitude was high than the ideal values. So those variables were excluded from the model.\n",
    "\n"
   ]
  },
  {
   "cell_type": "markdown",
   "metadata": {
    "id": "d7p4Xy6FGd3m"
   },
   "source": [
    "Q6) Does the model make sense?\n",
    "For a model to make sense it should follow all the assumptions and have p value, VIF between their respective ranges. RMSE should be as low as possible considering the minimum and maximum values of the target variable. Other than that, R2 too is 0.76 which is considered good in terms of accuracy. So overall the model makes sense.\n",
    "To increase the accuracy, some additional variables can be dropped depending on their importance. Furthermore, outliers can be removed or boosting, or ensemble model can be used.\n",
    "\n"
   ]
  },
  {
   "cell_type": "markdown",
   "metadata": {
    "id": "pq-2ZpO0GiUg"
   },
   "source": [
    "Q7)Does regularization help?\n",
    "Regularization is a technique used for tuning the random noise function by adding an additional term to noise function. This additional term controls the excessively fluctuating function such that the coefficients don’t take extreme values and the prediction of target value for test data is not highly affected. The main use of Regularization is to minimize the validation loss and try to improve the accuracy of the model.\n",
    "For this model Ridge Regularization was used on training data. It was observed that Root Mean Square Error (RMSE) and R2 was calculated twice, once when regularization was not applied and once when regularization was applied. The values were same in both the cases. Hence it can be concluded that for this model regularization does not help.\n"
   ]
  },
  {
   "cell_type": "markdown",
   "metadata": {
    "id": "FeU8Qk5AGlZT"
   },
   "source": [
    "\n",
    "Q8) Which independent variables are significant?\n",
    " Variables are significant when p-value is less than 0.05. For this model except for ‘Date’,’YearBuilt’ and ‘Address’ all other variables have p-value less than 0.05. So, it can be said that all variables are significant.\n",
    "\n"
   ]
  },
  {
   "cell_type": "markdown",
   "metadata": {
    "id": "eiJuwYOqGozv"
   },
   "source": [
    "Q9) Which hyperparameters are important?\n",
    "To find best set a hyperparameter and combinations of interacting hyperparameters for a given dataset hyperparameters tuning is used. It objectively searches different values for model hyperparameters and chooses a subset that results in a model that achieves the best performance on a given dataset.\n",
    "For this model tuning is performed using RandomForestRegressor. The best hyperparameters for this model are:-\n",
    "'max_depth': 500, 'min_samples_split': 2 and 'n_estimators': 100"
   ]
  },
  {
   "cell_type": "markdown",
   "metadata": {
    "id": "uXG3dm4aGsC9"
   },
   "source": [
    "##**LICENSE**"
   ]
  },
  {
   "cell_type": "markdown",
   "metadata": {
    "id": "2wMGZYaMGu9i"
   },
   "source": [
    "MIT License\n",
    "\n",
    "Copyright (c) 2022 Sanika Patne\n",
    "\n",
    "Permission is hereby granted, free of charge, to any person obtaining a copy\n",
    "of this software and associated documentation files (the \"Software\"), to deal\n",
    "in the Software without restriction, including without limitation the rights\n",
    "to use, copy, modify, merge, publish, distribute, sublicense, and/or sell\n",
    "copies of the Software, and to permit persons to whom the Software is\n",
    "furnished to do so, subject to the following conditions:\n",
    "\n",
    "The above copyright notice and this permission notice shall be included in all\n",
    "copies or substantial portions of the Software.\n",
    "\n",
    "THE SOFTWARE IS PROVIDED \"AS IS\", WITHOUT WARRANTY OF ANY KIND, EXPRESS OR\n",
    "IMPLIED, INCLUDING BUT NOT LIMITED TO THE WARRANTIES OF MERCHANTABILITY,\n",
    "FITNESS FOR A PARTICULAR PURPOSE AND NONINFRINGEMENT. IN NO EVENT SHALL THE\n",
    "AUTHORS OR COPYRIGHT HOLDERS BE LIABLE FOR ANY CLAIM, DAMAGES OR OTHER\n",
    "LIABILITY, WHETHER IN AN ACTION OF CONTRACT, TORT OR OTHERWISE, ARISING FROM,\n",
    "OUT OF OR IN CONNECTION WITH THE SOFTWARE OR THE USE OR OTHER DEALINGS IN THE\n",
    "SOFTWARE."
   ]
  },
  {
   "cell_type": "markdown",
   "metadata": {
    "id": "Z98Kx8-iGzkq"
   },
   "source": [
    "##**REFERENCES**"
   ]
  },
  {
   "cell_type": "markdown",
   "metadata": {
    "id": "bMqlcU23G0L4"
   },
   "source": [
    "H20.ai- https://docs.h2o.ai/ <br>\n",
    "OLS Model- http://net-informations.com/ds/mla/ols.html<br>\n",
    "Linear Regression- https://www.analyticsvidhya.com/blog/2021/05/all-you-need-to-know-about-your-first-machine-learning-model-linear-regression/ <br>\n",
    "Linear Regression Assumptions- https://www.statisticssolutions.com/free-resources/directory-of-statistical-analyses/assumptions-of-linear-regression/ <br>\n",
    "Kaggle Notebook- https://www.kaggle.com/stephaniestallworth/melbourne-housing-market-eda-and-regression <br>\n",
    "Dataset- https://www.kaggle.com/dansbecker/melbourne-housing-snapshot <br>\n",
    "Professor's AutoML Notebook- https://github.com/nikbearbrown/AI_Research_Group/tree/main/Kaggle_Datasets/AutoML"
   ]
  }
 ],
 "metadata": {
  "colab": {
   "provenance": []
  },
  "kernelspec": {
   "display_name": "Python 3",
   "name": "python3"
  },
  "language_info": {
   "name": "python"
  }
 },
 "nbformat": 4,
 "nbformat_minor": 0
}